{
  "nbformat": 4,
  "nbformat_minor": 0,
  "metadata": {
    "colab": {
      "provenance": [],
      "collapsed_sections": [
        "Y1ZHCflIyhnZ",
        "mB35LA_5yopk",
        "ulv1bZvHysIH",
        "pJqG6SKb4bse",
        "1wIqj3o55zkD",
        "fpoQzczx6LSV",
        "5ijsANAN-zLH",
        "dyqIDOpY-zxq",
        "Z2f1GhtR-z_o",
        "FSM33I5JAaRN",
        "mJ26ma4pAfa9"
      ],
      "machine_shape": "hm"
    },
    "kernelspec": {
      "name": "python3",
      "display_name": "Python 3"
    },
    "language_info": {
      "name": "python"
    }
  },
  "cells": [
    {
      "cell_type": "code",
      "execution_count": null,
      "metadata": {
        "colab": {
          "base_uri": "https://localhost:8080/"
        },
        "id": "ECQed5Qyr4fy",
        "outputId": "5a9cfdeb-081f-4d39-c927-55e332cc2605"
      },
      "outputs": [
        {
          "output_type": "stream",
          "name": "stdout",
          "text": [
            "Collecting catboost\n",
            "  Downloading catboost-1.2.7-cp311-cp311-manylinux2014_x86_64.whl.metadata (1.2 kB)\n",
            "Requirement already satisfied: graphviz in /usr/local/lib/python3.11/dist-packages (from catboost) (0.20.3)\n",
            "Requirement already satisfied: matplotlib in /usr/local/lib/python3.11/dist-packages (from catboost) (3.10.0)\n",
            "Collecting numpy<2.0,>=1.16.0 (from catboost)\n",
            "  Downloading numpy-1.26.4-cp311-cp311-manylinux_2_17_x86_64.manylinux2014_x86_64.whl.metadata (61 kB)\n",
            "\u001b[2K     \u001b[90m━━━━━━━━━━━━━━━━━━━━━━━━━━━━━━━━━━━━━━━━\u001b[0m \u001b[32m61.0/61.0 kB\u001b[0m \u001b[31m1.3 MB/s\u001b[0m eta \u001b[36m0:00:00\u001b[0m\n",
            "\u001b[?25hRequirement already satisfied: pandas>=0.24 in /usr/local/lib/python3.11/dist-packages (from catboost) (2.2.2)\n",
            "Requirement already satisfied: scipy in /usr/local/lib/python3.11/dist-packages (from catboost) (1.14.1)\n",
            "Requirement already satisfied: plotly in /usr/local/lib/python3.11/dist-packages (from catboost) (5.24.1)\n",
            "Requirement already satisfied: six in /usr/local/lib/python3.11/dist-packages (from catboost) (1.17.0)\n",
            "Requirement already satisfied: python-dateutil>=2.8.2 in /usr/local/lib/python3.11/dist-packages (from pandas>=0.24->catboost) (2.8.2)\n",
            "Requirement already satisfied: pytz>=2020.1 in /usr/local/lib/python3.11/dist-packages (from pandas>=0.24->catboost) (2025.2)\n",
            "Requirement already satisfied: tzdata>=2022.7 in /usr/local/lib/python3.11/dist-packages (from pandas>=0.24->catboost) (2025.2)\n",
            "Requirement already satisfied: contourpy>=1.0.1 in /usr/local/lib/python3.11/dist-packages (from matplotlib->catboost) (1.3.1)\n",
            "Requirement already satisfied: cycler>=0.10 in /usr/local/lib/python3.11/dist-packages (from matplotlib->catboost) (0.12.1)\n",
            "Requirement already satisfied: fonttools>=4.22.0 in /usr/local/lib/python3.11/dist-packages (from matplotlib->catboost) (4.56.0)\n",
            "Requirement already satisfied: kiwisolver>=1.3.1 in /usr/local/lib/python3.11/dist-packages (from matplotlib->catboost) (1.4.8)\n",
            "Requirement already satisfied: packaging>=20.0 in /usr/local/lib/python3.11/dist-packages (from matplotlib->catboost) (24.2)\n",
            "Requirement already satisfied: pillow>=8 in /usr/local/lib/python3.11/dist-packages (from matplotlib->catboost) (11.1.0)\n",
            "Requirement already satisfied: pyparsing>=2.3.1 in /usr/local/lib/python3.11/dist-packages (from matplotlib->catboost) (3.2.3)\n",
            "Requirement already satisfied: tenacity>=6.2.0 in /usr/local/lib/python3.11/dist-packages (from plotly->catboost) (9.1.2)\n",
            "Downloading catboost-1.2.7-cp311-cp311-manylinux2014_x86_64.whl (98.7 MB)\n",
            "\u001b[2K   \u001b[90m━━━━━━━━━━━━━━━━━━━━━━━━━━━━━━━━━━━━━━━━\u001b[0m \u001b[32m98.7/98.7 MB\u001b[0m \u001b[31m24.8 MB/s\u001b[0m eta \u001b[36m0:00:00\u001b[0m\n",
            "\u001b[?25hDownloading numpy-1.26.4-cp311-cp311-manylinux_2_17_x86_64.manylinux2014_x86_64.whl (18.3 MB)\n",
            "\u001b[2K   \u001b[90m━━━━━━━━━━━━━━━━━━━━━━━━━━━━━━━━━━━━━━━━\u001b[0m \u001b[32m18.3/18.3 MB\u001b[0m \u001b[31m99.3 MB/s\u001b[0m eta \u001b[36m0:00:00\u001b[0m\n",
            "\u001b[?25hInstalling collected packages: numpy, catboost\n",
            "  Attempting uninstall: numpy\n",
            "    Found existing installation: numpy 2.0.2\n",
            "    Uninstalling numpy-2.0.2:\n",
            "      Successfully uninstalled numpy-2.0.2\n",
            "Successfully installed catboost-1.2.7 numpy-1.26.4\n"
          ]
        }
      ],
      "source": [
        "# !pip install catboost"
      ]
    },
    {
      "cell_type": "code",
      "source": [
        "import pandas as pd\n",
        "import numpy as np\n",
        "import os\n",
        "import shutil\n",
        "import joblib\n",
        "import pickle\n",
        "import json\n",
        "\n",
        "# ml frameworks\n",
        "import matplotlib.pyplot as plt\n",
        "from sklearn.metrics import mean_absolute_error, mean_squared_error, r2_score\n",
        "from scipy.stats import pearsonr\n",
        "\n",
        "\n",
        "from lightgbm import LGBMRegressor\n",
        "from xgboost import XGBRegressor\n",
        "#time management\n",
        "from tqdm import tqdm"
      ],
      "metadata": {
        "id": "QmnQahB1sDda"
      },
      "execution_count": null,
      "outputs": []
    },
    {
      "cell_type": "markdown",
      "source": [
        "MultiClassification"
      ],
      "metadata": {
        "id": "IZy8JFLy4ENe"
      }
    },
    {
      "cell_type": "code",
      "source": [
        "X_train_csv = pd.read_csv(\"/content/drive/MyDrive/GR-III/CARVEME/50/X_train_GR-III.csv\")\n",
        "X_val_csv = pd.read_csv(\"/content/drive/MyDrive/GR-III/CARVEME/50/X_val_GR-III.csv\")\n",
        "X_test_csv = pd.read_csv(\"/content/drive/MyDrive/GR-III/CARVEME/50/X_test_GR-III.csv\")\n",
        "y_train_csv = pd.read_csv(\"/content/drive/MyDrive/GR-III/CARVEME/50/y_train_GR-III.csv\")\n",
        "y_val_csv = pd.read_csv(\"/content/drive/MyDrive/GR-III/CARVEME/50/y_val_GR-III.csv\")\n",
        "y_test_csv = pd.read_csv(\"/content/drive/MyDrive/GR-III/CARVEME/50/y_test_GR-III.csv\")"
      ],
      "metadata": {
        "id": "zAzPvsTRvBKx"
      },
      "execution_count": null,
      "outputs": []
    },
    {
      "cell_type": "code",
      "source": [
        "from google.colab import drive\n",
        "drive.mount('/content/drive')"
      ],
      "metadata": {
        "colab": {
          "base_uri": "https://localhost:8080/"
        },
        "id": "gKKUMzXU7jY0",
        "outputId": "701a7702-e36f-4b41-ada9-378b56b9f4e8"
      },
      "execution_count": null,
      "outputs": [
        {
          "output_type": "stream",
          "name": "stdout",
          "text": [
            "Drive already mounted at /content/drive; to attempt to forcibly remount, call drive.mount(\"/content/drive\", force_remount=True).\n"
          ]
        }
      ]
    },
    {
      "cell_type": "code",
      "source": [
        "def to_npy(X_train_csv, X_val_csv, X_test_csv, y_train_csv, y_val_csv, y_test_csv):\n",
        "    X_train = X_train_csv.to_numpy()\n",
        "    X_val = X_val_csv.to_numpy()\n",
        "    X_test = X_test_csv.to_numpy()\n",
        "    y_train = y_train_csv.to_numpy()\n",
        "    y_val = y_val_csv.to_numpy()\n",
        "    y_test = y_test_csv.to_numpy()\n",
        "\n",
        "    # Save the arrays as .npy files\n",
        "    np.save(\"X_train.npy\", X_train)\n",
        "    np.save(\"X_val.npy\", X_val)\n",
        "    np.save(\"X_test.npy\", X_test)\n",
        "    np.save(\"y_train.npy\", y_train)\n",
        "    np.save(\"y_val.npy\", y_val)\n",
        "    np.save(\"y_test.npy\", y_test)\n",
        "\n",
        "    print(\"CSV onverted to .npy format.\")\n"
      ],
      "metadata": {
        "id": "JeGK6HkiuXLC"
      },
      "execution_count": null,
      "outputs": []
    },
    {
      "cell_type": "code",
      "source": [
        "to_npy(X_train_csv, X_val_csv, X_test_csv, y_train_csv, y_val_csv, y_test_csv)"
      ],
      "metadata": {
        "colab": {
          "base_uri": "https://localhost:8080/"
        },
        "id": "OGtOD_xruMtb",
        "outputId": "3b4ea51b-7484-4abc-a76b-bdf08bd0ac1e"
      },
      "execution_count": null,
      "outputs": [
        {
          "output_type": "stream",
          "name": "stdout",
          "text": [
            "CSV onverted to .npy format.\n"
          ]
        }
      ]
    },
    {
      "cell_type": "code",
      "source": [
        "train_list = [\"X_train.npy\", \"X_val.npy\", \"X_test.npy\", \"y_train.npy\", \"y_val.npy\", \"y_test.npy\"]"
      ],
      "metadata": {
        "id": "Q-eudQQXww3m"
      },
      "execution_count": null,
      "outputs": []
    },
    {
      "cell_type": "code",
      "source": [
        "def load(train_list):\n",
        "    X_train = np.load(train_list[0])\n",
        "    X_val = np.load(train_list[1])\n",
        "    X_test = np.load(train_list[2])\n",
        "    y_train = np.load(train_list[3])\n",
        "    y_val = np.load(train_list[4])\n",
        "    y_test = np.load(train_list[5])\n",
        "    return X_train, X_val, X_test, y_train, y_val, y_test\n",
        "\n",
        "\n",
        "def scatter_true_vs_pred(y_true, y_pred):\n",
        "    \"\"\"\n",
        "    Description: Scatter plot of true vs. predicted values.\n",
        "    Arguments: y_true (array-like): Ground truth values;\n",
        "               y_pred (array-like): Predicted values.\n",
        "    Outputs: Sc.\n",
        "    \"\"\"\n",
        "    plt.scatter(y_true, y_pred, alpha=0.5)\n",
        "    plt.plot([min(y_true), max(y_true)], [min(y_true), max(y_true)], linestyle=\"--\", color=\"red\")\n",
        "    plt.xlabel(\"True Values\")\n",
        "    plt.ylabel(\"Predicted Values\")\n",
        "    plt.title(\"True vs. Predicted Values\")\n",
        "    plt.show()\n",
        "\n",
        "\n",
        "def regression_metrics(y_true, y_pred):\n",
        "    \"\"\"\n",
        "    Description: Calculate various regression metrics.\n",
        "    Arguments: y_true (array-like): Ground truth values;\n",
        "               y_pred (array-like): Predicted values.\n",
        "    Outputs:\n",
        "        dict: A dictionary containing MAE, MSE, RMSE, R².\n",
        "    \"\"\"\n",
        "    metrics = {\n",
        "        \"MAE\": mean_absolute_error(y_true, y_pred),\n",
        "        \"MSE\": mean_squared_error(y_true, y_pred),\n",
        "        \"RMSE\": np.sqrt(mean_squared_error(y_true, y_pred)),\n",
        "        \"R² Score\": r2_score(y_true, y_pred),\n",
        "        \"Pearson Correlation\": pearsonr(y_true, y_pred)[0] if len(y_true) > 1 else np.nan\n",
        "    }\n",
        "    return metrics\n",
        "\n",
        "\n",
        "def plot_residuals(y_true, y_pred):\n",
        "    \"\"\"\n",
        "    Description: Plot residuals (errors).\n",
        "    Arguments: y_true (array-like): Ground truth values;\n",
        "               y_pred (array-like): Predicted values.\n",
        "    Outputs: Residuals plot.\n",
        "    \"\"\"\n",
        "    residuals = y_true - y_pred\n",
        "    plt.scatter(y_pred, residuals, alpha=0.5)\n",
        "    plt.axhline(0, linestyle=\"--\", color=\"red\")\n",
        "    plt.xlabel(\"Predicted Values\")\n",
        "    plt.ylabel(\"Residuals (True - Predicted)\")\n",
        "    plt.title(\"Residuals Plot\")\n",
        "    plt.show()\n",
        "\n",
        "\n",
        "\n",
        "def train_val_and_test(models, X_train, y_train, X_val, y_val, X_test, y_test, seed):\n",
        "    \"\"\"\n",
        "    Description: Trains and evaluates multiple regression models using train, validation, and test splits.\n",
        "                 Saves the results, regression metrics, and scatter/residual plots into a corresponding directory.\n",
        "\n",
        "    Arguments:\n",
        "        models (dict): Dictionary of regression models;\n",
        "        X_train (ndarray): Training feature data;\n",
        "        y_train (ndarray): Training target data;\n",
        "        X_val (ndarray): Validation feature data;\n",
        "        y_val (ndarray): Validation target data;\n",
        "        X_test (ndarray): Test feature data;\n",
        "        y_test (ndarray): Test target data;\n",
        "        seed (int): Random seed for reproducibility.\n",
        "\n",
        "    Outputs:\n",
        "        A dictionary containing validation and test metrics for each model.\n",
        "    \"\"\"\n",
        "\n",
        "    results = {}\n",
        "\n",
        "    for model_name, model in tqdm(models.items(), desc=\"Training Models\", unit=\"model\"):\n",
        "        print(f\"\\nTraining and evaluating: {model_name}\")\n",
        "\n",
        "        # Create a storage directory for results\n",
        "        model_dir = f\"results/{model_name.replace(' ', '_')}\"\n",
        "        if os.path.exists(model_dir):\n",
        "            shutil.rmtree(model_dir)  # Remove\n",
        "        os.makedirs(model_dir)\n",
        "\n",
        "        # Train the model\n",
        "        model.fit(X_train, y_train)\n",
        "\n",
        "        # Save the trained model\n",
        "        model_path = os.path.join(model_dir, \"model.pkl\")\n",
        "        joblib.dump(model, model_path)\n",
        "        print(f\"Model saved at {model_path}\")\n",
        "\n",
        "        # Validation\n",
        "        y_val_pred = model.predict(X_val)\n",
        "        val_r2 = r2_score(y_val, y_val_pred)\n",
        "        val_mae = mean_absolute_error(y_val, y_val_pred)\n",
        "        val_mse = mean_squared_error(y_val, y_val_pred)\n",
        "\n",
        "        # Final test\n",
        "        y_test_pred = model.predict(X_test)\n",
        "        test_r2 = r2_score(y_test, y_test_pred)\n",
        "        test_mae = mean_absolute_error(y_test, y_test_pred)\n",
        "        test_mse = mean_squared_error(y_test, y_test_pred)\n",
        "\n",
        "        # Store results\n",
        "        results[model_name] = {\n",
        "            \"Validation R²\": val_r2,\n",
        "            \"Validation MAE\": val_mae,\n",
        "            \"Validation MSE\": val_mse,\n",
        "            \"Test R²\": test_r2,\n",
        "            \"Test MAE\": test_mae,\n",
        "            \"Test MSE\": test_mse,\n",
        "        }\n",
        "\n",
        "        print(f\"Validation Report for {model_name}:\")\n",
        "        print(f\"R²: {val_r2:.4f}, MAE: {val_mae:.4f}, MSE: {val_mse:.4f}\")\n",
        "\n",
        "        # # Scatter plot for True vs Predicted\n",
        "        # plt.figure(figsize=(6, 6))\n",
        "        # plt.scatter(y_val, y_val_pred, alpha=0.5)\n",
        "        # plt.plot([min(y_val), max(y_val)], [min(y_val), max(y_val)], linestyle=\"--\", color=\"red\")\n",
        "        # plt.xlabel(\"True Values\")\n",
        "        # plt.ylabel(\"Predicted Values\")\n",
        "        # plt.title(f\"True vs Predicted - {model_name}\")\n",
        "        # plt.tight_layout()\n",
        "        # plt.savefig(os.path.join(model_dir, \"true_vs_predicted.png\"))\n",
        "        # plt.close()\n",
        "\n",
        "        # # Residual plot (True - Predicted)\n",
        "        # residuals = y_val - y_val_pred\n",
        "        # plt.figure(figsize=(6, 6))\n",
        "        # plt.scatter(y_val_pred, residuals, alpha=0.5)\n",
        "        # plt.axhline(0, linestyle=\"--\", color=\"red\")\n",
        "        # plt.xlabel(\"Predicted Values\")\n",
        "        # plt.ylabel(\"Residuals (True - Predicted)\")\n",
        "        # plt.title(f\"Residuals Plot - {model_name}\")\n",
        "        # plt.tight_layout()\n",
        "        # plt.savefig(os.path.join(model_dir, \"residuals_plot.png\"))\n",
        "        # plt.close()\n",
        "\n",
        "    # Recap of all models' results\n",
        "    print(\"\\nSummary of Validation and Test Metrics:\")\n",
        "    for model_name, metrics in results.items():\n",
        "        print(\n",
        "            f\"{model_name}: \"\n",
        "            f\"Val R² = {metrics['Validation R²']:.4f}, \"\n",
        "            f\"Val MAE = {metrics['Validation MAE']:.4f}, \"\n",
        "            f\"Val MSE = {metrics['Validation MSE']:.4f}, \"\n",
        "            f\"Test R² = {metrics['Test R²']:.4f}, \"\n",
        "            f\"Test MAE = {metrics['Test MAE']:.4f}, \"\n",
        "            f\"Test MSE = {metrics['Test MSE']:.4f}\"\n",
        "        )\n",
        "\n",
        "    # Save all model\n",
        "    all_results_path = \"results/all_model_results.json\"\n",
        "    with open(all_results_path, \"w\") as f:\n",
        "        json.dump(results, f, indent=4)\n",
        "    print(f\"\\nAll model results saved to {all_results_path}\")\n",
        "\n",
        "    return results"
      ],
      "metadata": {
        "id": "VVeE4wKSsdr-"
      },
      "execution_count": null,
      "outputs": []
    },
    {
      "cell_type": "markdown",
      "source": [
        "#AGORA-GR-I-100"
      ],
      "metadata": {
        "id": "Y1ZHCflIyhnZ"
      }
    },
    {
      "cell_type": "code",
      "source": [
        "X_train, X_val, X_test, y_train, y_val, y_test = load(train_list)\n",
        "\n",
        "models = {\n",
        "    \"LightGBM\": LGBMRegressor(random_state=42),\n",
        "    \"XGBoost\": XGBRegressor(use_label_encoder=False, random_state=42),\n",
        "    \"CatBoost\": LGBMRegressor(random_state=42),\n",
        "}\n",
        "\n",
        "train_val_and_test(models, X_train, y_train, X_val, y_val, X_test, y_test, seed=4221)"
      ],
      "metadata": {
        "colab": {
          "base_uri": "https://localhost:8080/"
        },
        "id": "ZhGy8bI6wzkl",
        "outputId": "b61816f5-f1c3-45cc-bb5b-41e8a4af487e"
      },
      "execution_count": null,
      "outputs": [
        {
          "output_type": "stream",
          "name": "stderr",
          "text": [
            "\rTraining Models:   0%|          | 0/3 [00:00<?, ?model/s]/usr/local/lib/python3.11/dist-packages/sklearn/utils/deprecation.py:151: FutureWarning: 'force_all_finite' was renamed to 'ensure_all_finite' in 1.6 and will be removed in 1.8.\n",
            "  warnings.warn(\n",
            "/usr/local/lib/python3.11/dist-packages/sklearn/utils/validation.py:1408: DataConversionWarning: A column-vector y was passed when a 1d array was expected. Please change the shape of y to (n_samples, ), for example using ravel().\n",
            "  y = column_or_1d(y, warn=True)\n"
          ]
        },
        {
          "output_type": "stream",
          "name": "stdout",
          "text": [
            "\n",
            "Training and evaluating: LightGBM\n",
            "[LightGBM] [Info] Auto-choosing row-wise multi-threading, the overhead of testing was 0.074700 seconds.\n",
            "You can set `force_row_wise=true` to remove the overhead.\n",
            "And if memory is not enough, you can set `force_col_wise=true`.\n",
            "[LightGBM] [Info] Total Bins 828\n",
            "[LightGBM] [Info] Number of data points in the train set: 63265, number of used features: 414\n",
            "[LightGBM] [Info] Start training from score 85.022476\n",
            "Model saved at results/LightGBM/model.pkl\n"
          ]
        },
        {
          "output_type": "stream",
          "name": "stderr",
          "text": [
            "/usr/local/lib/python3.11/dist-packages/sklearn/utils/deprecation.py:151: FutureWarning: 'force_all_finite' was renamed to 'ensure_all_finite' in 1.6 and will be removed in 1.8.\n",
            "  warnings.warn(\n",
            "/usr/local/lib/python3.11/dist-packages/sklearn/utils/deprecation.py:151: FutureWarning: 'force_all_finite' was renamed to 'ensure_all_finite' in 1.6 and will be removed in 1.8.\n",
            "  warnings.warn(\n",
            "Training Models:  33%|███▎      | 1/3 [00:02<00:04,  2.13s/model]"
          ]
        },
        {
          "output_type": "stream",
          "name": "stdout",
          "text": [
            "Validation Report for LightGBM:\n",
            "R²: 0.6092, MAE: 13.5600, MSE: 343.2035\n",
            "\n",
            "Training and evaluating: XGBoost\n"
          ]
        },
        {
          "output_type": "stream",
          "name": "stderr",
          "text": [
            "/usr/local/lib/python3.11/dist-packages/xgboost/core.py:158: UserWarning: [15:47:58] WARNING: /workspace/src/learner.cc:740: \n",
            "Parameters: { \"use_label_encoder\" } are not used.\n",
            "\n",
            "  warnings.warn(smsg, UserWarning)\n",
            "Training Models:  67%|██████▋   | 2/3 [00:04<00:02,  2.18s/model]"
          ]
        },
        {
          "output_type": "stream",
          "name": "stdout",
          "text": [
            "Model saved at results/XGBoost/model.pkl\n",
            "Validation Report for XGBoost:\n",
            "R²: 0.6405, MAE: 12.6578, MSE: 315.7621\n",
            "\n",
            "Training and evaluating: CatBoost\n"
          ]
        },
        {
          "output_type": "stream",
          "name": "stderr",
          "text": [
            "/usr/local/lib/python3.11/dist-packages/sklearn/utils/deprecation.py:151: FutureWarning: 'force_all_finite' was renamed to 'ensure_all_finite' in 1.6 and will be removed in 1.8.\n",
            "  warnings.warn(\n",
            "/usr/local/lib/python3.11/dist-packages/sklearn/utils/validation.py:1408: DataConversionWarning: A column-vector y was passed when a 1d array was expected. Please change the shape of y to (n_samples, ), for example using ravel().\n",
            "  y = column_or_1d(y, warn=True)\n"
          ]
        },
        {
          "output_type": "stream",
          "name": "stdout",
          "text": [
            "[LightGBM] [Info] Auto-choosing row-wise multi-threading, the overhead of testing was 0.099555 seconds.\n",
            "You can set `force_row_wise=true` to remove the overhead.\n",
            "And if memory is not enough, you can set `force_col_wise=true`.\n",
            "[LightGBM] [Info] Total Bins 828\n",
            "[LightGBM] [Info] Number of data points in the train set: 63265, number of used features: 414\n",
            "[LightGBM] [Info] Start training from score 85.022476\n",
            "Model saved at results/CatBoost/model.pkl\n"
          ]
        },
        {
          "output_type": "stream",
          "name": "stderr",
          "text": [
            "/usr/local/lib/python3.11/dist-packages/sklearn/utils/deprecation.py:151: FutureWarning: 'force_all_finite' was renamed to 'ensure_all_finite' in 1.6 and will be removed in 1.8.\n",
            "  warnings.warn(\n",
            "/usr/local/lib/python3.11/dist-packages/sklearn/utils/deprecation.py:151: FutureWarning: 'force_all_finite' was renamed to 'ensure_all_finite' in 1.6 and will be removed in 1.8.\n",
            "  warnings.warn(\n",
            "Training Models: 100%|██████████| 3/3 [00:07<00:00,  2.37s/model]"
          ]
        },
        {
          "output_type": "stream",
          "name": "stdout",
          "text": [
            "Validation Report for CatBoost:\n",
            "R²: 0.6092, MAE: 13.5600, MSE: 343.2035\n",
            "\n",
            "Summary of Validation and Test Metrics:\n",
            "LightGBM: Val R² = 0.6092, Val MAE = 13.5600, Val MSE = 343.2035, Test R² = 0.6042, Test MAE = 13.7143, Test MSE = 350.5980\n",
            "XGBoost: Val R² = 0.6405, Val MAE = 12.6578, Val MSE = 315.7621, Test R² = 0.6335, Test MAE = 12.8072, Test MSE = 324.6611\n",
            "CatBoost: Val R² = 0.6092, Val MAE = 13.5600, Val MSE = 343.2035, Test R² = 0.6042, Test MAE = 13.7143, Test MSE = 350.5980\n",
            "\n",
            "All model results saved to results/all_model_results.json\n"
          ]
        },
        {
          "output_type": "stream",
          "name": "stderr",
          "text": [
            "\n"
          ]
        },
        {
          "output_type": "execute_result",
          "data": {
            "text/plain": [
              "{'LightGBM': {'Validation R²': 0.6092268703701995,\n",
              "  'Validation MAE': 13.559978437186842,\n",
              "  'Validation MSE': 343.2034600258781,\n",
              "  'Test R²': 0.6041945279961034,\n",
              "  'Test MAE': 13.714320288372694,\n",
              "  'Test MSE': 350.59803111578395},\n",
              " 'XGBoost': {'Validation R²': 0.640471729189166,\n",
              "  'Validation MAE': 12.657780989020825,\n",
              "  'Validation MSE': 315.7621063564277,\n",
              "  'Test R²': 0.6334758774368903,\n",
              "  'Test MAE': 12.807248398308763,\n",
              "  'Test MSE': 324.6610893893895},\n",
              " 'CatBoost': {'Validation R²': 0.6092268703701995,\n",
              "  'Validation MAE': 13.559978437186842,\n",
              "  'Validation MSE': 343.2034600258781,\n",
              "  'Test R²': 0.6041945279961034,\n",
              "  'Test MAE': 13.714320288372694,\n",
              "  'Test MSE': 350.59803111578395}}"
            ]
          },
          "metadata": {},
          "execution_count": 12
        }
      ]
    },
    {
      "cell_type": "markdown",
      "source": [
        "# AGORA-GR-II-100"
      ],
      "metadata": {
        "id": "mB35LA_5yopk"
      }
    },
    {
      "cell_type": "code",
      "source": [
        "X_train, X_val, X_test, y_train, y_val, y_test = load(train_list)\n",
        "\n",
        "models = {\n",
        "    \"LightGBM\": LGBMRegressor(random_state=42),\n",
        "    \"XGBoost\": XGBRegressor(use_label_encoder=False, random_state=42),\n",
        "    \"CatBoost\": LGBMRegressor(random_state=42),\n",
        "}\n",
        "\n",
        "train_val_and_test(models, X_train, y_train, X_val, y_val, X_test, y_test, seed=4221)"
      ],
      "metadata": {
        "colab": {
          "base_uri": "https://localhost:8080/"
        },
        "id": "fskrAd16yoNV",
        "outputId": "eb971e36-6220-4acd-eeea-fadbb03d5ea1"
      },
      "execution_count": null,
      "outputs": [
        {
          "output_type": "stream",
          "name": "stderr",
          "text": [
            "\rTraining Models:   0%|          | 0/3 [00:00<?, ?model/s]/usr/local/lib/python3.11/dist-packages/sklearn/utils/deprecation.py:151: FutureWarning: 'force_all_finite' was renamed to 'ensure_all_finite' in 1.6 and will be removed in 1.8.\n",
            "  warnings.warn(\n",
            "/usr/local/lib/python3.11/dist-packages/sklearn/utils/validation.py:1408: DataConversionWarning: A column-vector y was passed when a 1d array was expected. Please change the shape of y to (n_samples, ), for example using ravel().\n",
            "  y = column_or_1d(y, warn=True)\n"
          ]
        },
        {
          "output_type": "stream",
          "name": "stdout",
          "text": [
            "\n",
            "Training and evaluating: LightGBM\n",
            "[LightGBM] [Info] Auto-choosing row-wise multi-threading, the overhead of testing was 0.153423 seconds.\n",
            "You can set `force_row_wise=true` to remove the overhead.\n",
            "And if memory is not enough, you can set `force_col_wise=true`.\n",
            "[LightGBM] [Info] Total Bins 828\n",
            "[LightGBM] [Info] Number of data points in the train set: 132532, number of used features: 414\n",
            "[LightGBM] [Info] Start training from score 80.634781\n",
            "Model saved at results/LightGBM/model.pkl\n"
          ]
        },
        {
          "output_type": "stream",
          "name": "stderr",
          "text": [
            "/usr/local/lib/python3.11/dist-packages/sklearn/utils/deprecation.py:151: FutureWarning: 'force_all_finite' was renamed to 'ensure_all_finite' in 1.6 and will be removed in 1.8.\n",
            "  warnings.warn(\n",
            "/usr/local/lib/python3.11/dist-packages/sklearn/utils/deprecation.py:151: FutureWarning: 'force_all_finite' was renamed to 'ensure_all_finite' in 1.6 and will be removed in 1.8.\n",
            "  warnings.warn(\n",
            "Training Models:  33%|███▎      | 1/3 [00:04<00:08,  4.14s/model]"
          ]
        },
        {
          "output_type": "stream",
          "name": "stdout",
          "text": [
            "Validation Report for LightGBM:\n",
            "R²: 0.5167, MAE: 14.5490, MSE: 370.4922\n",
            "\n",
            "Training and evaluating: XGBoost\n"
          ]
        },
        {
          "output_type": "stream",
          "name": "stderr",
          "text": [
            "/usr/local/lib/python3.11/dist-packages/xgboost/core.py:158: UserWarning: [15:49:38] WARNING: /workspace/src/learner.cc:740: \n",
            "Parameters: { \"use_label_encoder\" } are not used.\n",
            "\n",
            "  warnings.warn(smsg, UserWarning)\n",
            "Training Models:  67%|██████▋   | 2/3 [00:13<00:07,  7.45s/model]"
          ]
        },
        {
          "output_type": "stream",
          "name": "stdout",
          "text": [
            "Model saved at results/XGBoost/model.pkl\n",
            "Validation Report for XGBoost:\n",
            "R²: 0.5607, MAE: 13.6300, MSE: 336.7745\n",
            "\n",
            "Training and evaluating: CatBoost\n"
          ]
        },
        {
          "output_type": "stream",
          "name": "stderr",
          "text": [
            "/usr/local/lib/python3.11/dist-packages/sklearn/utils/deprecation.py:151: FutureWarning: 'force_all_finite' was renamed to 'ensure_all_finite' in 1.6 and will be removed in 1.8.\n",
            "  warnings.warn(\n",
            "/usr/local/lib/python3.11/dist-packages/sklearn/utils/validation.py:1408: DataConversionWarning: A column-vector y was passed when a 1d array was expected. Please change the shape of y to (n_samples, ), for example using ravel().\n",
            "  y = column_or_1d(y, warn=True)\n"
          ]
        },
        {
          "output_type": "stream",
          "name": "stdout",
          "text": [
            "[LightGBM] [Info] Auto-choosing row-wise multi-threading, the overhead of testing was 0.158932 seconds.\n",
            "You can set `force_row_wise=true` to remove the overhead.\n",
            "And if memory is not enough, you can set `force_col_wise=true`.\n",
            "[LightGBM] [Info] Total Bins 828\n",
            "[LightGBM] [Info] Number of data points in the train set: 132532, number of used features: 414\n",
            "[LightGBM] [Info] Start training from score 80.634781\n",
            "Model saved at results/CatBoost/model.pkl\n"
          ]
        },
        {
          "output_type": "stream",
          "name": "stderr",
          "text": [
            "/usr/local/lib/python3.11/dist-packages/sklearn/utils/deprecation.py:151: FutureWarning: 'force_all_finite' was renamed to 'ensure_all_finite' in 1.6 and will be removed in 1.8.\n",
            "  warnings.warn(\n",
            "/usr/local/lib/python3.11/dist-packages/sklearn/utils/deprecation.py:151: FutureWarning: 'force_all_finite' was renamed to 'ensure_all_finite' in 1.6 and will be removed in 1.8.\n",
            "  warnings.warn(\n",
            "Training Models: 100%|██████████| 3/3 [00:18<00:00,  6.04s/model]"
          ]
        },
        {
          "output_type": "stream",
          "name": "stdout",
          "text": [
            "Validation Report for CatBoost:\n",
            "R²: 0.5167, MAE: 14.5490, MSE: 370.4922\n",
            "\n",
            "Summary of Validation and Test Metrics:\n",
            "LightGBM: Val R² = 0.5167, Val MAE = 14.5490, Val MSE = 370.4922, Test R² = 0.5230, Test MAE = 14.5867, Test MSE = 372.9865\n",
            "XGBoost: Val R² = 0.5607, Val MAE = 13.6300, Val MSE = 336.7745, Test R² = 0.5671, Test MAE = 13.6396, Test MSE = 338.5262\n",
            "CatBoost: Val R² = 0.5167, Val MAE = 14.5490, Val MSE = 370.4922, Test R² = 0.5230, Test MAE = 14.5867, Test MSE = 372.9865\n",
            "\n",
            "All model results saved to results/all_model_results.json\n"
          ]
        },
        {
          "output_type": "stream",
          "name": "stderr",
          "text": [
            "\n"
          ]
        },
        {
          "output_type": "execute_result",
          "data": {
            "text/plain": [
              "{'LightGBM': {'Validation R²': 0.5166871079061213,\n",
              "  'Validation MAE': 14.54895661138813,\n",
              "  'Validation MSE': 370.492222778473,\n",
              "  'Test R²': 0.5230071795093698,\n",
              "  'Test MAE': 14.586708335490306,\n",
              "  'Test MSE': 372.98645690447796},\n",
              " 'XGBoost': {'Validation R²': 0.5606724473436165,\n",
              "  'Validation MAE': 13.629974278172305,\n",
              "  'Validation MSE': 336.7744667565668,\n",
              "  'Test R²': 0.5670765997858762,\n",
              "  'Test MAE': 13.639604934311174,\n",
              "  'Test MSE': 338.5261962450801},\n",
              " 'CatBoost': {'Validation R²': 0.5166871079061213,\n",
              "  'Validation MAE': 14.54895661138813,\n",
              "  'Validation MSE': 370.492222778473,\n",
              "  'Test R²': 0.5230071795093698,\n",
              "  'Test MAE': 14.586708335490306,\n",
              "  'Test MSE': 372.98645690447796}}"
            ]
          },
          "metadata": {},
          "execution_count": 17
        }
      ]
    },
    {
      "cell_type": "markdown",
      "source": [
        "#AGORA-GR-III-100"
      ],
      "metadata": {
        "id": "ulv1bZvHysIH"
      }
    },
    {
      "cell_type": "code",
      "source": [
        "X_train, X_val, X_test, y_train, y_val, y_test = load(train_list)\n",
        "\n",
        "models = {\n",
        "    \"LightGBM\": LGBMRegressor(random_state=42),\n",
        "    \"XGBoost\": XGBRegressor(use_label_encoder=False, random_state=42),\n",
        "    \"CatBoost\": LGBMRegressor(random_state=42),\n",
        "}\n",
        "\n",
        "train_val_and_test(models, X_train, y_train, X_val, y_val, X_test, y_test, seed=4221)"
      ],
      "metadata": {
        "colab": {
          "base_uri": "https://localhost:8080/"
        },
        "id": "C4qF08t211R2",
        "outputId": "1aa5bfec-8192-45e1-bd7b-c40c52704488"
      },
      "execution_count": null,
      "outputs": [
        {
          "output_type": "stream",
          "name": "stderr",
          "text": [
            "\rTraining Models:   0%|          | 0/3 [00:00<?, ?model/s]/usr/local/lib/python3.11/dist-packages/sklearn/utils/deprecation.py:151: FutureWarning: 'force_all_finite' was renamed to 'ensure_all_finite' in 1.6 and will be removed in 1.8.\n",
            "  warnings.warn(\n",
            "/usr/local/lib/python3.11/dist-packages/sklearn/utils/validation.py:1408: DataConversionWarning: A column-vector y was passed when a 1d array was expected. Please change the shape of y to (n_samples, ), for example using ravel().\n",
            "  y = column_or_1d(y, warn=True)\n"
          ]
        },
        {
          "output_type": "stream",
          "name": "stdout",
          "text": [
            "\n",
            "Training and evaluating: LightGBM\n",
            "[LightGBM] [Info] Auto-choosing row-wise multi-threading, the overhead of testing was 0.266318 seconds.\n",
            "You can set `force_row_wise=true` to remove the overhead.\n",
            "And if memory is not enough, you can set `force_col_wise=true`.\n",
            "[LightGBM] [Info] Total Bins 830\n",
            "[LightGBM] [Info] Number of data points in the train set: 242313, number of used features: 415\n",
            "[LightGBM] [Info] Start training from score 90.990516\n",
            "Model saved at results/LightGBM/model.pkl\n"
          ]
        },
        {
          "output_type": "stream",
          "name": "stderr",
          "text": [
            "/usr/local/lib/python3.11/dist-packages/sklearn/utils/deprecation.py:151: FutureWarning: 'force_all_finite' was renamed to 'ensure_all_finite' in 1.6 and will be removed in 1.8.\n",
            "  warnings.warn(\n",
            "/usr/local/lib/python3.11/dist-packages/sklearn/utils/deprecation.py:151: FutureWarning: 'force_all_finite' was renamed to 'ensure_all_finite' in 1.6 and will be removed in 1.8.\n",
            "  warnings.warn(\n",
            "Training Models:  33%|███▎      | 1/3 [00:07<00:15,  7.75s/model]"
          ]
        },
        {
          "output_type": "stream",
          "name": "stdout",
          "text": [
            "Validation Report for LightGBM:\n",
            "R²: 0.5987, MAE: 14.7367, MSE: 369.9508\n",
            "\n",
            "Training and evaluating: XGBoost\n"
          ]
        },
        {
          "output_type": "stream",
          "name": "stderr",
          "text": [
            "/usr/local/lib/python3.11/dist-packages/xgboost/core.py:158: UserWarning: [15:51:45] WARNING: /workspace/src/learner.cc:740: \n",
            "Parameters: { \"use_label_encoder\" } are not used.\n",
            "\n",
            "  warnings.warn(smsg, UserWarning)\n"
          ]
        },
        {
          "output_type": "stream",
          "name": "stdout",
          "text": [
            "Model saved at results/XGBoost/model.pkl\n"
          ]
        },
        {
          "output_type": "stream",
          "name": "stderr",
          "text": [
            "\rTraining Models:  67%|██████▋   | 2/3 [00:19<00:09,  9.87s/model]"
          ]
        },
        {
          "output_type": "stream",
          "name": "stdout",
          "text": [
            "Validation Report for XGBoost:\n",
            "R²: 0.6368, MAE: 13.8411, MSE: 334.8362\n",
            "\n",
            "Training and evaluating: CatBoost\n"
          ]
        },
        {
          "output_type": "stream",
          "name": "stderr",
          "text": [
            "/usr/local/lib/python3.11/dist-packages/sklearn/utils/deprecation.py:151: FutureWarning: 'force_all_finite' was renamed to 'ensure_all_finite' in 1.6 and will be removed in 1.8.\n",
            "  warnings.warn(\n",
            "/usr/local/lib/python3.11/dist-packages/sklearn/utils/validation.py:1408: DataConversionWarning: A column-vector y was passed when a 1d array was expected. Please change the shape of y to (n_samples, ), for example using ravel().\n",
            "  y = column_or_1d(y, warn=True)\n"
          ]
        },
        {
          "output_type": "stream",
          "name": "stdout",
          "text": [
            "[LightGBM] [Info] Auto-choosing row-wise multi-threading, the overhead of testing was 0.270576 seconds.\n",
            "You can set `force_row_wise=true` to remove the overhead.\n",
            "And if memory is not enough, you can set `force_col_wise=true`.\n",
            "[LightGBM] [Info] Total Bins 830\n",
            "[LightGBM] [Info] Number of data points in the train set: 242313, number of used features: 415\n",
            "[LightGBM] [Info] Start training from score 90.990516\n",
            "Model saved at results/CatBoost/model.pkl\n"
          ]
        },
        {
          "output_type": "stream",
          "name": "stderr",
          "text": [
            "/usr/local/lib/python3.11/dist-packages/sklearn/utils/deprecation.py:151: FutureWarning: 'force_all_finite' was renamed to 'ensure_all_finite' in 1.6 and will be removed in 1.8.\n",
            "  warnings.warn(\n",
            "/usr/local/lib/python3.11/dist-packages/sklearn/utils/deprecation.py:151: FutureWarning: 'force_all_finite' was renamed to 'ensure_all_finite' in 1.6 and will be removed in 1.8.\n",
            "  warnings.warn(\n",
            "Training Models: 100%|██████████| 3/3 [00:26<00:00,  8.89s/model]"
          ]
        },
        {
          "output_type": "stream",
          "name": "stdout",
          "text": [
            "Validation Report for CatBoost:\n",
            "R²: 0.5987, MAE: 14.7367, MSE: 369.9508\n",
            "\n",
            "Summary of Validation and Test Metrics:\n",
            "LightGBM: Val R² = 0.5987, Val MAE = 14.7367, Val MSE = 369.9508, Test R² = 0.5943, Test MAE = 14.7598, Test MSE = 372.7542\n",
            "XGBoost: Val R² = 0.6368, Val MAE = 13.8411, Val MSE = 334.8362, Test R² = 0.6326, Test MAE = 13.8384, Test MSE = 337.5833\n",
            "CatBoost: Val R² = 0.5987, Val MAE = 14.7367, Val MSE = 369.9508, Test R² = 0.5943, Test MAE = 14.7598, Test MSE = 372.7542\n",
            "\n",
            "All model results saved to results/all_model_results.json\n"
          ]
        },
        {
          "output_type": "stream",
          "name": "stderr",
          "text": [
            "\n"
          ]
        },
        {
          "output_type": "execute_result",
          "data": {
            "text/plain": [
              "{'LightGBM': {'Validation R²': 0.5987373101312441,\n",
              "  'Validation MAE': 14.73674558959337,\n",
              "  'Validation MSE': 369.9507969148309,\n",
              "  'Test R²': 0.5942692188400018,\n",
              "  'Test MAE': 14.759778940722446,\n",
              "  'Test MSE': 372.75423000786674},\n",
              " 'XGBoost': {'Validation R²': 0.636823886347573,\n",
              "  'Validation MAE': 13.84107421446232,\n",
              "  'Validation MSE': 334.83624582712093,\n",
              "  'Test R²': 0.6325516753925461,\n",
              "  'Test MAE': 13.838376274052907,\n",
              "  'Test MSE': 337.58325388854206},\n",
              " 'CatBoost': {'Validation R²': 0.5987373101312441,\n",
              "  'Validation MAE': 14.73674558959337,\n",
              "  'Validation MSE': 369.9507969148309,\n",
              "  'Test R²': 0.5942692188400018,\n",
              "  'Test MAE': 14.759778940722446,\n",
              "  'Test MSE': 372.75423000786674}}"
            ]
          },
          "metadata": {},
          "execution_count": 23
        }
      ]
    },
    {
      "cell_type": "markdown",
      "source": [
        "#AGORA-GR-I-50"
      ],
      "metadata": {
        "id": "pJqG6SKb4bse"
      }
    },
    {
      "cell_type": "code",
      "source": [
        "X_train, X_val, X_test, y_train, y_val, y_test = load(train_list)\n",
        "\n",
        "models = {\n",
        "    \"LightGBM\": LGBMRegressor(random_state=42),\n",
        "    \"XGBoost\": XGBRegressor(use_label_encoder=False, random_state=42),\n",
        "    \"CatBoost\": LGBMRegressor(random_state=42),\n",
        "}\n",
        "\n",
        "train_val_and_test(models, X_train, y_train, X_val, y_val, X_test, y_test, seed=4221)"
      ],
      "metadata": {
        "colab": {
          "base_uri": "https://localhost:8080/"
        },
        "id": "LA0xrs744by7",
        "outputId": "920a852b-563b-4bd9-939a-fe3023a62f09"
      },
      "execution_count": null,
      "outputs": [
        {
          "output_type": "stream",
          "name": "stderr",
          "text": [
            "\rTraining Models:   0%|          | 0/3 [00:00<?, ?model/s]/usr/local/lib/python3.11/dist-packages/sklearn/utils/deprecation.py:151: FutureWarning: 'force_all_finite' was renamed to 'ensure_all_finite' in 1.6 and will be removed in 1.8.\n",
            "  warnings.warn(\n",
            "/usr/local/lib/python3.11/dist-packages/sklearn/utils/validation.py:1408: DataConversionWarning: A column-vector y was passed when a 1d array was expected. Please change the shape of y to (n_samples, ), for example using ravel().\n",
            "  y = column_or_1d(y, warn=True)\n"
          ]
        },
        {
          "output_type": "stream",
          "name": "stdout",
          "text": [
            "\n",
            "Training and evaluating: LightGBM\n",
            "[LightGBM] [Info] Auto-choosing col-wise multi-threading, the overhead of testing was 0.017408 seconds.\n",
            "You can set `force_col_wise=true` to remove the overhead.\n",
            "[LightGBM] [Info] Total Bins 688\n",
            "[LightGBM] [Info] Number of data points in the train set: 10048, number of used features: 344\n",
            "[LightGBM] [Info] Start training from score 75.777139\n"
          ]
        },
        {
          "output_type": "stream",
          "name": "stderr",
          "text": [
            "/usr/local/lib/python3.11/dist-packages/sklearn/utils/deprecation.py:151: FutureWarning: 'force_all_finite' was renamed to 'ensure_all_finite' in 1.6 and will be removed in 1.8.\n",
            "  warnings.warn(\n",
            "/usr/local/lib/python3.11/dist-packages/sklearn/utils/deprecation.py:151: FutureWarning: 'force_all_finite' was renamed to 'ensure_all_finite' in 1.6 and will be removed in 1.8.\n",
            "  warnings.warn(\n",
            "\rTraining Models:  33%|███▎      | 1/3 [00:00<00:00,  2.37model/s]"
          ]
        },
        {
          "output_type": "stream",
          "name": "stdout",
          "text": [
            "Model saved at results/LightGBM/model.pkl\n",
            "Validation Report for LightGBM:\n",
            "R²: 0.4220, MAE: 15.2557, MSE: 410.0791\n",
            "\n",
            "Training and evaluating: XGBoost\n"
          ]
        },
        {
          "output_type": "stream",
          "name": "stderr",
          "text": [
            "/usr/local/lib/python3.11/dist-packages/xgboost/core.py:158: UserWarning: [15:55:50] WARNING: /workspace/src/learner.cc:740: \n",
            "Parameters: { \"use_label_encoder\" } are not used.\n",
            "\n",
            "  warnings.warn(smsg, UserWarning)\n",
            "Training Models:  67%|██████▋   | 2/3 [00:02<00:01,  1.47s/model]"
          ]
        },
        {
          "output_type": "stream",
          "name": "stdout",
          "text": [
            "Model saved at results/XGBoost/model.pkl\n",
            "Validation Report for XGBoost:\n",
            "R²: 0.3682, MAE: 16.0105, MSE: 448.2937\n",
            "\n",
            "Training and evaluating: CatBoost\n",
            "[LightGBM] [Info] Auto-choosing row-wise multi-threading, the overhead of testing was 0.021674 seconds.\n",
            "You can set `force_row_wise=true` to remove the overhead.\n",
            "And if memory is not enough, you can set `force_col_wise=true`.\n",
            "[LightGBM] [Info] Total Bins 688\n",
            "[LightGBM] [Info] Number of data points in the train set: 10048, number of used features: 344\n",
            "[LightGBM] [Info] Start training from score 75.777139\n"
          ]
        },
        {
          "output_type": "stream",
          "name": "stderr",
          "text": [
            "/usr/local/lib/python3.11/dist-packages/sklearn/utils/deprecation.py:151: FutureWarning: 'force_all_finite' was renamed to 'ensure_all_finite' in 1.6 and will be removed in 1.8.\n",
            "  warnings.warn(\n",
            "/usr/local/lib/python3.11/dist-packages/sklearn/utils/validation.py:1408: DataConversionWarning: A column-vector y was passed when a 1d array was expected. Please change the shape of y to (n_samples, ), for example using ravel().\n",
            "  y = column_or_1d(y, warn=True)\n",
            "/usr/local/lib/python3.11/dist-packages/sklearn/utils/deprecation.py:151: FutureWarning: 'force_all_finite' was renamed to 'ensure_all_finite' in 1.6 and will be removed in 1.8.\n",
            "  warnings.warn(\n",
            "/usr/local/lib/python3.11/dist-packages/sklearn/utils/deprecation.py:151: FutureWarning: 'force_all_finite' was renamed to 'ensure_all_finite' in 1.6 and will be removed in 1.8.\n",
            "  warnings.warn(\n",
            "Training Models: 100%|██████████| 3/3 [00:03<00:00,  1.02s/model]"
          ]
        },
        {
          "output_type": "stream",
          "name": "stdout",
          "text": [
            "Model saved at results/CatBoost/model.pkl\n",
            "Validation Report for CatBoost:\n",
            "R²: 0.4220, MAE: 15.2557, MSE: 410.0791\n",
            "\n",
            "Summary of Validation and Test Metrics:\n",
            "LightGBM: Val R² = 0.4220, Val MAE = 15.2557, Val MSE = 410.0791, Test R² = 0.4101, Test MAE = 15.1051, Test MSE = 402.8497\n",
            "XGBoost: Val R² = 0.3682, Val MAE = 16.0105, Val MSE = 448.2937, Test R² = 0.3527, Test MAE = 15.8312, Test MSE = 442.0807\n",
            "CatBoost: Val R² = 0.4220, Val MAE = 15.2557, Val MSE = 410.0791, Test R² = 0.4101, Test MAE = 15.1051, Test MSE = 402.8497\n",
            "\n",
            "All model results saved to results/all_model_results.json\n"
          ]
        },
        {
          "output_type": "stream",
          "name": "stderr",
          "text": [
            "\n"
          ]
        },
        {
          "output_type": "execute_result",
          "data": {
            "text/plain": [
              "{'LightGBM': {'Validation R²': 0.4220474645985287,\n",
              "  'Validation MAE': 15.255739943709271,\n",
              "  'Validation MSE': 410.0790869263016,\n",
              "  'Test R²': 0.41010976664073473,\n",
              "  'Test MAE': 15.105055916876674,\n",
              "  'Test MSE': 402.8496839231884},\n",
              " 'XGBoost': {'Validation R²': 0.3681889610848823,\n",
              "  'Validation MAE': 16.010499958722257,\n",
              "  'Validation MSE': 448.2937232350618,\n",
              "  'Test R²': 0.35266406396426087,\n",
              "  'Test MAE': 15.831191578038958,\n",
              "  'Test MSE': 442.0806829417272},\n",
              " 'CatBoost': {'Validation R²': 0.4220474645985287,\n",
              "  'Validation MAE': 15.255739943709271,\n",
              "  'Validation MSE': 410.0790869263016,\n",
              "  'Test R²': 0.41010976664073473,\n",
              "  'Test MAE': 15.105055916876674,\n",
              "  'Test MSE': 402.8496839231884}}"
            ]
          },
          "metadata": {},
          "execution_count": 37
        }
      ]
    },
    {
      "cell_type": "markdown",
      "source": [
        "# AGORA-GR-II-50"
      ],
      "metadata": {
        "id": "1wIqj3o55zkD"
      }
    },
    {
      "cell_type": "code",
      "source": [
        "X_train, X_val, X_test, y_train, y_val, y_test = load(train_list)\n",
        "\n",
        "models = {\n",
        "    \"LightGBM\": LGBMRegressor(random_state=42),\n",
        "    \"XGBoost\": XGBRegressor(use_label_encoder=False, random_state=42),\n",
        "    \"CatBoost\": LGBMRegressor(random_state=42),\n",
        "}\n",
        "\n",
        "train_val_and_test(models, X_train, y_train, X_val, y_val, X_test, y_test, seed=4221)"
      ],
      "metadata": {
        "colab": {
          "base_uri": "https://localhost:8080/"
        },
        "id": "W7OO3ZzO6A5d",
        "outputId": "c270576d-9cd4-4902-ee48-756dfe2c9b3e"
      },
      "execution_count": null,
      "outputs": [
        {
          "output_type": "stream",
          "name": "stderr",
          "text": [
            "\rTraining Models:   0%|          | 0/3 [00:00<?, ?model/s]/usr/local/lib/python3.11/dist-packages/sklearn/utils/deprecation.py:151: FutureWarning: 'force_all_finite' was renamed to 'ensure_all_finite' in 1.6 and will be removed in 1.8.\n",
            "  warnings.warn(\n",
            "/usr/local/lib/python3.11/dist-packages/sklearn/utils/validation.py:1408: DataConversionWarning: A column-vector y was passed when a 1d array was expected. Please change the shape of y to (n_samples, ), for example using ravel().\n",
            "  y = column_or_1d(y, warn=True)\n"
          ]
        },
        {
          "output_type": "stream",
          "name": "stdout",
          "text": [
            "\n",
            "Training and evaluating: LightGBM\n",
            "[LightGBM] [Info] Auto-choosing row-wise multi-threading, the overhead of testing was 0.067895 seconds.\n",
            "You can set `force_row_wise=true` to remove the overhead.\n",
            "And if memory is not enough, you can set `force_col_wise=true`.\n",
            "[LightGBM] [Info] Total Bins 774\n",
            "[LightGBM] [Info] Number of data points in the train set: 43653, number of used features: 387\n",
            "[LightGBM] [Info] Start training from score 63.244210\n"
          ]
        },
        {
          "output_type": "stream",
          "name": "stderr",
          "text": [
            "/usr/local/lib/python3.11/dist-packages/sklearn/utils/deprecation.py:151: FutureWarning: 'force_all_finite' was renamed to 'ensure_all_finite' in 1.6 and will be removed in 1.8.\n",
            "  warnings.warn(\n",
            "/usr/local/lib/python3.11/dist-packages/sklearn/utils/deprecation.py:151: FutureWarning: 'force_all_finite' was renamed to 'ensure_all_finite' in 1.6 and will be removed in 1.8.\n",
            "  warnings.warn(\n",
            "\rTraining Models:  33%|███▎      | 1/3 [00:01<00:02,  1.27s/model]"
          ]
        },
        {
          "output_type": "stream",
          "name": "stdout",
          "text": [
            "Model saved at results/LightGBM/model.pkl\n",
            "Validation Report for LightGBM:\n",
            "R²: 0.3489, MAE: 14.5974, MSE: 365.4987\n",
            "\n",
            "Training and evaluating: XGBoost\n"
          ]
        },
        {
          "output_type": "stream",
          "name": "stderr",
          "text": [
            "/usr/local/lib/python3.11/dist-packages/xgboost/core.py:158: UserWarning: [15:54:54] WARNING: /workspace/src/learner.cc:740: \n",
            "Parameters: { \"use_label_encoder\" } are not used.\n",
            "\n",
            "  warnings.warn(smsg, UserWarning)\n",
            "Training Models:  67%|██████▋   | 2/3 [00:02<00:01,  1.42s/model]"
          ]
        },
        {
          "output_type": "stream",
          "name": "stdout",
          "text": [
            "Model saved at results/XGBoost/model.pkl\n",
            "Validation Report for XGBoost:\n",
            "R²: 0.3433, MAE: 14.5771, MSE: 368.6329\n",
            "\n",
            "Training and evaluating: CatBoost\n"
          ]
        },
        {
          "output_type": "stream",
          "name": "stderr",
          "text": [
            "/usr/local/lib/python3.11/dist-packages/sklearn/utils/deprecation.py:151: FutureWarning: 'force_all_finite' was renamed to 'ensure_all_finite' in 1.6 and will be removed in 1.8.\n",
            "  warnings.warn(\n",
            "/usr/local/lib/python3.11/dist-packages/sklearn/utils/validation.py:1408: DataConversionWarning: A column-vector y was passed when a 1d array was expected. Please change the shape of y to (n_samples, ), for example using ravel().\n",
            "  y = column_or_1d(y, warn=True)\n"
          ]
        },
        {
          "output_type": "stream",
          "name": "stdout",
          "text": [
            "[LightGBM] [Info] Auto-choosing row-wise multi-threading, the overhead of testing was 0.068028 seconds.\n",
            "You can set `force_row_wise=true` to remove the overhead.\n",
            "And if memory is not enough, you can set `force_col_wise=true`.\n",
            "[LightGBM] [Info] Total Bins 774\n",
            "[LightGBM] [Info] Number of data points in the train set: 43653, number of used features: 387\n",
            "[LightGBM] [Info] Start training from score 63.244210\n"
          ]
        },
        {
          "output_type": "stream",
          "name": "stderr",
          "text": [
            "/usr/local/lib/python3.11/dist-packages/sklearn/utils/deprecation.py:151: FutureWarning: 'force_all_finite' was renamed to 'ensure_all_finite' in 1.6 and will be removed in 1.8.\n",
            "  warnings.warn(\n",
            "/usr/local/lib/python3.11/dist-packages/sklearn/utils/deprecation.py:151: FutureWarning: 'force_all_finite' was renamed to 'ensure_all_finite' in 1.6 and will be removed in 1.8.\n",
            "  warnings.warn(\n",
            "Training Models: 100%|██████████| 3/3 [00:04<00:00,  1.33s/model]"
          ]
        },
        {
          "output_type": "stream",
          "name": "stdout",
          "text": [
            "Model saved at results/CatBoost/model.pkl\n",
            "Validation Report for CatBoost:\n",
            "R²: 0.3489, MAE: 14.5974, MSE: 365.4987\n",
            "\n",
            "Summary of Validation and Test Metrics:\n",
            "LightGBM: Val R² = 0.3489, Val MAE = 14.5974, Val MSE = 365.4987, Test R² = 0.3560, Test MAE = 14.5384, Test MSE = 360.9291\n",
            "XGBoost: Val R² = 0.3433, Val MAE = 14.5771, Val MSE = 368.6329, Test R² = 0.3466, Test MAE = 14.5864, Test MSE = 366.1493\n",
            "CatBoost: Val R² = 0.3489, Val MAE = 14.5974, Val MSE = 365.4987, Test R² = 0.3560, Test MAE = 14.5384, Test MSE = 360.9291\n",
            "\n",
            "All model results saved to results/all_model_results.json\n"
          ]
        },
        {
          "output_type": "stream",
          "name": "stderr",
          "text": [
            "\n"
          ]
        },
        {
          "output_type": "execute_result",
          "data": {
            "text/plain": [
              "{'LightGBM': {'Validation R²': 0.3489170577885986,\n",
              "  'Validation MAE': 14.597368710235354,\n",
              "  'Validation MSE': 365.4987060522398,\n",
              "  'Test R²': 0.3559531638164911,\n",
              "  'Test MAE': 14.538440497290292,\n",
              "  'Test MSE': 360.9291268089409},\n",
              " 'XGBoost': {'Validation R²': 0.34333398430339657,\n",
              "  'Validation MAE': 14.577053353306834,\n",
              "  'Validation MSE': 368.6328783709078,\n",
              "  'Test R²': 0.3466382190202073,\n",
              "  'Test MAE': 14.586431448314205,\n",
              "  'Test MSE': 366.14929823547703},\n",
              " 'CatBoost': {'Validation R²': 0.3489170577885986,\n",
              "  'Validation MAE': 14.597368710235354,\n",
              "  'Validation MSE': 365.4987060522398,\n",
              "  'Test R²': 0.3559531638164911,\n",
              "  'Test MAE': 14.538440497290292,\n",
              "  'Test MSE': 360.9291268089409}}"
            ]
          },
          "metadata": {},
          "execution_count": 33
        }
      ]
    },
    {
      "cell_type": "markdown",
      "source": [
        "#AGORA-GR-III-50"
      ],
      "metadata": {
        "id": "fpoQzczx6LSV"
      }
    },
    {
      "cell_type": "code",
      "source": [
        "X_train, X_val, X_test, y_train, y_val, y_test = load(train_list)\n",
        "\n",
        "models = {\n",
        "    \"LightGBM\": LGBMRegressor(random_state=42),\n",
        "    \"XGBoost\": XGBRegressor(use_label_encoder=False, random_state=42),\n",
        "    \"CatBoost\": LGBMRegressor(random_state=42),\n",
        "}\n",
        "\n",
        "train_val_and_test(models, X_train, y_train, X_val, y_val, X_test, y_test, seed=4221)"
      ],
      "metadata": {
        "colab": {
          "base_uri": "https://localhost:8080/"
        },
        "id": "HRipDnju6Z-r",
        "outputId": "25155e59-b7a0-4d7c-8d8b-05586591111d"
      },
      "execution_count": null,
      "outputs": [
        {
          "output_type": "stream",
          "name": "stderr",
          "text": [
            "\rTraining Models:   0%|          | 0/3 [00:00<?, ?model/s]/usr/local/lib/python3.11/dist-packages/sklearn/utils/deprecation.py:151: FutureWarning: 'force_all_finite' was renamed to 'ensure_all_finite' in 1.6 and will be removed in 1.8.\n",
            "  warnings.warn(\n",
            "/usr/local/lib/python3.11/dist-packages/sklearn/utils/validation.py:1408: DataConversionWarning: A column-vector y was passed when a 1d array was expected. Please change the shape of y to (n_samples, ), for example using ravel().\n",
            "  y = column_or_1d(y, warn=True)\n"
          ]
        },
        {
          "output_type": "stream",
          "name": "stdout",
          "text": [
            "\n",
            "Training and evaluating: LightGBM\n",
            "[LightGBM] [Info] Auto-choosing row-wise multi-threading, the overhead of testing was 0.469093 seconds.\n",
            "You can set `force_row_wise=true` to remove the overhead.\n",
            "And if memory is not enough, you can set `force_col_wise=true`.\n",
            "[LightGBM] [Info] Total Bins 830\n",
            "[LightGBM] [Info] Number of data points in the train set: 284652, number of used features: 415\n",
            "[LightGBM] [Info] Start training from score 71.914278\n",
            "Model saved at results/LightGBM/model.pkl\n"
          ]
        },
        {
          "output_type": "stream",
          "name": "stderr",
          "text": [
            "/usr/local/lib/python3.11/dist-packages/sklearn/utils/deprecation.py:151: FutureWarning: 'force_all_finite' was renamed to 'ensure_all_finite' in 1.6 and will be removed in 1.8.\n",
            "  warnings.warn(\n",
            "/usr/local/lib/python3.11/dist-packages/sklearn/utils/deprecation.py:151: FutureWarning: 'force_all_finite' was renamed to 'ensure_all_finite' in 1.6 and will be removed in 1.8.\n",
            "  warnings.warn(\n",
            "Training Models:  33%|███▎      | 1/3 [00:06<00:13,  6.53s/model]"
          ]
        },
        {
          "output_type": "stream",
          "name": "stdout",
          "text": [
            "Validation Report for LightGBM:\n",
            "R²: 0.4544, MAE: 14.9849, MSE: 373.2057\n",
            "\n",
            "Training and evaluating: XGBoost\n"
          ]
        },
        {
          "output_type": "stream",
          "name": "stderr",
          "text": [
            "/usr/local/lib/python3.11/dist-packages/xgboost/core.py:158: UserWarning: [15:53:56] WARNING: /workspace/src/learner.cc:740: \n",
            "Parameters: { \"use_label_encoder\" } are not used.\n",
            "\n",
            "  warnings.warn(smsg, UserWarning)\n"
          ]
        },
        {
          "output_type": "stream",
          "name": "stdout",
          "text": [
            "Model saved at results/XGBoost/model.pkl\n"
          ]
        },
        {
          "output_type": "stream",
          "name": "stderr",
          "text": [
            "\rTraining Models:  67%|██████▋   | 2/3 [00:15<00:08,  8.18s/model]"
          ]
        },
        {
          "output_type": "stream",
          "name": "stdout",
          "text": [
            "Validation Report for XGBoost:\n",
            "R²: 0.4681, MAE: 14.7358, MSE: 363.8316\n",
            "\n",
            "Training and evaluating: CatBoost\n"
          ]
        },
        {
          "output_type": "stream",
          "name": "stderr",
          "text": [
            "/usr/local/lib/python3.11/dist-packages/sklearn/utils/deprecation.py:151: FutureWarning: 'force_all_finite' was renamed to 'ensure_all_finite' in 1.6 and will be removed in 1.8.\n",
            "  warnings.warn(\n",
            "/usr/local/lib/python3.11/dist-packages/sklearn/utils/validation.py:1408: DataConversionWarning: A column-vector y was passed when a 1d array was expected. Please change the shape of y to (n_samples, ), for example using ravel().\n",
            "  y = column_or_1d(y, warn=True)\n"
          ]
        },
        {
          "output_type": "stream",
          "name": "stdout",
          "text": [
            "[LightGBM] [Info] Auto-choosing row-wise multi-threading, the overhead of testing was 0.473890 seconds.\n",
            "You can set `force_row_wise=true` to remove the overhead.\n",
            "And if memory is not enough, you can set `force_col_wise=true`.\n",
            "[LightGBM] [Info] Total Bins 830\n",
            "[LightGBM] [Info] Number of data points in the train set: 284652, number of used features: 415\n",
            "[LightGBM] [Info] Start training from score 71.914278\n",
            "Model saved at results/CatBoost/model.pkl\n"
          ]
        },
        {
          "output_type": "stream",
          "name": "stderr",
          "text": [
            "/usr/local/lib/python3.11/dist-packages/sklearn/utils/deprecation.py:151: FutureWarning: 'force_all_finite' was renamed to 'ensure_all_finite' in 1.6 and will be removed in 1.8.\n",
            "  warnings.warn(\n",
            "/usr/local/lib/python3.11/dist-packages/sklearn/utils/deprecation.py:151: FutureWarning: 'force_all_finite' was renamed to 'ensure_all_finite' in 1.6 and will be removed in 1.8.\n",
            "  warnings.warn(\n",
            "Training Models: 100%|██████████| 3/3 [00:22<00:00,  7.48s/model]"
          ]
        },
        {
          "output_type": "stream",
          "name": "stdout",
          "text": [
            "Validation Report for CatBoost:\n",
            "R²: 0.4544, MAE: 14.9849, MSE: 373.2057\n",
            "\n",
            "Summary of Validation and Test Metrics:\n",
            "LightGBM: Val R² = 0.4544, Val MAE = 14.9849, Val MSE = 373.2057, Test R² = 0.4534, Test MAE = 14.9460, Test MSE = 372.1938\n",
            "XGBoost: Val R² = 0.4681, Val MAE = 14.7358, Val MSE = 363.8316, Test R² = 0.4702, Test MAE = 14.6637, Test MSE = 360.7674\n",
            "CatBoost: Val R² = 0.4544, Val MAE = 14.9849, Val MSE = 373.2057, Test R² = 0.4534, Test MAE = 14.9460, Test MSE = 372.1938\n",
            "\n",
            "All model results saved to results/all_model_results.json\n"
          ]
        },
        {
          "output_type": "stream",
          "name": "stderr",
          "text": [
            "\n"
          ]
        },
        {
          "output_type": "execute_result",
          "data": {
            "text/plain": [
              "{'LightGBM': {'Validation R²': 0.45435315111497154,\n",
              "  'Validation MAE': 14.984922608227626,\n",
              "  'Validation MSE': 373.2056751463514,\n",
              "  'Test R²': 0.4534048400189986,\n",
              "  'Test MAE': 14.945956231553746,\n",
              "  'Test MSE': 372.19378591646074},\n",
              " 'XGBoost': {'Validation R²': 0.46805861852319186,\n",
              "  'Validation MAE': 14.735822942203278,\n",
              "  'Validation MSE': 363.8315566524335,\n",
              "  'Test R²': 0.4701853524006566,\n",
              "  'Test MAE': 14.663721749763583,\n",
              "  'Test MSE': 360.76740879090335},\n",
              " 'CatBoost': {'Validation R²': 0.45435315111497154,\n",
              "  'Validation MAE': 14.984922608227626,\n",
              "  'Validation MSE': 373.2056751463514,\n",
              "  'Test R²': 0.4534048400189986,\n",
              "  'Test MAE': 14.945956231553746,\n",
              "  'Test MSE': 372.19378591646074}}"
            ]
          },
          "metadata": {},
          "execution_count": 29
        }
      ]
    },
    {
      "cell_type": "markdown",
      "source": [
        "#CARVEME-GR-I-100"
      ],
      "metadata": {
        "id": "5ijsANAN-zLH"
      }
    },
    {
      "cell_type": "code",
      "source": [
        "X_train, X_val, X_test, y_train, y_val, y_test = load(train_list)\n",
        "\n",
        "models = {\n",
        "    \"LightGBM\": LGBMRegressor(random_state=42),\n",
        "    \"XGBoost\": XGBRegressor(use_label_encoder=False, random_state=42),\n",
        "    \"CatBoost\": LGBMRegressor(random_state=42),\n",
        "}\n",
        "\n",
        "train_val_and_test(models, X_train, y_train, X_val, y_val, X_test, y_test, seed=4221)"
      ],
      "metadata": {
        "colab": {
          "base_uri": "https://localhost:8080/"
        },
        "id": "02VY4ta1-zhl",
        "outputId": "9a78de5b-8c0b-488b-a122-3d3788f4bce3"
      },
      "execution_count": null,
      "outputs": [
        {
          "output_type": "stream",
          "name": "stderr",
          "text": [
            "\rTraining Models:   0%|          | 0/3 [00:00<?, ?model/s]/usr/local/lib/python3.11/dist-packages/sklearn/utils/deprecation.py:151: FutureWarning: 'force_all_finite' was renamed to 'ensure_all_finite' in 1.6 and will be removed in 1.8.\n",
            "  warnings.warn(\n",
            "/usr/local/lib/python3.11/dist-packages/sklearn/utils/validation.py:1408: DataConversionWarning: A column-vector y was passed when a 1d array was expected. Please change the shape of y to (n_samples, ), for example using ravel().\n",
            "  y = column_or_1d(y, warn=True)\n"
          ]
        },
        {
          "output_type": "stream",
          "name": "stdout",
          "text": [
            "\n",
            "Training and evaluating: LightGBM\n",
            "[LightGBM] [Info] Auto-choosing row-wise multi-threading, the overhead of testing was 0.262023 seconds.\n",
            "You can set `force_row_wise=true` to remove the overhead.\n",
            "And if memory is not enough, you can set `force_col_wise=true`.\n",
            "[LightGBM] [Info] Total Bins 978\n",
            "[LightGBM] [Info] Number of data points in the train set: 123373, number of used features: 489\n",
            "[LightGBM] [Info] Start training from score 41.951965\n",
            "Model saved at results/LightGBM/model.pkl\n"
          ]
        },
        {
          "output_type": "stream",
          "name": "stderr",
          "text": [
            "/usr/local/lib/python3.11/dist-packages/sklearn/utils/deprecation.py:151: FutureWarning: 'force_all_finite' was renamed to 'ensure_all_finite' in 1.6 and will be removed in 1.8.\n",
            "  warnings.warn(\n",
            "/usr/local/lib/python3.11/dist-packages/sklearn/utils/deprecation.py:151: FutureWarning: 'force_all_finite' was renamed to 'ensure_all_finite' in 1.6 and will be removed in 1.8.\n",
            "  warnings.warn(\n",
            "Training Models:  33%|███▎      | 1/3 [00:04<00:09,  4.98s/model]"
          ]
        },
        {
          "output_type": "stream",
          "name": "stdout",
          "text": [
            "Validation Report for LightGBM:\n",
            "R²: 0.3094, MAE: 9.0997, MSE: 132.0320\n",
            "\n",
            "Training and evaluating: XGBoost\n"
          ]
        },
        {
          "output_type": "stream",
          "name": "stderr",
          "text": [
            "/usr/local/lib/python3.11/dist-packages/xgboost/core.py:158: UserWarning: [15:57:35] WARNING: /workspace/src/learner.cc:740: \n",
            "Parameters: { \"use_label_encoder\" } are not used.\n",
            "\n",
            "  warnings.warn(smsg, UserWarning)\n",
            "Training Models:  67%|██████▋   | 2/3 [00:09<00:04,  4.74s/model]"
          ]
        },
        {
          "output_type": "stream",
          "name": "stdout",
          "text": [
            "Model saved at results/XGBoost/model.pkl\n",
            "Validation Report for XGBoost:\n",
            "R²: 0.3852, MAE: 8.4459, MSE: 117.5423\n",
            "\n",
            "Training and evaluating: CatBoost\n"
          ]
        },
        {
          "output_type": "stream",
          "name": "stderr",
          "text": [
            "/usr/local/lib/python3.11/dist-packages/sklearn/utils/deprecation.py:151: FutureWarning: 'force_all_finite' was renamed to 'ensure_all_finite' in 1.6 and will be removed in 1.8.\n",
            "  warnings.warn(\n",
            "/usr/local/lib/python3.11/dist-packages/sklearn/utils/validation.py:1408: DataConversionWarning: A column-vector y was passed when a 1d array was expected. Please change the shape of y to (n_samples, ), for example using ravel().\n",
            "  y = column_or_1d(y, warn=True)\n"
          ]
        },
        {
          "output_type": "stream",
          "name": "stdout",
          "text": [
            "[LightGBM] [Info] Auto-choosing row-wise multi-threading, the overhead of testing was 0.204552 seconds.\n",
            "You can set `force_row_wise=true` to remove the overhead.\n",
            "And if memory is not enough, you can set `force_col_wise=true`.\n",
            "[LightGBM] [Info] Total Bins 978\n",
            "[LightGBM] [Info] Number of data points in the train set: 123373, number of used features: 489\n",
            "[LightGBM] [Info] Start training from score 41.951965\n",
            "Model saved at results/CatBoost/model.pkl\n"
          ]
        },
        {
          "output_type": "stream",
          "name": "stderr",
          "text": [
            "/usr/local/lib/python3.11/dist-packages/sklearn/utils/deprecation.py:151: FutureWarning: 'force_all_finite' was renamed to 'ensure_all_finite' in 1.6 and will be removed in 1.8.\n",
            "  warnings.warn(\n",
            "/usr/local/lib/python3.11/dist-packages/sklearn/utils/deprecation.py:151: FutureWarning: 'force_all_finite' was renamed to 'ensure_all_finite' in 1.6 and will be removed in 1.8.\n",
            "  warnings.warn(\n",
            "Training Models: 100%|██████████| 3/3 [00:13<00:00,  4.57s/model]"
          ]
        },
        {
          "output_type": "stream",
          "name": "stdout",
          "text": [
            "Validation Report for CatBoost:\n",
            "R²: 0.3094, MAE: 9.0997, MSE: 132.0320\n",
            "\n",
            "Summary of Validation and Test Metrics:\n",
            "LightGBM: Val R² = 0.3094, Val MAE = 9.0997, Val MSE = 132.0320, Test R² = 0.3086, Test MAE = 9.0873, Test MSE = 131.6059\n",
            "XGBoost: Val R² = 0.3852, Val MAE = 8.4459, Val MSE = 117.5423, Test R² = 0.3863, Test MAE = 8.4351, Test MSE = 116.8143\n",
            "CatBoost: Val R² = 0.3094, Val MAE = 9.0997, Val MSE = 132.0320, Test R² = 0.3086, Test MAE = 9.0873, Test MSE = 131.6059\n",
            "\n",
            "All model results saved to results/all_model_results.json\n"
          ]
        },
        {
          "output_type": "stream",
          "name": "stderr",
          "text": [
            "\n"
          ]
        },
        {
          "output_type": "execute_result",
          "data": {
            "text/plain": [
              "{'LightGBM': {'Validation R²': 0.3093933509363136,\n",
              "  'Validation MAE': 9.099730861721103,\n",
              "  'Validation MSE': 132.03196022565163,\n",
              "  'Test R²': 0.3085649923422942,\n",
              "  'Test MAE': 9.087271347086409,\n",
              "  'Test MSE': 131.6058862567178},\n",
              " 'XGBoost': {'Validation R²': 0.38518283037750256,\n",
              "  'Validation MAE': 8.445892044750428,\n",
              "  'Validation MSE': 117.5423320868714,\n",
              "  'Test R²': 0.38627753368242634,\n",
              "  'Test MAE': 8.43514352089679,\n",
              "  'Test MSE': 116.81428941383277},\n",
              " 'CatBoost': {'Validation R²': 0.3093933509363136,\n",
              "  'Validation MAE': 9.099730861721103,\n",
              "  'Validation MSE': 132.03196022565163,\n",
              "  'Test R²': 0.3085649923422942,\n",
              "  'Test MAE': 9.087271347086409,\n",
              "  'Test MSE': 131.6058862567178}}"
            ]
          },
          "metadata": {},
          "execution_count": 41
        }
      ]
    },
    {
      "cell_type": "markdown",
      "source": [
        "#CARVEME-GR-II-100"
      ],
      "metadata": {
        "id": "dyqIDOpY-zxq"
      }
    },
    {
      "cell_type": "code",
      "source": [
        "X_train, X_val, X_test, y_train, y_val, y_test = load(train_list)\n",
        "\n",
        "models = {\n",
        "    \"LightGBM\": LGBMRegressor(random_state=42),\n",
        "    \"XGBoost\": XGBRegressor(use_label_encoder=False, random_state=42),\n",
        "    \"CatBoost\": LGBMRegressor(random_state=42),\n",
        "}\n",
        "\n",
        "train_val_and_test(models, X_train, y_train, X_val, y_val, X_test, y_test, seed=4221)"
      ],
      "metadata": {
        "colab": {
          "base_uri": "https://localhost:8080/"
        },
        "id": "WLsgvdex_bkM",
        "outputId": "d22df933-9e8c-45e4-88c5-643104183ad1"
      },
      "execution_count": null,
      "outputs": [
        {
          "output_type": "stream",
          "name": "stderr",
          "text": [
            "\rTraining Models:   0%|          | 0/3 [00:00<?, ?model/s]/usr/local/lib/python3.11/dist-packages/sklearn/utils/deprecation.py:151: FutureWarning: 'force_all_finite' was renamed to 'ensure_all_finite' in 1.6 and will be removed in 1.8.\n",
            "  warnings.warn(\n",
            "/usr/local/lib/python3.11/dist-packages/sklearn/utils/validation.py:1408: DataConversionWarning: A column-vector y was passed when a 1d array was expected. Please change the shape of y to (n_samples, ), for example using ravel().\n",
            "  y = column_or_1d(y, warn=True)\n"
          ]
        },
        {
          "output_type": "stream",
          "name": "stdout",
          "text": [
            "\n",
            "Training and evaluating: LightGBM\n",
            "[LightGBM] [Info] Auto-choosing row-wise multi-threading, the overhead of testing was 0.230806 seconds.\n",
            "You can set `force_row_wise=true` to remove the overhead.\n",
            "And if memory is not enough, you can set `force_col_wise=true`.\n",
            "[LightGBM] [Info] Total Bins 978\n",
            "[LightGBM] [Info] Number of data points in the train set: 123373, number of used features: 489\n",
            "[LightGBM] [Info] Start training from score 41.951965\n",
            "Model saved at results/LightGBM/model.pkl\n"
          ]
        },
        {
          "output_type": "stream",
          "name": "stderr",
          "text": [
            "/usr/local/lib/python3.11/dist-packages/sklearn/utils/deprecation.py:151: FutureWarning: 'force_all_finite' was renamed to 'ensure_all_finite' in 1.6 and will be removed in 1.8.\n",
            "  warnings.warn(\n",
            "/usr/local/lib/python3.11/dist-packages/sklearn/utils/deprecation.py:151: FutureWarning: 'force_all_finite' was renamed to 'ensure_all_finite' in 1.6 and will be removed in 1.8.\n",
            "  warnings.warn(\n",
            "Training Models:  33%|███▎      | 1/3 [00:04<00:09,  4.68s/model]"
          ]
        },
        {
          "output_type": "stream",
          "name": "stdout",
          "text": [
            "Validation Report for LightGBM:\n",
            "R²: 0.3094, MAE: 9.0997, MSE: 132.0320\n",
            "\n",
            "Training and evaluating: XGBoost\n"
          ]
        },
        {
          "output_type": "stream",
          "name": "stderr",
          "text": [
            "/usr/local/lib/python3.11/dist-packages/xgboost/core.py:158: UserWarning: [15:59:04] WARNING: /workspace/src/learner.cc:740: \n",
            "Parameters: { \"use_label_encoder\" } are not used.\n",
            "\n",
            "  warnings.warn(smsg, UserWarning)\n",
            "Training Models:  67%|██████▋   | 2/3 [00:09<00:04,  4.62s/model]"
          ]
        },
        {
          "output_type": "stream",
          "name": "stdout",
          "text": [
            "Model saved at results/XGBoost/model.pkl\n",
            "Validation Report for XGBoost:\n",
            "R²: 0.3852, MAE: 8.4459, MSE: 117.5423\n",
            "\n",
            "Training and evaluating: CatBoost\n"
          ]
        },
        {
          "output_type": "stream",
          "name": "stderr",
          "text": [
            "/usr/local/lib/python3.11/dist-packages/sklearn/utils/deprecation.py:151: FutureWarning: 'force_all_finite' was renamed to 'ensure_all_finite' in 1.6 and will be removed in 1.8.\n",
            "  warnings.warn(\n",
            "/usr/local/lib/python3.11/dist-packages/sklearn/utils/validation.py:1408: DataConversionWarning: A column-vector y was passed when a 1d array was expected. Please change the shape of y to (n_samples, ), for example using ravel().\n",
            "  y = column_or_1d(y, warn=True)\n"
          ]
        },
        {
          "output_type": "stream",
          "name": "stdout",
          "text": [
            "[LightGBM] [Info] Auto-choosing row-wise multi-threading, the overhead of testing was 0.199202 seconds.\n",
            "You can set `force_row_wise=true` to remove the overhead.\n",
            "And if memory is not enough, you can set `force_col_wise=true`.\n",
            "[LightGBM] [Info] Total Bins 978\n",
            "[LightGBM] [Info] Number of data points in the train set: 123373, number of used features: 489\n",
            "[LightGBM] [Info] Start training from score 41.951965\n",
            "Model saved at results/CatBoost/model.pkl\n"
          ]
        },
        {
          "output_type": "stream",
          "name": "stderr",
          "text": [
            "/usr/local/lib/python3.11/dist-packages/sklearn/utils/deprecation.py:151: FutureWarning: 'force_all_finite' was renamed to 'ensure_all_finite' in 1.6 and will be removed in 1.8.\n",
            "  warnings.warn(\n",
            "/usr/local/lib/python3.11/dist-packages/sklearn/utils/deprecation.py:151: FutureWarning: 'force_all_finite' was renamed to 'ensure_all_finite' in 1.6 and will be removed in 1.8.\n",
            "  warnings.warn(\n",
            "Training Models: 100%|██████████| 3/3 [00:13<00:00,  4.47s/model]"
          ]
        },
        {
          "output_type": "stream",
          "name": "stdout",
          "text": [
            "Validation Report for CatBoost:\n",
            "R²: 0.3094, MAE: 9.0997, MSE: 132.0320\n",
            "\n",
            "Summary of Validation and Test Metrics:\n",
            "LightGBM: Val R² = 0.3094, Val MAE = 9.0997, Val MSE = 132.0320, Test R² = 0.3086, Test MAE = 9.0873, Test MSE = 131.6059\n",
            "XGBoost: Val R² = 0.3852, Val MAE = 8.4459, Val MSE = 117.5423, Test R² = 0.3863, Test MAE = 8.4351, Test MSE = 116.8143\n",
            "CatBoost: Val R² = 0.3094, Val MAE = 9.0997, Val MSE = 132.0320, Test R² = 0.3086, Test MAE = 9.0873, Test MSE = 131.6059\n",
            "\n",
            "All model results saved to results/all_model_results.json\n"
          ]
        },
        {
          "output_type": "stream",
          "name": "stderr",
          "text": [
            "\n"
          ]
        },
        {
          "output_type": "execute_result",
          "data": {
            "text/plain": [
              "{'LightGBM': {'Validation R²': 0.3093933509363136,\n",
              "  'Validation MAE': 9.099730861721103,\n",
              "  'Validation MSE': 132.03196022565163,\n",
              "  'Test R²': 0.3085649923422942,\n",
              "  'Test MAE': 9.087271347086409,\n",
              "  'Test MSE': 131.6058862567178},\n",
              " 'XGBoost': {'Validation R²': 0.38518283037750256,\n",
              "  'Validation MAE': 8.445892044750428,\n",
              "  'Validation MSE': 117.5423320868714,\n",
              "  'Test R²': 0.38627753368242634,\n",
              "  'Test MAE': 8.43514352089679,\n",
              "  'Test MSE': 116.81428941383277},\n",
              " 'CatBoost': {'Validation R²': 0.3093933509363136,\n",
              "  'Validation MAE': 9.099730861721103,\n",
              "  'Validation MSE': 132.03196022565163,\n",
              "  'Test R²': 0.3085649923422942,\n",
              "  'Test MAE': 9.087271347086409,\n",
              "  'Test MSE': 131.6058862567178}}"
            ]
          },
          "metadata": {},
          "execution_count": 45
        }
      ]
    },
    {
      "cell_type": "markdown",
      "source": [
        "#CARVEME-GR-III-100"
      ],
      "metadata": {
        "id": "Z2f1GhtR-z_o"
      }
    },
    {
      "cell_type": "code",
      "source": [
        "X_train, X_val, X_test, y_train, y_val, y_test = load(train_list)\n",
        "\n",
        "models = {\n",
        "    \"LightGBM\": LGBMRegressor(random_state=42),\n",
        "    \"XGBoost\": XGBRegressor(use_label_encoder=False, random_state=42),\n",
        "    \"CatBoost\": LGBMRegressor(random_state=42),\n",
        "}\n",
        "\n",
        "train_val_and_test(models, X_train, y_train, X_val, y_val, X_test, y_test, seed=4221)"
      ],
      "metadata": {
        "colab": {
          "base_uri": "https://localhost:8080/"
        },
        "id": "XepZUszX_lSS",
        "outputId": "ed8ff4a4-d9e0-43b0-e6c5-51a9c2fe2892"
      },
      "execution_count": null,
      "outputs": [
        {
          "output_type": "stream",
          "name": "stderr",
          "text": [
            "\rTraining Models:   0%|          | 0/3 [00:00<?, ?model/s]/usr/local/lib/python3.11/dist-packages/sklearn/utils/deprecation.py:151: FutureWarning: 'force_all_finite' was renamed to 'ensure_all_finite' in 1.6 and will be removed in 1.8.\n",
            "  warnings.warn(\n",
            "/usr/local/lib/python3.11/dist-packages/sklearn/utils/validation.py:1408: DataConversionWarning: A column-vector y was passed when a 1d array was expected. Please change the shape of y to (n_samples, ), for example using ravel().\n",
            "  y = column_or_1d(y, warn=True)\n"
          ]
        },
        {
          "output_type": "stream",
          "name": "stdout",
          "text": [
            "\n",
            "Training and evaluating: LightGBM\n",
            "[LightGBM] [Info] Auto-choosing row-wise multi-threading, the overhead of testing was 0.420135 seconds.\n",
            "You can set `force_row_wise=true` to remove the overhead.\n",
            "And if memory is not enough, you can set `force_col_wise=true`.\n",
            "[LightGBM] [Info] Total Bins 984\n",
            "[LightGBM] [Info] Number of data points in the train set: 163461, number of used features: 492\n",
            "[LightGBM] [Info] Start training from score 44.225934\n",
            "Model saved at results/LightGBM/model.pkl\n"
          ]
        },
        {
          "output_type": "stream",
          "name": "stderr",
          "text": [
            "/usr/local/lib/python3.11/dist-packages/sklearn/utils/deprecation.py:151: FutureWarning: 'force_all_finite' was renamed to 'ensure_all_finite' in 1.6 and will be removed in 1.8.\n",
            "  warnings.warn(\n",
            "/usr/local/lib/python3.11/dist-packages/sklearn/utils/deprecation.py:151: FutureWarning: 'force_all_finite' was renamed to 'ensure_all_finite' in 1.6 and will be removed in 1.8.\n",
            "  warnings.warn(\n",
            "Training Models:  33%|███▎      | 1/3 [00:06<00:13,  6.60s/model]"
          ]
        },
        {
          "output_type": "stream",
          "name": "stdout",
          "text": [
            "Validation Report for LightGBM:\n",
            "R²: 0.4885, MAE: 9.7018, MSE: 151.1449\n",
            "\n",
            "Training and evaluating: XGBoost\n"
          ]
        },
        {
          "output_type": "stream",
          "name": "stderr",
          "text": [
            "/usr/local/lib/python3.11/dist-packages/xgboost/core.py:158: UserWarning: [16:00:33] WARNING: /workspace/src/learner.cc:740: \n",
            "Parameters: { \"use_label_encoder\" } are not used.\n",
            "\n",
            "  warnings.warn(smsg, UserWarning)\n"
          ]
        },
        {
          "output_type": "stream",
          "name": "stdout",
          "text": [
            "Model saved at results/XGBoost/model.pkl\n",
            "Validation Report for XGBoost:\n",
            "R²: 0.5317, MAE: 9.2628, MSE: 138.3743\n"
          ]
        },
        {
          "output_type": "stream",
          "name": "stderr",
          "text": [
            "\rTraining Models:  67%|██████▋   | 2/3 [00:12<00:06,  6.38s/model]/usr/local/lib/python3.11/dist-packages/sklearn/utils/deprecation.py:151: FutureWarning: 'force_all_finite' was renamed to 'ensure_all_finite' in 1.6 and will be removed in 1.8.\n",
            "  warnings.warn(\n",
            "/usr/local/lib/python3.11/dist-packages/sklearn/utils/validation.py:1408: DataConversionWarning: A column-vector y was passed when a 1d array was expected. Please change the shape of y to (n_samples, ), for example using ravel().\n",
            "  y = column_or_1d(y, warn=True)\n"
          ]
        },
        {
          "output_type": "stream",
          "name": "stdout",
          "text": [
            "\n",
            "Training and evaluating: CatBoost\n",
            "[LightGBM] [Info] Auto-choosing row-wise multi-threading, the overhead of testing was 0.415336 seconds.\n",
            "You can set `force_row_wise=true` to remove the overhead.\n",
            "And if memory is not enough, you can set `force_col_wise=true`.\n",
            "[LightGBM] [Info] Total Bins 984\n",
            "[LightGBM] [Info] Number of data points in the train set: 163461, number of used features: 492\n",
            "[LightGBM] [Info] Start training from score 44.225934\n",
            "Model saved at results/CatBoost/model.pkl\n"
          ]
        },
        {
          "output_type": "stream",
          "name": "stderr",
          "text": [
            "/usr/local/lib/python3.11/dist-packages/sklearn/utils/deprecation.py:151: FutureWarning: 'force_all_finite' was renamed to 'ensure_all_finite' in 1.6 and will be removed in 1.8.\n",
            "  warnings.warn(\n",
            "/usr/local/lib/python3.11/dist-packages/sklearn/utils/deprecation.py:151: FutureWarning: 'force_all_finite' was renamed to 'ensure_all_finite' in 1.6 and will be removed in 1.8.\n",
            "  warnings.warn(\n",
            "Training Models: 100%|██████████| 3/3 [00:19<00:00,  6.48s/model]"
          ]
        },
        {
          "output_type": "stream",
          "name": "stdout",
          "text": [
            "Validation Report for CatBoost:\n",
            "R²: 0.4885, MAE: 9.7018, MSE: 151.1449\n",
            "\n",
            "Summary of Validation and Test Metrics:\n",
            "LightGBM: Val R² = 0.4885, Val MAE = 9.7018, Val MSE = 151.1449, Test R² = 0.4911, Test MAE = 9.6871, Test MSE = 150.9243\n",
            "XGBoost: Val R² = 0.5317, Val MAE = 9.2628, Val MSE = 138.3743, Test R² = 0.5350, Test MAE = 9.2319, Test MSE = 137.8929\n",
            "CatBoost: Val R² = 0.4885, Val MAE = 9.7018, Val MSE = 151.1449, Test R² = 0.4911, Test MAE = 9.6871, Test MSE = 150.9243\n",
            "\n",
            "All model results saved to results/all_model_results.json\n"
          ]
        },
        {
          "output_type": "stream",
          "name": "stderr",
          "text": [
            "\n"
          ]
        },
        {
          "output_type": "execute_result",
          "data": {
            "text/plain": [
              "{'LightGBM': {'Validation R²': 0.48846829455062846,\n",
              "  'Validation MAE': 9.70181198804441,\n",
              "  'Validation MSE': 151.14493906919625,\n",
              "  'Test R²': 0.4910558157194159,\n",
              "  'Test MAE': 9.687108974695544,\n",
              "  'Test MSE': 150.92428909888088},\n",
              " 'XGBoost': {'Validation R²': 0.5316888105348908,\n",
              "  'Validation MAE': 9.26282677678163,\n",
              "  'Validation MSE': 138.3743479496452,\n",
              "  'Test R²': 0.5350000399670904,\n",
              "  'Test MAE': 9.231885698571798,\n",
              "  'Test MSE': 137.892897819782},\n",
              " 'CatBoost': {'Validation R²': 0.48846829455062846,\n",
              "  'Validation MAE': 9.70181198804441,\n",
              "  'Validation MSE': 151.14493906919625,\n",
              "  'Test R²': 0.4910558157194159,\n",
              "  'Test MAE': 9.687108974695544,\n",
              "  'Test MSE': 150.92428909888088}}"
            ]
          },
          "metadata": {},
          "execution_count": 49
        }
      ]
    },
    {
      "cell_type": "markdown",
      "source": [
        "#CARVEME-GR-I-50"
      ],
      "metadata": {
        "id": "FSM33I5JAaRN"
      }
    },
    {
      "cell_type": "code",
      "source": [
        "X_train, X_val, X_test, y_train, y_val, y_test = load(train_list)\n",
        "\n",
        "models = {\n",
        "    \"LightGBM\": LGBMRegressor(random_state=42),\n",
        "    \"XGBoost\": XGBRegressor(use_label_encoder=False, random_state=42),\n",
        "    \"CatBoost\": LGBMRegressor(random_state=42),\n",
        "}\n",
        "\n",
        "train_val_and_test(models, X_train, y_train, X_val, y_val, X_test, y_test, seed=4221)"
      ],
      "metadata": {
        "colab": {
          "base_uri": "https://localhost:8080/"
        },
        "id": "6XeLni89AdKe",
        "outputId": "cf8880cf-6bb8-4e95-cd1e-a9306e9e20b2"
      },
      "execution_count": null,
      "outputs": [
        {
          "output_type": "stream",
          "name": "stderr",
          "text": [
            "\rTraining Models:   0%|          | 0/3 [00:00<?, ?model/s]/usr/local/lib/python3.11/dist-packages/sklearn/utils/deprecation.py:151: FutureWarning: 'force_all_finite' was renamed to 'ensure_all_finite' in 1.6 and will be removed in 1.8.\n",
            "  warnings.warn(\n",
            "/usr/local/lib/python3.11/dist-packages/sklearn/utils/validation.py:1408: DataConversionWarning: A column-vector y was passed when a 1d array was expected. Please change the shape of y to (n_samples, ), for example using ravel().\n",
            "  y = column_or_1d(y, warn=True)\n"
          ]
        },
        {
          "output_type": "stream",
          "name": "stdout",
          "text": [
            "\n",
            "Training and evaluating: LightGBM\n",
            "[LightGBM] [Info] Auto-choosing row-wise multi-threading, the overhead of testing was 0.125511 seconds.\n",
            "You can set `force_row_wise=true` to remove the overhead.\n",
            "And if memory is not enough, you can set `force_col_wise=true`.\n",
            "[LightGBM] [Info] Total Bins 968\n",
            "[LightGBM] [Info] Number of data points in the train set: 56325, number of used features: 484\n",
            "[LightGBM] [Info] Start training from score 36.686596\n",
            "Model saved at results/LightGBM/model.pkl\n"
          ]
        },
        {
          "output_type": "stream",
          "name": "stderr",
          "text": [
            "/usr/local/lib/python3.11/dist-packages/sklearn/utils/deprecation.py:151: FutureWarning: 'force_all_finite' was renamed to 'ensure_all_finite' in 1.6 and will be removed in 1.8.\n",
            "  warnings.warn(\n",
            "/usr/local/lib/python3.11/dist-packages/sklearn/utils/deprecation.py:151: FutureWarning: 'force_all_finite' was renamed to 'ensure_all_finite' in 1.6 and will be removed in 1.8.\n",
            "  warnings.warn(\n",
            "Training Models:  33%|███▎      | 1/3 [00:01<00:03,  1.81s/model]"
          ]
        },
        {
          "output_type": "stream",
          "name": "stdout",
          "text": [
            "Validation Report for LightGBM:\n",
            "R²: 0.2809, MAE: 9.2152, MSE: 134.4994\n",
            "\n",
            "Training and evaluating: XGBoost\n"
          ]
        },
        {
          "output_type": "stream",
          "name": "stderr",
          "text": [
            "/usr/local/lib/python3.11/dist-packages/xgboost/core.py:158: UserWarning: [16:03:35] WARNING: /workspace/src/learner.cc:740: \n",
            "Parameters: { \"use_label_encoder\" } are not used.\n",
            "\n",
            "  warnings.warn(smsg, UserWarning)\n",
            "Training Models:  67%|██████▋   | 2/3 [00:06<00:03,  3.56s/model]"
          ]
        },
        {
          "output_type": "stream",
          "name": "stdout",
          "text": [
            "Model saved at results/XGBoost/model.pkl\n",
            "Validation Report for XGBoost:\n",
            "R²: 0.2810, MAE: 9.1593, MSE: 134.4828\n",
            "\n",
            "Training and evaluating: CatBoost\n"
          ]
        },
        {
          "output_type": "stream",
          "name": "stderr",
          "text": [
            "/usr/local/lib/python3.11/dist-packages/sklearn/utils/deprecation.py:151: FutureWarning: 'force_all_finite' was renamed to 'ensure_all_finite' in 1.6 and will be removed in 1.8.\n",
            "  warnings.warn(\n",
            "/usr/local/lib/python3.11/dist-packages/sklearn/utils/validation.py:1408: DataConversionWarning: A column-vector y was passed when a 1d array was expected. Please change the shape of y to (n_samples, ), for example using ravel().\n",
            "  y = column_or_1d(y, warn=True)\n"
          ]
        },
        {
          "output_type": "stream",
          "name": "stdout",
          "text": [
            "[LightGBM] [Info] Auto-choosing row-wise multi-threading, the overhead of testing was 0.096043 seconds.\n",
            "You can set `force_row_wise=true` to remove the overhead.\n",
            "And if memory is not enough, you can set `force_col_wise=true`.\n",
            "[LightGBM] [Info] Total Bins 968\n",
            "[LightGBM] [Info] Number of data points in the train set: 56325, number of used features: 484\n",
            "[LightGBM] [Info] Start training from score 36.686596\n"
          ]
        },
        {
          "output_type": "stream",
          "name": "stderr",
          "text": [
            "/usr/local/lib/python3.11/dist-packages/sklearn/utils/deprecation.py:151: FutureWarning: 'force_all_finite' was renamed to 'ensure_all_finite' in 1.6 and will be removed in 1.8.\n",
            "  warnings.warn(\n",
            "/usr/local/lib/python3.11/dist-packages/sklearn/utils/deprecation.py:151: FutureWarning: 'force_all_finite' was renamed to 'ensure_all_finite' in 1.6 and will be removed in 1.8.\n",
            "  warnings.warn(\n",
            "Training Models: 100%|██████████| 3/3 [00:08<00:00,  2.73s/model]"
          ]
        },
        {
          "output_type": "stream",
          "name": "stdout",
          "text": [
            "Model saved at results/CatBoost/model.pkl\n",
            "Validation Report for CatBoost:\n",
            "R²: 0.2809, MAE: 9.2152, MSE: 134.4994\n",
            "\n",
            "Summary of Validation and Test Metrics:\n",
            "LightGBM: Val R² = 0.2809, Val MAE = 9.2152, Val MSE = 134.4994, Test R² = 0.2712, Test MAE = 9.2152, Test MSE = 134.6943\n",
            "XGBoost: Val R² = 0.2810, Val MAE = 9.1593, Val MSE = 134.4828, Test R² = 0.2674, Test MAE = 9.1736, Test MSE = 135.3948\n",
            "CatBoost: Val R² = 0.2809, Val MAE = 9.2152, Val MSE = 134.4994, Test R² = 0.2712, Test MAE = 9.2152, Test MSE = 134.6943\n",
            "\n",
            "All model results saved to results/all_model_results.json\n"
          ]
        },
        {
          "output_type": "stream",
          "name": "stderr",
          "text": [
            "\n"
          ]
        },
        {
          "output_type": "execute_result",
          "data": {
            "text/plain": [
              "{'LightGBM': {'Validation R²': 0.2809237383712012,\n",
              "  'Validation MAE': 9.215203857901106,\n",
              "  'Validation MSE': 134.49936314084414,\n",
              "  'Test R²': 0.2712338785983074,\n",
              "  'Test MAE': 9.215225566109597,\n",
              "  'Test MSE': 134.69432616081144},\n",
              " 'XGBoost': {'Validation R²': 0.28101230182158143,\n",
              "  'Validation MAE': 9.159346563916252,\n",
              "  'Validation MSE': 134.48279782182402,\n",
              "  'Test R²': 0.26744390022257325,\n",
              "  'Test MAE': 9.173603511708592,\n",
              "  'Test MSE': 135.39480957859394},\n",
              " 'CatBoost': {'Validation R²': 0.2809237383712012,\n",
              "  'Validation MAE': 9.215203857901106,\n",
              "  'Validation MSE': 134.49936314084414,\n",
              "  'Test R²': 0.2712338785983074,\n",
              "  'Test MAE': 9.215225566109597,\n",
              "  'Test MSE': 134.69432616081144}}"
            ]
          },
          "metadata": {},
          "execution_count": 54
        }
      ]
    },
    {
      "cell_type": "markdown",
      "source": [
        "#CARVEME-GR-II-50"
      ],
      "metadata": {
        "id": "mJ26ma4pAfa9"
      }
    },
    {
      "cell_type": "code",
      "source": [
        "X_train, X_val, X_test, y_train, y_val, y_test = load(train_list)\n",
        "\n",
        "models = {\n",
        "    \"LightGBM\": LGBMRegressor(random_state=42),\n",
        "    \"XGBoost\": XGBRegressor(use_label_encoder=False, random_state=42),\n",
        "    \"CatBoost\": LGBMRegressor(random_state=42),\n",
        "}\n",
        "\n",
        "train_val_and_test(models, X_train, y_train, X_val, y_val, X_test, y_test, seed=4221)"
      ],
      "metadata": {
        "colab": {
          "base_uri": "https://localhost:8080/"
        },
        "id": "c1zyJlXcAjrY",
        "outputId": "d0ad7f5c-5760-4cfa-9608-ff85a29f7131"
      },
      "execution_count": null,
      "outputs": [
        {
          "output_type": "stream",
          "name": "stderr",
          "text": [
            "\rTraining Models:   0%|          | 0/3 [00:00<?, ?model/s]/usr/local/lib/python3.11/dist-packages/sklearn/utils/deprecation.py:151: FutureWarning: 'force_all_finite' was renamed to 'ensure_all_finite' in 1.6 and will be removed in 1.8.\n",
            "  warnings.warn(\n",
            "/usr/local/lib/python3.11/dist-packages/sklearn/utils/validation.py:1408: DataConversionWarning: A column-vector y was passed when a 1d array was expected. Please change the shape of y to (n_samples, ), for example using ravel().\n",
            "  y = column_or_1d(y, warn=True)\n"
          ]
        },
        {
          "output_type": "stream",
          "name": "stdout",
          "text": [
            "\n",
            "Training and evaluating: LightGBM\n",
            "[LightGBM] [Info] Auto-choosing row-wise multi-threading, the overhead of testing was 0.091164 seconds.\n",
            "You can set `force_row_wise=true` to remove the overhead.\n",
            "And if memory is not enough, you can set `force_col_wise=true`.\n",
            "[LightGBM] [Info] Total Bins 968\n",
            "[LightGBM] [Info] Number of data points in the train set: 56325, number of used features: 484\n",
            "[LightGBM] [Info] Start training from score 36.685596\n",
            "Model saved at results/LightGBM/model.pkl\n"
          ]
        },
        {
          "output_type": "stream",
          "name": "stderr",
          "text": [
            "/usr/local/lib/python3.11/dist-packages/sklearn/utils/deprecation.py:151: FutureWarning: 'force_all_finite' was renamed to 'ensure_all_finite' in 1.6 and will be removed in 1.8.\n",
            "  warnings.warn(\n",
            "/usr/local/lib/python3.11/dist-packages/sklearn/utils/deprecation.py:151: FutureWarning: 'force_all_finite' was renamed to 'ensure_all_finite' in 1.6 and will be removed in 1.8.\n",
            "  warnings.warn(\n",
            "Training Models:  33%|███▎      | 1/3 [00:01<00:02,  1.49s/model]"
          ]
        },
        {
          "output_type": "stream",
          "name": "stdout",
          "text": [
            "Validation Report for LightGBM:\n",
            "R²: 0.2809, MAE: 9.2152, MSE: 134.4994\n",
            "\n",
            "Training and evaluating: XGBoost\n"
          ]
        },
        {
          "output_type": "stream",
          "name": "stderr",
          "text": [
            "/usr/local/lib/python3.11/dist-packages/xgboost/core.py:158: UserWarning: [16:04:52] WARNING: /workspace/src/learner.cc:740: \n",
            "Parameters: { \"use_label_encoder\" } are not used.\n",
            "\n",
            "  warnings.warn(smsg, UserWarning)\n",
            "Training Models:  67%|██████▋   | 2/3 [00:03<00:01,  1.80s/model]"
          ]
        },
        {
          "output_type": "stream",
          "name": "stdout",
          "text": [
            "Model saved at results/XGBoost/model.pkl\n",
            "Validation Report for XGBoost:\n",
            "R²: 0.2810, MAE: 9.1593, MSE: 134.4828\n",
            "\n",
            "Training and evaluating: CatBoost\n"
          ]
        },
        {
          "output_type": "stream",
          "name": "stderr",
          "text": [
            "/usr/local/lib/python3.11/dist-packages/sklearn/utils/deprecation.py:151: FutureWarning: 'force_all_finite' was renamed to 'ensure_all_finite' in 1.6 and will be removed in 1.8.\n",
            "  warnings.warn(\n",
            "/usr/local/lib/python3.11/dist-packages/sklearn/utils/validation.py:1408: DataConversionWarning: A column-vector y was passed when a 1d array was expected. Please change the shape of y to (n_samples, ), for example using ravel().\n",
            "  y = column_or_1d(y, warn=True)\n"
          ]
        },
        {
          "output_type": "stream",
          "name": "stdout",
          "text": [
            "[LightGBM] [Info] Auto-choosing row-wise multi-threading, the overhead of testing was 0.134069 seconds.\n",
            "You can set `force_row_wise=true` to remove the overhead.\n",
            "And if memory is not enough, you can set `force_col_wise=true`.\n",
            "[LightGBM] [Info] Total Bins 968\n",
            "[LightGBM] [Info] Number of data points in the train set: 56325, number of used features: 484\n",
            "[LightGBM] [Info] Start training from score 36.685596\n",
            "Model saved at results/CatBoost/model.pkl\n"
          ]
        },
        {
          "output_type": "stream",
          "name": "stderr",
          "text": [
            "/usr/local/lib/python3.11/dist-packages/sklearn/utils/deprecation.py:151: FutureWarning: 'force_all_finite' was renamed to 'ensure_all_finite' in 1.6 and will be removed in 1.8.\n",
            "  warnings.warn(\n",
            "/usr/local/lib/python3.11/dist-packages/sklearn/utils/deprecation.py:151: FutureWarning: 'force_all_finite' was renamed to 'ensure_all_finite' in 1.6 and will be removed in 1.8.\n",
            "  warnings.warn(\n",
            "Training Models: 100%|██████████| 3/3 [00:05<00:00,  1.81s/model]"
          ]
        },
        {
          "output_type": "stream",
          "name": "stdout",
          "text": [
            "Validation Report for CatBoost:\n",
            "R²: 0.2809, MAE: 9.2152, MSE: 134.4994\n",
            "\n",
            "Summary of Validation and Test Metrics:\n",
            "LightGBM: Val R² = 0.2809, Val MAE = 9.2152, Val MSE = 134.4994, Test R² = 0.2712, Test MAE = 9.2152, Test MSE = 134.6943\n",
            "XGBoost: Val R² = 0.2810, Val MAE = 9.1593, Val MSE = 134.4828, Test R² = 0.2674, Test MAE = 9.1736, Test MSE = 135.3948\n",
            "CatBoost: Val R² = 0.2809, Val MAE = 9.2152, Val MSE = 134.4994, Test R² = 0.2712, Test MAE = 9.2152, Test MSE = 134.6943\n",
            "\n",
            "All model results saved to results/all_model_results.json\n"
          ]
        },
        {
          "output_type": "stream",
          "name": "stderr",
          "text": [
            "\n"
          ]
        },
        {
          "output_type": "execute_result",
          "data": {
            "text/plain": [
              "{'LightGBM': {'Validation R²': 0.2809237384127711,\n",
              "  'Validation MAE': 9.215203857746685,\n",
              "  'Validation MSE': 134.49936313306875,\n",
              "  'Test R²': 0.2712338786667591,\n",
              "  'Test MAE': 9.215225565790709,\n",
              "  'Test MSE': 134.69432614815986},\n",
              " 'XGBoost': {'Validation R²': 0.28101229645489256,\n",
              "  'Validation MAE': 9.159346585179406,\n",
              "  'Validation MSE': 134.48279882563443,\n",
              "  'Test R²': 0.26744389657860834,\n",
              "  'Test MAE': 9.173603546325522,\n",
              "  'Test MSE': 135.3948102520904},\n",
              " 'CatBoost': {'Validation R²': 0.2809237384127711,\n",
              "  'Validation MAE': 9.215203857746685,\n",
              "  'Validation MSE': 134.49936313306875,\n",
              "  'Test R²': 0.2712338786667591,\n",
              "  'Test MAE': 9.215225565790709,\n",
              "  'Test MSE': 134.69432614815986}}"
            ]
          },
          "metadata": {},
          "execution_count": 58
        }
      ]
    },
    {
      "cell_type": "markdown",
      "source": [
        "\n",
        "#CARVEME-GR-III-50"
      ],
      "metadata": {
        "id": "nuV6JVC1Aq0p"
      }
    },
    {
      "cell_type": "code",
      "source": [
        "X_train, X_val, X_test, y_train, y_val, y_test = load(train_list)\n",
        "\n",
        "models = {\n",
        "    \"LightGBM\": LGBMRegressor(random_state=42),\n",
        "    \"XGBoost\": XGBRegressor(use_label_encoder=False, random_state=42),\n",
        "    \"CatBoost\": LGBMRegressor(random_state=42),\n",
        "}\n",
        "\n",
        "train_val_and_test(models, X_train, y_train, X_val, y_val, X_test, y_test, seed=4221)"
      ],
      "metadata": {
        "colab": {
          "base_uri": "https://localhost:8080/"
        },
        "id": "qRX_GyW6Ave4",
        "outputId": "a30561e8-d0a8-4b52-85bf-ed4b52f25ea8"
      },
      "execution_count": null,
      "outputs": [
        {
          "output_type": "stream",
          "name": "stderr",
          "text": [
            "\rTraining Models:   0%|          | 0/3 [00:00<?, ?model/s]/usr/local/lib/python3.11/dist-packages/sklearn/utils/deprecation.py:151: FutureWarning: 'force_all_finite' was renamed to 'ensure_all_finite' in 1.6 and will be removed in 1.8.\n",
            "  warnings.warn(\n",
            "/usr/local/lib/python3.11/dist-packages/sklearn/utils/validation.py:1408: DataConversionWarning: A column-vector y was passed when a 1d array was expected. Please change the shape of y to (n_samples, ), for example using ravel().\n",
            "  y = column_or_1d(y, warn=True)\n"
          ]
        },
        {
          "output_type": "stream",
          "name": "stdout",
          "text": [
            "\n",
            "Training and evaluating: LightGBM\n",
            "[LightGBM] [Info] Auto-choosing row-wise multi-threading, the overhead of testing was 0.400467 seconds.\n",
            "You can set `force_row_wise=true` to remove the overhead.\n",
            "And if memory is not enough, you can set `force_col_wise=true`.\n",
            "[LightGBM] [Info] Total Bins 982\n",
            "[LightGBM] [Info] Number of data points in the train set: 235662, number of used features: 491\n",
            "[LightGBM] [Info] Start training from score 36.427294\n",
            "Model saved at results/LightGBM/model.pkl\n"
          ]
        },
        {
          "output_type": "stream",
          "name": "stderr",
          "text": [
            "/usr/local/lib/python3.11/dist-packages/sklearn/utils/deprecation.py:151: FutureWarning: 'force_all_finite' was renamed to 'ensure_all_finite' in 1.6 and will be removed in 1.8.\n",
            "  warnings.warn(\n",
            "/usr/local/lib/python3.11/dist-packages/sklearn/utils/deprecation.py:151: FutureWarning: 'force_all_finite' was renamed to 'ensure_all_finite' in 1.6 and will be removed in 1.8.\n",
            "  warnings.warn(\n",
            "Training Models:  33%|███▎      | 1/3 [00:06<00:12,  6.42s/model]"
          ]
        },
        {
          "output_type": "stream",
          "name": "stdout",
          "text": [
            "Validation Report for LightGBM:\n",
            "R²: 0.4444, MAE: 9.6070, MSE: 149.0280\n",
            "\n",
            "Training and evaluating: XGBoost\n"
          ]
        },
        {
          "output_type": "stream",
          "name": "stderr",
          "text": [
            "/usr/local/lib/python3.11/dist-packages/xgboost/core.py:158: UserWarning: [16:06:18] WARNING: /workspace/src/learner.cc:740: \n",
            "Parameters: { \"use_label_encoder\" } are not used.\n",
            "\n",
            "  warnings.warn(smsg, UserWarning)\n"
          ]
        },
        {
          "output_type": "stream",
          "name": "stdout",
          "text": [
            "Model saved at results/XGBoost/model.pkl\n"
          ]
        },
        {
          "output_type": "stream",
          "name": "stderr",
          "text": [
            "\rTraining Models:  67%|██████▋   | 2/3 [00:16<00:08,  8.34s/model]"
          ]
        },
        {
          "output_type": "stream",
          "name": "stdout",
          "text": [
            "Validation Report for XGBoost:\n",
            "R²: 0.4570, MAE: 9.5213, MSE: 145.6456\n",
            "\n",
            "Training and evaluating: CatBoost\n"
          ]
        },
        {
          "output_type": "stream",
          "name": "stderr",
          "text": [
            "/usr/local/lib/python3.11/dist-packages/sklearn/utils/deprecation.py:151: FutureWarning: 'force_all_finite' was renamed to 'ensure_all_finite' in 1.6 and will be removed in 1.8.\n",
            "  warnings.warn(\n",
            "/usr/local/lib/python3.11/dist-packages/sklearn/utils/validation.py:1408: DataConversionWarning: A column-vector y was passed when a 1d array was expected. Please change the shape of y to (n_samples, ), for example using ravel().\n",
            "  y = column_or_1d(y, warn=True)\n"
          ]
        },
        {
          "output_type": "stream",
          "name": "stdout",
          "text": [
            "[LightGBM] [Info] Auto-choosing row-wise multi-threading, the overhead of testing was 0.383140 seconds.\n",
            "You can set `force_row_wise=true` to remove the overhead.\n",
            "And if memory is not enough, you can set `force_col_wise=true`.\n",
            "[LightGBM] [Info] Total Bins 982\n",
            "[LightGBM] [Info] Number of data points in the train set: 235662, number of used features: 491\n",
            "[LightGBM] [Info] Start training from score 36.427294\n",
            "Model saved at results/CatBoost/model.pkl\n"
          ]
        },
        {
          "output_type": "stream",
          "name": "stderr",
          "text": [
            "/usr/local/lib/python3.11/dist-packages/sklearn/utils/deprecation.py:151: FutureWarning: 'force_all_finite' was renamed to 'ensure_all_finite' in 1.6 and will be removed in 1.8.\n",
            "  warnings.warn(\n",
            "/usr/local/lib/python3.11/dist-packages/sklearn/utils/deprecation.py:151: FutureWarning: 'force_all_finite' was renamed to 'ensure_all_finite' in 1.6 and will be removed in 1.8.\n",
            "  warnings.warn(\n",
            "Training Models: 100%|██████████| 3/3 [00:21<00:00,  7.33s/model]"
          ]
        },
        {
          "output_type": "stream",
          "name": "stdout",
          "text": [
            "Validation Report for CatBoost:\n",
            "R²: 0.4444, MAE: 9.6070, MSE: 149.0280\n",
            "\n",
            "Summary of Validation and Test Metrics:\n",
            "LightGBM: Val R² = 0.4444, Val MAE = 9.6070, Val MSE = 149.0280, Test R² = 0.4405, Test MAE = 9.6390, Test MSE = 150.2734\n",
            "XGBoost: Val R² = 0.4570, Val MAE = 9.5213, Val MSE = 145.6456, Test R² = 0.4563, Test MAE = 9.5388, Test MSE = 146.0393\n",
            "CatBoost: Val R² = 0.4444, Val MAE = 9.6070, Val MSE = 149.0280, Test R² = 0.4405, Test MAE = 9.6390, Test MSE = 150.2734\n",
            "\n",
            "All model results saved to results/all_model_results.json\n"
          ]
        },
        {
          "output_type": "stream",
          "name": "stderr",
          "text": [
            "\n"
          ]
        },
        {
          "output_type": "execute_result",
          "data": {
            "text/plain": [
              "{'LightGBM': {'Validation R²': 0.4443902775440487,\n",
              "  'Validation MAE': 9.607017525801249,\n",
              "  'Validation MSE': 149.02798695673155,\n",
              "  'Test R²': 0.44053593834293425,\n",
              "  'Test MAE': 9.638958504744306,\n",
              "  'Test MSE': 150.27340886653337},\n",
              " 'XGBoost': {'Validation R²': 0.45700052576751404,\n",
              "  'Validation MAE': 9.521263664851475,\n",
              "  'Validation MSE': 145.64561290564262,\n",
              "  'Test R²': 0.45629945714956355,\n",
              "  'Test MAE': 9.538802471621551,\n",
              "  'Test MSE': 146.0392893418803},\n",
              " 'CatBoost': {'Validation R²': 0.4443902775440487,\n",
              "  'Validation MAE': 9.607017525801249,\n",
              "  'Validation MSE': 149.02798695673155,\n",
              "  'Test R²': 0.44053593834293425,\n",
              "  'Test MAE': 9.638958504744306,\n",
              "  'Test MSE': 150.27340886653337}}"
            ]
          },
          "metadata": {},
          "execution_count": 62
        }
      ]
    }
  ]
}