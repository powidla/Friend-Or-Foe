{
  "nbformat": 4,
  "nbformat_minor": 0,
  "metadata": {
    "colab": {
      "provenance": [],
      "collapsed_sections": [
        "em3x_zS9iyvl",
        "llN14tGUjBWH",
        "x4rkGC2vjD4v",
        "fFXqsl7_do_k",
        "iHjBBnc8dw3s",
        "HI-yjsE2dxFP",
        "WaVmN315d1CY",
        "9MoeAxoLd1OV",
        "bR36OEX7d8LQ",
        "lvO0-Bw_d97v",
        "i5Iz9IOud-FA"
      ],
      "machine_shape": "hm",
      "gpuType": "T4"
    },
    "kernelspec": {
      "name": "python3",
      "display_name": "Python 3"
    },
    "language_info": {
      "name": "python"
    },
    "accelerator": "GPU"
  },
  "cells": [
    {
      "cell_type": "code",
      "execution_count": null,
      "metadata": {
        "id": "bxs_mz_hcMz7"
      },
      "outputs": [],
      "source": [
        "%%capture\n",
        "!pip install pytorch-tabnet"
      ]
    },
    {
      "cell_type": "code",
      "source": [
        "import numpy as np\n",
        "import pandas as pd\n",
        "import os\n",
        "import shutil\n",
        "import joblib\n",
        "import pickle\n",
        "import json\n",
        "\n",
        "import torch\n",
        "from pytorch_tabnet.tab_model import TabNetRegressor\n",
        "from pytorch_tabnet.callbacks import EarlyStopping\n",
        "from sklearn.metrics import mean_squared_error, mean_absolute_error, r2_score\n",
        "import json\n",
        "import os\n"
      ],
      "metadata": {
        "id": "bOQ5z2ahc2jD"
      },
      "execution_count": null,
      "outputs": []
    },
    {
      "cell_type": "code",
      "source": [
        "device = 'cuda' if torch.cuda.is_available() else 'cpu'\n",
        "print(f\"Using device: {device}\")"
      ],
      "metadata": {
        "colab": {
          "base_uri": "https://localhost:8080/"
        },
        "id": "h_GSjO6MhyDB",
        "outputId": "2e94f415-f1b9-49b3-d99d-ea3f41389c0c"
      },
      "execution_count": null,
      "outputs": [
        {
          "output_type": "stream",
          "name": "stdout",
          "text": [
            "Using device: cuda\n"
          ]
        }
      ]
    },
    {
      "cell_type": "code",
      "source": [
        "X_train_csv = pd.read_csv(\"/content/drive/MyDrive/GR-II/CARVEME/50/X_train_GR-II.csv\")\n",
        "X_val_csv = pd.read_csv(\"/content/drive/MyDrive/GR-II/CARVEME/50/X_val_GR-II.csv\")\n",
        "X_test_csv = pd.read_csv(\"/content/drive/MyDrive/GR-II/CARVEME/50/X_test_GR-II.csv\")\n",
        "y_train_csv = pd.read_csv(\"/content/drive/MyDrive/GR-II/CARVEME/50/y_train_GR-II.csv\")\n",
        "y_val_csv = pd.read_csv(\"/content/drive/MyDrive/GR-II/CARVEME/50/y_val_GR-II.csv\")\n",
        "y_test_csv = pd.read_csv(\"/content/drive/MyDrive/GR-II/CARVEME/50/y_test_GR-II.csv\")"
      ],
      "metadata": {
        "id": "laqpFYXnc_oD"
      },
      "execution_count": null,
      "outputs": []
    },
    {
      "cell_type": "code",
      "source": [
        "def to_npy(X_train_csv, X_val_csv, X_test_csv, y_train_csv, y_val_csv, y_test_csv):\n",
        "    X_train = X_train_csv.to_numpy()\n",
        "    X_val = X_val_csv.to_numpy()\n",
        "    X_test = X_test_csv.to_numpy()\n",
        "    y_train = y_train_csv.to_numpy()\n",
        "    y_val = y_val_csv.to_numpy()\n",
        "    y_test = y_test_csv.to_numpy()\n",
        "\n",
        "    #\n",
        "    np.save(\"X_train.npy\", X_train)\n",
        "    np.save(\"X_val.npy\", X_val)\n",
        "    np.save(\"X_test.npy\", X_test)\n",
        "    np.save(\"y_train.npy\", y_train)\n",
        "    np.save(\"y_val.npy\", y_val)\n",
        "    np.save(\"y_test.npy\", y_test)\n",
        "\n",
        "    print(\"CSV onverted to .npy format.\")"
      ],
      "metadata": {
        "id": "djAfIX7NdeEW"
      },
      "execution_count": null,
      "outputs": []
    },
    {
      "cell_type": "code",
      "source": [
        "to_npy(X_train_csv, X_val_csv, X_test_csv, y_train_csv, y_val_csv, y_test_csv)"
      ],
      "metadata": {
        "colab": {
          "base_uri": "https://localhost:8080/"
        },
        "id": "-nN4LkpmdfrQ",
        "outputId": "4c858827-3b17-468e-f85a-1049db682932"
      },
      "execution_count": null,
      "outputs": [
        {
          "output_type": "stream",
          "name": "stdout",
          "text": [
            "CSV onverted to .npy format.\n"
          ]
        }
      ]
    },
    {
      "cell_type": "code",
      "source": [
        "X_train, y_train, X_val, y_val, X_test, y_test = np.load(\"X_train.npy\"), np.load(\"y_train.npy\"), np.load(\"X_val.npy\"), np.load(\"y_val.npy\"), np.load(\"X_test.npy\"), np.load(\"y_test.npy\")"
      ],
      "metadata": {
        "id": "MD2RfO6CdhvV"
      },
      "execution_count": null,
      "outputs": []
    },
    {
      "cell_type": "code",
      "source": [
        "def train_and_evaluate_tabnet(X_train, y_train, X_val, y_val, X_test, y_test,\n",
        "                          output_dir=\"tabnet_regression_results\",\n",
        "                          max_epochs=20, patience=20, seed=42):\n",
        "    \"\"\"\n",
        "    Complete TabNet regression pipeline with GPU support and evaluation\n",
        "\n",
        "    Args:\n",
        "        X_train, y_train: Training data (numpy arrays)\n",
        "        X_val, y_val: Validation data\n",
        "        X_test, y_test: Test data\n",
        "        output_dir: Directory to save results\n",
        "        max_epochs: Maximum training epochs\n",
        "        patience: Early stopping patience\n",
        "        seed: seed\n",
        "    Returns:\n",
        "        Dictionary with test metrics and trained model\n",
        "    \"\"\"\n",
        "\n",
        "    os.makedirs(output_dir, exist_ok=True)\n",
        "\n",
        "    # Set\n",
        "    device = 'cuda' if torch.cuda.is_available() else 'cpu'\n",
        "    print(f\"Using device: {device}\")\n",
        "\n",
        "    # Init\n",
        "    regressor = TabNetRegressor(\n",
        "        cat_idxs=[],\n",
        "        cat_dims=[],\n",
        "        cat_emb_dim=1,\n",
        "        optimizer_fn=torch.optim.Adam,\n",
        "        optimizer_params=dict(lr=2e-2, weight_decay=1e-5),\n",
        "        scheduler_params={\"step_size\":50, \"gamma\":0.9},\n",
        "        scheduler_fn=torch.optim.lr_scheduler.StepLR,\n",
        "        mask_type='entmax',\n",
        "        n_d=64,\n",
        "        n_a=64,\n",
        "        n_steps=5,\n",
        "        gamma=1.3,\n",
        "        n_independent=2,\n",
        "        n_shared=2,\n",
        "        lambda_sparse=1e-4,\n",
        "        seed=seed,\n",
        "        device_name=device,\n",
        "        verbose=1\n",
        "    )\n",
        "\n",
        "    regressor.fit(\n",
        "        X_train=X_train, y_train=y_train,\n",
        "        eval_set=[(X_val, y_val)],\n",
        "        eval_name=['val'],\n",
        "        eval_metric=['rmse'],  # RMSE\n",
        "        max_epochs=max_epochs,\n",
        "        patience=patience,\n",
        "        batch_size=1024,\n",
        "        virtual_batch_size=128,\n",
        "        num_workers=0,\n",
        "        drop_last=False\n",
        "    )\n",
        "\n",
        "    # Make predictions\n",
        "    y_train_pred = regressor.predict(X_train)\n",
        "    y_val_pred = regressor.predict(X_val)\n",
        "    y_test_pred = regressor.predict(X_test)\n",
        "\n",
        "    # Calculate metrics\n",
        "    def calculate_metrics(y_true, y_pred):\n",
        "        return {\n",
        "            \"RMSE\": np.sqrt(mean_squared_error(y_true, y_pred)),\n",
        "            \"MAE\": mean_absolute_error(y_true, y_pred),\n",
        "            \"R2\": r2_score(y_true, y_pred),\n",
        "            \"MSE\": mean_squared_error(y_true, y_pred)\n",
        "        }\n",
        "\n",
        "    metrics = {\n",
        "        \"train\": calculate_metrics(y_train, y_train_pred),\n",
        "        \"val\": calculate_metrics(y_val, y_val_pred),\n",
        "        \"test\": calculate_metrics(y_test, y_test_pred)\n",
        "    }\n",
        "\n",
        "    # Save results\n",
        "    with open(os.path.join(output_dir, \"metrics.json\"), 'w') as f:\n",
        "        json.dump(metrics, f, indent=4)\n",
        "\n",
        "    # Save model\n",
        "    model_path = os.path.join(output_dir, \"tabnet_regressor.zip\")\n",
        "    regressor.save_model(model_path)\n",
        "    print(f\"Model saved to {model_path}\")\n",
        "\n",
        "    # Print summary\n",
        "    print(\"\\nTest Set Performance:\")\n",
        "    for metric, value in metrics['test'].items():\n",
        "        print(f\"{metric}: {value:.4f}\")\n",
        "\n",
        "    return {\"model\": regressor, \"metrics\": metrics}"
      ],
      "metadata": {
        "id": "Cpy1-dhydk-D"
      },
      "execution_count": null,
      "outputs": []
    },
    {
      "cell_type": "markdown",
      "source": [
        "#AGORA-GR-I-100"
      ],
      "metadata": {
        "id": "em3x_zS9iyvl"
      }
    },
    {
      "cell_type": "code",
      "source": [
        "train_and_evaluate_tabnet(X_train, y_train, X_val, y_val, X_test, y_test)"
      ],
      "metadata": {
        "colab": {
          "base_uri": "https://localhost:8080/"
        },
        "id": "B4rc6fdggA58",
        "outputId": "7c573289-6ee9-45a5-d68d-31d628a9021b"
      },
      "execution_count": null,
      "outputs": [
        {
          "output_type": "stream",
          "name": "stdout",
          "text": [
            "Using device: cuda\n"
          ]
        },
        {
          "output_type": "stream",
          "name": "stderr",
          "text": [
            "/usr/local/lib/python3.11/dist-packages/pytorch_tabnet/abstract_model.py:82: UserWarning: Device used : cuda\n",
            "  warnings.warn(f\"Device used : {self.device}\")\n"
          ]
        },
        {
          "output_type": "stream",
          "name": "stdout",
          "text": [
            "epoch 0  | loss: 1970.42552| val_rmse: 26.66686|  0:00:06s\n",
            "epoch 1  | loss: 571.60392| val_rmse: 22.39707|  0:00:11s\n",
            "epoch 2  | loss: 466.91346| val_rmse: 22.20339|  0:00:15s\n",
            "epoch 3  | loss: 396.49823| val_rmse: 19.46165|  0:00:20s\n",
            "epoch 4  | loss: 351.93216| val_rmse: 18.7779 |  0:00:25s\n",
            "epoch 5  | loss: 322.24825| val_rmse: 17.76201|  0:00:30s\n",
            "epoch 6  | loss: 290.29037| val_rmse: 17.08634|  0:00:35s\n",
            "epoch 7  | loss: 263.5121| val_rmse: 16.89906|  0:00:40s\n",
            "epoch 8  | loss: 240.54349| val_rmse: 16.80437|  0:00:45s\n",
            "epoch 9  | loss: 221.86834| val_rmse: 16.84593|  0:00:49s\n",
            "epoch 10 | loss: 203.49396| val_rmse: 16.94339|  0:00:54s\n",
            "epoch 11 | loss: 193.36666| val_rmse: 16.85305|  0:00:59s\n",
            "epoch 12 | loss: 180.22711| val_rmse: 16.72937|  0:01:04s\n",
            "epoch 13 | loss: 162.77947| val_rmse: 16.98213|  0:01:09s\n",
            "epoch 14 | loss: 152.94528| val_rmse: 16.87823|  0:01:13s\n",
            "epoch 15 | loss: 141.40531| val_rmse: 17.4604 |  0:01:18s\n",
            "epoch 16 | loss: 135.12298| val_rmse: 17.20184|  0:01:23s\n",
            "epoch 17 | loss: 125.7549| val_rmse: 17.70122|  0:01:28s\n",
            "epoch 18 | loss: 118.23689| val_rmse: 17.35205|  0:01:33s\n",
            "epoch 19 | loss: 113.55578| val_rmse: 17.96096|  0:01:38s\n",
            "Stop training because you reached max_epochs = 20 with best_epoch = 12 and best_val_rmse = 16.72937\n"
          ]
        },
        {
          "output_type": "stream",
          "name": "stderr",
          "text": [
            "/usr/local/lib/python3.11/dist-packages/pytorch_tabnet/callbacks.py:172: UserWarning: Best weights from best epoch are automatically used!\n",
            "  warnings.warn(wrn_msg)\n"
          ]
        },
        {
          "output_type": "stream",
          "name": "stdout",
          "text": [
            "Successfully saved model at tabnet_regression_results/tabnet_regressor.zip.zip\n",
            "Model saved to tabnet_regression_results/tabnet_regressor.zip\n",
            "\n",
            "Test Set Performance:\n",
            "RMSE: 16.9279\n",
            "MAE: 11.3039\n",
            "R2: 0.6765\n",
            "MSE: 286.5527\n"
          ]
        },
        {
          "output_type": "execute_result",
          "data": {
            "text/plain": [
              "{'model': TabNetRegressor(n_d=64, n_a=64, n_steps=5, gamma=1.3, cat_idxs=[], cat_dims=[], cat_emb_dim=[], n_independent=2, n_shared=2, epsilon=1e-15, momentum=0.02, lambda_sparse=0.0001, seed=42, clip_value=1, verbose=1, optimizer_fn=<class 'torch.optim.adam.Adam'>, optimizer_params={'lr': 0.02, 'weight_decay': 1e-05}, scheduler_fn=<class 'torch.optim.lr_scheduler.StepLR'>, scheduler_params={'step_size': 50, 'gamma': 0.9}, mask_type='entmax', input_dim=424, output_dim=1, device_name='cuda', n_shared_decoder=1, n_indep_decoder=1, grouped_features=[]),\n",
              " 'metrics': {'train': {'RMSE': 11.624746466499273,\n",
              "   'MAE': 8.153693367703744,\n",
              "   'R2': 0.8475804829486777,\n",
              "   'MSE': 135.13473041038733},\n",
              "  'val': {'RMSE': 16.729374036251453,\n",
              "   'MAE': 11.186195672489509,\n",
              "   'R2': 0.6813364294325983,\n",
              "   'MSE': 279.8719556448042},\n",
              "  'test': {'RMSE': 16.92786874346203,\n",
              "   'MAE': 11.303913452931932,\n",
              "   'R2': 0.6764980618223053,\n",
              "   'MSE': 286.5527401958788}}}"
            ]
          },
          "metadata": {},
          "execution_count": 15
        }
      ]
    },
    {
      "cell_type": "markdown",
      "source": [
        "#AGORA-GR-II-100"
      ],
      "metadata": {
        "id": "llN14tGUjBWH"
      }
    },
    {
      "cell_type": "code",
      "source": [
        "train_and_evaluate_tabnet(X_train, y_train, X_val, y_val, X_test, y_test)"
      ],
      "metadata": {
        "colab": {
          "base_uri": "https://localhost:8080/"
        },
        "id": "pFDnAHinjBe2",
        "outputId": "56067206-2c81-48ae-d544-5fe42056a7bb"
      },
      "execution_count": null,
      "outputs": [
        {
          "output_type": "stream",
          "name": "stdout",
          "text": [
            "Using device: cuda\n"
          ]
        },
        {
          "output_type": "stream",
          "name": "stderr",
          "text": [
            "/usr/local/lib/python3.11/dist-packages/pytorch_tabnet/abstract_model.py:82: UserWarning: Device used : cuda\n",
            "  warnings.warn(f\"Device used : {self.device}\")\n"
          ]
        },
        {
          "output_type": "stream",
          "name": "stdout",
          "text": [
            "epoch 0  | loss: 1178.78141| val_rmse: 23.96364|  0:00:10s\n",
            "epoch 1  | loss: 451.54849| val_rmse: 20.08675|  0:00:20s\n",
            "epoch 2  | loss: 349.91803| val_rmse: 17.97423|  0:00:30s\n",
            "epoch 3  | loss: 294.00827| val_rmse: 16.95351|  0:00:41s\n",
            "epoch 4  | loss: 263.65732| val_rmse: 16.66498|  0:00:51s\n",
            "epoch 5  | loss: 244.43441| val_rmse: 16.23092|  0:01:01s\n",
            "epoch 6  | loss: 226.2207| val_rmse: 16.08054|  0:01:11s\n",
            "epoch 7  | loss: 211.20506| val_rmse: 16.19622|  0:01:22s\n",
            "epoch 8  | loss: 198.05539| val_rmse: 15.97059|  0:01:32s\n",
            "epoch 9  | loss: 189.29643| val_rmse: 16.20921|  0:01:42s\n",
            "epoch 10 | loss: 179.7184| val_rmse: 16.11902|  0:01:53s\n",
            "epoch 11 | loss: 172.22265| val_rmse: 16.32338|  0:02:03s\n",
            "epoch 12 | loss: 162.11871| val_rmse: 16.3129 |  0:02:13s\n",
            "epoch 13 | loss: 159.72863| val_rmse: 16.16807|  0:02:23s\n",
            "epoch 14 | loss: 148.9762| val_rmse: 16.18306|  0:02:34s\n",
            "epoch 15 | loss: 139.48127| val_rmse: 16.37623|  0:02:44s\n",
            "epoch 16 | loss: 136.79602| val_rmse: 16.56429|  0:02:54s\n",
            "epoch 17 | loss: 133.45153| val_rmse: 16.65736|  0:03:04s\n",
            "epoch 18 | loss: 130.53377| val_rmse: 16.68199|  0:03:14s\n",
            "epoch 19 | loss: 128.81151| val_rmse: 17.24833|  0:03:25s\n",
            "Stop training because you reached max_epochs = 20 with best_epoch = 8 and best_val_rmse = 15.97059\n"
          ]
        },
        {
          "output_type": "stream",
          "name": "stderr",
          "text": [
            "/usr/local/lib/python3.11/dist-packages/pytorch_tabnet/callbacks.py:172: UserWarning: Best weights from best epoch are automatically used!\n",
            "  warnings.warn(wrn_msg)\n"
          ]
        },
        {
          "output_type": "stream",
          "name": "stdout",
          "text": [
            "Successfully saved model at tabnet_regression_results/tabnet_regressor.zip.zip\n",
            "Model saved to tabnet_regression_results/tabnet_regressor.zip\n",
            "\n",
            "Test Set Performance:\n",
            "RMSE: 15.9393\n",
            "MAE: 10.9807\n",
            "R2: 0.6751\n",
            "MSE: 254.0622\n"
          ]
        },
        {
          "output_type": "execute_result",
          "data": {
            "text/plain": [
              "{'model': TabNetRegressor(n_d=64, n_a=64, n_steps=5, gamma=1.3, cat_idxs=[], cat_dims=[], cat_emb_dim=[], n_independent=2, n_shared=2, epsilon=1e-15, momentum=0.02, lambda_sparse=0.0001, seed=42, clip_value=1, verbose=1, optimizer_fn=<class 'torch.optim.adam.Adam'>, optimizer_params={'lr': 0.02, 'weight_decay': 1e-05}, scheduler_fn=<class 'torch.optim.lr_scheduler.StepLR'>, scheduler_params={'step_size': 50, 'gamma': 0.9}, mask_type='entmax', input_dim=424, output_dim=1, device_name='cuda', n_shared_decoder=1, n_indep_decoder=1, grouped_features=[]),\n",
              " 'metrics': {'train': {'RMSE': 12.857704600140982,\n",
              "   'MAE': 9.071877671813892,\n",
              "   'R2': 0.7864035433083123,\n",
              "   'MSE': 165.32056758448655},\n",
              "  'val': {'RMSE': 15.970590567168044,\n",
              "   'MAE': 11.079483394238514,\n",
              "   'R2': 0.667270554780292,\n",
              "   'MSE': 255.0597630641169},\n",
              "  'test': {'RMSE': 15.939329461320007,\n",
              "   'MAE': 10.980674198615905,\n",
              "   'R2': 0.675093145050538,\n",
              "   'MSE': 254.06222367650395}}}"
            ]
          },
          "metadata": {},
          "execution_count": 19
        }
      ]
    },
    {
      "cell_type": "markdown",
      "source": [
        "#AGORA-GR-III-100"
      ],
      "metadata": {
        "id": "x4rkGC2vjD4v"
      }
    },
    {
      "cell_type": "code",
      "source": [
        "train_and_evaluate_tabnet(X_train, y_train, X_val, y_val, X_test, y_test)"
      ],
      "metadata": {
        "colab": {
          "base_uri": "https://localhost:8080/"
        },
        "id": "MkZpk8CMjD-z",
        "outputId": "80278545-4b2c-408b-e44e-9a38e088a41e"
      },
      "execution_count": null,
      "outputs": [
        {
          "output_type": "stream",
          "name": "stdout",
          "text": [
            "Using device: cuda\n"
          ]
        },
        {
          "output_type": "stream",
          "name": "stderr",
          "text": [
            "/usr/local/lib/python3.11/dist-packages/pytorch_tabnet/abstract_model.py:82: UserWarning: Device used : cuda\n",
            "  warnings.warn(f\"Device used : {self.device}\")\n"
          ]
        },
        {
          "output_type": "stream",
          "name": "stdout",
          "text": [
            "epoch 0  | loss: 990.75074| val_rmse: 20.52218|  0:00:18s\n",
            "epoch 1  | loss: 340.72604| val_rmse: 16.85107|  0:00:37s\n",
            "epoch 2  | loss: 274.04345| val_rmse: 16.11558|  0:00:56s\n",
            "epoch 3  | loss: 247.74007| val_rmse: 15.64781|  0:01:15s\n",
            "epoch 4  | loss: 233.04525| val_rmse: 15.5401 |  0:01:34s\n",
            "epoch 5  | loss: 222.44864| val_rmse: 15.38397|  0:01:52s\n",
            "epoch 6  | loss: 214.00588| val_rmse: 15.29415|  0:02:11s\n",
            "epoch 7  | loss: 206.37686| val_rmse: 15.33953|  0:02:30s\n",
            "epoch 8  | loss: 203.29956| val_rmse: 15.47932|  0:02:49s\n",
            "epoch 9  | loss: 195.94197| val_rmse: 15.51663|  0:03:07s\n",
            "epoch 10 | loss: 191.60317| val_rmse: 15.52653|  0:03:26s\n",
            "epoch 11 | loss: 186.71765| val_rmse: 15.36665|  0:03:45s\n",
            "epoch 12 | loss: 181.7833| val_rmse: 15.69875|  0:04:03s\n",
            "epoch 13 | loss: 177.99101| val_rmse: 15.59022|  0:04:22s\n",
            "epoch 14 | loss: 176.64001| val_rmse: 15.50416|  0:04:41s\n",
            "epoch 15 | loss: 174.3726| val_rmse: 15.66487|  0:05:00s\n",
            "epoch 16 | loss: 169.93622| val_rmse: 15.61696|  0:05:18s\n",
            "epoch 17 | loss: 166.66403| val_rmse: 15.69712|  0:05:37s\n",
            "epoch 18 | loss: 163.43134| val_rmse: 15.93232|  0:05:56s\n",
            "epoch 19 | loss: 161.44987| val_rmse: 15.84146|  0:06:14s\n",
            "Stop training because you reached max_epochs = 20 with best_epoch = 6 and best_val_rmse = 15.29415\n"
          ]
        },
        {
          "output_type": "stream",
          "name": "stderr",
          "text": [
            "/usr/local/lib/python3.11/dist-packages/pytorch_tabnet/callbacks.py:172: UserWarning: Best weights from best epoch are automatically used!\n",
            "  warnings.warn(wrn_msg)\n"
          ]
        },
        {
          "output_type": "stream",
          "name": "stdout",
          "text": [
            "Successfully saved model at tabnet_regression_results/tabnet_regressor.zip.zip\n",
            "Model saved to tabnet_regression_results/tabnet_regressor.zip\n",
            "\n",
            "Test Set Performance:\n",
            "RMSE: 15.3048\n",
            "MAE: 10.9732\n",
            "R2: 0.7450\n",
            "MSE: 234.2355\n"
          ]
        },
        {
          "output_type": "execute_result",
          "data": {
            "text/plain": [
              "{'model': TabNetRegressor(n_d=64, n_a=64, n_steps=5, gamma=1.3, cat_idxs=[], cat_dims=[], cat_emb_dim=[], n_independent=2, n_shared=2, epsilon=1e-15, momentum=0.02, lambda_sparse=0.0001, seed=42, clip_value=1, verbose=1, optimizer_fn=<class 'torch.optim.adam.Adam'>, optimizer_params={'lr': 0.02, 'weight_decay': 1e-05}, scheduler_fn=<class 'torch.optim.lr_scheduler.StepLR'>, scheduler_params={'step_size': 50, 'gamma': 0.9}, mask_type='entmax', input_dim=424, output_dim=1, device_name='cuda', n_shared_decoder=1, n_indep_decoder=1, grouped_features=[]),\n",
              " 'metrics': {'train': {'RMSE': 13.859981198652841,\n",
              "   'MAE': 10.061658499130653,\n",
              "   'R2': 0.792251053525696,\n",
              "   'MSE': 192.09907882701026},\n",
              "  'val': {'RMSE': 15.294148672663315,\n",
              "   'MAE': 10.982996747136806,\n",
              "   'R2': 0.7462912601876908,\n",
              "   'MSE': 233.91098362152903},\n",
              "  'test': {'RMSE': 15.30475327340917,\n",
              "   'MAE': 10.973194478673678,\n",
              "   'R2': 0.7450423531444254,\n",
              "   'MSE': 234.2354727599287}}}"
            ]
          },
          "metadata": {},
          "execution_count": 24
        }
      ]
    },
    {
      "cell_type": "markdown",
      "source": [
        "#AGORA-GR-I-50"
      ],
      "metadata": {
        "id": "fFXqsl7_do_k"
      }
    },
    {
      "cell_type": "code",
      "source": [
        "train_and_evaluate_tabnet(X_train, y_train, X_val, y_val, X_test, y_test)"
      ],
      "metadata": {
        "id": "ZlstZUcY08QC",
        "colab": {
          "base_uri": "https://localhost:8080/"
        },
        "outputId": "3e5b6b79-2935-42a9-ef10-98754c860b07"
      },
      "execution_count": null,
      "outputs": [
        {
          "output_type": "stream",
          "name": "stdout",
          "text": [
            "Using device: cuda\n"
          ]
        },
        {
          "output_type": "stream",
          "name": "stderr",
          "text": [
            "/usr/local/lib/python3.11/dist-packages/pytorch_tabnet/abstract_model.py:82: UserWarning: Device used : cuda\n",
            "  warnings.warn(f\"Device used : {self.device}\")\n"
          ]
        },
        {
          "output_type": "stream",
          "name": "stdout",
          "text": [
            "epoch 0  | loss: 4774.34322| val_rmse: 68.26354|  0:00:00s\n",
            "epoch 1  | loss: 1863.69465| val_rmse: 46.6047 |  0:00:01s\n",
            "epoch 2  | loss: 884.71458| val_rmse: 38.07274|  0:00:02s\n",
            "epoch 3  | loss: 699.20463| val_rmse: 29.73602|  0:00:03s\n",
            "epoch 4  | loss: 644.41055| val_rmse: 27.32586|  0:00:03s\n",
            "epoch 5  | loss: 607.56345| val_rmse: 26.27285|  0:00:04s\n",
            "epoch 6  | loss: 578.44064| val_rmse: 25.57018|  0:00:05s\n",
            "epoch 7  | loss: 555.68542| val_rmse: 24.78933|  0:00:06s\n",
            "epoch 8  | loss: 532.19121| val_rmse: 24.21022|  0:00:07s\n",
            "epoch 9  | loss: 522.13596| val_rmse: 24.00497|  0:00:08s\n",
            "epoch 10 | loss: 503.07536| val_rmse: 23.55965|  0:00:08s\n",
            "epoch 11 | loss: 489.32307| val_rmse: 23.7052 |  0:00:09s\n",
            "epoch 12 | loss: 467.0699| val_rmse: 23.63557|  0:00:10s\n",
            "epoch 13 | loss: 450.02393| val_rmse: 23.18981|  0:00:11s\n",
            "epoch 14 | loss: 434.6808| val_rmse: 23.69625|  0:00:11s\n",
            "epoch 15 | loss: 414.90679| val_rmse: 22.28143|  0:00:12s\n",
            "epoch 16 | loss: 392.65911| val_rmse: 22.19682|  0:00:13s\n",
            "epoch 17 | loss: 378.9157| val_rmse: 22.00469|  0:00:14s\n",
            "epoch 18 | loss: 357.00582| val_rmse: 21.73353|  0:00:15s\n",
            "epoch 19 | loss: 345.27158| val_rmse: 21.74796|  0:00:15s\n",
            "Stop training because you reached max_epochs = 20 with best_epoch = 18 and best_val_rmse = 21.73353\n"
          ]
        },
        {
          "output_type": "stream",
          "name": "stderr",
          "text": [
            "/usr/local/lib/python3.11/dist-packages/pytorch_tabnet/callbacks.py:172: UserWarning: Best weights from best epoch are automatically used!\n",
            "  warnings.warn(wrn_msg)\n"
          ]
        },
        {
          "output_type": "stream",
          "name": "stdout",
          "text": [
            "Successfully saved model at tabnet_regression_results/tabnet_regressor.zip.zip\n",
            "Model saved to tabnet_regression_results/tabnet_regressor.zip\n",
            "\n",
            "Test Set Performance:\n",
            "RMSE: 21.3581\n",
            "MAE: 16.2435\n",
            "R2: 0.3320\n",
            "MSE: 456.1670\n"
          ]
        },
        {
          "output_type": "execute_result",
          "data": {
            "text/plain": [
              "{'model': TabNetRegressor(n_d=64, n_a=64, n_steps=5, gamma=1.3, cat_idxs=[], cat_dims=[], cat_emb_dim=[], n_independent=2, n_shared=2, epsilon=1e-15, momentum=0.02, lambda_sparse=0.0001, seed=42, clip_value=1, verbose=1, optimizer_fn=<class 'torch.optim.adam.Adam'>, optimizer_params={'lr': 0.02, 'weight_decay': 1e-05}, scheduler_fn=<class 'torch.optim.lr_scheduler.StepLR'>, scheduler_params={'step_size': 50, 'gamma': 0.9}, mask_type='entmax', input_dim=424, output_dim=1, device_name='cuda', n_shared_decoder=1, n_indep_decoder=1, grouped_features=[]),\n",
              " 'metrics': {'train': {'RMSE': 19.501286973897695,\n",
              "   'MAE': 14.996283359224803,\n",
              "   'R2': 0.45463296060510916,\n",
              "   'MSE': 380.3001936383119},\n",
              "  'val': {'RMSE': 21.73352633896387,\n",
              "   'MAE': 16.595166182298353,\n",
              "   'R2': 0.3342902050331753,\n",
              "   'MSE': 472.3461671264363},\n",
              "  'test': {'RMSE': 21.35806596898982,\n",
              "   'MAE': 16.243471773690985,\n",
              "   'R2': 0.3320375858203194,\n",
              "   'MSE': 456.166981935721}}}"
            ]
          },
          "metadata": {},
          "execution_count": 28
        }
      ]
    },
    {
      "cell_type": "markdown",
      "source": [
        "#AGORA-GR-II-50"
      ],
      "metadata": {
        "id": "iHjBBnc8dw3s"
      }
    },
    {
      "cell_type": "code",
      "source": [
        "train_and_evaluate_tabnet(X_train, y_train, X_val, y_val, X_test, y_test)"
      ],
      "metadata": {
        "colab": {
          "base_uri": "https://localhost:8080/"
        },
        "id": "EymTEnMQdw-v",
        "outputId": "1f929170-ef04-47d0-fc4a-6f46db5183c0"
      },
      "execution_count": null,
      "outputs": [
        {
          "output_type": "stream",
          "name": "stdout",
          "text": [
            "Using device: cuda\n"
          ]
        },
        {
          "output_type": "stream",
          "name": "stderr",
          "text": [
            "/usr/local/lib/python3.11/dist-packages/pytorch_tabnet/abstract_model.py:82: UserWarning: Device used : cuda\n",
            "  warnings.warn(f\"Device used : {self.device}\")\n"
          ]
        },
        {
          "output_type": "stream",
          "name": "stdout",
          "text": [
            "epoch 0  | loss: 1357.48912| val_rmse: 26.41925|  0:00:03s\n",
            "epoch 1  | loss: 542.6576| val_rmse: 23.13621|  0:00:06s\n",
            "epoch 2  | loss: 506.33892| val_rmse: 22.38535|  0:00:10s\n",
            "epoch 3  | loss: 460.14514| val_rmse: 21.16278|  0:00:13s\n",
            "epoch 4  | loss: 416.54343| val_rmse: 20.66094|  0:00:16s\n",
            "epoch 5  | loss: 393.81416| val_rmse: 19.96618|  0:00:20s\n",
            "epoch 6  | loss: 370.47901| val_rmse: 19.75915|  0:00:23s\n",
            "epoch 7  | loss: 352.19662| val_rmse: 19.44905|  0:00:27s\n",
            "epoch 8  | loss: 339.96742| val_rmse: 19.19114|  0:00:30s\n",
            "epoch 9  | loss: 319.18629| val_rmse: 19.41992|  0:00:33s\n",
            "epoch 10 | loss: 300.00305| val_rmse: 19.17536|  0:00:37s\n",
            "epoch 11 | loss: 280.38276| val_rmse: 19.13271|  0:00:40s\n",
            "epoch 12 | loss: 252.46379| val_rmse: 19.00484|  0:00:43s\n",
            "epoch 13 | loss: 235.2966| val_rmse: 19.56943|  0:00:47s\n",
            "epoch 14 | loss: 212.80943| val_rmse: 19.26859|  0:00:50s\n",
            "epoch 15 | loss: 196.60608| val_rmse: 19.70539|  0:00:53s\n",
            "epoch 16 | loss: 180.84496| val_rmse: 19.73361|  0:00:57s\n",
            "epoch 17 | loss: 162.06192| val_rmse: 19.82114|  0:01:00s\n",
            "epoch 18 | loss: 148.3453| val_rmse: 19.85712|  0:01:04s\n",
            "epoch 19 | loss: 136.84099| val_rmse: 20.03477|  0:01:07s\n",
            "Stop training because you reached max_epochs = 20 with best_epoch = 12 and best_val_rmse = 19.00484\n"
          ]
        },
        {
          "output_type": "stream",
          "name": "stderr",
          "text": [
            "/usr/local/lib/python3.11/dist-packages/pytorch_tabnet/callbacks.py:172: UserWarning: Best weights from best epoch are automatically used!\n",
            "  warnings.warn(wrn_msg)\n"
          ]
        },
        {
          "output_type": "stream",
          "name": "stdout",
          "text": [
            "Successfully saved model at tabnet_regression_results/tabnet_regressor.zip.zip\n",
            "Model saved to tabnet_regression_results/tabnet_regressor.zip\n",
            "\n",
            "Test Set Performance:\n",
            "RMSE: 18.9728\n",
            "MAE: 14.1889\n",
            "R2: 0.3577\n",
            "MSE: 359.9660\n"
          ]
        },
        {
          "output_type": "execute_result",
          "data": {
            "text/plain": [
              "{'model': TabNetRegressor(n_d=64, n_a=64, n_steps=5, gamma=1.3, cat_idxs=[], cat_dims=[], cat_emb_dim=[], n_independent=2, n_shared=2, epsilon=1e-15, momentum=0.02, lambda_sparse=0.0001, seed=42, clip_value=1, verbose=1, optimizer_fn=<class 'torch.optim.adam.Adam'>, optimizer_params={'lr': 0.02, 'weight_decay': 1e-05}, scheduler_fn=<class 'torch.optim.lr_scheduler.StepLR'>, scheduler_params={'step_size': 50, 'gamma': 0.9}, mask_type='entmax', input_dim=424, output_dim=1, device_name='cuda', n_shared_decoder=1, n_indep_decoder=1, grouped_features=[]),\n",
              " 'metrics': {'train': {'RMSE': 14.64314234223926,\n",
              "   'MAE': 10.989982547177988,\n",
              "   'R2': 0.6161199709793281,\n",
              "   'MSE': 214.4216176550803},\n",
              "  'val': {'RMSE': 19.004835404312217,\n",
              "   'MAE': 14.2072800572981,\n",
              "   'R2': 0.35660349287287074,\n",
              "   'MSE': 361.1837687449991},\n",
              "  'test': {'RMSE': 18.97277090365879,\n",
              "   'MAE': 14.188941969361622,\n",
              "   'R2': 0.3576717165605108,\n",
              "   'MSE': 359.9660357627217}}}"
            ]
          },
          "metadata": {},
          "execution_count": 35
        }
      ]
    },
    {
      "cell_type": "markdown",
      "source": [
        "#AGORA-GR-III-50"
      ],
      "metadata": {
        "id": "HI-yjsE2dxFP"
      }
    },
    {
      "cell_type": "code",
      "source": [
        "train_and_evaluate_tabnet(X_train, y_train, X_val, y_val, X_test, y_test)"
      ],
      "metadata": {
        "colab": {
          "base_uri": "https://localhost:8080/"
        },
        "id": "W-vSKJovdxMF",
        "outputId": "100e65df-d0c0-4253-a362-6c21fbd73c12"
      },
      "execution_count": null,
      "outputs": [
        {
          "output_type": "stream",
          "name": "stdout",
          "text": [
            "Using device: cuda\n"
          ]
        },
        {
          "output_type": "stream",
          "name": "stderr",
          "text": [
            "/usr/local/lib/python3.11/dist-packages/pytorch_tabnet/abstract_model.py:82: UserWarning: Device used : cuda\n",
            "  warnings.warn(f\"Device used : {self.device}\")\n"
          ]
        },
        {
          "output_type": "stream",
          "name": "stdout",
          "text": [
            "epoch 0  | loss: 694.65239| val_rmse: 19.78122|  0:00:21s\n",
            "epoch 1  | loss: 359.59432| val_rmse: 18.13342|  0:00:43s\n",
            "epoch 2  | loss: 315.23477| val_rmse: 18.14707|  0:01:05s\n",
            "epoch 3  | loss: 293.93335| val_rmse: 17.31864|  0:01:27s\n",
            "epoch 4  | loss: 279.44327| val_rmse: 17.07191|  0:01:50s\n",
            "epoch 5  | loss: 267.08676| val_rmse: 17.09724|  0:02:11s\n",
            "epoch 6  | loss: 257.64613| val_rmse: 17.23477|  0:02:33s\n",
            "epoch 7  | loss: 251.08143| val_rmse: 17.05524|  0:02:55s\n",
            "epoch 8  | loss: 242.72793| val_rmse: 17.22549|  0:03:17s\n",
            "epoch 9  | loss: 236.0007| val_rmse: 17.07636|  0:03:39s\n",
            "epoch 10 | loss: 231.37094| val_rmse: 17.1513 |  0:04:01s\n",
            "epoch 11 | loss: 226.43055| val_rmse: 17.21141|  0:04:23s\n",
            "epoch 12 | loss: 220.10295| val_rmse: 17.24351|  0:04:45s\n",
            "epoch 13 | loss: 214.6977| val_rmse: 17.82638|  0:05:07s\n",
            "epoch 14 | loss: 209.24656| val_rmse: 17.4701 |  0:05:29s\n",
            "epoch 15 | loss: 203.49546| val_rmse: 17.4994 |  0:05:51s\n",
            "epoch 16 | loss: 205.28905| val_rmse: 17.4695 |  0:06:13s\n",
            "epoch 17 | loss: 200.11885| val_rmse: 17.65328|  0:06:35s\n",
            "epoch 18 | loss: 197.14737| val_rmse: 17.64425|  0:06:57s\n",
            "epoch 19 | loss: 193.89638| val_rmse: 17.76143|  0:07:19s\n",
            "Stop training because you reached max_epochs = 20 with best_epoch = 7 and best_val_rmse = 17.05524\n"
          ]
        },
        {
          "output_type": "stream",
          "name": "stderr",
          "text": [
            "/usr/local/lib/python3.11/dist-packages/pytorch_tabnet/callbacks.py:172: UserWarning: Best weights from best epoch are automatically used!\n",
            "  warnings.warn(wrn_msg)\n"
          ]
        },
        {
          "output_type": "stream",
          "name": "stdout",
          "text": [
            "Successfully saved model at tabnet_regression_results/tabnet_regressor.zip.zip\n",
            "Model saved to tabnet_regression_results/tabnet_regressor.zip\n",
            "\n",
            "Test Set Performance:\n",
            "RMSE: 17.0025\n",
            "MAE: 12.7253\n",
            "R2: 0.5755\n",
            "MSE: 289.0852\n"
          ]
        },
        {
          "output_type": "execute_result",
          "data": {
            "text/plain": [
              "{'model': TabNetRegressor(n_d=64, n_a=64, n_steps=5, gamma=1.3, cat_idxs=[], cat_dims=[], cat_emb_dim=[], n_independent=2, n_shared=2, epsilon=1e-15, momentum=0.02, lambda_sparse=0.0001, seed=42, clip_value=1, verbose=1, optimizer_fn=<class 'torch.optim.adam.Adam'>, optimizer_params={'lr': 0.02, 'weight_decay': 1e-05}, scheduler_fn=<class 'torch.optim.lr_scheduler.StepLR'>, scheduler_params={'step_size': 50, 'gamma': 0.9}, mask_type='entmax', input_dim=424, output_dim=1, device_name='cuda', n_shared_decoder=1, n_indep_decoder=1, grouped_features=[]),\n",
              " 'metrics': {'train': {'RMSE': 14.98075710175032,\n",
              "   'MAE': 11.30653094860255,\n",
              "   'R2': 0.6718045156299893,\n",
              "   'MSE': 224.42308334164267},\n",
              "  'val': {'RMSE': 17.055242410122965,\n",
              "   'MAE': 12.765974744724398,\n",
              "   'R2': 0.5747158420692962,\n",
              "   'MSE': 290.88129366805697},\n",
              "  'test': {'RMSE': 17.002505718107688,\n",
              "   'MAE': 12.725341662104887,\n",
              "   'R2': 0.5754561803535903,\n",
              "   'MSE': 289.0852006942846}}}"
            ]
          },
          "metadata": {},
          "execution_count": 39
        }
      ]
    },
    {
      "cell_type": "markdown",
      "source": [
        "#CARVEME-GR-I-100"
      ],
      "metadata": {
        "id": "WaVmN315d1CY"
      }
    },
    {
      "cell_type": "code",
      "source": [
        "train_and_evaluate_tabnet(X_train, y_train, X_val, y_val, X_test, y_test)"
      ],
      "metadata": {
        "colab": {
          "base_uri": "https://localhost:8080/"
        },
        "id": "XEUSYnESd1H-",
        "outputId": "2f6f7ea9-07a1-4903-e4eb-7326728c2b21"
      },
      "execution_count": null,
      "outputs": [
        {
          "output_type": "stream",
          "name": "stdout",
          "text": [
            "Using device: cuda\n"
          ]
        },
        {
          "output_type": "stream",
          "name": "stderr",
          "text": [
            "/usr/local/lib/python3.11/dist-packages/pytorch_tabnet/abstract_model.py:82: UserWarning: Device used : cuda\n",
            "  warnings.warn(f\"Device used : {self.device}\")\n"
          ]
        },
        {
          "output_type": "stream",
          "name": "stdout",
          "text": [
            "epoch 0  | loss: 275.91912| val_rmse: 13.72617|  0:00:09s\n",
            "epoch 1  | loss: 167.44663| val_rmse: 12.77314|  0:00:19s\n",
            "epoch 2  | loss: 149.74297| val_rmse: 12.04198|  0:00:29s\n",
            "epoch 3  | loss: 130.63086| val_rmse: 11.25429|  0:00:39s\n",
            "epoch 4  | loss: 113.45753| val_rmse: 10.57794|  0:00:48s\n",
            "epoch 5  | loss: 97.9394 | val_rmse: 10.01026|  0:00:58s\n",
            "epoch 6  | loss: 84.1232 | val_rmse: 11.59939|  0:01:08s\n",
            "epoch 7  | loss: 73.5883 | val_rmse: 9.50221 |  0:01:18s\n",
            "epoch 8  | loss: 65.67803| val_rmse: 9.47898 |  0:01:27s\n",
            "epoch 9  | loss: 60.30728| val_rmse: 9.43986 |  0:01:37s\n",
            "epoch 10 | loss: 53.48012| val_rmse: 9.5856  |  0:01:47s\n",
            "epoch 11 | loss: 50.25825| val_rmse: 9.52196 |  0:01:57s\n",
            "epoch 12 | loss: 48.31548| val_rmse: 9.45645 |  0:02:06s\n",
            "epoch 13 | loss: 45.02582| val_rmse: 9.5495  |  0:02:16s\n",
            "epoch 14 | loss: 41.95205| val_rmse: 9.508   |  0:02:26s\n",
            "epoch 15 | loss: 41.28416| val_rmse: 9.50866 |  0:02:35s\n",
            "epoch 16 | loss: 39.6803 | val_rmse: 9.72205 |  0:02:46s\n",
            "epoch 17 | loss: 35.88905| val_rmse: 9.76204 |  0:02:55s\n",
            "epoch 18 | loss: 34.58164| val_rmse: 9.8248  |  0:03:05s\n",
            "epoch 19 | loss: 35.59754| val_rmse: 9.64977 |  0:03:15s\n",
            "Stop training because you reached max_epochs = 20 with best_epoch = 9 and best_val_rmse = 9.43986\n"
          ]
        },
        {
          "output_type": "stream",
          "name": "stderr",
          "text": [
            "/usr/local/lib/python3.11/dist-packages/pytorch_tabnet/callbacks.py:172: UserWarning: Best weights from best epoch are automatically used!\n",
            "  warnings.warn(wrn_msg)\n"
          ]
        },
        {
          "output_type": "stream",
          "name": "stdout",
          "text": [
            "Successfully saved model at tabnet_regression_results/tabnet_regressor.zip.zip\n",
            "Model saved to tabnet_regression_results/tabnet_regressor.zip\n",
            "\n",
            "Test Set Performance:\n",
            "RMSE: 9.4187\n",
            "MAE: 6.9673\n",
            "R2: 0.5339\n",
            "MSE: 88.7124\n"
          ]
        },
        {
          "output_type": "execute_result",
          "data": {
            "text/plain": [
              "{'model': TabNetRegressor(n_d=64, n_a=64, n_steps=5, gamma=1.3, cat_idxs=[], cat_dims=[], cat_emb_dim=[], n_independent=2, n_shared=2, epsilon=1e-15, momentum=0.02, lambda_sparse=0.0001, seed=42, clip_value=1, verbose=1, optimizer_fn=<class 'torch.optim.adam.Adam'>, optimizer_params={'lr': 0.02, 'weight_decay': 1e-05}, scheduler_fn=<class 'torch.optim.lr_scheduler.StepLR'>, scheduler_params={'step_size': 50, 'gamma': 0.9}, mask_type='entmax', input_dim=499, output_dim=1, device_name='cuda', n_shared_decoder=1, n_indep_decoder=1, grouped_features=[]),\n",
              " 'metrics': {'train': {'RMSE': 6.837368759802856,\n",
              "   'MAE': 5.149975211524846,\n",
              "   'R2': 0.7533273396160711,\n",
              "   'MSE': 46.74961155752804},\n",
              "  'val': {'RMSE': 9.439858191359896,\n",
              "   'MAE': 6.978239923913603,\n",
              "   'R2': 0.5338962203016145,\n",
              "   'MSE': 89.11092267298451},\n",
              "  'test': {'RMSE': 9.418726086598207,\n",
              "   'MAE': 6.967307085434858,\n",
              "   'R2': 0.533920089179255,\n",
              "   'MSE': 88.71240109436557}}}"
            ]
          },
          "metadata": {},
          "execution_count": 50
        }
      ]
    },
    {
      "cell_type": "markdown",
      "source": [
        "#CARVEME-GR-II-100"
      ],
      "metadata": {
        "id": "9MoeAxoLd1OV"
      }
    },
    {
      "cell_type": "code",
      "source": [
        "train_and_evaluate_tabnet(X_train, y_train, X_val, y_val, X_test, y_test)"
      ],
      "metadata": {
        "colab": {
          "base_uri": "https://localhost:8080/"
        },
        "id": "Y7B-0213d1Us",
        "outputId": "f9cf42ab-8c7a-4250-afe9-420c413f326c"
      },
      "execution_count": null,
      "outputs": [
        {
          "output_type": "stream",
          "name": "stdout",
          "text": [
            "Using device: cuda\n"
          ]
        },
        {
          "output_type": "stream",
          "name": "stderr",
          "text": [
            "/usr/local/lib/python3.11/dist-packages/pytorch_tabnet/abstract_model.py:82: UserWarning: Device used : cuda\n",
            "  warnings.warn(f\"Device used : {self.device}\")\n"
          ]
        },
        {
          "output_type": "stream",
          "name": "stdout",
          "text": [
            "epoch 0  | loss: 309.42325| val_rmse: 14.72722|  0:00:13s\n",
            "epoch 1  | loss: 164.54752| val_rmse: 12.54759|  0:00:26s\n",
            "epoch 2  | loss: 137.01939| val_rmse: 11.37533|  0:00:39s\n",
            "epoch 3  | loss: 113.96649| val_rmse: 10.59458|  0:00:52s\n",
            "epoch 4  | loss: 96.92002| val_rmse: 10.08793|  0:01:05s\n",
            "epoch 5  | loss: 85.35332| val_rmse: 9.92534 |  0:01:18s\n",
            "epoch 6  | loss: 77.17515| val_rmse: 9.74617 |  0:01:31s\n",
            "epoch 7  | loss: 70.21997| val_rmse: 9.73998 |  0:01:44s\n",
            "epoch 8  | loss: 66.31061| val_rmse: 9.94777 |  0:01:58s\n",
            "epoch 9  | loss: 62.2088 | val_rmse: 9.79792 |  0:02:11s\n",
            "epoch 10 | loss: 58.65605| val_rmse: 9.81905 |  0:02:24s\n",
            "epoch 11 | loss: 56.55619| val_rmse: 9.83016 |  0:02:37s\n",
            "epoch 12 | loss: 54.07171| val_rmse: 9.76009 |  0:02:50s\n",
            "epoch 13 | loss: 50.54027| val_rmse: 9.83946 |  0:03:03s\n",
            "epoch 14 | loss: 48.35479| val_rmse: 10.05488|  0:03:15s\n",
            "epoch 15 | loss: 47.28848| val_rmse: 9.88948 |  0:03:28s\n",
            "epoch 16 | loss: 46.2207 | val_rmse: 9.90546 |  0:03:41s\n",
            "epoch 17 | loss: 43.95813| val_rmse: 9.91238 |  0:03:54s\n",
            "epoch 18 | loss: 44.79411| val_rmse: 9.91611 |  0:04:07s\n",
            "epoch 19 | loss: 42.57159| val_rmse: 9.99489 |  0:04:20s\n",
            "Stop training because you reached max_epochs = 20 with best_epoch = 7 and best_val_rmse = 9.73998\n"
          ]
        },
        {
          "output_type": "stream",
          "name": "stderr",
          "text": [
            "/usr/local/lib/python3.11/dist-packages/pytorch_tabnet/callbacks.py:172: UserWarning: Best weights from best epoch are automatically used!\n",
            "  warnings.warn(wrn_msg)\n"
          ]
        },
        {
          "output_type": "stream",
          "name": "stdout",
          "text": [
            "Successfully saved model at tabnet_regression_results/tabnet_regressor.zip.zip\n",
            "Model saved to tabnet_regression_results/tabnet_regressor.zip\n",
            "\n",
            "Test Set Performance:\n",
            "RMSE: 9.7750\n",
            "MAE: 7.2829\n",
            "R2: 0.6778\n",
            "MSE: 95.5509\n"
          ]
        },
        {
          "output_type": "execute_result",
          "data": {
            "text/plain": [
              "{'model': TabNetRegressor(n_d=64, n_a=64, n_steps=5, gamma=1.3, cat_idxs=[], cat_dims=[], cat_emb_dim=[], n_independent=2, n_shared=2, epsilon=1e-15, momentum=0.02, lambda_sparse=0.0001, seed=42, clip_value=1, verbose=1, optimizer_fn=<class 'torch.optim.adam.Adam'>, optimizer_params={'lr': 0.02, 'weight_decay': 1e-05}, scheduler_fn=<class 'torch.optim.lr_scheduler.StepLR'>, scheduler_params={'step_size': 50, 'gamma': 0.9}, mask_type='entmax', input_dim=499, output_dim=1, device_name='cuda', n_shared_decoder=1, n_indep_decoder=1, grouped_features=[]),\n",
              " 'metrics': {'train': {'RMSE': 7.4795958836549366,\n",
              "   'MAE': 5.608962850041652,\n",
              "   'R2': 0.8117931367407064,\n",
              "   'MSE': 55.944354582787874},\n",
              "  'val': {'RMSE': 9.739976839570003,\n",
              "   'MAE': 7.269882946191126,\n",
              "   'R2': 0.6789336465135991,\n",
              "   'MSE': 94.86714883536006},\n",
              "  'test': {'RMSE': 9.77501524779249,\n",
              "   'MAE': 7.2829202062985585,\n",
              "   'R2': 0.6777848886883626,\n",
              "   'MSE': 95.55092309457567}}}"
            ]
          },
          "metadata": {},
          "execution_count": 46
        }
      ]
    },
    {
      "cell_type": "markdown",
      "source": [
        "#CARVEME-GR-III-100"
      ],
      "metadata": {
        "id": "bR36OEX7d8LQ"
      }
    },
    {
      "cell_type": "code",
      "source": [
        "train_and_evaluate_tabnet(X_train, y_train, X_val, y_val, X_test, y_test)"
      ],
      "metadata": {
        "colab": {
          "base_uri": "https://localhost:8080/"
        },
        "id": "P81-dCZad8Tq",
        "outputId": "13a29bba-da47-4c7e-f2d9-4aaf7bbed6aa"
      },
      "execution_count": null,
      "outputs": [
        {
          "output_type": "stream",
          "name": "stdout",
          "text": [
            "Using device: cuda\n"
          ]
        },
        {
          "output_type": "stream",
          "name": "stderr",
          "text": [
            "/usr/local/lib/python3.11/dist-packages/pytorch_tabnet/abstract_model.py:82: UserWarning: Device used : cuda\n",
            "  warnings.warn(f\"Device used : {self.device}\")\n"
          ]
        },
        {
          "output_type": "stream",
          "name": "stdout",
          "text": [
            "epoch 0  | loss: 309.42325| val_rmse: 14.72722|  0:00:13s\n",
            "epoch 1  | loss: 164.54752| val_rmse: 12.54759|  0:00:26s\n",
            "epoch 2  | loss: 137.01939| val_rmse: 11.37533|  0:00:40s\n",
            "epoch 3  | loss: 113.96649| val_rmse: 10.59458|  0:00:53s\n",
            "epoch 4  | loss: 96.92002| val_rmse: 10.08793|  0:01:06s\n",
            "epoch 5  | loss: 85.35332| val_rmse: 9.92534 |  0:01:19s\n",
            "epoch 6  | loss: 77.17515| val_rmse: 9.74617 |  0:01:32s\n",
            "epoch 7  | loss: 70.21997| val_rmse: 9.73998 |  0:01:46s\n",
            "epoch 8  | loss: 66.31061| val_rmse: 9.94777 |  0:01:59s\n",
            "epoch 9  | loss: 62.2088 | val_rmse: 9.79792 |  0:02:12s\n",
            "epoch 10 | loss: 58.65605| val_rmse: 9.81905 |  0:02:24s\n",
            "epoch 11 | loss: 56.55619| val_rmse: 9.83016 |  0:02:38s\n",
            "epoch 12 | loss: 54.07171| val_rmse: 9.76009 |  0:02:51s\n",
            "epoch 13 | loss: 50.54027| val_rmse: 9.83946 |  0:03:04s\n",
            "epoch 14 | loss: 48.35479| val_rmse: 10.05488|  0:03:17s\n",
            "epoch 15 | loss: 47.28848| val_rmse: 9.88948 |  0:03:30s\n",
            "epoch 16 | loss: 46.2207 | val_rmse: 9.90546 |  0:03:43s\n",
            "epoch 17 | loss: 43.95813| val_rmse: 9.91238 |  0:03:56s\n",
            "epoch 18 | loss: 44.79411| val_rmse: 9.91611 |  0:04:09s\n",
            "epoch 19 | loss: 42.57159| val_rmse: 9.99489 |  0:04:22s\n",
            "Stop training because you reached max_epochs = 20 with best_epoch = 7 and best_val_rmse = 9.73998\n"
          ]
        },
        {
          "output_type": "stream",
          "name": "stderr",
          "text": [
            "/usr/local/lib/python3.11/dist-packages/pytorch_tabnet/callbacks.py:172: UserWarning: Best weights from best epoch are automatically used!\n",
            "  warnings.warn(wrn_msg)\n"
          ]
        },
        {
          "output_type": "stream",
          "name": "stdout",
          "text": [
            "Successfully saved model at tabnet_regression_results/tabnet_regressor.zip.zip\n",
            "Model saved to tabnet_regression_results/tabnet_regressor.zip\n",
            "\n",
            "Test Set Performance:\n",
            "RMSE: 9.7750\n",
            "MAE: 7.2829\n",
            "R2: 0.6778\n",
            "MSE: 95.5509\n"
          ]
        },
        {
          "output_type": "execute_result",
          "data": {
            "text/plain": [
              "{'model': TabNetRegressor(n_d=64, n_a=64, n_steps=5, gamma=1.3, cat_idxs=[], cat_dims=[], cat_emb_dim=[], n_independent=2, n_shared=2, epsilon=1e-15, momentum=0.02, lambda_sparse=0.0001, seed=42, clip_value=1, verbose=1, optimizer_fn=<class 'torch.optim.adam.Adam'>, optimizer_params={'lr': 0.02, 'weight_decay': 1e-05}, scheduler_fn=<class 'torch.optim.lr_scheduler.StepLR'>, scheduler_params={'step_size': 50, 'gamma': 0.9}, mask_type='entmax', input_dim=499, output_dim=1, device_name='cuda', n_shared_decoder=1, n_indep_decoder=1, grouped_features=[]),\n",
              " 'metrics': {'train': {'RMSE': 7.4795958836549366,\n",
              "   'MAE': 5.608962850041652,\n",
              "   'R2': 0.8117931367407064,\n",
              "   'MSE': 55.944354582787874},\n",
              "  'val': {'RMSE': 9.739976839570003,\n",
              "   'MAE': 7.269882946191126,\n",
              "   'R2': 0.6789336465135991,\n",
              "   'MSE': 94.86714883536006},\n",
              "  'test': {'RMSE': 9.77501524779249,\n",
              "   'MAE': 7.2829202062985585,\n",
              "   'R2': 0.6777848886883626,\n",
              "   'MSE': 95.55092309457567}}}"
            ]
          },
          "metadata": {},
          "execution_count": 44
        }
      ]
    },
    {
      "cell_type": "markdown",
      "source": [
        "#CARVEME-GR-I-50"
      ],
      "metadata": {
        "id": "lvO0-Bw_d97v"
      }
    },
    {
      "cell_type": "code",
      "source": [
        "train_and_evaluate_tabnet(X_train, y_train, X_val, y_val, X_test, y_test)"
      ],
      "metadata": {
        "colab": {
          "base_uri": "https://localhost:8080/"
        },
        "id": "vavWamVJd-Ai",
        "outputId": "d4bee514-9ae5-4578-b4a3-5223dadf7462"
      },
      "execution_count": null,
      "outputs": [
        {
          "output_type": "stream",
          "name": "stdout",
          "text": [
            "Using device: cuda\n"
          ]
        },
        {
          "output_type": "stream",
          "name": "stderr",
          "text": [
            "/usr/local/lib/python3.11/dist-packages/pytorch_tabnet/abstract_model.py:82: UserWarning: Device used : cuda\n",
            "  warnings.warn(f\"Device used : {self.device}\")\n"
          ]
        },
        {
          "output_type": "stream",
          "name": "stdout",
          "text": [
            "epoch 0  | loss: 348.39892| val_rmse: 13.98544|  0:00:04s\n",
            "epoch 1  | loss: 177.10945| val_rmse: 13.89728|  0:00:08s\n",
            "epoch 2  | loss: 157.01449| val_rmse: 12.67314|  0:00:13s\n",
            "epoch 3  | loss: 146.35884| val_rmse: 12.68824|  0:00:18s\n",
            "epoch 4  | loss: 139.90198| val_rmse: 12.78477|  0:00:22s\n",
            "epoch 5  | loss: 135.64932| val_rmse: 11.99297|  0:00:27s\n",
            "epoch 6  | loss: 130.40408| val_rmse: 11.7358 |  0:00:31s\n",
            "epoch 7  | loss: 126.242 | val_rmse: 11.69754|  0:00:36s\n",
            "epoch 8  | loss: 117.12462| val_rmse: 11.60712|  0:00:40s\n",
            "epoch 9  | loss: 110.15625| val_rmse: 11.72884|  0:00:45s\n",
            "epoch 10 | loss: 102.07907| val_rmse: 11.78433|  0:00:49s\n",
            "epoch 11 | loss: 93.84025| val_rmse: 11.73735|  0:00:54s\n",
            "epoch 12 | loss: 87.36083| val_rmse: 11.78335|  0:00:58s\n",
            "epoch 13 | loss: 76.98274| val_rmse: 11.95256|  0:01:03s\n",
            "epoch 14 | loss: 67.50783| val_rmse: 11.86559|  0:01:07s\n",
            "epoch 15 | loss: 63.24046| val_rmse: 12.09907|  0:01:12s\n",
            "epoch 16 | loss: 56.42278| val_rmse: 12.38774|  0:01:16s\n",
            "epoch 17 | loss: 50.81785| val_rmse: 12.38334|  0:01:21s\n",
            "epoch 18 | loss: 48.00211| val_rmse: 12.34106|  0:01:25s\n",
            "epoch 19 | loss: 44.79791| val_rmse: 12.4466 |  0:01:30s\n",
            "Stop training because you reached max_epochs = 20 with best_epoch = 8 and best_val_rmse = 11.60712\n"
          ]
        },
        {
          "output_type": "stream",
          "name": "stderr",
          "text": [
            "/usr/local/lib/python3.11/dist-packages/pytorch_tabnet/callbacks.py:172: UserWarning: Best weights from best epoch are automatically used!\n",
            "  warnings.warn(wrn_msg)\n"
          ]
        },
        {
          "output_type": "stream",
          "name": "stdout",
          "text": [
            "Successfully saved model at tabnet_regression_results/tabnet_regressor.zip.zip\n",
            "Model saved to tabnet_regression_results/tabnet_regressor.zip\n",
            "\n",
            "Test Set Performance:\n",
            "RMSE: 11.5318\n",
            "MAE: 9.0647\n",
            "R2: 0.2805\n",
            "MSE: 132.9832\n"
          ]
        },
        {
          "output_type": "execute_result",
          "data": {
            "text/plain": [
              "{'model': TabNetRegressor(n_d=64, n_a=64, n_steps=5, gamma=1.3, cat_idxs=[], cat_dims=[], cat_emb_dim=[], n_independent=2, n_shared=2, epsilon=1e-15, momentum=0.02, lambda_sparse=0.0001, seed=42, clip_value=1, verbose=1, optimizer_fn=<class 'torch.optim.adam.Adam'>, optimizer_params={'lr': 0.02, 'weight_decay': 1e-05}, scheduler_fn=<class 'torch.optim.lr_scheduler.StepLR'>, scheduler_params={'step_size': 50, 'gamma': 0.9}, mask_type='entmax', input_dim=499, output_dim=1, device_name='cuda', n_shared_decoder=1, n_indep_decoder=1, grouped_features=[]),\n",
              " 'metrics': {'train': {'RMSE': 10.275504940573688,\n",
              "   'MAE': 8.093388692549365,\n",
              "   'R2': 0.43105671768233234,\n",
              "   'MSE': 105.58600178375428},\n",
              "  'val': {'RMSE': 11.607121738656426,\n",
              "   'MAE': 9.157879716831088,\n",
              "   'R2': 0.27971594160839586,\n",
              "   'MSE': 134.72527505599058},\n",
              "  'test': {'RMSE': 11.531835880158376,\n",
              "   'MAE': 9.064725102218874,\n",
              "   'R2': 0.2804917483169286,\n",
              "   'MSE': 132.9832387669081}}}"
            ]
          },
          "metadata": {},
          "execution_count": 54
        }
      ]
    },
    {
      "cell_type": "markdown",
      "source": [
        "#CARVEME-GR-II-50"
      ],
      "metadata": {
        "id": "i5Iz9IOud-FA"
      }
    },
    {
      "cell_type": "code",
      "source": [
        "train_and_evaluate_tabnet(X_train, y_train, X_val, y_val, X_test, y_test)"
      ],
      "metadata": {
        "colab": {
          "base_uri": "https://localhost:8080/"
        },
        "id": "yRSsJfIWd-Kp",
        "outputId": "e69e5947-449e-416c-b6b2-b06f46d24d60"
      },
      "execution_count": null,
      "outputs": [
        {
          "output_type": "stream",
          "name": "stdout",
          "text": [
            "Using device: cuda\n"
          ]
        },
        {
          "output_type": "stream",
          "name": "stderr",
          "text": [
            "/usr/local/lib/python3.11/dist-packages/pytorch_tabnet/abstract_model.py:82: UserWarning: Device used : cuda\n",
            "  warnings.warn(f\"Device used : {self.device}\")\n"
          ]
        },
        {
          "output_type": "stream",
          "name": "stdout",
          "text": [
            "epoch 0  | loss: 344.66948| val_rmse: 13.87161|  0:00:04s\n",
            "epoch 1  | loss: 176.11388| val_rmse: 13.42749|  0:00:09s\n",
            "epoch 2  | loss: 161.07357| val_rmse: 12.88445|  0:00:13s\n",
            "epoch 3  | loss: 149.87405| val_rmse: 12.6063 |  0:00:18s\n",
            "epoch 4  | loss: 144.45816| val_rmse: 12.25834|  0:00:22s\n",
            "epoch 5  | loss: 138.89699| val_rmse: 12.55105|  0:00:27s\n",
            "epoch 6  | loss: 134.40475| val_rmse: 11.7501 |  0:00:31s\n",
            "epoch 7  | loss: 128.67169| val_rmse: 11.7219 |  0:00:36s\n",
            "epoch 8  | loss: 123.32819| val_rmse: 11.6059 |  0:00:41s\n",
            "epoch 9  | loss: 114.99992| val_rmse: 11.53777|  0:00:45s\n",
            "epoch 10 | loss: 106.25767| val_rmse: 11.66239|  0:00:49s\n",
            "epoch 11 | loss: 95.60991| val_rmse: 11.73716|  0:00:54s\n",
            "epoch 12 | loss: 88.69513| val_rmse: 11.81562|  0:00:59s\n",
            "epoch 13 | loss: 79.58863| val_rmse: 11.87014|  0:01:03s\n",
            "epoch 14 | loss: 67.76991| val_rmse: 11.85188|  0:01:08s\n",
            "epoch 15 | loss: 62.91055| val_rmse: 12.13386|  0:01:12s\n",
            "epoch 16 | loss: 57.17528| val_rmse: 12.03633|  0:01:17s\n",
            "epoch 17 | loss: 50.03554| val_rmse: 12.44405|  0:01:21s\n",
            "epoch 18 | loss: 46.26127| val_rmse: 12.31706|  0:01:26s\n",
            "epoch 19 | loss: 42.51536| val_rmse: 12.34927|  0:01:30s\n",
            "Stop training because you reached max_epochs = 20 with best_epoch = 9 and best_val_rmse = 11.53777\n"
          ]
        },
        {
          "output_type": "stream",
          "name": "stderr",
          "text": [
            "/usr/local/lib/python3.11/dist-packages/pytorch_tabnet/callbacks.py:172: UserWarning: Best weights from best epoch are automatically used!\n",
            "  warnings.warn(wrn_msg)\n"
          ]
        },
        {
          "output_type": "stream",
          "name": "stdout",
          "text": [
            "Successfully saved model at tabnet_regression_results/tabnet_regressor.zip.zip\n",
            "Model saved to tabnet_regression_results/tabnet_regressor.zip\n",
            "\n",
            "Test Set Performance:\n",
            "RMSE: 11.5405\n",
            "MAE: 9.0612\n",
            "R2: 0.2794\n",
            "MSE: 133.1836\n"
          ]
        },
        {
          "output_type": "execute_result",
          "data": {
            "text/plain": [
              "{'model': TabNetRegressor(n_d=64, n_a=64, n_steps=5, gamma=1.3, cat_idxs=[], cat_dims=[], cat_emb_dim=[], n_independent=2, n_shared=2, epsilon=1e-15, momentum=0.02, lambda_sparse=0.0001, seed=42, clip_value=1, verbose=1, optimizer_fn=<class 'torch.optim.adam.Adam'>, optimizer_params={'lr': 0.02, 'weight_decay': 1e-05}, scheduler_fn=<class 'torch.optim.lr_scheduler.StepLR'>, scheduler_params={'step_size': 50, 'gamma': 0.9}, mask_type='entmax', input_dim=499, output_dim=1, device_name='cuda', n_shared_decoder=1, n_indep_decoder=1, grouped_features=[]),\n",
              " 'metrics': {'train': {'RMSE': 10.115933868756896,\n",
              "   'MAE': 7.987403915940201,\n",
              "   'R2': 0.4485900579722152,\n",
              "   'MSE': 102.33211803706284},\n",
              "  'val': {'RMSE': 11.537765132884294,\n",
              "   'MAE': 9.09957027554718,\n",
              "   'R2': 0.2882981215775151,\n",
              "   'MSE': 133.12002426160055},\n",
              "  'test': {'RMSE': 11.540519084025327,\n",
              "   'MAE': 9.061191894942832,\n",
              "   'R2': 0.279407794458967,\n",
              "   'MSE': 133.1835807287528}}}"
            ]
          },
          "metadata": {},
          "execution_count": 59
        }
      ]
    },
    {
      "cell_type": "markdown",
      "source": [
        "#CARVEME-GR-III-50"
      ],
      "metadata": {
        "id": "CEEZZLS6d-Os"
      }
    },
    {
      "cell_type": "code",
      "source": [
        "train_and_evaluate_tabnet(X_train, y_train, X_val, y_val, X_test, y_test)"
      ],
      "metadata": {
        "colab": {
          "base_uri": "https://localhost:8080/"
        },
        "id": "mQyRS5S2d-Th",
        "outputId": "3b10aec7-048a-4156-ec8e-f2f3c6727578"
      },
      "execution_count": null,
      "outputs": [
        {
          "output_type": "stream",
          "name": "stdout",
          "text": [
            "Using device: cuda\n"
          ]
        },
        {
          "output_type": "stream",
          "name": "stderr",
          "text": [
            "/usr/local/lib/python3.11/dist-packages/pytorch_tabnet/abstract_model.py:82: UserWarning: Device used : cuda\n",
            "  warnings.warn(f\"Device used : {self.device}\")\n"
          ]
        },
        {
          "output_type": "stream",
          "name": "stdout",
          "text": [
            "epoch 0  | loss: 344.66948| val_rmse: 13.87161|  0:00:04s\n",
            "epoch 1  | loss: 176.11388| val_rmse: 13.42749|  0:00:09s\n",
            "epoch 2  | loss: 161.07357| val_rmse: 12.88445|  0:00:13s\n",
            "epoch 3  | loss: 149.87405| val_rmse: 12.6063 |  0:00:18s\n",
            "epoch 4  | loss: 144.45816| val_rmse: 12.25834|  0:00:22s\n",
            "epoch 5  | loss: 138.89699| val_rmse: 12.55105|  0:00:27s\n",
            "epoch 6  | loss: 134.40475| val_rmse: 11.7501 |  0:00:31s\n",
            "epoch 7  | loss: 128.67169| val_rmse: 11.7219 |  0:00:36s\n",
            "epoch 8  | loss: 123.32819| val_rmse: 11.6059 |  0:00:41s\n",
            "epoch 9  | loss: 114.99992| val_rmse: 11.53777|  0:00:45s\n",
            "epoch 10 | loss: 106.25767| val_rmse: 11.66239|  0:00:50s\n",
            "epoch 11 | loss: 95.60991| val_rmse: 11.73716|  0:00:54s\n",
            "epoch 12 | loss: 88.69513| val_rmse: 11.81562|  0:00:59s\n",
            "epoch 13 | loss: 79.58863| val_rmse: 11.87014|  0:01:03s\n",
            "epoch 14 | loss: 67.76991| val_rmse: 11.85188|  0:01:08s\n",
            "epoch 15 | loss: 62.91055| val_rmse: 12.13386|  0:01:13s\n",
            "epoch 16 | loss: 57.17528| val_rmse: 12.03633|  0:01:17s\n",
            "epoch 17 | loss: 50.03554| val_rmse: 12.44405|  0:01:22s\n",
            "epoch 18 | loss: 46.26127| val_rmse: 12.31706|  0:01:26s\n",
            "epoch 19 | loss: 42.51536| val_rmse: 12.34927|  0:01:31s\n",
            "Stop training because you reached max_epochs = 20 with best_epoch = 9 and best_val_rmse = 11.53777\n"
          ]
        },
        {
          "output_type": "stream",
          "name": "stderr",
          "text": [
            "/usr/local/lib/python3.11/dist-packages/pytorch_tabnet/callbacks.py:172: UserWarning: Best weights from best epoch are automatically used!\n",
            "  warnings.warn(wrn_msg)\n"
          ]
        },
        {
          "output_type": "stream",
          "name": "stdout",
          "text": [
            "Successfully saved model at tabnet_regression_results/tabnet_regressor.zip.zip\n",
            "Model saved to tabnet_regression_results/tabnet_regressor.zip\n",
            "\n",
            "Test Set Performance:\n",
            "RMSE: 11.5405\n",
            "MAE: 9.0612\n",
            "R2: 0.2794\n",
            "MSE: 133.1836\n"
          ]
        },
        {
          "output_type": "execute_result",
          "data": {
            "text/plain": [
              "{'model': TabNetRegressor(n_d=64, n_a=64, n_steps=5, gamma=1.3, cat_idxs=[], cat_dims=[], cat_emb_dim=[], n_independent=2, n_shared=2, epsilon=1e-15, momentum=0.02, lambda_sparse=0.0001, seed=42, clip_value=1, verbose=1, optimizer_fn=<class 'torch.optim.adam.Adam'>, optimizer_params={'lr': 0.02, 'weight_decay': 1e-05}, scheduler_fn=<class 'torch.optim.lr_scheduler.StepLR'>, scheduler_params={'step_size': 50, 'gamma': 0.9}, mask_type='entmax', input_dim=499, output_dim=1, device_name='cuda', n_shared_decoder=1, n_indep_decoder=1, grouped_features=[]),\n",
              " 'metrics': {'train': {'RMSE': 10.115933868756896,\n",
              "   'MAE': 7.987403915940201,\n",
              "   'R2': 0.4485900579722152,\n",
              "   'MSE': 102.33211803706284},\n",
              "  'val': {'RMSE': 11.537765132884294,\n",
              "   'MAE': 9.09957027554718,\n",
              "   'R2': 0.2882981215775151,\n",
              "   'MSE': 133.12002426160055},\n",
              "  'test': {'RMSE': 11.540519084025327,\n",
              "   'MAE': 9.061191894942832,\n",
              "   'R2': 0.279407794458967,\n",
              "   'MSE': 133.1835807287528}}}"
            ]
          },
          "metadata": {},
          "execution_count": 63
        }
      ]
    }
  ]
}