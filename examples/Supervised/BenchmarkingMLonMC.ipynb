{
  "nbformat": 4,
  "nbformat_minor": 0,
  "metadata": {
    "colab": {
      "provenance": [],
      "collapsed_sections": [
        "Y1ZHCflIyhnZ",
        "mB35LA_5yopk",
        "ulv1bZvHysIH",
        "pJqG6SKb4bse",
        "1wIqj3o55zkD",
        "fpoQzczx6LSV",
        "5ijsANAN-zLH",
        "dyqIDOpY-zxq",
        "Z2f1GhtR-z_o",
        "FSM33I5JAaRN",
        "nuV6JVC1Aq0p",
        "wiz1b0s7LBEJ",
        "Trx9CpYlP9DS",
        "ilFcX5dxP9Rc"
      ],
      "machine_shape": "hm"
    },
    "kernelspec": {
      "name": "python3",
      "display_name": "Python 3"
    },
    "language_info": {
      "name": "python"
    }
  },
  "cells": [
    {
      "cell_type": "code",
      "execution_count": null,
      "metadata": {
        "colab": {
          "base_uri": "https://localhost:8080/"
        },
        "id": "ECQed5Qyr4fy",
        "outputId": "5a9cfdeb-081f-4d39-c927-55e332cc2605"
      },
      "outputs": [
        {
          "output_type": "stream",
          "name": "stdout",
          "text": [
            "Collecting catboost\n",
            "  Downloading catboost-1.2.7-cp311-cp311-manylinux2014_x86_64.whl.metadata (1.2 kB)\n",
            "Requirement already satisfied: graphviz in /usr/local/lib/python3.11/dist-packages (from catboost) (0.20.3)\n",
            "Requirement already satisfied: matplotlib in /usr/local/lib/python3.11/dist-packages (from catboost) (3.10.0)\n",
            "Collecting numpy<2.0,>=1.16.0 (from catboost)\n",
            "  Downloading numpy-1.26.4-cp311-cp311-manylinux_2_17_x86_64.manylinux2014_x86_64.whl.metadata (61 kB)\n",
            "\u001b[2K     \u001b[90m━━━━━━━━━━━━━━━━━━━━━━━━━━━━━━━━━━━━━━━━\u001b[0m \u001b[32m61.0/61.0 kB\u001b[0m \u001b[31m1.3 MB/s\u001b[0m eta \u001b[36m0:00:00\u001b[0m\n",
            "\u001b[?25hRequirement already satisfied: pandas>=0.24 in /usr/local/lib/python3.11/dist-packages (from catboost) (2.2.2)\n",
            "Requirement already satisfied: scipy in /usr/local/lib/python3.11/dist-packages (from catboost) (1.14.1)\n",
            "Requirement already satisfied: plotly in /usr/local/lib/python3.11/dist-packages (from catboost) (5.24.1)\n",
            "Requirement already satisfied: six in /usr/local/lib/python3.11/dist-packages (from catboost) (1.17.0)\n",
            "Requirement already satisfied: python-dateutil>=2.8.2 in /usr/local/lib/python3.11/dist-packages (from pandas>=0.24->catboost) (2.8.2)\n",
            "Requirement already satisfied: pytz>=2020.1 in /usr/local/lib/python3.11/dist-packages (from pandas>=0.24->catboost) (2025.2)\n",
            "Requirement already satisfied: tzdata>=2022.7 in /usr/local/lib/python3.11/dist-packages (from pandas>=0.24->catboost) (2025.2)\n",
            "Requirement already satisfied: contourpy>=1.0.1 in /usr/local/lib/python3.11/dist-packages (from matplotlib->catboost) (1.3.1)\n",
            "Requirement already satisfied: cycler>=0.10 in /usr/local/lib/python3.11/dist-packages (from matplotlib->catboost) (0.12.1)\n",
            "Requirement already satisfied: fonttools>=4.22.0 in /usr/local/lib/python3.11/dist-packages (from matplotlib->catboost) (4.56.0)\n",
            "Requirement already satisfied: kiwisolver>=1.3.1 in /usr/local/lib/python3.11/dist-packages (from matplotlib->catboost) (1.4.8)\n",
            "Requirement already satisfied: packaging>=20.0 in /usr/local/lib/python3.11/dist-packages (from matplotlib->catboost) (24.2)\n",
            "Requirement already satisfied: pillow>=8 in /usr/local/lib/python3.11/dist-packages (from matplotlib->catboost) (11.1.0)\n",
            "Requirement already satisfied: pyparsing>=2.3.1 in /usr/local/lib/python3.11/dist-packages (from matplotlib->catboost) (3.2.3)\n",
            "Requirement already satisfied: tenacity>=6.2.0 in /usr/local/lib/python3.11/dist-packages (from plotly->catboost) (9.1.2)\n",
            "Downloading catboost-1.2.7-cp311-cp311-manylinux2014_x86_64.whl (98.7 MB)\n",
            "\u001b[2K   \u001b[90m━━━━━━━━━━━━━━━━━━━━━━━━━━━━━━━━━━━━━━━━\u001b[0m \u001b[32m98.7/98.7 MB\u001b[0m \u001b[31m24.8 MB/s\u001b[0m eta \u001b[36m0:00:00\u001b[0m\n",
            "\u001b[?25hDownloading numpy-1.26.4-cp311-cp311-manylinux_2_17_x86_64.manylinux2014_x86_64.whl (18.3 MB)\n",
            "\u001b[2K   \u001b[90m━━━━━━━━━━━━━━━━━━━━━━━━━━━━━━━━━━━━━━━━\u001b[0m \u001b[32m18.3/18.3 MB\u001b[0m \u001b[31m99.3 MB/s\u001b[0m eta \u001b[36m0:00:00\u001b[0m\n",
            "\u001b[?25hInstalling collected packages: numpy, catboost\n",
            "  Attempting uninstall: numpy\n",
            "    Found existing installation: numpy 2.0.2\n",
            "    Uninstalling numpy-2.0.2:\n",
            "      Successfully uninstalled numpy-2.0.2\n",
            "Successfully installed catboost-1.2.7 numpy-1.26.4\n"
          ]
        }
      ],
      "source": [
        "# !pip install catboost"
      ]
    },
    {
      "cell_type": "code",
      "source": [
        "import pandas as pd\n",
        "import numpy as np\n",
        "import os\n",
        "import shutil\n",
        "import joblib\n",
        "import pickle\n",
        "import json\n",
        "\n",
        "# ml frameworks\n",
        "import matplotlib.pyplot as plt\n",
        "from sklearn.metrics import (\n",
        "    confusion_matrix,\n",
        "    classification_report,\n",
        "    accuracy_score,\n",
        "    roc_auc_score,\n",
        "    precision_score,\n",
        "    recall_score,\n",
        "    f1_score,\n",
        "    matthews_corrcoef,\n",
        "    precision_recall_curve,\n",
        "    auc,\n",
        "    RocCurveDisplay,\n",
        "    PrecisionRecallDisplay,\n",
        ")\n",
        "\n",
        "from sklearn.ensemble import RandomForestClassifier\n",
        "from lightgbm import LGBMClassifier\n",
        "from xgboost import XGBClassifier\n",
        "#time management\n",
        "from tqdm import tqdm"
      ],
      "metadata": {
        "id": "QmnQahB1sDda"
      },
      "execution_count": null,
      "outputs": []
    },
    {
      "cell_type": "markdown",
      "source": [
        "MultiClassification"
      ],
      "metadata": {
        "id": "IZy8JFLy4ENe"
      }
    },
    {
      "cell_type": "code",
      "source": [
        "X_train_csv = pd.read_csv(\"/content/drive/MyDrive/MC-II/CARVEME/50/X_train_MC-II-50.csv\")\n",
        "X_val_csv = pd.read_csv(\"/content/drive/MyDrive/MC-II/CARVEME/50/X_val_MC-II-50.csv\")\n",
        "X_test_csv = pd.read_csv(\"/content/drive/MyDrive/MC-II/CARVEME/50/X_test_MC-II-50.csv\")\n",
        "y_train_csv = pd.read_csv(\"/content/drive/MyDrive/MC-II/CARVEME/50/y_train_MC-II-50.csv\")\n",
        "y_val_csv = pd.read_csv(\"/content/drive/MyDrive/MC-II/CARVEME/50/y_val_MC-II-50.csv\")\n",
        "y_test_csv = pd.read_csv(\"/content/drive/MyDrive/MC-II/CARVEME/50/y_test_MC-II-50.csv\")"
      ],
      "metadata": {
        "id": "zAzPvsTRvBKx"
      },
      "execution_count": null,
      "outputs": []
    },
    {
      "cell_type": "code",
      "source": [
        "def to_npy(X_train_csv, X_val_csv, X_test_csv, y_train_csv, y_val_csv, y_test_csv):\n",
        "    X_train = X_train_csv.to_numpy()\n",
        "    X_val = X_val_csv.to_numpy()\n",
        "    X_test = X_test_csv.to_numpy()\n",
        "    y_train = y_train_csv.to_numpy()\n",
        "    y_val = y_val_csv.to_numpy()\n",
        "    y_test = y_test_csv.to_numpy()\n",
        "\n",
        "    # Save the arrays as .npy files\n",
        "    np.save(\"X_train.npy\", X_train)\n",
        "    np.save(\"X_val.npy\", X_val)\n",
        "    np.save(\"X_test.npy\", X_test)\n",
        "    np.save(\"y_train.npy\", y_train)\n",
        "    np.save(\"y_val.npy\", y_val)\n",
        "    np.save(\"y_test.npy\", y_test)\n",
        "\n",
        "    print(\"CSV onverted to .npy format.\")\n"
      ],
      "metadata": {
        "id": "JeGK6HkiuXLC"
      },
      "execution_count": null,
      "outputs": []
    },
    {
      "cell_type": "code",
      "source": [
        "to_npy(X_train_csv, X_val_csv, X_test_csv, y_train_csv, y_val_csv, y_test_csv)"
      ],
      "metadata": {
        "colab": {
          "base_uri": "https://localhost:8080/"
        },
        "id": "OGtOD_xruMtb",
        "outputId": "66f2a1b2-c767-4274-abe7-4264a03321a3"
      },
      "execution_count": null,
      "outputs": [
        {
          "output_type": "stream",
          "name": "stdout",
          "text": [
            "CSV onverted to .npy format.\n"
          ]
        }
      ]
    },
    {
      "cell_type": "code",
      "source": [
        "train_list = [\"X_train.npy\", \"X_val.npy\", \"X_test.npy\", \"y_train.npy\", \"y_val.npy\", \"y_test.npy\"]"
      ],
      "metadata": {
        "id": "Q-eudQQXww3m"
      },
      "execution_count": null,
      "outputs": []
    },
    {
      "cell_type": "code",
      "source": [
        "def load(train_list):\n",
        "    X_train = np.load(train_list[0])\n",
        "    X_val = np.load(train_list[1])\n",
        "    X_test = np.load(train_list[2])\n",
        "    y_train = np.load(train_list[3])\n",
        "    y_val = np.load(train_list[4])\n",
        "    y_test = np.load(train_list[5])\n",
        "    return X_train, X_val, X_test, y_train, y_val, y_test\n",
        "\n",
        "\n",
        "def create_confusion_matrix(y_true, y_pred, class_labels):\n",
        "    '''\n",
        "    Description: Create a confusion matrix for multiclass classification.\n",
        "    Arguments:\n",
        "        y_true (array-like): Ground truth labels;\n",
        "        y_pred (array-like): Predicted labels;\n",
        "        class_labels (list): List of class names or indices.\n",
        "    Outputs:\n",
        "        pd.DataFrame: A confusion matrix as a pandas DataFrame.\n",
        "    '''\n",
        "    cm = confusion_matrix(y_true, y_pred)\n",
        "    cm_df = pd.DataFrame(cm, index=[f\"True {cls}\" for cls in class_labels],\n",
        "                         columns=[f\"Predicted {cls}\" for cls in class_labels])\n",
        "    return cm_df\n",
        "\n",
        "\n",
        "def score_metrics(y_true, y_pred, y_prob, average='weighted'):\n",
        "    '''\n",
        "    Description: Calculate various metrics for multiclass classification.\n",
        "    Arguments:\n",
        "        y_true (array-like): Ground truth labels;\n",
        "        y_pred (array-like): Predicted labels;\n",
        "        y_prob (array-like): Predicted probabilities for each class;\n",
        "        average (str): Averaging method for metrics ('micro', 'macro', or 'weighted').\n",
        "    Outputs:\n",
        "        dict: A dictionary containing accuracy, ROC AUC, precision, recall, and F1.\n",
        "    '''\n",
        "    metrics = {\n",
        "        \"Accuracy\": accuracy_score(y_true, y_pred),\n",
        "        \"ROC AUC\": roc_auc_score(y_true, y_prob, multi_class=\"ovo\", average=average),\n",
        "        \"Precision\": precision_score(y_true, y_pred, average=average),\n",
        "        \"Recall\": recall_score(y_true, y_pred, average=average),\n",
        "        \"F1 Score\": f1_score(y_true, y_pred, average=average),\n",
        "    }\n",
        "    return metrics\n",
        "\n",
        "def plot_curves(y_true, y_prob, class_labels):\n",
        "    '''\n",
        "    Description: Plot ROC and PR curves for multiclass classification.\n",
        "    Arguments:\n",
        "        y_true (array-like): Ground truth labels;\n",
        "        y_prob (array-like): Predicted probabilities for each class;\n",
        "        class_labels (list): List of class names or indices.\n",
        "    Outputs: ROC and PR curves for each class.\n",
        "    '''\n",
        "    # ROC Curve for each class\n",
        "    for i, class_label in enumerate(class_labels):\n",
        "        RocCurveDisplay.from_predictions(\n",
        "            y_true == i, y_prob[:, i], name=f\"Class {class_label}\"\n",
        "        )\n",
        "        plt.title(f\"ROC Curve for Class {class_label}\")\n",
        "        plt.show()\n",
        "\n",
        "    # PR Curve for each class\n",
        "    for i, class_label in enumerate(class_labels):\n",
        "        PrecisionRecallDisplay.from_predictions(\n",
        "            y_true == i, y_prob[:, i], name=f\"Class {class_label}\"\n",
        "        )\n",
        "        plt.title(f\"Precision-Recall Curve for Class {class_label}\")\n",
        "        plt.show()\n",
        "\n",
        "\n",
        "\n",
        "def train_val_and_test(models, X_train, y_train, X_val, y_val, X_test, y_test, seed, class_labels):\n",
        "    \"\"\"\n",
        "    Trains and evaluates multiple models using train, validation, and test sets.\n",
        "    Saves metrics, confusion matrices, ROC/PR curves, and a summary JSON file.\n",
        "\n",
        "    Args:\n",
        "        models (dict): Dictionary of models to evaluate.\n",
        "        X_train, y_train: Training data.\n",
        "        X_val, y_val: Validation data.\n",
        "        X_test, y_test: Test data.\n",
        "        seed (int): Random seed.\n",
        "        class_labels (list): Class names.\n",
        "\n",
        "    Returns:\n",
        "        dict: Validation and test metrics for all models.\n",
        "    \"\"\"\n",
        "    results = {}\n",
        "\n",
        "    for model_name, model in tqdm(models.items(), desc=\"Training Models\", unit=\"model\"):\n",
        "        print(f\"\\nTraining and evaluating: {model_name}\")\n",
        "\n",
        "        # Create storage directory\n",
        "        model_dir = f\"results/{model_name.replace(' ', '_')}\"\n",
        "        if os.path.exists(model_dir):\n",
        "            shutil.rmtree(model_dir)\n",
        "        os.makedirs(model_dir)\n",
        "\n",
        "        # Train\n",
        "        model.fit(X_train, y_train)\n",
        "\n",
        "        # Save the model\n",
        "        model_path = os.path.join(model_dir, \"model.pkl\")\n",
        "        joblib.dump(model, model_path)\n",
        "\n",
        "        # Validation\n",
        "        y_val_pred = model.predict(X_val)\n",
        "        y_val_prob = model.predict_proba(X_val) if hasattr(model, \"predict_proba\") else model.decision_function(X_val)\n",
        "        val_acc = np.mean(y_val_pred == y_val)\n",
        "        val_auc = roc_auc_score(y_val, y_val_prob, multi_class=\"ovr\", average=\"weighted\")\n",
        "        val_mcc = matthews_corrcoef(y_val, y_val_pred)\n",
        "\n",
        "        # Test\n",
        "        y_test_pred = model.predict(X_test)\n",
        "        y_test_prob = model.predict_proba(X_test) if hasattr(model, \"predict_proba\") else model.decision_function(X_test)\n",
        "        test_acc = np.mean(y_test_pred == y_test)\n",
        "        test_auc = roc_auc_score(y_test, y_test_prob, multi_class=\"ovr\", average=\"weighted\")\n",
        "        test_mcc = matthews_corrcoef(y_test, y_test_pred)\n",
        "\n",
        "        # Store metrics\n",
        "        results[model_name] = {\n",
        "            \"Validation Accuracy\": val_acc,\n",
        "            \"Validation ROC AUC\": val_auc,\n",
        "            \"Validation MCC\": val_mcc,\n",
        "            \"Test Accuracy\": test_acc,\n",
        "            \"Test ROC AUC\": test_auc,\n",
        "            \"Test MCC\": test_mcc\n",
        "        }\n",
        "\n",
        "        # Save classification report\n",
        "        report = classification_report(y_val, y_val_pred, target_names=class_labels)\n",
        "        with open(os.path.join(model_dir, \"classification_report.txt\"), \"w\") as f:\n",
        "            f.write(report)\n",
        "\n",
        "        # Confusion matrix\n",
        "        cm = confusion_matrix(y_val, y_val_pred)\n",
        "        plt.figure(figsize=(6, 6))\n",
        "        plt.imshow(cm, interpolation='nearest', cmap=plt.cm.Blues)\n",
        "        plt.title(f\"Confusion Matrix - {model_name}\")\n",
        "        plt.colorbar()\n",
        "        tick_marks = np.arange(len(class_labels))\n",
        "        plt.xticks(tick_marks, class_labels)\n",
        "        plt.yticks(tick_marks, class_labels)\n",
        "        plt.ylabel('True label')\n",
        "        plt.xlabel('Predicted label')\n",
        "        plt.tight_layout()\n",
        "        plt.savefig(os.path.join(model_dir, \"confusion_matrix.png\"))\n",
        "        plt.close()\n",
        "\n",
        "    summary_path = \"results/summary_metrics.json\"\n",
        "    with open(summary_path, \"w\") as f:\n",
        "        json.dump(results, f, indent=4)\n",
        "    print(f\"\\nJSON saved to: {summary_path}\")\n",
        "\n",
        "    # Print final summary using MCC\n",
        "    print(\"\\nValidation and Test Metrics (using MCC):\")\n",
        "    for model_name, metrics in results.items():\n",
        "        print(\n",
        "            f\"{model_name}: \"\n",
        "            f\"Val Accuracy = {metrics['Validation Accuracy']:.4f}, \"\n",
        "            f\"Val MCC = {metrics['Validation MCC']:.4f}, \"\n",
        "            f\"Test Accuracy = {metrics['Test Accuracy']:.4f}, \"\n",
        "            f\"Test MCC = {metrics['Test MCC']:.4f}\"\n",
        "        )\n",
        "\n",
        "    return results"
      ],
      "metadata": {
        "id": "VVeE4wKSsdr-"
      },
      "execution_count": null,
      "outputs": []
    },
    {
      "cell_type": "markdown",
      "source": [
        "#AGORA-MC-I-100"
      ],
      "metadata": {
        "id": "Y1ZHCflIyhnZ"
      }
    },
    {
      "cell_type": "code",
      "source": [
        "X_train, X_val, X_test, y_train, y_val, y_test = load(train_list)\n",
        "\n",
        "models = {\n",
        "    \"LightGBM\": LGBMClassifier(random_state=4221),\n",
        "    \"XGBoost\": XGBClassifier(use_label_encoder=False, eval_metric=\"logloss\", random_state=4221),\n",
        "    \"CatBoost\": LGBMClassifier(random_state=42)\n",
        "}\n",
        "\n",
        "train_val_and_test(models, X_train, y_train, X_val, y_val, X_test, y_test, seed=4221, class_labels=['Comp', 'FCoop', 'O_xx_Coop'])"
      ],
      "metadata": {
        "colab": {
          "base_uri": "https://localhost:8080/"
        },
        "id": "ZhGy8bI6wzkl",
        "outputId": "73fcc472-6c91-4a36-9fb9-a33441671d32"
      },
      "execution_count": null,
      "outputs": [
        {
          "output_type": "stream",
          "name": "stderr",
          "text": [
            "\rTraining Models:   0%|          | 0/3 [00:00<?, ?model/s]/usr/local/lib/python3.11/dist-packages/sklearn/preprocessing/_label.py:93: DataConversionWarning: A column-vector y was passed when a 1d array was expected. Please change the shape of y to (n_samples, ), for example using ravel().\n",
            "  y = column_or_1d(y, warn=True)\n",
            "/usr/local/lib/python3.11/dist-packages/sklearn/preprocessing/_label.py:129: DataConversionWarning: A column-vector y was passed when a 1d array was expected. Please change the shape of y to (n_samples, ), for example using ravel().\n",
            "  y = column_or_1d(y, dtype=self.classes_.dtype, warn=True)\n",
            "/usr/local/lib/python3.11/dist-packages/sklearn/utils/deprecation.py:151: FutureWarning: 'force_all_finite' was renamed to 'ensure_all_finite' in 1.6 and will be removed in 1.8.\n",
            "  warnings.warn(\n"
          ]
        },
        {
          "output_type": "stream",
          "name": "stdout",
          "text": [
            "\n",
            "Training and evaluating: LightGBM\n",
            "[LightGBM] [Info] Auto-choosing row-wise multi-threading, the overhead of testing was 0.787531 seconds.\n",
            "You can set `force_row_wise=true` to remove the overhead.\n",
            "And if memory is not enough, you can set `force_col_wise=true`.\n",
            "[LightGBM] [Info] Total Bins 848\n",
            "[LightGBM] [Info] Number of data points in the train set: 438111, number of used features: 424\n",
            "[LightGBM] [Info] Start training from score -1.935235\n",
            "[LightGBM] [Info] Start training from score -1.196584\n",
            "[LightGBM] [Info] Start training from score -0.591702\n"
          ]
        },
        {
          "output_type": "stream",
          "name": "stderr",
          "text": [
            "/usr/local/lib/python3.11/dist-packages/sklearn/utils/deprecation.py:151: FutureWarning: 'force_all_finite' was renamed to 'ensure_all_finite' in 1.6 and will be removed in 1.8.\n",
            "  warnings.warn(\n",
            "/usr/local/lib/python3.11/dist-packages/sklearn/utils/deprecation.py:151: FutureWarning: 'force_all_finite' was renamed to 'ensure_all_finite' in 1.6 and will be removed in 1.8.\n",
            "  warnings.warn(\n",
            "/usr/local/lib/python3.11/dist-packages/sklearn/utils/deprecation.py:151: FutureWarning: 'force_all_finite' was renamed to 'ensure_all_finite' in 1.6 and will be removed in 1.8.\n",
            "  warnings.warn(\n",
            "/usr/local/lib/python3.11/dist-packages/sklearn/utils/deprecation.py:151: FutureWarning: 'force_all_finite' was renamed to 'ensure_all_finite' in 1.6 and will be removed in 1.8.\n",
            "  warnings.warn(\n",
            "Training Models:  33%|███▎      | 1/3 [01:15<02:31, 75.66s/model]"
          ]
        },
        {
          "output_type": "stream",
          "name": "stdout",
          "text": [
            "\n",
            "Training and evaluating: XGBoost\n"
          ]
        },
        {
          "output_type": "stream",
          "name": "stderr",
          "text": [
            "/usr/local/lib/python3.11/dist-packages/xgboost/core.py:158: UserWarning: [13:43:36] WARNING: /workspace/src/learner.cc:740: \n",
            "Parameters: { \"use_label_encoder\" } are not used.\n",
            "\n",
            "  warnings.warn(smsg, UserWarning)\n",
            "Training Models:  67%|██████▋   | 2/3 [02:52<01:28, 88.16s/model]/usr/local/lib/python3.11/dist-packages/sklearn/preprocessing/_label.py:93: DataConversionWarning: A column-vector y was passed when a 1d array was expected. Please change the shape of y to (n_samples, ), for example using ravel().\n",
            "  y = column_or_1d(y, warn=True)\n",
            "/usr/local/lib/python3.11/dist-packages/sklearn/preprocessing/_label.py:129: DataConversionWarning: A column-vector y was passed when a 1d array was expected. Please change the shape of y to (n_samples, ), for example using ravel().\n",
            "  y = column_or_1d(y, dtype=self.classes_.dtype, warn=True)\n",
            "/usr/local/lib/python3.11/dist-packages/sklearn/utils/deprecation.py:151: FutureWarning: 'force_all_finite' was renamed to 'ensure_all_finite' in 1.6 and will be removed in 1.8.\n",
            "  warnings.warn(\n"
          ]
        },
        {
          "output_type": "stream",
          "name": "stdout",
          "text": [
            "\n",
            "Training and evaluating: CatBoost\n",
            "[LightGBM] [Info] Auto-choosing row-wise multi-threading, the overhead of testing was 0.992317 seconds.\n",
            "You can set `force_row_wise=true` to remove the overhead.\n",
            "And if memory is not enough, you can set `force_col_wise=true`.\n",
            "[LightGBM] [Info] Total Bins 848\n",
            "[LightGBM] [Info] Number of data points in the train set: 438111, number of used features: 424\n",
            "[LightGBM] [Info] Start training from score -1.935235\n",
            "[LightGBM] [Info] Start training from score -1.196584\n",
            "[LightGBM] [Info] Start training from score -0.591702\n"
          ]
        },
        {
          "output_type": "stream",
          "name": "stderr",
          "text": [
            "/usr/local/lib/python3.11/dist-packages/sklearn/utils/deprecation.py:151: FutureWarning: 'force_all_finite' was renamed to 'ensure_all_finite' in 1.6 and will be removed in 1.8.\n",
            "  warnings.warn(\n",
            "/usr/local/lib/python3.11/dist-packages/sklearn/utils/deprecation.py:151: FutureWarning: 'force_all_finite' was renamed to 'ensure_all_finite' in 1.6 and will be removed in 1.8.\n",
            "  warnings.warn(\n",
            "/usr/local/lib/python3.11/dist-packages/sklearn/utils/deprecation.py:151: FutureWarning: 'force_all_finite' was renamed to 'ensure_all_finite' in 1.6 and will be removed in 1.8.\n",
            "  warnings.warn(\n",
            "/usr/local/lib/python3.11/dist-packages/sklearn/utils/deprecation.py:151: FutureWarning: 'force_all_finite' was renamed to 'ensure_all_finite' in 1.6 and will be removed in 1.8.\n",
            "  warnings.warn(\n",
            "Training Models: 100%|██████████| 3/3 [04:09<00:00, 83.18s/model]"
          ]
        },
        {
          "output_type": "stream",
          "name": "stdout",
          "text": [
            "\n",
            "✅ Summary JSON saved to: results/summary_metrics.json\n",
            "\n",
            "📊 Summary of Validation and Test Metrics (using MCC):\n",
            "LightGBM: Val Accuracy = 0.4223, Val MCC = 0.7124, Test Accuracy = 0.4205, Test MCC = 0.7105\n",
            "XGBoost: Val Accuracy = 0.4212, Val MCC = 0.7348, Test Accuracy = 0.4197, Test MCC = 0.7345\n",
            "CatBoost: Val Accuracy = 0.4223, Val MCC = 0.7124, Test Accuracy = 0.4205, Test MCC = 0.7105\n"
          ]
        },
        {
          "output_type": "stream",
          "name": "stderr",
          "text": [
            "\n"
          ]
        },
        {
          "output_type": "execute_result",
          "data": {
            "text/plain": [
              "{'LightGBM': {'Validation Accuracy': np.float64(0.422262125207469),\n",
              "  'Validation ROC AUC': np.float64(0.9531233421674931),\n",
              "  'Validation MCC': np.float64(0.7124091678038387),\n",
              "  'Test Accuracy': np.float64(0.4204807704633471),\n",
              "  'Test ROC AUC': np.float64(0.9526018024882547),\n",
              "  'Test MCC': np.float64(0.710457985584438)},\n",
              " 'XGBoost': {'Validation Accuracy': np.float64(0.42116579935859216),\n",
              "  'Validation ROC AUC': np.float64(0.9599320821922593),\n",
              "  'Validation MCC': np.float64(0.7347784517450257),\n",
              "  'Test Accuracy': np.float64(0.419664989739051),\n",
              "  'Test ROC AUC': np.float64(0.9595731022550454),\n",
              "  'Test MCC': np.float64(0.7345427810439527)},\n",
              " 'CatBoost': {'Validation Accuracy': np.float64(0.422262125207469),\n",
              "  'Validation ROC AUC': np.float64(0.9531233421674931),\n",
              "  'Validation MCC': np.float64(0.7124091678038387),\n",
              "  'Test Accuracy': np.float64(0.4204807704633471),\n",
              "  'Test ROC AUC': np.float64(0.9526018024882547),\n",
              "  'Test MCC': np.float64(0.710457985584438)}}"
            ]
          },
          "metadata": {},
          "execution_count": 17
        }
      ]
    },
    {
      "cell_type": "markdown",
      "source": [
        "# AGORA-MC-II-100"
      ],
      "metadata": {
        "id": "mB35LA_5yopk"
      }
    },
    {
      "cell_type": "code",
      "source": [
        "X_train, X_val, X_test, y_train, y_val, y_test = load(train_list)\n",
        "\n",
        "models = {\n",
        "    \"LightGBM\": LGBMClassifier(random_state=4221),\n",
        "    \"XGBoost\": XGBClassifier(use_label_encoder=False, eval_metric=\"logloss\", random_state=4221),\n",
        "    \"CatBoost\": LGBMClassifier(random_state=42)\n",
        "}\n",
        "\n",
        "train_val_and_test(models, X_train, y_train, X_val, y_val, X_test, y_test, seed=4221, class_labels=['O_plusx_Coop', 'O_xplus_Coop', 'O_xx_Coop'])"
      ],
      "metadata": {
        "colab": {
          "base_uri": "https://localhost:8080/"
        },
        "id": "fskrAd16yoNV",
        "outputId": "240a4aef-e350-4389-9f0e-b97f214330ad"
      },
      "execution_count": null,
      "outputs": [
        {
          "output_type": "stream",
          "name": "stderr",
          "text": [
            "\rTraining Models:   0%|          | 0/3 [00:00<?, ?model/s]/usr/local/lib/python3.11/dist-packages/sklearn/preprocessing/_label.py:93: DataConversionWarning: A column-vector y was passed when a 1d array was expected. Please change the shape of y to (n_samples, ), for example using ravel().\n",
            "  y = column_or_1d(y, warn=True)\n",
            "/usr/local/lib/python3.11/dist-packages/sklearn/preprocessing/_label.py:129: DataConversionWarning: A column-vector y was passed when a 1d array was expected. Please change the shape of y to (n_samples, ), for example using ravel().\n",
            "  y = column_or_1d(y, dtype=self.classes_.dtype, warn=True)\n",
            "/usr/local/lib/python3.11/dist-packages/sklearn/utils/deprecation.py:151: FutureWarning: 'force_all_finite' was renamed to 'ensure_all_finite' in 1.6 and will be removed in 1.8.\n",
            "  warnings.warn(\n"
          ]
        },
        {
          "output_type": "stream",
          "name": "stdout",
          "text": [
            "\n",
            "Training and evaluating: LightGBM\n",
            "[LightGBM] [Info] Auto-choosing row-wise multi-threading, the overhead of testing was 0.822628 seconds.\n",
            "You can set `force_row_wise=true` to remove the overhead.\n",
            "And if memory is not enough, you can set `force_col_wise=true`.\n",
            "[LightGBM] [Info] Total Bins 848\n",
            "[LightGBM] [Info] Number of data points in the train set: 555496, number of used features: 424\n",
            "[LightGBM] [Info] Start training from score -0.829590\n",
            "[LightGBM] [Info] Start training from score -2.054973\n",
            "[LightGBM] [Info] Start training from score -0.830858\n"
          ]
        },
        {
          "output_type": "stream",
          "name": "stderr",
          "text": [
            "/usr/local/lib/python3.11/dist-packages/sklearn/utils/deprecation.py:151: FutureWarning: 'force_all_finite' was renamed to 'ensure_all_finite' in 1.6 and will be removed in 1.8.\n",
            "  warnings.warn(\n",
            "/usr/local/lib/python3.11/dist-packages/sklearn/utils/deprecation.py:151: FutureWarning: 'force_all_finite' was renamed to 'ensure_all_finite' in 1.6 and will be removed in 1.8.\n",
            "  warnings.warn(\n",
            "/usr/local/lib/python3.11/dist-packages/sklearn/utils/deprecation.py:151: FutureWarning: 'force_all_finite' was renamed to 'ensure_all_finite' in 1.6 and will be removed in 1.8.\n",
            "  warnings.warn(\n",
            "/usr/local/lib/python3.11/dist-packages/sklearn/utils/deprecation.py:151: FutureWarning: 'force_all_finite' was renamed to 'ensure_all_finite' in 1.6 and will be removed in 1.8.\n",
            "  warnings.warn(\n",
            "Training Models:  33%|███▎      | 1/3 [02:07<04:14, 127.32s/model]"
          ]
        },
        {
          "output_type": "stream",
          "name": "stdout",
          "text": [
            "\n",
            "Training and evaluating: XGBoost\n"
          ]
        },
        {
          "output_type": "stream",
          "name": "stderr",
          "text": [
            "/usr/local/lib/python3.11/dist-packages/xgboost/core.py:158: UserWarning: [13:51:30] WARNING: /workspace/src/learner.cc:740: \n",
            "Parameters: { \"use_label_encoder\" } are not used.\n",
            "\n",
            "  warnings.warn(smsg, UserWarning)\n",
            "Training Models:  67%|██████▋   | 2/3 [04:21<02:11, 131.27s/model]/usr/local/lib/python3.11/dist-packages/sklearn/preprocessing/_label.py:93: DataConversionWarning: A column-vector y was passed when a 1d array was expected. Please change the shape of y to (n_samples, ), for example using ravel().\n",
            "  y = column_or_1d(y, warn=True)\n",
            "/usr/local/lib/python3.11/dist-packages/sklearn/preprocessing/_label.py:129: DataConversionWarning: A column-vector y was passed when a 1d array was expected. Please change the shape of y to (n_samples, ), for example using ravel().\n",
            "  y = column_or_1d(y, dtype=self.classes_.dtype, warn=True)\n",
            "/usr/local/lib/python3.11/dist-packages/sklearn/utils/deprecation.py:151: FutureWarning: 'force_all_finite' was renamed to 'ensure_all_finite' in 1.6 and will be removed in 1.8.\n",
            "  warnings.warn(\n"
          ]
        },
        {
          "output_type": "stream",
          "name": "stdout",
          "text": [
            "\n",
            "Training and evaluating: CatBoost\n",
            "[LightGBM] [Info] Auto-choosing row-wise multi-threading, the overhead of testing was 0.671217 seconds.\n",
            "You can set `force_row_wise=true` to remove the overhead.\n",
            "And if memory is not enough, you can set `force_col_wise=true`.\n",
            "[LightGBM] [Info] Total Bins 848\n",
            "[LightGBM] [Info] Number of data points in the train set: 555496, number of used features: 424\n",
            "[LightGBM] [Info] Start training from score -0.829590\n",
            "[LightGBM] [Info] Start training from score -2.054973\n",
            "[LightGBM] [Info] Start training from score -0.830858\n"
          ]
        },
        {
          "output_type": "stream",
          "name": "stderr",
          "text": [
            "/usr/local/lib/python3.11/dist-packages/sklearn/utils/deprecation.py:151: FutureWarning: 'force_all_finite' was renamed to 'ensure_all_finite' in 1.6 and will be removed in 1.8.\n",
            "  warnings.warn(\n",
            "/usr/local/lib/python3.11/dist-packages/sklearn/utils/deprecation.py:151: FutureWarning: 'force_all_finite' was renamed to 'ensure_all_finite' in 1.6 and will be removed in 1.8.\n",
            "  warnings.warn(\n",
            "/usr/local/lib/python3.11/dist-packages/sklearn/utils/deprecation.py:151: FutureWarning: 'force_all_finite' was renamed to 'ensure_all_finite' in 1.6 and will be removed in 1.8.\n",
            "  warnings.warn(\n",
            "/usr/local/lib/python3.11/dist-packages/sklearn/utils/deprecation.py:151: FutureWarning: 'force_all_finite' was renamed to 'ensure_all_finite' in 1.6 and will be removed in 1.8.\n",
            "  warnings.warn(\n",
            "Training Models: 100%|██████████| 3/3 [06:15<00:00, 125.32s/model]"
          ]
        },
        {
          "output_type": "stream",
          "name": "stdout",
          "text": [
            "\n",
            "JSON saved to: results/summary_metrics.json\n",
            "\n",
            "Validation and Test Metrics (using MCC):\n",
            "LightGBM: Val Accuracy = 0.4246, Val MCC = 0.6833, Test Accuracy = 0.4242, Test MCC = 0.6843\n",
            "XGBoost: Val Accuracy = 0.4220, Val MCC = 0.6988, Test Accuracy = 0.4214, Test MCC = 0.7006\n",
            "CatBoost: Val Accuracy = 0.4246, Val MCC = 0.6833, Test Accuracy = 0.4242, Test MCC = 0.6843\n"
          ]
        },
        {
          "output_type": "stream",
          "name": "stderr",
          "text": [
            "\n"
          ]
        },
        {
          "output_type": "execute_result",
          "data": {
            "text/plain": [
              "{'LightGBM': {'Validation Accuracy': np.float64(0.42462687008389816),\n",
              "  'Validation ROC AUC': np.float64(0.9289488521607994),\n",
              "  'Validation MCC': np.float64(0.6832600387302309),\n",
              "  'Test Accuracy': np.float64(0.4241737732743023),\n",
              "  'Test ROC AUC': np.float64(0.9295957878396498),\n",
              "  'Test MCC': np.float64(0.6843380570938078)},\n",
              " 'XGBoost': {'Validation Accuracy': np.float64(0.4220370963881844),\n",
              "  'Validation ROC AUC': np.float64(0.9381133554132581),\n",
              "  'Validation MCC': np.float64(0.6987674581338895),\n",
              "  'Test Accuracy': np.float64(0.42140171793538844),\n",
              "  'Test ROC AUC': np.float64(0.9385859332596389),\n",
              "  'Test MCC': np.float64(0.7005661100903448)},\n",
              " 'CatBoost': {'Validation Accuracy': np.float64(0.42462687008389816),\n",
              "  'Validation ROC AUC': np.float64(0.9289488521607994),\n",
              "  'Validation MCC': np.float64(0.6832600387302309),\n",
              "  'Test Accuracy': np.float64(0.4241737732743023),\n",
              "  'Test ROC AUC': np.float64(0.9295957878396498),\n",
              "  'Test MCC': np.float64(0.6843380570938078)}}"
            ]
          },
          "metadata": {},
          "execution_count": 23
        }
      ]
    },
    {
      "cell_type": "markdown",
      "source": [
        "#AGORA-MC-III-100"
      ],
      "metadata": {
        "id": "ulv1bZvHysIH"
      }
    },
    {
      "cell_type": "code",
      "source": [
        "X_train, X_val, X_test, y_train, y_val, y_test = load(train_list)\n",
        "\n",
        "models = {\n",
        "    \"LightGBM\": LGBMClassifier(random_state=4221),\n",
        "    \"XGBoost\": XGBClassifier(use_label_encoder=False, eval_metric=\"logloss\", random_state=4221),\n",
        "    \"CatBoost\": LGBMClassifier(random_state=42)\n",
        "}\n",
        "\n",
        "train_val_and_test(models, X_train, y_train, X_val, y_val, X_test, y_test, seed=4221, class_labels=['Comp', 'FCoop', 'O_plusx_Coop', 'O_xplus_Coop', 'O_xx_Coop'])"
      ],
      "metadata": {
        "colab": {
          "base_uri": "https://localhost:8080/"
        },
        "id": "C4qF08t211R2",
        "outputId": "afb9f275-81c3-4543-a2fe-f1417742384a"
      },
      "execution_count": null,
      "outputs": [
        {
          "output_type": "stream",
          "name": "stderr",
          "text": [
            "\rTraining Models:   0%|          | 0/3 [00:00<?, ?model/s]/usr/local/lib/python3.11/dist-packages/sklearn/preprocessing/_label.py:93: DataConversionWarning: A column-vector y was passed when a 1d array was expected. Please change the shape of y to (n_samples, ), for example using ravel().\n",
            "  y = column_or_1d(y, warn=True)\n",
            "/usr/local/lib/python3.11/dist-packages/sklearn/preprocessing/_label.py:129: DataConversionWarning: A column-vector y was passed when a 1d array was expected. Please change the shape of y to (n_samples, ), for example using ravel().\n",
            "  y = column_or_1d(y, dtype=self.classes_.dtype, warn=True)\n",
            "/usr/local/lib/python3.11/dist-packages/sklearn/utils/deprecation.py:151: FutureWarning: 'force_all_finite' was renamed to 'ensure_all_finite' in 1.6 and will be removed in 1.8.\n",
            "  warnings.warn(\n"
          ]
        },
        {
          "output_type": "stream",
          "name": "stdout",
          "text": [
            "\n",
            "Training and evaluating: LightGBM\n",
            "[LightGBM] [Info] Auto-choosing row-wise multi-threading, the overhead of testing was 0.436386 seconds.\n",
            "You can set `force_row_wise=true` to remove the overhead.\n",
            "And if memory is not enough, you can set `force_col_wise=true`.\n",
            "[LightGBM] [Info] Total Bins 848\n",
            "[LightGBM] [Info] Number of data points in the train set: 751295, number of used features: 424\n",
            "[LightGBM] [Info] Start training from score -2.475510\n",
            "[LightGBM] [Info] Start training from score -1.735178\n",
            "[LightGBM] [Info] Start training from score -1.131358\n",
            "[LightGBM] [Info] Start training from score -2.356179\n",
            "[LightGBM] [Info] Start training from score -1.132786\n"
          ]
        },
        {
          "output_type": "stream",
          "name": "stderr",
          "text": [
            "/usr/local/lib/python3.11/dist-packages/sklearn/utils/deprecation.py:151: FutureWarning: 'force_all_finite' was renamed to 'ensure_all_finite' in 1.6 and will be removed in 1.8.\n",
            "  warnings.warn(\n",
            "/usr/local/lib/python3.11/dist-packages/sklearn/utils/deprecation.py:151: FutureWarning: 'force_all_finite' was renamed to 'ensure_all_finite' in 1.6 and will be removed in 1.8.\n",
            "  warnings.warn(\n",
            "/usr/local/lib/python3.11/dist-packages/sklearn/utils/deprecation.py:151: FutureWarning: 'force_all_finite' was renamed to 'ensure_all_finite' in 1.6 and will be removed in 1.8.\n",
            "  warnings.warn(\n",
            "/usr/local/lib/python3.11/dist-packages/sklearn/utils/deprecation.py:151: FutureWarning: 'force_all_finite' was renamed to 'ensure_all_finite' in 1.6 and will be removed in 1.8.\n",
            "  warnings.warn(\n",
            "Training Models:  33%|███▎      | 1/3 [03:25<06:50, 205.47s/model]"
          ]
        },
        {
          "output_type": "stream",
          "name": "stdout",
          "text": [
            "\n",
            "Training and evaluating: XGBoost\n"
          ]
        },
        {
          "output_type": "stream",
          "name": "stderr",
          "text": [
            "/usr/local/lib/python3.11/dist-packages/xgboost/core.py:158: UserWarning: [14:42:17] WARNING: /workspace/src/learner.cc:740: \n",
            "Parameters: { \"use_label_encoder\" } are not used.\n",
            "\n",
            "  warnings.warn(smsg, UserWarning)\n",
            "Training Models:  67%|██████▋   | 2/3 [07:10<03:37, 217.22s/model]/usr/local/lib/python3.11/dist-packages/sklearn/preprocessing/_label.py:93: DataConversionWarning: A column-vector y was passed when a 1d array was expected. Please change the shape of y to (n_samples, ), for example using ravel().\n",
            "  y = column_or_1d(y, warn=True)\n",
            "/usr/local/lib/python3.11/dist-packages/sklearn/preprocessing/_label.py:129: DataConversionWarning: A column-vector y was passed when a 1d array was expected. Please change the shape of y to (n_samples, ), for example using ravel().\n",
            "  y = column_or_1d(y, dtype=self.classes_.dtype, warn=True)\n",
            "/usr/local/lib/python3.11/dist-packages/sklearn/utils/deprecation.py:151: FutureWarning: 'force_all_finite' was renamed to 'ensure_all_finite' in 1.6 and will be removed in 1.8.\n",
            "  warnings.warn(\n"
          ]
        },
        {
          "output_type": "stream",
          "name": "stdout",
          "text": [
            "\n",
            "Training and evaluating: CatBoost\n",
            "[LightGBM] [Info] Auto-choosing row-wise multi-threading, the overhead of testing was 0.443743 seconds.\n",
            "You can set `force_row_wise=true` to remove the overhead.\n",
            "And if memory is not enough, you can set `force_col_wise=true`.\n",
            "[LightGBM] [Info] Total Bins 848\n",
            "[LightGBM] [Info] Number of data points in the train set: 751295, number of used features: 424\n",
            "[LightGBM] [Info] Start training from score -2.475510\n",
            "[LightGBM] [Info] Start training from score -1.735178\n",
            "[LightGBM] [Info] Start training from score -1.131358\n",
            "[LightGBM] [Info] Start training from score -2.356179\n",
            "[LightGBM] [Info] Start training from score -1.132786\n"
          ]
        },
        {
          "output_type": "stream",
          "name": "stderr",
          "text": [
            "/usr/local/lib/python3.11/dist-packages/sklearn/utils/deprecation.py:151: FutureWarning: 'force_all_finite' was renamed to 'ensure_all_finite' in 1.6 and will be removed in 1.8.\n",
            "  warnings.warn(\n",
            "/usr/local/lib/python3.11/dist-packages/sklearn/utils/deprecation.py:151: FutureWarning: 'force_all_finite' was renamed to 'ensure_all_finite' in 1.6 and will be removed in 1.8.\n",
            "  warnings.warn(\n",
            "/usr/local/lib/python3.11/dist-packages/sklearn/utils/deprecation.py:151: FutureWarning: 'force_all_finite' was renamed to 'ensure_all_finite' in 1.6 and will be removed in 1.8.\n",
            "  warnings.warn(\n",
            "/usr/local/lib/python3.11/dist-packages/sklearn/utils/deprecation.py:151: FutureWarning: 'force_all_finite' was renamed to 'ensure_all_finite' in 1.6 and will be removed in 1.8.\n",
            "  warnings.warn(\n",
            "Training Models: 100%|██████████| 3/3 [10:21<00:00, 207.18s/model]"
          ]
        },
        {
          "output_type": "stream",
          "name": "stdout",
          "text": [
            "\n",
            "JSON saved to: results/summary_metrics.json\n",
            "\n",
            "Validation and Test Metrics (using MCC):\n",
            "LightGBM: Val Accuracy = 0.2843, Val MCC = 0.5280, Test Accuracy = 0.2845, Test MCC = 0.5295\n",
            "XGBoost: Val Accuracy = 0.2805, Val MCC = 0.5475, Test Accuracy = 0.2809, Test MCC = 0.5473\n",
            "CatBoost: Val Accuracy = 0.2843, Val MCC = 0.5280, Test Accuracy = 0.2845, Test MCC = 0.5295\n"
          ]
        },
        {
          "output_type": "stream",
          "name": "stderr",
          "text": [
            "\n"
          ]
        },
        {
          "output_type": "execute_result",
          "data": {
            "text/plain": [
              "{'LightGBM': {'Validation Accuracy': np.float64(0.2842633087831536),\n",
              "  'Validation ROC AUC': np.float64(0.8833818392662312),\n",
              "  'Validation MCC': np.float64(0.528027057806396),\n",
              "  'Test Accuracy': np.float64(0.28450987286544877),\n",
              "  'Test ROC AUC': np.float64(0.8837867765931178),\n",
              "  'Test MCC': np.float64(0.5294668306686349)},\n",
              " 'XGBoost': {'Validation Accuracy': np.float64(0.28046265311783),\n",
              "  'Validation ROC AUC': np.float64(0.8927654293902281),\n",
              "  'Validation MCC': np.float64(0.5474946051737586),\n",
              "  'Test Accuracy': np.float64(0.28091498583330704),\n",
              "  'Test ROC AUC': np.float64(0.8928773798904527),\n",
              "  'Test MCC': np.float64(0.5472856313529633)},\n",
              " 'CatBoost': {'Validation Accuracy': np.float64(0.2842633087831536),\n",
              "  'Validation ROC AUC': np.float64(0.8833818392662312),\n",
              "  'Validation MCC': np.float64(0.528027057806396),\n",
              "  'Test Accuracy': np.float64(0.28450987286544877),\n",
              "  'Test ROC AUC': np.float64(0.8837867765931178),\n",
              "  'Test MCC': np.float64(0.5294668306686349)}}"
            ]
          },
          "metadata": {},
          "execution_count": 16
        }
      ]
    },
    {
      "cell_type": "markdown",
      "source": [
        "#AGORA-MC-I-50"
      ],
      "metadata": {
        "id": "pJqG6SKb4bse"
      }
    },
    {
      "cell_type": "code",
      "source": [
        "X_train, X_val, X_test, y_train, y_val, y_test = load(train_list)\n",
        "\n",
        "models = {\n",
        "    \"LightGBM\": LGBMClassifier(random_state=4221),\n",
        "    \"XGBoost\": XGBClassifier(use_label_encoder=False, eval_metric=\"logloss\", random_state=4221),\n",
        "    \"CatBoost\": LGBMClassifier(random_state=42)\n",
        "}\n",
        "\n",
        "train_val_and_test(models, X_train, y_train, X_val, y_val, X_test, y_test, seed=4221, class_labels=['Comp', 'FCoop', 'O_xx_Coop'])"
      ],
      "metadata": {
        "colab": {
          "base_uri": "https://localhost:8080/"
        },
        "id": "LA0xrs744by7",
        "outputId": "13361a04-0dae-4b2b-8fc5-7a23876127cd"
      },
      "execution_count": null,
      "outputs": [
        {
          "output_type": "stream",
          "name": "stderr",
          "text": [
            "\rTraining Models:   0%|          | 0/3 [00:00<?, ?model/s]/usr/local/lib/python3.11/dist-packages/sklearn/preprocessing/_label.py:93: DataConversionWarning: A column-vector y was passed when a 1d array was expected. Please change the shape of y to (n_samples, ), for example using ravel().\n",
            "  y = column_or_1d(y, warn=True)\n",
            "/usr/local/lib/python3.11/dist-packages/sklearn/preprocessing/_label.py:129: DataConversionWarning: A column-vector y was passed when a 1d array was expected. Please change the shape of y to (n_samples, ), for example using ravel().\n",
            "  y = column_or_1d(y, dtype=self.classes_.dtype, warn=True)\n",
            "/usr/local/lib/python3.11/dist-packages/sklearn/utils/deprecation.py:151: FutureWarning: 'force_all_finite' was renamed to 'ensure_all_finite' in 1.6 and will be removed in 1.8.\n",
            "  warnings.warn(\n"
          ]
        },
        {
          "output_type": "stream",
          "name": "stdout",
          "text": [
            "\n",
            "Training and evaluating: LightGBM\n",
            "[LightGBM] [Info] Auto-choosing row-wise multi-threading, the overhead of testing was 0.379751 seconds.\n",
            "You can set `force_row_wise=true` to remove the overhead.\n",
            "And if memory is not enough, you can set `force_col_wise=true`.\n",
            "[LightGBM] [Info] Total Bins 846\n",
            "[LightGBM] [Info] Number of data points in the train set: 338353, number of used features: 423\n",
            "[LightGBM] [Info] Start training from score -3.520006\n",
            "[LightGBM] [Info] Start training from score -2.041606\n",
            "[LightGBM] [Info] Start training from score -0.173662\n"
          ]
        },
        {
          "output_type": "stream",
          "name": "stderr",
          "text": [
            "/usr/local/lib/python3.11/dist-packages/sklearn/utils/deprecation.py:151: FutureWarning: 'force_all_finite' was renamed to 'ensure_all_finite' in 1.6 and will be removed in 1.8.\n",
            "  warnings.warn(\n",
            "/usr/local/lib/python3.11/dist-packages/sklearn/utils/deprecation.py:151: FutureWarning: 'force_all_finite' was renamed to 'ensure_all_finite' in 1.6 and will be removed in 1.8.\n",
            "  warnings.warn(\n",
            "/usr/local/lib/python3.11/dist-packages/sklearn/utils/deprecation.py:151: FutureWarning: 'force_all_finite' was renamed to 'ensure_all_finite' in 1.6 and will be removed in 1.8.\n",
            "  warnings.warn(\n",
            "/usr/local/lib/python3.11/dist-packages/sklearn/utils/deprecation.py:151: FutureWarning: 'force_all_finite' was renamed to 'ensure_all_finite' in 1.6 and will be removed in 1.8.\n",
            "  warnings.warn(\n",
            "Training Models:  33%|███▎      | 1/3 [00:47<01:35, 47.97s/model]"
          ]
        },
        {
          "output_type": "stream",
          "name": "stdout",
          "text": [
            "\n",
            "Training and evaluating: XGBoost\n"
          ]
        },
        {
          "output_type": "stream",
          "name": "stderr",
          "text": [
            "/usr/local/lib/python3.11/dist-packages/xgboost/core.py:158: UserWarning: [14:07:17] WARNING: /workspace/src/learner.cc:740: \n",
            "Parameters: { \"use_label_encoder\" } are not used.\n",
            "\n",
            "  warnings.warn(smsg, UserWarning)\n",
            "Training Models:  67%|██████▋   | 2/3 [01:47<00:54, 54.71s/model]/usr/local/lib/python3.11/dist-packages/sklearn/preprocessing/_label.py:93: DataConversionWarning: A column-vector y was passed when a 1d array was expected. Please change the shape of y to (n_samples, ), for example using ravel().\n",
            "  y = column_or_1d(y, warn=True)\n",
            "/usr/local/lib/python3.11/dist-packages/sklearn/preprocessing/_label.py:129: DataConversionWarning: A column-vector y was passed when a 1d array was expected. Please change the shape of y to (n_samples, ), for example using ravel().\n",
            "  y = column_or_1d(y, dtype=self.classes_.dtype, warn=True)\n",
            "/usr/local/lib/python3.11/dist-packages/sklearn/utils/deprecation.py:151: FutureWarning: 'force_all_finite' was renamed to 'ensure_all_finite' in 1.6 and will be removed in 1.8.\n",
            "  warnings.warn(\n"
          ]
        },
        {
          "output_type": "stream",
          "name": "stdout",
          "text": [
            "\n",
            "Training and evaluating: CatBoost\n",
            "[LightGBM] [Info] Auto-choosing row-wise multi-threading, the overhead of testing was 0.444431 seconds.\n",
            "You can set `force_row_wise=true` to remove the overhead.\n",
            "And if memory is not enough, you can set `force_col_wise=true`.\n",
            "[LightGBM] [Info] Total Bins 846\n",
            "[LightGBM] [Info] Number of data points in the train set: 338353, number of used features: 423\n",
            "[LightGBM] [Info] Start training from score -3.520006\n",
            "[LightGBM] [Info] Start training from score -2.041606\n",
            "[LightGBM] [Info] Start training from score -0.173662\n"
          ]
        },
        {
          "output_type": "stream",
          "name": "stderr",
          "text": [
            "/usr/local/lib/python3.11/dist-packages/sklearn/utils/deprecation.py:151: FutureWarning: 'force_all_finite' was renamed to 'ensure_all_finite' in 1.6 and will be removed in 1.8.\n",
            "  warnings.warn(\n",
            "/usr/local/lib/python3.11/dist-packages/sklearn/utils/deprecation.py:151: FutureWarning: 'force_all_finite' was renamed to 'ensure_all_finite' in 1.6 and will be removed in 1.8.\n",
            "  warnings.warn(\n",
            "/usr/local/lib/python3.11/dist-packages/sklearn/utils/deprecation.py:151: FutureWarning: 'force_all_finite' was renamed to 'ensure_all_finite' in 1.6 and will be removed in 1.8.\n",
            "  warnings.warn(\n",
            "/usr/local/lib/python3.11/dist-packages/sklearn/utils/deprecation.py:151: FutureWarning: 'force_all_finite' was renamed to 'ensure_all_finite' in 1.6 and will be removed in 1.8.\n",
            "  warnings.warn(\n",
            "Training Models: 100%|██████████| 3/3 [02:37<00:00, 52.52s/model]"
          ]
        },
        {
          "output_type": "stream",
          "name": "stdout",
          "text": [
            "\n",
            "JSON saved to: results/summary_metrics.json\n",
            "\n",
            "Validation and Test Metrics (using MCC):\n",
            "LightGBM: Val Accuracy = 0.7776, Val MCC = 0.5028, Test Accuracy = 0.7778, Test MCC = 0.5085\n",
            "XGBoost: Val Accuracy = 0.7736, Val MCC = 0.5153, Test Accuracy = 0.7734, Test MCC = 0.5208\n",
            "CatBoost: Val Accuracy = 0.7775, Val MCC = 0.5007, Test Accuracy = 0.7779, Test MCC = 0.5087\n"
          ]
        },
        {
          "output_type": "stream",
          "name": "stderr",
          "text": [
            "\n"
          ]
        },
        {
          "output_type": "execute_result",
          "data": {
            "text/plain": [
              "{'LightGBM': {'Validation Accuracy': np.float64(0.7776032120403713),\n",
              "  'Validation ROC AUC': np.float64(0.9305143145888296),\n",
              "  'Validation MCC': np.float64(0.5027881838086422),\n",
              "  'Test Accuracy': np.float64(0.7778486902501015),\n",
              "  'Test ROC AUC': np.float64(0.931195242046915),\n",
              "  'Test MCC': np.float64(0.5084683418112973)},\n",
              " 'XGBoost': {'Validation Accuracy': np.float64(0.7735654494880254),\n",
              "  'Validation ROC AUC': np.float64(0.9342456159582608),\n",
              "  'Validation MCC': np.float64(0.515292142305787),\n",
              "  'Test Accuracy': np.float64(0.7734482542114954),\n",
              "  'Test ROC AUC': np.float64(0.9353588424914906),\n",
              "  'Test MCC': np.float64(0.5208023162649784)},\n",
              " 'CatBoost': {'Validation Accuracy': np.float64(0.7774996082586759),\n",
              "  'Validation ROC AUC': np.float64(0.9302260505220822),\n",
              "  'Validation MCC': np.float64(0.5007273626709302),\n",
              "  'Test Accuracy': np.float64(0.7778788941196172),\n",
              "  'Test ROC AUC': np.float64(0.9311360346958406),\n",
              "  'Test MCC': np.float64(0.5086941683398922)}}"
            ]
          },
          "metadata": {},
          "execution_count": 8
        }
      ]
    },
    {
      "cell_type": "markdown",
      "source": [
        "# AGORA-MC-II-50"
      ],
      "metadata": {
        "id": "1wIqj3o55zkD"
      }
    },
    {
      "cell_type": "code",
      "source": [
        "X_train, X_val, X_test, y_train, y_val, y_test = load(train_list)\n",
        "\n",
        "models = {\n",
        "    \"LightGBM\": LGBMClassifier(random_state=4221),\n",
        "    \"XGBoost\": XGBClassifier(use_label_encoder=False, eval_metric=\"logloss\", random_state=4221),\n",
        "    \"CatBoost\": LGBMClassifier(random_state=42)\n",
        "}\n",
        "\n",
        "train_val_and_test(models, X_train, y_train, X_val, y_val, X_test, y_test, seed=4221, class_labels=['O_plusx_Coop', 'O_xplus_Coop', 'O_xx_Coop'])"
      ],
      "metadata": {
        "colab": {
          "base_uri": "https://localhost:8080/"
        },
        "id": "W7OO3ZzO6A5d",
        "outputId": "13ccc5c5-e084-4186-d408-b0f559d76aa3"
      },
      "execution_count": null,
      "outputs": [
        {
          "output_type": "stream",
          "name": "stderr",
          "text": [
            "\rTraining Models:   0%|          | 0/3 [00:00<?, ?model/s]/usr/local/lib/python3.11/dist-packages/sklearn/preprocessing/_label.py:93: DataConversionWarning: A column-vector y was passed when a 1d array was expected. Please change the shape of y to (n_samples, ), for example using ravel().\n",
            "  y = column_or_1d(y, warn=True)\n",
            "/usr/local/lib/python3.11/dist-packages/sklearn/preprocessing/_label.py:129: DataConversionWarning: A column-vector y was passed when a 1d array was expected. Please change the shape of y to (n_samples, ), for example using ravel().\n",
            "  y = column_or_1d(y, dtype=self.classes_.dtype, warn=True)\n",
            "/usr/local/lib/python3.11/dist-packages/sklearn/utils/deprecation.py:151: FutureWarning: 'force_all_finite' was renamed to 'ensure_all_finite' in 1.6 and will be removed in 1.8.\n",
            "  warnings.warn(\n"
          ]
        },
        {
          "output_type": "stream",
          "name": "stdout",
          "text": [
            "\n",
            "Training and evaluating: LightGBM\n",
            "[LightGBM] [Info] Auto-choosing row-wise multi-threading, the overhead of testing was 0.666208 seconds.\n",
            "You can set `force_row_wise=true` to remove the overhead.\n",
            "And if memory is not enough, you can set `force_col_wise=true`.\n",
            "[LightGBM] [Info] Total Bins 848\n",
            "[LightGBM] [Info] Number of data points in the train set: 644742, number of used features: 424\n",
            "[LightGBM] [Info] Start training from score -0.818563\n",
            "[LightGBM] [Info] Start training from score -2.147184\n",
            "[LightGBM] [Info] Start training from score -0.816168\n"
          ]
        },
        {
          "output_type": "stream",
          "name": "stderr",
          "text": [
            "/usr/local/lib/python3.11/dist-packages/sklearn/utils/deprecation.py:151: FutureWarning: 'force_all_finite' was renamed to 'ensure_all_finite' in 1.6 and will be removed in 1.8.\n",
            "  warnings.warn(\n",
            "/usr/local/lib/python3.11/dist-packages/sklearn/utils/deprecation.py:151: FutureWarning: 'force_all_finite' was renamed to 'ensure_all_finite' in 1.6 and will be removed in 1.8.\n",
            "  warnings.warn(\n",
            "/usr/local/lib/python3.11/dist-packages/sklearn/utils/deprecation.py:151: FutureWarning: 'force_all_finite' was renamed to 'ensure_all_finite' in 1.6 and will be removed in 1.8.\n",
            "  warnings.warn(\n",
            "/usr/local/lib/python3.11/dist-packages/sklearn/utils/deprecation.py:151: FutureWarning: 'force_all_finite' was renamed to 'ensure_all_finite' in 1.6 and will be removed in 1.8.\n",
            "  warnings.warn(\n",
            "Training Models:  33%|███▎      | 1/3 [02:12<04:25, 132.85s/model]"
          ]
        },
        {
          "output_type": "stream",
          "name": "stdout",
          "text": [
            "\n",
            "Training and evaluating: XGBoost\n"
          ]
        },
        {
          "output_type": "stream",
          "name": "stderr",
          "text": [
            "/usr/local/lib/python3.11/dist-packages/xgboost/core.py:158: UserWarning: [14:20:37] WARNING: /workspace/src/learner.cc:740: \n",
            "Parameters: { \"use_label_encoder\" } are not used.\n",
            "\n",
            "  warnings.warn(smsg, UserWarning)\n",
            "Training Models:  67%|██████▋   | 2/3 [04:33<02:17, 137.50s/model]/usr/local/lib/python3.11/dist-packages/sklearn/preprocessing/_label.py:93: DataConversionWarning: A column-vector y was passed when a 1d array was expected. Please change the shape of y to (n_samples, ), for example using ravel().\n",
            "  y = column_or_1d(y, warn=True)\n",
            "/usr/local/lib/python3.11/dist-packages/sklearn/preprocessing/_label.py:129: DataConversionWarning: A column-vector y was passed when a 1d array was expected. Please change the shape of y to (n_samples, ), for example using ravel().\n",
            "  y = column_or_1d(y, dtype=self.classes_.dtype, warn=True)\n",
            "/usr/local/lib/python3.11/dist-packages/sklearn/utils/deprecation.py:151: FutureWarning: 'force_all_finite' was renamed to 'ensure_all_finite' in 1.6 and will be removed in 1.8.\n",
            "  warnings.warn(\n"
          ]
        },
        {
          "output_type": "stream",
          "name": "stdout",
          "text": [
            "\n",
            "Training and evaluating: CatBoost\n",
            "[LightGBM] [Info] Auto-choosing row-wise multi-threading, the overhead of testing was 0.494641 seconds.\n",
            "You can set `force_row_wise=true` to remove the overhead.\n",
            "And if memory is not enough, you can set `force_col_wise=true`.\n",
            "[LightGBM] [Info] Total Bins 848\n",
            "[LightGBM] [Info] Number of data points in the train set: 644742, number of used features: 424\n",
            "[LightGBM] [Info] Start training from score -0.818563\n",
            "[LightGBM] [Info] Start training from score -2.147184\n",
            "[LightGBM] [Info] Start training from score -0.816168\n"
          ]
        },
        {
          "output_type": "stream",
          "name": "stderr",
          "text": [
            "/usr/local/lib/python3.11/dist-packages/sklearn/utils/deprecation.py:151: FutureWarning: 'force_all_finite' was renamed to 'ensure_all_finite' in 1.6 and will be removed in 1.8.\n",
            "  warnings.warn(\n",
            "/usr/local/lib/python3.11/dist-packages/sklearn/utils/deprecation.py:151: FutureWarning: 'force_all_finite' was renamed to 'ensure_all_finite' in 1.6 and will be removed in 1.8.\n",
            "  warnings.warn(\n",
            "/usr/local/lib/python3.11/dist-packages/sklearn/utils/deprecation.py:151: FutureWarning: 'force_all_finite' was renamed to 'ensure_all_finite' in 1.6 and will be removed in 1.8.\n",
            "  warnings.warn(\n",
            "/usr/local/lib/python3.11/dist-packages/sklearn/utils/deprecation.py:151: FutureWarning: 'force_all_finite' was renamed to 'ensure_all_finite' in 1.6 and will be removed in 1.8.\n",
            "  warnings.warn(\n",
            "Training Models: 100%|██████████| 3/3 [06:45<00:00, 135.31s/model]"
          ]
        },
        {
          "output_type": "stream",
          "name": "stdout",
          "text": [
            "\n",
            "JSON saved to: results/summary_metrics.json\n",
            "\n",
            "Validation and Test Metrics (using MCC):\n",
            "LightGBM: Val Accuracy = 0.4358, Val MCC = 0.4438, Test Accuracy = 0.4352, Test MCC = 0.4438\n",
            "XGBoost: Val Accuracy = 0.4343, Val MCC = 0.4588, Test Accuracy = 0.4337, Test MCC = 0.4584\n",
            "CatBoost: Val Accuracy = 0.4358, Val MCC = 0.4438, Test Accuracy = 0.4352, Test MCC = 0.4438\n"
          ]
        },
        {
          "output_type": "stream",
          "name": "stderr",
          "text": [
            "\n"
          ]
        },
        {
          "output_type": "execute_result",
          "data": {
            "text/plain": [
              "{'LightGBM': {'Validation Accuracy': np.float64(0.43579775562667117),\n",
              "  'Validation ROC AUC': np.float64(0.8253162889995638),\n",
              "  'Validation MCC': np.float64(0.44376233638924817),\n",
              "  'Test Accuracy': np.float64(0.4351901461316956),\n",
              "  'Test ROC AUC': np.float64(0.8253852234122853),\n",
              "  'Test MCC': np.float64(0.44384662064234565)},\n",
              " 'XGBoost': {'Validation Accuracy': np.float64(0.4342737818185562),\n",
              "  'Validation ROC AUC': np.float64(0.834350203967905),\n",
              "  'Validation MCC': np.float64(0.458758606512029),\n",
              "  'Test Accuracy': np.float64(0.4337476512741263),\n",
              "  'Test ROC AUC': np.float64(0.8345216041624915),\n",
              "  'Test MCC': np.float64(0.4584290950505986)},\n",
              " 'CatBoost': {'Validation Accuracy': np.float64(0.43579775562667117),\n",
              "  'Validation ROC AUC': np.float64(0.8253162889995638),\n",
              "  'Validation MCC': np.float64(0.44376233638924817),\n",
              "  'Test Accuracy': np.float64(0.4351901461316956),\n",
              "  'Test ROC AUC': np.float64(0.8253852234122853),\n",
              "  'Test MCC': np.float64(0.44384662064234565)}}"
            ]
          },
          "metadata": {},
          "execution_count": 7
        }
      ]
    },
    {
      "cell_type": "markdown",
      "source": [
        "#AGORA-MC-III-50"
      ],
      "metadata": {
        "id": "fpoQzczx6LSV"
      }
    },
    {
      "cell_type": "code",
      "source": [
        "X_train, X_val, X_test, y_train, y_val, y_test = load(train_list)\n",
        "\n",
        "models = {\n",
        "    \"LightGBM\": LGBMClassifier(random_state=4221),\n",
        "    \"XGBoost\": XGBClassifier(use_label_encoder=False, eval_metric=\"logloss\", random_state=4221),\n",
        "    \"CatBoost\": LGBMClassifier(random_state=42)\n",
        "}\n",
        "\n",
        "train_val_and_test(models, X_train, y_train, X_val, y_val, X_test, y_test, seed=4221, class_labels=['Comp', 'FCoop', 'O_plusx_Coop', 'O_xplus_Coop', 'O_xx_Coop'])"
      ],
      "metadata": {
        "colab": {
          "base_uri": "https://localhost:8080/"
        },
        "id": "HRipDnju6Z-r",
        "outputId": "f0a7a9fc-8246-4d0e-fbbb-4c10ba1e622d"
      },
      "execution_count": null,
      "outputs": [
        {
          "output_type": "stream",
          "name": "stderr",
          "text": [
            "\rTraining Models:   0%|          | 0/3 [00:00<?, ?model/s]/usr/local/lib/python3.11/dist-packages/sklearn/preprocessing/_label.py:93: DataConversionWarning: A column-vector y was passed when a 1d array was expected. Please change the shape of y to (n_samples, ), for example using ravel().\n",
            "  y = column_or_1d(y, warn=True)\n",
            "/usr/local/lib/python3.11/dist-packages/sklearn/preprocessing/_label.py:129: DataConversionWarning: A column-vector y was passed when a 1d array was expected. Please change the shape of y to (n_samples, ), for example using ravel().\n",
            "  y = column_or_1d(y, dtype=self.classes_.dtype, warn=True)\n",
            "/usr/local/lib/python3.11/dist-packages/sklearn/utils/deprecation.py:151: FutureWarning: 'force_all_finite' was renamed to 'ensure_all_finite' in 1.6 and will be removed in 1.8.\n",
            "  warnings.warn(\n"
          ]
        },
        {
          "output_type": "stream",
          "name": "stdout",
          "text": [
            "\n",
            "Training and evaluating: LightGBM\n",
            "[LightGBM] [Info] Auto-choosing row-wise multi-threading, the overhead of testing was 0.549162 seconds.\n",
            "You can set `force_row_wise=true` to remove the overhead.\n",
            "And if memory is not enough, you can set `force_col_wise=true`.\n",
            "[LightGBM] [Info] Total Bins 848\n",
            "[LightGBM] [Info] Number of data points in the train set: 698443, number of used features: 424\n",
            "[LightGBM] [Info] Start training from score -4.239591\n",
            "[LightGBM] [Info] Start training from score -2.776530\n",
            "[LightGBM] [Info] Start training from score -0.897653\n",
            "[LightGBM] [Info] Start training from score -2.223596\n",
            "[LightGBM] [Info] Start training from score -0.897498\n"
          ]
        },
        {
          "output_type": "stream",
          "name": "stderr",
          "text": [
            "/usr/local/lib/python3.11/dist-packages/sklearn/utils/deprecation.py:151: FutureWarning: 'force_all_finite' was renamed to 'ensure_all_finite' in 1.6 and will be removed in 1.8.\n",
            "  warnings.warn(\n",
            "/usr/local/lib/python3.11/dist-packages/sklearn/utils/deprecation.py:151: FutureWarning: 'force_all_finite' was renamed to 'ensure_all_finite' in 1.6 and will be removed in 1.8.\n",
            "  warnings.warn(\n",
            "/usr/local/lib/python3.11/dist-packages/sklearn/utils/deprecation.py:151: FutureWarning: 'force_all_finite' was renamed to 'ensure_all_finite' in 1.6 and will be removed in 1.8.\n",
            "  warnings.warn(\n",
            "/usr/local/lib/python3.11/dist-packages/sklearn/utils/deprecation.py:151: FutureWarning: 'force_all_finite' was renamed to 'ensure_all_finite' in 1.6 and will be removed in 1.8.\n",
            "  warnings.warn(\n",
            "Training Models:  33%|███▎      | 1/3 [02:43<05:26, 163.20s/model]"
          ]
        },
        {
          "output_type": "stream",
          "name": "stdout",
          "text": [
            "\n",
            "Training and evaluating: XGBoost\n"
          ]
        },
        {
          "output_type": "stream",
          "name": "stderr",
          "text": [
            "/usr/local/lib/python3.11/dist-packages/xgboost/core.py:158: UserWarning: [14:29:55] WARNING: /workspace/src/learner.cc:740: \n",
            "Parameters: { \"use_label_encoder\" } are not used.\n",
            "\n",
            "  warnings.warn(smsg, UserWarning)\n",
            "Training Models:  67%|██████▋   | 2/3 [05:46<02:55, 175.25s/model]/usr/local/lib/python3.11/dist-packages/sklearn/preprocessing/_label.py:93: DataConversionWarning: A column-vector y was passed when a 1d array was expected. Please change the shape of y to (n_samples, ), for example using ravel().\n",
            "  y = column_or_1d(y, warn=True)\n",
            "/usr/local/lib/python3.11/dist-packages/sklearn/preprocessing/_label.py:129: DataConversionWarning: A column-vector y was passed when a 1d array was expected. Please change the shape of y to (n_samples, ), for example using ravel().\n",
            "  y = column_or_1d(y, dtype=self.classes_.dtype, warn=True)\n",
            "/usr/local/lib/python3.11/dist-packages/sklearn/utils/deprecation.py:151: FutureWarning: 'force_all_finite' was renamed to 'ensure_all_finite' in 1.6 and will be removed in 1.8.\n",
            "  warnings.warn(\n"
          ]
        },
        {
          "output_type": "stream",
          "name": "stdout",
          "text": [
            "\n",
            "Training and evaluating: CatBoost\n",
            "[LightGBM] [Info] Auto-choosing row-wise multi-threading, the overhead of testing was 0.533100 seconds.\n",
            "You can set `force_row_wise=true` to remove the overhead.\n",
            "And if memory is not enough, you can set `force_col_wise=true`.\n",
            "[LightGBM] [Info] Total Bins 848\n",
            "[LightGBM] [Info] Number of data points in the train set: 698443, number of used features: 424\n",
            "[LightGBM] [Info] Start training from score -4.239591\n",
            "[LightGBM] [Info] Start training from score -2.776530\n",
            "[LightGBM] [Info] Start training from score -0.897653\n",
            "[LightGBM] [Info] Start training from score -2.223596\n",
            "[LightGBM] [Info] Start training from score -0.897498\n"
          ]
        },
        {
          "output_type": "stream",
          "name": "stderr",
          "text": [
            "/usr/local/lib/python3.11/dist-packages/sklearn/utils/deprecation.py:151: FutureWarning: 'force_all_finite' was renamed to 'ensure_all_finite' in 1.6 and will be removed in 1.8.\n",
            "  warnings.warn(\n",
            "/usr/local/lib/python3.11/dist-packages/sklearn/utils/deprecation.py:151: FutureWarning: 'force_all_finite' was renamed to 'ensure_all_finite' in 1.6 and will be removed in 1.8.\n",
            "  warnings.warn(\n",
            "/usr/local/lib/python3.11/dist-packages/sklearn/utils/deprecation.py:151: FutureWarning: 'force_all_finite' was renamed to 'ensure_all_finite' in 1.6 and will be removed in 1.8.\n",
            "  warnings.warn(\n",
            "/usr/local/lib/python3.11/dist-packages/sklearn/utils/deprecation.py:151: FutureWarning: 'force_all_finite' was renamed to 'ensure_all_finite' in 1.6 and will be removed in 1.8.\n",
            "  warnings.warn(\n",
            "Training Models: 100%|██████████| 3/3 [08:29<00:00, 169.70s/model]"
          ]
        },
        {
          "output_type": "stream",
          "name": "stdout",
          "text": [
            "\n",
            "JSON saved to: results/summary_metrics.json\n",
            "\n",
            "Validation and Test Metrics (using MCC):\n",
            "LightGBM: Val Accuracy = 0.3981, Val MCC = 0.3996, Test Accuracy = 0.3994, Test MCC = 0.4047\n",
            "XGBoost: Val Accuracy = 0.3973, Val MCC = 0.4099, Test Accuracy = 0.3984, Test MCC = 0.4137\n",
            "CatBoost: Val Accuracy = 0.3981, Val MCC = 0.3996, Test Accuracy = 0.3994, Test MCC = 0.4047\n"
          ]
        },
        {
          "output_type": "stream",
          "name": "stderr",
          "text": [
            "\n"
          ]
        },
        {
          "output_type": "execute_result",
          "data": {
            "text/plain": [
              "{'LightGBM': {'Validation Accuracy': np.float64(0.39811903441029367),\n",
              "  'Validation ROC AUC': np.float64(0.8181034081933556),\n",
              "  'Validation MCC': np.float64(0.39964167545130785),\n",
              "  'Test Accuracy': np.float64(0.3994332285736168),\n",
              "  'Test ROC AUC': np.float64(0.8197812012873344),\n",
              "  'Test MCC': np.float64(0.4047089952155461)},\n",
              " 'XGBoost': {'Validation Accuracy': np.float64(0.3972690101273393),\n",
              "  'Validation ROC AUC': np.float64(0.824911461131207),\n",
              "  'Validation MCC': np.float64(0.40992002034841507),\n",
              "  'Test Accuracy': np.float64(0.3984324218301376),\n",
              "  'Test ROC AUC': np.float64(0.8265205573439174),\n",
              "  'Test MCC': np.float64(0.4136669888310119)},\n",
              " 'CatBoost': {'Validation Accuracy': np.float64(0.39811903441029367),\n",
              "  'Validation ROC AUC': np.float64(0.8181034081933556),\n",
              "  'Validation MCC': np.float64(0.39964167545130785),\n",
              "  'Test Accuracy': np.float64(0.3994332285736168),\n",
              "  'Test ROC AUC': np.float64(0.8197812012873344),\n",
              "  'Test MCC': np.float64(0.4047089952155461)}}"
            ]
          },
          "metadata": {},
          "execution_count": 12
        }
      ]
    },
    {
      "cell_type": "markdown",
      "source": [
        "#CARVEME-MC-I-100"
      ],
      "metadata": {
        "id": "5ijsANAN-zLH"
      }
    },
    {
      "cell_type": "code",
      "source": [
        "X_train, X_val, X_test, y_train, y_val, y_test = load(train_list)\n",
        "\n",
        "models = {\n",
        "    \"LightGBM\": LGBMClassifier(random_state=4221),\n",
        "    \"XGBoost\": XGBClassifier(use_label_encoder=False, eval_metric=\"logloss\", random_state=4221),\n",
        "    \"CatBoost\": LGBMClassifier(random_state=42)\n",
        "}\n",
        "\n",
        "train_val_and_test(models, X_train, y_train, X_val, y_val, X_test, y_test, seed=4221, class_labels=['Comp', 'FCoop', 'O_xx_Coop'])"
      ],
      "metadata": {
        "colab": {
          "base_uri": "https://localhost:8080/"
        },
        "id": "02VY4ta1-zhl",
        "outputId": "72ec5d72-8043-4256-f195-87497bc9c96b"
      },
      "execution_count": null,
      "outputs": [
        {
          "output_type": "stream",
          "name": "stderr",
          "text": [
            "\rTraining Models:   0%|          | 0/3 [00:00<?, ?model/s]/usr/local/lib/python3.11/dist-packages/sklearn/preprocessing/_label.py:93: DataConversionWarning: A column-vector y was passed when a 1d array was expected. Please change the shape of y to (n_samples, ), for example using ravel().\n",
            "  y = column_or_1d(y, warn=True)\n",
            "/usr/local/lib/python3.11/dist-packages/sklearn/preprocessing/_label.py:129: DataConversionWarning: A column-vector y was passed when a 1d array was expected. Please change the shape of y to (n_samples, ), for example using ravel().\n",
            "  y = column_or_1d(y, dtype=self.classes_.dtype, warn=True)\n",
            "/usr/local/lib/python3.11/dist-packages/sklearn/utils/deprecation.py:151: FutureWarning: 'force_all_finite' was renamed to 'ensure_all_finite' in 1.6 and will be removed in 1.8.\n",
            "  warnings.warn(\n"
          ]
        },
        {
          "output_type": "stream",
          "name": "stdout",
          "text": [
            "\n",
            "Training and evaluating: LightGBM\n",
            "[LightGBM] [Info] Auto-choosing row-wise multi-threading, the overhead of testing was 0.808094 seconds.\n",
            "You can set `force_row_wise=true` to remove the overhead.\n",
            "And if memory is not enough, you can set `force_col_wise=true`.\n",
            "[LightGBM] [Info] Total Bins 996\n",
            "[LightGBM] [Info] Number of data points in the train set: 363223, number of used features: 498\n",
            "[LightGBM] [Info] Start training from score -1.078768\n",
            "[LightGBM] [Info] Start training from score -1.557504\n",
            "[LightGBM] [Info] Start training from score -0.800010\n"
          ]
        },
        {
          "output_type": "stream",
          "name": "stderr",
          "text": [
            "/usr/local/lib/python3.11/dist-packages/sklearn/utils/deprecation.py:151: FutureWarning: 'force_all_finite' was renamed to 'ensure_all_finite' in 1.6 and will be removed in 1.8.\n",
            "  warnings.warn(\n",
            "/usr/local/lib/python3.11/dist-packages/sklearn/utils/deprecation.py:151: FutureWarning: 'force_all_finite' was renamed to 'ensure_all_finite' in 1.6 and will be removed in 1.8.\n",
            "  warnings.warn(\n",
            "/usr/local/lib/python3.11/dist-packages/sklearn/utils/deprecation.py:151: FutureWarning: 'force_all_finite' was renamed to 'ensure_all_finite' in 1.6 and will be removed in 1.8.\n",
            "  warnings.warn(\n",
            "/usr/local/lib/python3.11/dist-packages/sklearn/utils/deprecation.py:151: FutureWarning: 'force_all_finite' was renamed to 'ensure_all_finite' in 1.6 and will be removed in 1.8.\n",
            "  warnings.warn(\n",
            "Training Models:  33%|███▎      | 1/3 [01:03<02:06, 63.45s/model]"
          ]
        },
        {
          "output_type": "stream",
          "name": "stdout",
          "text": [
            "\n",
            "Training and evaluating: XGBoost\n"
          ]
        },
        {
          "output_type": "stream",
          "name": "stderr",
          "text": [
            "/usr/local/lib/python3.11/dist-packages/xgboost/core.py:158: UserWarning: [15:15:41] WARNING: /workspace/src/learner.cc:740: \n",
            "Parameters: { \"use_label_encoder\" } are not used.\n",
            "\n",
            "  warnings.warn(smsg, UserWarning)\n",
            "Training Models:  67%|██████▋   | 2/3 [02:19<01:10, 70.74s/model]/usr/local/lib/python3.11/dist-packages/sklearn/preprocessing/_label.py:93: DataConversionWarning: A column-vector y was passed when a 1d array was expected. Please change the shape of y to (n_samples, ), for example using ravel().\n",
            "  y = column_or_1d(y, warn=True)\n",
            "/usr/local/lib/python3.11/dist-packages/sklearn/preprocessing/_label.py:129: DataConversionWarning: A column-vector y was passed when a 1d array was expected. Please change the shape of y to (n_samples, ), for example using ravel().\n",
            "  y = column_or_1d(y, dtype=self.classes_.dtype, warn=True)\n",
            "/usr/local/lib/python3.11/dist-packages/sklearn/utils/deprecation.py:151: FutureWarning: 'force_all_finite' was renamed to 'ensure_all_finite' in 1.6 and will be removed in 1.8.\n",
            "  warnings.warn(\n"
          ]
        },
        {
          "output_type": "stream",
          "name": "stdout",
          "text": [
            "\n",
            "Training and evaluating: CatBoost\n",
            "[LightGBM] [Info] Auto-choosing row-wise multi-threading, the overhead of testing was 0.772198 seconds.\n",
            "You can set `force_row_wise=true` to remove the overhead.\n",
            "And if memory is not enough, you can set `force_col_wise=true`.\n",
            "[LightGBM] [Info] Total Bins 994\n",
            "[LightGBM] [Info] Number of data points in the train set: 363223, number of used features: 497\n",
            "[LightGBM] [Info] Start training from score -1.078768\n",
            "[LightGBM] [Info] Start training from score -1.557504\n",
            "[LightGBM] [Info] Start training from score -0.800010\n"
          ]
        },
        {
          "output_type": "stream",
          "name": "stderr",
          "text": [
            "/usr/local/lib/python3.11/dist-packages/sklearn/utils/deprecation.py:151: FutureWarning: 'force_all_finite' was renamed to 'ensure_all_finite' in 1.6 and will be removed in 1.8.\n",
            "  warnings.warn(\n",
            "/usr/local/lib/python3.11/dist-packages/sklearn/utils/deprecation.py:151: FutureWarning: 'force_all_finite' was renamed to 'ensure_all_finite' in 1.6 and will be removed in 1.8.\n",
            "  warnings.warn(\n",
            "/usr/local/lib/python3.11/dist-packages/sklearn/utils/deprecation.py:151: FutureWarning: 'force_all_finite' was renamed to 'ensure_all_finite' in 1.6 and will be removed in 1.8.\n",
            "  warnings.warn(\n",
            "/usr/local/lib/python3.11/dist-packages/sklearn/utils/deprecation.py:151: FutureWarning: 'force_all_finite' was renamed to 'ensure_all_finite' in 1.6 and will be removed in 1.8.\n",
            "  warnings.warn(\n",
            "Training Models: 100%|██████████| 3/3 [03:18<00:00, 66.20s/model]"
          ]
        },
        {
          "output_type": "stream",
          "name": "stdout",
          "text": [
            "\n",
            "JSON saved to: results/summary_metrics.json\n",
            "\n",
            "Validation and Test Metrics (using MCC):\n",
            "LightGBM: Val Accuracy = 0.3688, Val MCC = 0.6190, Test Accuracy = 0.3687, Test MCC = 0.6153\n",
            "XGBoost: Val Accuracy = 0.3675, Val MCC = 0.6422, Test Accuracy = 0.3674, Test MCC = 0.6405\n",
            "CatBoost: Val Accuracy = 0.3688, Val MCC = 0.6190, Test Accuracy = 0.3687, Test MCC = 0.6153\n"
          ]
        },
        {
          "output_type": "stream",
          "name": "stderr",
          "text": [
            "\n"
          ]
        },
        {
          "output_type": "execute_result",
          "data": {
            "text/plain": [
              "{'LightGBM': {'Validation Accuracy': np.float64(0.3687686104362508),\n",
              "  'Validation ROC AUC': np.float64(0.9155677042162186),\n",
              "  'Validation MCC': np.float64(0.6190035116916786),\n",
              "  'Test Accuracy': np.float64(0.36869397571458007),\n",
              "  'Test ROC AUC': np.float64(0.9144688034214438),\n",
              "  'Test MCC': np.float64(0.6152578528363983)},\n",
              " 'XGBoost': {'Validation Accuracy': np.float64(0.3674807241839347),\n",
              "  'Validation ROC AUC': np.float64(0.9246891527726856),\n",
              "  'Validation MCC': np.float64(0.6422370026025572),\n",
              "  'Test Accuracy': np.float64(0.367403833193155),\n",
              "  'Test ROC AUC': np.float64(0.9237532924939472),\n",
              "  'Test MCC': np.float64(0.6404750333949292)},\n",
              " 'CatBoost': {'Validation Accuracy': np.float64(0.3687686104362508),\n",
              "  'Validation ROC AUC': np.float64(0.9155677042162186),\n",
              "  'Validation MCC': np.float64(0.6190035116916786),\n",
              "  'Test Accuracy': np.float64(0.36869397571458007),\n",
              "  'Test ROC AUC': np.float64(0.9144688034214438),\n",
              "  'Test MCC': np.float64(0.6152578528363983)}}"
            ]
          },
          "metadata": {},
          "execution_count": 7
        }
      ]
    },
    {
      "cell_type": "markdown",
      "source": [
        "#CARVEME-MC-II-100"
      ],
      "metadata": {
        "id": "dyqIDOpY-zxq"
      }
    },
    {
      "cell_type": "code",
      "source": [
        "X_train, X_val, X_test, y_train, y_val, y_test = load(train_list)\n",
        "\n",
        "models = {\n",
        "    \"LightGBM\": LGBMClassifier(random_state=4221),\n",
        "    \"XGBoost\": XGBClassifier(use_label_encoder=False, eval_metric=\"logloss\", random_state=4221),\n",
        "    \"CatBoost\": LGBMClassifier(random_state=42)\n",
        "}\n",
        "\n",
        "train_val_and_test(models, X_train, y_train, X_val, y_val, X_test, y_test, seed=4221, class_labels=['O_plusx_Coop', 'O_xplus_Coop', 'O_xx_Coop'])"
      ],
      "metadata": {
        "colab": {
          "base_uri": "https://localhost:8080/"
        },
        "id": "WLsgvdex_bkM",
        "outputId": "8a828d60-91ed-4a29-c555-f3a7ce4059df"
      },
      "execution_count": null,
      "outputs": [
        {
          "output_type": "stream",
          "name": "stderr",
          "text": [
            "\rTraining Models:   0%|          | 0/3 [00:00<?, ?model/s]/usr/local/lib/python3.11/dist-packages/sklearn/preprocessing/_label.py:93: DataConversionWarning: A column-vector y was passed when a 1d array was expected. Please change the shape of y to (n_samples, ), for example using ravel().\n",
            "  y = column_or_1d(y, warn=True)\n",
            "/usr/local/lib/python3.11/dist-packages/sklearn/preprocessing/_label.py:129: DataConversionWarning: A column-vector y was passed when a 1d array was expected. Please change the shape of y to (n_samples, ), for example using ravel().\n",
            "  y = column_or_1d(y, dtype=self.classes_.dtype, warn=True)\n",
            "/usr/local/lib/python3.11/dist-packages/sklearn/utils/deprecation.py:151: FutureWarning: 'force_all_finite' was renamed to 'ensure_all_finite' in 1.6 and will be removed in 1.8.\n",
            "  warnings.warn(\n"
          ]
        },
        {
          "output_type": "stream",
          "name": "stdout",
          "text": [
            "\n",
            "Training and evaluating: LightGBM\n",
            "[LightGBM] [Info] Auto-choosing row-wise multi-threading, the overhead of testing was 0.868789 seconds.\n",
            "You can set `force_row_wise=true` to remove the overhead.\n",
            "And if memory is not enough, you can set `force_col_wise=true`.\n",
            "[LightGBM] [Info] Total Bins 996\n",
            "[LightGBM] [Info] Number of data points in the train set: 393053, number of used features: 498\n",
            "[LightGBM] [Info] Start training from score -0.876869\n",
            "[LightGBM] [Info] Start training from score -1.784365\n",
            "[LightGBM] [Info] Start training from score -0.877040\n"
          ]
        },
        {
          "output_type": "stream",
          "name": "stderr",
          "text": [
            "/usr/local/lib/python3.11/dist-packages/sklearn/utils/deprecation.py:151: FutureWarning: 'force_all_finite' was renamed to 'ensure_all_finite' in 1.6 and will be removed in 1.8.\n",
            "  warnings.warn(\n",
            "/usr/local/lib/python3.11/dist-packages/sklearn/utils/deprecation.py:151: FutureWarning: 'force_all_finite' was renamed to 'ensure_all_finite' in 1.6 and will be removed in 1.8.\n",
            "  warnings.warn(\n",
            "/usr/local/lib/python3.11/dist-packages/sklearn/utils/deprecation.py:151: FutureWarning: 'force_all_finite' was renamed to 'ensure_all_finite' in 1.6 and will be removed in 1.8.\n",
            "  warnings.warn(\n",
            "/usr/local/lib/python3.11/dist-packages/sklearn/utils/deprecation.py:151: FutureWarning: 'force_all_finite' was renamed to 'ensure_all_finite' in 1.6 and will be removed in 1.8.\n",
            "  warnings.warn(\n",
            "Training Models:  33%|███▎      | 1/3 [01:06<02:13, 66.60s/model]"
          ]
        },
        {
          "output_type": "stream",
          "name": "stdout",
          "text": [
            "\n",
            "Training and evaluating: XGBoost\n"
          ]
        },
        {
          "output_type": "stream",
          "name": "stderr",
          "text": [
            "/usr/local/lib/python3.11/dist-packages/xgboost/core.py:158: UserWarning: [15:21:23] WARNING: /workspace/src/learner.cc:740: \n",
            "Parameters: { \"use_label_encoder\" } are not used.\n",
            "\n",
            "  warnings.warn(smsg, UserWarning)\n",
            "Training Models:  67%|██████▋   | 2/3 [02:30<01:16, 76.85s/model]/usr/local/lib/python3.11/dist-packages/sklearn/preprocessing/_label.py:93: DataConversionWarning: A column-vector y was passed when a 1d array was expected. Please change the shape of y to (n_samples, ), for example using ravel().\n",
            "  y = column_or_1d(y, warn=True)\n",
            "/usr/local/lib/python3.11/dist-packages/sklearn/preprocessing/_label.py:129: DataConversionWarning: A column-vector y was passed when a 1d array was expected. Please change the shape of y to (n_samples, ), for example using ravel().\n",
            "  y = column_or_1d(y, dtype=self.classes_.dtype, warn=True)\n",
            "/usr/local/lib/python3.11/dist-packages/sklearn/utils/deprecation.py:151: FutureWarning: 'force_all_finite' was renamed to 'ensure_all_finite' in 1.6 and will be removed in 1.8.\n",
            "  warnings.warn(\n"
          ]
        },
        {
          "output_type": "stream",
          "name": "stdout",
          "text": [
            "\n",
            "Training and evaluating: CatBoost\n",
            "[LightGBM] [Info] Auto-choosing col-wise multi-threading, the overhead of testing was 0.904723 seconds.\n",
            "You can set `force_col_wise=true` to remove the overhead.\n",
            "[LightGBM] [Info] Total Bins 996\n",
            "[LightGBM] [Info] Number of data points in the train set: 393053, number of used features: 498\n",
            "[LightGBM] [Info] Start training from score -0.876869\n",
            "[LightGBM] [Info] Start training from score -1.784365\n",
            "[LightGBM] [Info] Start training from score -0.877040\n"
          ]
        },
        {
          "output_type": "stream",
          "name": "stderr",
          "text": [
            "/usr/local/lib/python3.11/dist-packages/sklearn/utils/deprecation.py:151: FutureWarning: 'force_all_finite' was renamed to 'ensure_all_finite' in 1.6 and will be removed in 1.8.\n",
            "  warnings.warn(\n",
            "/usr/local/lib/python3.11/dist-packages/sklearn/utils/deprecation.py:151: FutureWarning: 'force_all_finite' was renamed to 'ensure_all_finite' in 1.6 and will be removed in 1.8.\n",
            "  warnings.warn(\n",
            "/usr/local/lib/python3.11/dist-packages/sklearn/utils/deprecation.py:151: FutureWarning: 'force_all_finite' was renamed to 'ensure_all_finite' in 1.6 and will be removed in 1.8.\n",
            "  warnings.warn(\n",
            "/usr/local/lib/python3.11/dist-packages/sklearn/utils/deprecation.py:151: FutureWarning: 'force_all_finite' was renamed to 'ensure_all_finite' in 1.6 and will be removed in 1.8.\n",
            "  warnings.warn(\n",
            "Training Models: 100%|██████████| 3/3 [03:39<00:00, 73.03s/model]"
          ]
        },
        {
          "output_type": "stream",
          "name": "stdout",
          "text": [
            "\n",
            "JSON saved to: results/summary_metrics.json\n",
            "\n",
            "Validation and Test Metrics (using MCC):\n",
            "LightGBM: Val Accuracy = 0.4080, Val MCC = 0.5631, Test Accuracy = 0.4091, Test MCC = 0.5661\n",
            "XGBoost: Val Accuracy = 0.4046, Val MCC = 0.5748, Test Accuracy = 0.4057, Test MCC = 0.5783\n",
            "CatBoost: Val Accuracy = 0.4080, Val MCC = 0.5631, Test Accuracy = 0.4091, Test MCC = 0.5661\n"
          ]
        },
        {
          "output_type": "stream",
          "name": "stderr",
          "text": [
            "\n"
          ]
        },
        {
          "output_type": "execute_result",
          "data": {
            "text/plain": [
              "{'LightGBM': {'Validation Accuracy': np.float64(0.4080175692527074),\n",
              "  'Validation ROC AUC': np.float64(0.8716059795903909),\n",
              "  'Validation MCC': np.float64(0.5631351351862138),\n",
              "  'Test Accuracy': np.float64(0.4091107073802299),\n",
              "  'Test ROC AUC': np.float64(0.8714824580324824),\n",
              "  'Test MCC': np.float64(0.5661187971041602)},\n",
              " 'XGBoost': {'Validation Accuracy': np.float64(0.4046426596417987),\n",
              "  'Validation ROC AUC': np.float64(0.8844749768252026),\n",
              "  'Validation MCC': np.float64(0.5748492579077589),\n",
              "  'Test Accuracy': np.float64(0.40566548051735124),\n",
              "  'Test ROC AUC': np.float64(0.8840287319993244),\n",
              "  'Test MCC': np.float64(0.5783074725945463)},\n",
              " 'CatBoost': {'Validation Accuracy': np.float64(0.4080175692527074),\n",
              "  'Validation ROC AUC': np.float64(0.8716059795903909),\n",
              "  'Validation MCC': np.float64(0.5631351351862138),\n",
              "  'Test Accuracy': np.float64(0.4091107073802299),\n",
              "  'Test ROC AUC': np.float64(0.8714824580324824),\n",
              "  'Test MCC': np.float64(0.5661187971041602)}}"
            ]
          },
          "metadata": {},
          "execution_count": 12
        }
      ]
    },
    {
      "cell_type": "markdown",
      "source": [
        "#CARVEME-MC-III-100"
      ],
      "metadata": {
        "id": "Z2f1GhtR-z_o"
      }
    },
    {
      "cell_type": "code",
      "source": [
        "X_train, X_val, X_test, y_train, y_val, y_test = load(train_list)\n",
        "\n",
        "models = {\n",
        "    \"LightGBM\": LGBMClassifier(random_state=4221),\n",
        "    \"XGBoost\": XGBClassifier(use_label_encoder=False, eval_metric=\"logloss\", random_state=4221),\n",
        "    \"CatBoost\": LGBMClassifier(random_state=42)\n",
        "}\n",
        "\n",
        "train_val_and_test(models, X_train, y_train, X_val, y_val, X_test, y_test, seed=4221, class_labels=['Comp', 'FCoop', 'O_plusx_Coop', 'O_xplus_Coop', 'O_xx_Coop'])"
      ],
      "metadata": {
        "colab": {
          "base_uri": "https://localhost:8080/"
        },
        "id": "XepZUszX_lSS",
        "outputId": "7bfa6310-c2de-4429-97b4-3028ef51ab63"
      },
      "execution_count": null,
      "outputs": [
        {
          "output_type": "stream",
          "name": "stderr",
          "text": [
            "\rTraining Models:   0%|          | 0/3 [00:00<?, ?model/s]/usr/local/lib/python3.11/dist-packages/sklearn/preprocessing/_label.py:93: DataConversionWarning: A column-vector y was passed when a 1d array was expected. Please change the shape of y to (n_samples, ), for example using ravel().\n",
            "  y = column_or_1d(y, warn=True)\n",
            "/usr/local/lib/python3.11/dist-packages/sklearn/preprocessing/_label.py:129: DataConversionWarning: A column-vector y was passed when a 1d array was expected. Please change the shape of y to (n_samples, ), for example using ravel().\n",
            "  y = column_or_1d(y, dtype=self.classes_.dtype, warn=True)\n",
            "/usr/local/lib/python3.11/dist-packages/sklearn/utils/deprecation.py:151: FutureWarning: 'force_all_finite' was renamed to 'ensure_all_finite' in 1.6 and will be removed in 1.8.\n",
            "  warnings.warn(\n"
          ]
        },
        {
          "output_type": "stream",
          "name": "stdout",
          "text": [
            "\n",
            "Training and evaluating: LightGBM\n",
            "[LightGBM] [Info] Auto-choosing row-wise multi-threading, the overhead of testing was 0.780790 seconds.\n",
            "You can set `force_row_wise=true` to remove the overhead.\n",
            "And if memory is not enough, you can set `force_col_wise=true`.\n",
            "[LightGBM] [Info] Total Bins 998\n",
            "[LightGBM] [Info] Number of data points in the train set: 592816, number of used features: 499\n",
            "[LightGBM] [Info] Start training from score -1.570507\n",
            "[LightGBM] [Info] Start training from score -2.046862\n",
            "[LightGBM] [Info] Start training from score -1.288383\n",
            "[LightGBM] [Info] Start training from score -2.195502\n",
            "[LightGBM] [Info] Start training from score -1.287710\n"
          ]
        },
        {
          "output_type": "stream",
          "name": "stderr",
          "text": [
            "/usr/local/lib/python3.11/dist-packages/sklearn/utils/deprecation.py:151: FutureWarning: 'force_all_finite' was renamed to 'ensure_all_finite' in 1.6 and will be removed in 1.8.\n",
            "  warnings.warn(\n",
            "/usr/local/lib/python3.11/dist-packages/sklearn/utils/deprecation.py:151: FutureWarning: 'force_all_finite' was renamed to 'ensure_all_finite' in 1.6 and will be removed in 1.8.\n",
            "  warnings.warn(\n",
            "/usr/local/lib/python3.11/dist-packages/sklearn/utils/deprecation.py:151: FutureWarning: 'force_all_finite' was renamed to 'ensure_all_finite' in 1.6 and will be removed in 1.8.\n",
            "  warnings.warn(\n",
            "/usr/local/lib/python3.11/dist-packages/sklearn/utils/deprecation.py:151: FutureWarning: 'force_all_finite' was renamed to 'ensure_all_finite' in 1.6 and will be removed in 1.8.\n",
            "  warnings.warn(\n",
            "Training Models:  33%|███▎      | 1/3 [02:15<04:31, 135.64s/model]"
          ]
        },
        {
          "output_type": "stream",
          "name": "stdout",
          "text": [
            "\n",
            "Training and evaluating: XGBoost\n"
          ]
        },
        {
          "output_type": "stream",
          "name": "stderr",
          "text": [
            "/usr/local/lib/python3.11/dist-packages/xgboost/core.py:158: UserWarning: [14:54:02] WARNING: /workspace/src/learner.cc:740: \n",
            "Parameters: { \"use_label_encoder\" } are not used.\n",
            "\n",
            "  warnings.warn(smsg, UserWarning)\n",
            "Training Models:  67%|██████▋   | 2/3 [04:50<02:27, 147.11s/model]/usr/local/lib/python3.11/dist-packages/sklearn/preprocessing/_label.py:93: DataConversionWarning: A column-vector y was passed when a 1d array was expected. Please change the shape of y to (n_samples, ), for example using ravel().\n",
            "  y = column_or_1d(y, warn=True)\n",
            "/usr/local/lib/python3.11/dist-packages/sklearn/preprocessing/_label.py:129: DataConversionWarning: A column-vector y was passed when a 1d array was expected. Please change the shape of y to (n_samples, ), for example using ravel().\n",
            "  y = column_or_1d(y, dtype=self.classes_.dtype, warn=True)\n",
            "/usr/local/lib/python3.11/dist-packages/sklearn/utils/deprecation.py:151: FutureWarning: 'force_all_finite' was renamed to 'ensure_all_finite' in 1.6 and will be removed in 1.8.\n",
            "  warnings.warn(\n"
          ]
        },
        {
          "output_type": "stream",
          "name": "stdout",
          "text": [
            "\n",
            "Training and evaluating: CatBoost\n",
            "[LightGBM] [Info] Auto-choosing row-wise multi-threading, the overhead of testing was 0.724819 seconds.\n",
            "You can set `force_row_wise=true` to remove the overhead.\n",
            "And if memory is not enough, you can set `force_col_wise=true`.\n",
            "[LightGBM] [Info] Total Bins 998\n",
            "[LightGBM] [Info] Number of data points in the train set: 592816, number of used features: 499\n",
            "[LightGBM] [Info] Start training from score -1.570507\n",
            "[LightGBM] [Info] Start training from score -2.046862\n",
            "[LightGBM] [Info] Start training from score -1.288383\n",
            "[LightGBM] [Info] Start training from score -2.195502\n",
            "[LightGBM] [Info] Start training from score -1.287710\n"
          ]
        },
        {
          "output_type": "stream",
          "name": "stderr",
          "text": [
            "/usr/local/lib/python3.11/dist-packages/sklearn/utils/deprecation.py:151: FutureWarning: 'force_all_finite' was renamed to 'ensure_all_finite' in 1.6 and will be removed in 1.8.\n",
            "  warnings.warn(\n",
            "/usr/local/lib/python3.11/dist-packages/sklearn/utils/deprecation.py:151: FutureWarning: 'force_all_finite' was renamed to 'ensure_all_finite' in 1.6 and will be removed in 1.8.\n",
            "  warnings.warn(\n",
            "/usr/local/lib/python3.11/dist-packages/sklearn/utils/deprecation.py:151: FutureWarning: 'force_all_finite' was renamed to 'ensure_all_finite' in 1.6 and will be removed in 1.8.\n",
            "  warnings.warn(\n",
            "/usr/local/lib/python3.11/dist-packages/sklearn/utils/deprecation.py:151: FutureWarning: 'force_all_finite' was renamed to 'ensure_all_finite' in 1.6 and will be removed in 1.8.\n",
            "  warnings.warn(\n",
            "Training Models: 100%|██████████| 3/3 [07:06<00:00, 142.03s/model]"
          ]
        },
        {
          "output_type": "stream",
          "name": "stdout",
          "text": [
            "\n",
            "JSON saved to: results/summary_metrics.json\n",
            "\n",
            "Validation and Test Metrics (using MCC):\n",
            "LightGBM: Val Accuracy = 0.2465, Val MCC = 0.4412, Test Accuracy = 0.2470, Test MCC = 0.4407\n",
            "XGBoost: Val Accuracy = 0.2435, Val MCC = 0.4562, Test Accuracy = 0.2439, Test MCC = 0.4554\n",
            "CatBoost: Val Accuracy = 0.2465, Val MCC = 0.4412, Test Accuracy = 0.2470, Test MCC = 0.4407\n"
          ]
        },
        {
          "output_type": "stream",
          "name": "stderr",
          "text": [
            "\n"
          ]
        },
        {
          "output_type": "execute_result",
          "data": {
            "text/plain": [
              "{'LightGBM': {'Validation Accuracy': np.float64(0.24649709217040325),\n",
              "  'Validation ROC AUC': np.float64(0.8376789380955072),\n",
              "  'Validation MCC': np.float64(0.44118115728276036),\n",
              "  'Test Accuracy': np.float64(0.24698799065980478),\n",
              "  'Test ROC AUC': np.float64(0.8373773874586743),\n",
              "  'Test MCC': np.float64(0.44074448868195504)},\n",
              " 'XGBoost': {'Validation Accuracy': np.float64(0.24349263544787036),\n",
              "  'Validation ROC AUC': np.float64(0.8479713224932163),\n",
              "  'Validation MCC': np.float64(0.45622396250735786),\n",
              "  'Test Accuracy': np.float64(0.24386879086343377),\n",
              "  'Test ROC AUC': np.float64(0.8475045929522653),\n",
              "  'Test MCC': np.float64(0.45537891825671906)},\n",
              " 'CatBoost': {'Validation Accuracy': np.float64(0.24649709217040325),\n",
              "  'Validation ROC AUC': np.float64(0.8376789426470675),\n",
              "  'Validation MCC': np.float64(0.44118115728276036),\n",
              "  'Test Accuracy': np.float64(0.24698799065980478),\n",
              "  'Test ROC AUC': np.float64(0.8373773843550429),\n",
              "  'Test MCC': np.float64(0.44074448868195504)}}"
            ]
          },
          "metadata": {},
          "execution_count": 21
        }
      ]
    },
    {
      "cell_type": "markdown",
      "source": [
        "#CARVEME-MC-I-50"
      ],
      "metadata": {
        "id": "FSM33I5JAaRN"
      }
    },
    {
      "cell_type": "code",
      "source": [
        "X_train, X_val, X_test, y_train, y_val, y_test = load(train_list)\n",
        "\n",
        "models = {\n",
        "    \"LightGBM\": LGBMClassifier(random_state=4221),\n",
        "    \"XGBoost\": XGBClassifier(use_label_encoder=False, eval_metric=\"logloss\", random_state=4221),\n",
        "    \"CatBoost\": LGBMClassifier(random_state=42)\n",
        "}\n",
        "\n",
        "train_val_and_test(models, X_train, y_train, X_val, y_val, X_test, y_test, seed=4221, class_labels=['Comp', 'FCoop', 'O_xx_Coop'])"
      ],
      "metadata": {
        "colab": {
          "base_uri": "https://localhost:8080/"
        },
        "id": "6XeLni89AdKe",
        "outputId": "d173a5df-28bb-4422-9fd4-75ab2dce4e23"
      },
      "execution_count": null,
      "outputs": [
        {
          "output_type": "stream",
          "name": "stderr",
          "text": [
            "\rTraining Models:   0%|          | 0/3 [00:00<?, ?model/s]/usr/local/lib/python3.11/dist-packages/sklearn/preprocessing/_label.py:93: DataConversionWarning: A column-vector y was passed when a 1d array was expected. Please change the shape of y to (n_samples, ), for example using ravel().\n",
            "  y = column_or_1d(y, warn=True)\n",
            "/usr/local/lib/python3.11/dist-packages/sklearn/preprocessing/_label.py:129: DataConversionWarning: A column-vector y was passed when a 1d array was expected. Please change the shape of y to (n_samples, ), for example using ravel().\n",
            "  y = column_or_1d(y, dtype=self.classes_.dtype, warn=True)\n",
            "/usr/local/lib/python3.11/dist-packages/sklearn/utils/deprecation.py:151: FutureWarning: 'force_all_finite' was renamed to 'ensure_all_finite' in 1.6 and will be removed in 1.8.\n",
            "  warnings.warn(\n"
          ]
        },
        {
          "output_type": "stream",
          "name": "stdout",
          "text": [
            "\n",
            "Training and evaluating: LightGBM\n",
            "[LightGBM] [Info] Auto-choosing col-wise multi-threading, the overhead of testing was 0.488894 seconds.\n",
            "You can set `force_col_wise=true` to remove the overhead.\n",
            "[LightGBM] [Info] Total Bins 994\n",
            "[LightGBM] [Info] Number of data points in the train set: 336413, number of used features: 497\n",
            "[LightGBM] [Info] Start training from score -1.790277\n",
            "[LightGBM] [Info] Start training from score -2.030520\n",
            "[LightGBM] [Info] Start training from score -0.354080\n"
          ]
        },
        {
          "output_type": "stream",
          "name": "stderr",
          "text": [
            "/usr/local/lib/python3.11/dist-packages/sklearn/utils/deprecation.py:151: FutureWarning: 'force_all_finite' was renamed to 'ensure_all_finite' in 1.6 and will be removed in 1.8.\n",
            "  warnings.warn(\n",
            "/usr/local/lib/python3.11/dist-packages/sklearn/utils/deprecation.py:151: FutureWarning: 'force_all_finite' was renamed to 'ensure_all_finite' in 1.6 and will be removed in 1.8.\n",
            "  warnings.warn(\n",
            "/usr/local/lib/python3.11/dist-packages/sklearn/utils/deprecation.py:151: FutureWarning: 'force_all_finite' was renamed to 'ensure_all_finite' in 1.6 and will be removed in 1.8.\n",
            "  warnings.warn(\n",
            "/usr/local/lib/python3.11/dist-packages/sklearn/utils/deprecation.py:151: FutureWarning: 'force_all_finite' was renamed to 'ensure_all_finite' in 1.6 and will be removed in 1.8.\n",
            "  warnings.warn(\n",
            "Training Models:  33%|███▎      | 1/3 [00:50<01:40, 50.14s/model]"
          ]
        },
        {
          "output_type": "stream",
          "name": "stdout",
          "text": [
            "\n",
            "Training and evaluating: XGBoost\n"
          ]
        },
        {
          "output_type": "stream",
          "name": "stderr",
          "text": [
            "/usr/local/lib/python3.11/dist-packages/xgboost/core.py:158: UserWarning: [15:26:59] WARNING: /workspace/src/learner.cc:740: \n",
            "Parameters: { \"use_label_encoder\" } are not used.\n",
            "\n",
            "  warnings.warn(smsg, UserWarning)\n",
            "Training Models:  67%|██████▋   | 2/3 [01:56<00:59, 59.97s/model]/usr/local/lib/python3.11/dist-packages/sklearn/preprocessing/_label.py:93: DataConversionWarning: A column-vector y was passed when a 1d array was expected. Please change the shape of y to (n_samples, ), for example using ravel().\n",
            "  y = column_or_1d(y, warn=True)\n",
            "/usr/local/lib/python3.11/dist-packages/sklearn/preprocessing/_label.py:129: DataConversionWarning: A column-vector y was passed when a 1d array was expected. Please change the shape of y to (n_samples, ), for example using ravel().\n",
            "  y = column_or_1d(y, dtype=self.classes_.dtype, warn=True)\n",
            "/usr/local/lib/python3.11/dist-packages/sklearn/utils/deprecation.py:151: FutureWarning: 'force_all_finite' was renamed to 'ensure_all_finite' in 1.6 and will be removed in 1.8.\n",
            "  warnings.warn(\n"
          ]
        },
        {
          "output_type": "stream",
          "name": "stdout",
          "text": [
            "\n",
            "Training and evaluating: CatBoost\n",
            "[LightGBM] [Info] Auto-choosing col-wise multi-threading, the overhead of testing was 0.475420 seconds.\n",
            "You can set `force_col_wise=true` to remove the overhead.\n",
            "[LightGBM] [Info] Total Bins 996\n",
            "[LightGBM] [Info] Number of data points in the train set: 336413, number of used features: 498\n",
            "[LightGBM] [Info] Start training from score -1.790277\n",
            "[LightGBM] [Info] Start training from score -2.030520\n",
            "[LightGBM] [Info] Start training from score -0.354080\n"
          ]
        },
        {
          "output_type": "stream",
          "name": "stderr",
          "text": [
            "/usr/local/lib/python3.11/dist-packages/sklearn/utils/deprecation.py:151: FutureWarning: 'force_all_finite' was renamed to 'ensure_all_finite' in 1.6 and will be removed in 1.8.\n",
            "  warnings.warn(\n",
            "/usr/local/lib/python3.11/dist-packages/sklearn/utils/deprecation.py:151: FutureWarning: 'force_all_finite' was renamed to 'ensure_all_finite' in 1.6 and will be removed in 1.8.\n",
            "  warnings.warn(\n",
            "/usr/local/lib/python3.11/dist-packages/sklearn/utils/deprecation.py:151: FutureWarning: 'force_all_finite' was renamed to 'ensure_all_finite' in 1.6 and will be removed in 1.8.\n",
            "  warnings.warn(\n",
            "/usr/local/lib/python3.11/dist-packages/sklearn/utils/deprecation.py:151: FutureWarning: 'force_all_finite' was renamed to 'ensure_all_finite' in 1.6 and will be removed in 1.8.\n",
            "  warnings.warn(\n",
            "Training Models: 100%|██████████| 3/3 [02:45<00:00, 55.27s/model]"
          ]
        },
        {
          "output_type": "stream",
          "name": "stdout",
          "text": [
            "\n",
            "JSON saved to: results/summary_metrics.json\n",
            "\n",
            "Validation and Test Metrics (using MCC):\n",
            "LightGBM: Val Accuracy = 0.5891, Val MCC = 0.4568, Test Accuracy = 0.5875, Test MCC = 0.4609\n",
            "XGBoost: Val Accuracy = 0.5857, Val MCC = 0.4699, Test Accuracy = 0.5842, Test MCC = 0.4703\n",
            "CatBoost: Val Accuracy = 0.5891, Val MCC = 0.4568, Test Accuracy = 0.5875, Test MCC = 0.4609\n"
          ]
        },
        {
          "output_type": "stream",
          "name": "stderr",
          "text": [
            "\n"
          ]
        },
        {
          "output_type": "execute_result",
          "data": {
            "text/plain": [
              "{'LightGBM': {'Validation Accuracy': np.float64(0.5890557306502555),\n",
              "  'Validation ROC AUC': np.float64(0.8976190295048228),\n",
              "  'Validation MCC': np.float64(0.4567799624252035),\n",
              "  'Test Accuracy': np.float64(0.587517984961445),\n",
              "  'Test ROC AUC': np.float64(0.8965359286280593),\n",
              "  'Test MCC': np.float64(0.46085193862441914)},\n",
              " 'XGBoost': {'Validation Accuracy': np.float64(0.5856954579098207),\n",
              "  'Validation ROC AUC': np.float64(0.9022626210106085),\n",
              "  'Validation MCC': np.float64(0.46987173200491456),\n",
              "  'Test Accuracy': np.float64(0.5841782569062333),\n",
              "  'Test ROC AUC': np.float64(0.9008387346903566),\n",
              "  'Test MCC': np.float64(0.47025776286017573)},\n",
              " 'CatBoost': {'Validation Accuracy': np.float64(0.5890557306502555),\n",
              "  'Validation ROC AUC': np.float64(0.8976190295048228),\n",
              "  'Validation MCC': np.float64(0.4567799624252035),\n",
              "  'Test Accuracy': np.float64(0.587517984961445),\n",
              "  'Test ROC AUC': np.float64(0.8965359286280593),\n",
              "  'Test MCC': np.float64(0.46085193862441914)}}"
            ]
          },
          "metadata": {},
          "execution_count": 17
        }
      ]
    },
    {
      "cell_type": "markdown",
      "source": [
        "#CARVEME-MC-II-50"
      ],
      "metadata": {
        "id": "mJ26ma4pAfa9"
      }
    },
    {
      "cell_type": "code",
      "source": [
        "X_train, X_val, X_test, y_train, y_val, y_test = load(train_list)\n",
        "\n",
        "models = {\n",
        "    \"LightGBM\": LGBMClassifier(random_state=4221),\n",
        "    \"XGBoost\": XGBClassifier(use_label_encoder=False, eval_metric=\"logloss\", random_state=4221),\n",
        "    \"CatBoost\": LGBMClassifier(random_state=42)\n",
        "}\n",
        "\n",
        "train_val_and_test(models, X_train, y_train, X_val, y_val, X_test, y_test, seed=4221, class_labels=['O_plusx_Coop', 'O_xplus_Coop', 'O_xx_Coop'])"
      ],
      "metadata": {
        "colab": {
          "base_uri": "https://localhost:8080/"
        },
        "id": "c1zyJlXcAjrY",
        "outputId": "c83273ef-bd6a-4537-f34b-17f835031aba"
      },
      "execution_count": null,
      "outputs": [
        {
          "output_type": "stream",
          "name": "stderr",
          "text": [
            "\rTraining Models:   0%|          | 0/3 [00:00<?, ?model/s]/usr/local/lib/python3.11/dist-packages/sklearn/preprocessing/_label.py:93: DataConversionWarning: A column-vector y was passed when a 1d array was expected. Please change the shape of y to (n_samples, ), for example using ravel().\n",
            "  y = column_or_1d(y, warn=True)\n",
            "/usr/local/lib/python3.11/dist-packages/sklearn/preprocessing/_label.py:129: DataConversionWarning: A column-vector y was passed when a 1d array was expected. Please change the shape of y to (n_samples, ), for example using ravel().\n",
            "  y = column_or_1d(y, dtype=self.classes_.dtype, warn=True)\n",
            "/usr/local/lib/python3.11/dist-packages/sklearn/utils/deprecation.py:151: FutureWarning: 'force_all_finite' was renamed to 'ensure_all_finite' in 1.6 and will be removed in 1.8.\n",
            "  warnings.warn(\n"
          ]
        },
        {
          "output_type": "stream",
          "name": "stdout",
          "text": [
            "\n",
            "Training and evaluating: LightGBM\n",
            "[LightGBM] [Info] Auto-choosing row-wise multi-threading, the overhead of testing was 0.848705 seconds.\n",
            "You can set `force_row_wise=true` to remove the overhead.\n",
            "And if memory is not enough, you can set `force_col_wise=true`.\n",
            "[LightGBM] [Info] Total Bins 996\n",
            "[LightGBM] [Info] Number of data points in the train set: 553606, number of used features: 498\n",
            "[LightGBM] [Info] Start training from score -0.853423\n",
            "[LightGBM] [Info] Start training from score -1.905548\n",
            "[LightGBM] [Info] Start training from score -0.854950\n"
          ]
        },
        {
          "output_type": "stream",
          "name": "stderr",
          "text": [
            "/usr/local/lib/python3.11/dist-packages/sklearn/utils/deprecation.py:151: FutureWarning: 'force_all_finite' was renamed to 'ensure_all_finite' in 1.6 and will be removed in 1.8.\n",
            "  warnings.warn(\n",
            "/usr/local/lib/python3.11/dist-packages/sklearn/utils/deprecation.py:151: FutureWarning: 'force_all_finite' was renamed to 'ensure_all_finite' in 1.6 and will be removed in 1.8.\n",
            "  warnings.warn(\n",
            "/usr/local/lib/python3.11/dist-packages/sklearn/utils/deprecation.py:151: FutureWarning: 'force_all_finite' was renamed to 'ensure_all_finite' in 1.6 and will be removed in 1.8.\n",
            "  warnings.warn(\n",
            "/usr/local/lib/python3.11/dist-packages/sklearn/utils/deprecation.py:151: FutureWarning: 'force_all_finite' was renamed to 'ensure_all_finite' in 1.6 and will be removed in 1.8.\n",
            "  warnings.warn(\n",
            "Training Models:  33%|███▎      | 1/3 [02:15<04:30, 135.12s/model]"
          ]
        },
        {
          "output_type": "stream",
          "name": "stdout",
          "text": [
            "\n",
            "Training and evaluating: XGBoost\n"
          ]
        },
        {
          "output_type": "stream",
          "name": "stderr",
          "text": [
            "/usr/local/lib/python3.11/dist-packages/xgboost/core.py:158: UserWarning: [15:33:42] WARNING: /workspace/src/learner.cc:740: \n",
            "Parameters: { \"use_label_encoder\" } are not used.\n",
            "\n",
            "  warnings.warn(smsg, UserWarning)\n",
            "Training Models:  67%|██████▋   | 2/3 [04:28<02:14, 134.23s/model]/usr/local/lib/python3.11/dist-packages/sklearn/preprocessing/_label.py:93: DataConversionWarning: A column-vector y was passed when a 1d array was expected. Please change the shape of y to (n_samples, ), for example using ravel().\n",
            "  y = column_or_1d(y, warn=True)\n",
            "/usr/local/lib/python3.11/dist-packages/sklearn/preprocessing/_label.py:129: DataConversionWarning: A column-vector y was passed when a 1d array was expected. Please change the shape of y to (n_samples, ), for example using ravel().\n",
            "  y = column_or_1d(y, dtype=self.classes_.dtype, warn=True)\n",
            "/usr/local/lib/python3.11/dist-packages/sklearn/utils/deprecation.py:151: FutureWarning: 'force_all_finite' was renamed to 'ensure_all_finite' in 1.6 and will be removed in 1.8.\n",
            "  warnings.warn(\n"
          ]
        },
        {
          "output_type": "stream",
          "name": "stdout",
          "text": [
            "\n",
            "Training and evaluating: CatBoost\n",
            "[LightGBM] [Info] Auto-choosing col-wise multi-threading, the overhead of testing was 1.062337 seconds.\n",
            "You can set `force_col_wise=true` to remove the overhead.\n",
            "[LightGBM] [Info] Total Bins 996\n",
            "[LightGBM] [Info] Number of data points in the train set: 553606, number of used features: 498\n",
            "[LightGBM] [Info] Start training from score -0.853423\n",
            "[LightGBM] [Info] Start training from score -1.905548\n",
            "[LightGBM] [Info] Start training from score -0.854950\n"
          ]
        },
        {
          "output_type": "stream",
          "name": "stderr",
          "text": [
            "/usr/local/lib/python3.11/dist-packages/sklearn/utils/deprecation.py:151: FutureWarning: 'force_all_finite' was renamed to 'ensure_all_finite' in 1.6 and will be removed in 1.8.\n",
            "  warnings.warn(\n",
            "/usr/local/lib/python3.11/dist-packages/sklearn/utils/deprecation.py:151: FutureWarning: 'force_all_finite' was renamed to 'ensure_all_finite' in 1.6 and will be removed in 1.8.\n",
            "  warnings.warn(\n",
            "/usr/local/lib/python3.11/dist-packages/sklearn/utils/deprecation.py:151: FutureWarning: 'force_all_finite' was renamed to 'ensure_all_finite' in 1.6 and will be removed in 1.8.\n",
            "  warnings.warn(\n",
            "/usr/local/lib/python3.11/dist-packages/sklearn/utils/deprecation.py:151: FutureWarning: 'force_all_finite' was renamed to 'ensure_all_finite' in 1.6 and will be removed in 1.8.\n",
            "  warnings.warn(\n",
            "Training Models: 100%|██████████| 3/3 [06:23<00:00, 127.70s/model]"
          ]
        },
        {
          "output_type": "stream",
          "name": "stdout",
          "text": [
            "\n",
            "JSON saved to: results/summary_metrics.json\n",
            "\n",
            "Validation and Test Metrics (using MCC):\n",
            "LightGBM: Val Accuracy = 0.4249, Val MCC = 0.3849, Test Accuracy = 0.4244, Test MCC = 0.3846\n",
            "XGBoost: Val Accuracy = 0.4243, Val MCC = 0.3921, Test Accuracy = 0.4239, Test MCC = 0.3927\n",
            "CatBoost: Val Accuracy = 0.4249, Val MCC = 0.3849, Test Accuracy = 0.4244, Test MCC = 0.3846\n"
          ]
        },
        {
          "output_type": "stream",
          "name": "stderr",
          "text": [
            "\n"
          ]
        },
        {
          "output_type": "execute_result",
          "data": {
            "text/plain": [
              "{'LightGBM': {'Validation Accuracy': np.float64(0.42486448291609413),\n",
              "  'Validation ROC AUC': np.float64(0.7861349346244991),\n",
              "  'Validation MCC': np.float64(0.3849032915803742),\n",
              "  'Test Accuracy': np.float64(0.4243962999840896),\n",
              "  'Test ROC AUC': np.float64(0.7860081372028446),\n",
              "  'Test MCC': np.float64(0.3845645334592783)},\n",
              " 'XGBoost': {'Validation Accuracy': np.float64(0.4242629962915202),\n",
              "  'Validation ROC AUC': np.float64(0.7924229122865704),\n",
              "  'Validation MCC': np.float64(0.39206416390695326),\n",
              "  'Test Accuracy': np.float64(0.42387210744887005),\n",
              "  'Test ROC AUC': np.float64(0.7927350980539624),\n",
              "  'Test MCC': np.float64(0.39267657829985814)},\n",
              " 'CatBoost': {'Validation Accuracy': np.float64(0.42486448291609413),\n",
              "  'Validation ROC AUC': np.float64(0.7861349346244991),\n",
              "  'Validation MCC': np.float64(0.3849032915803742),\n",
              "  'Test Accuracy': np.float64(0.4243962999840896),\n",
              "  'Test ROC AUC': np.float64(0.7860081372028446),\n",
              "  'Test MCC': np.float64(0.3845645334592783)}}"
            ]
          },
          "metadata": {},
          "execution_count": 21
        }
      ]
    },
    {
      "cell_type": "markdown",
      "source": [
        "\n",
        "#CARVEME-MC-III-50"
      ],
      "metadata": {
        "id": "nuV6JVC1Aq0p"
      }
    },
    {
      "cell_type": "code",
      "source": [
        "X_train, X_val, X_test, y_train, y_val, y_test = load(train_list)\n",
        "\n",
        "models = {\n",
        "    \"LightGBM\": LGBMClassifier(random_state=4221),\n",
        "    \"XGBoost\": XGBClassifier(use_label_encoder=False, eval_metric=\"logloss\", random_state=4221),\n",
        "    \"CatBoost\": LGBMClassifier(random_state=42)\n",
        "}\n",
        "\n",
        "train_val_and_test(models, X_train, y_train, X_val, y_val, X_test, y_test, seed=4221, class_labels=['Comp', 'FCoop', 'O_plusx_Coop', 'O_xplus_Coop', 'O_xx_Coop'])"
      ],
      "metadata": {
        "colab": {
          "base_uri": "https://localhost:8080/"
        },
        "id": "qRX_GyW6Ave4",
        "outputId": "f7544b8c-3de7-494c-c2e5-aee46521b51d"
      },
      "execution_count": null,
      "outputs": [
        {
          "output_type": "stream",
          "name": "stderr",
          "text": [
            "\rTraining Models:   0%|          | 0/3 [00:00<?, ?model/s]/usr/local/lib/python3.11/dist-packages/sklearn/preprocessing/_label.py:93: DataConversionWarning: A column-vector y was passed when a 1d array was expected. Please change the shape of y to (n_samples, ), for example using ravel().\n",
            "  y = column_or_1d(y, warn=True)\n",
            "/usr/local/lib/python3.11/dist-packages/sklearn/preprocessing/_label.py:129: DataConversionWarning: A column-vector y was passed when a 1d array was expected. Please change the shape of y to (n_samples, ), for example using ravel().\n",
            "  y = column_or_1d(y, dtype=self.classes_.dtype, warn=True)\n",
            "/usr/local/lib/python3.11/dist-packages/sklearn/utils/deprecation.py:151: FutureWarning: 'force_all_finite' was renamed to 'ensure_all_finite' in 1.6 and will be removed in 1.8.\n",
            "  warnings.warn(\n"
          ]
        },
        {
          "output_type": "stream",
          "name": "stdout",
          "text": [
            "\n",
            "Training and evaluating: LightGBM\n",
            "[LightGBM] [Info] Auto-choosing row-wise multi-threading, the overhead of testing was 0.729776 seconds.\n",
            "You can set `force_row_wise=true` to remove the overhead.\n",
            "And if memory is not enough, you can set `force_col_wise=true`.\n",
            "[LightGBM] [Info] Total Bins 998\n",
            "[LightGBM] [Info] Number of data points in the train set: 592816, number of used features: 499\n",
            "[LightGBM] [Info] Start training from score -1.570507\n",
            "[LightGBM] [Info] Start training from score -2.046862\n",
            "[LightGBM] [Info] Start training from score -1.288383\n",
            "[LightGBM] [Info] Start training from score -2.195502\n",
            "[LightGBM] [Info] Start training from score -1.287710\n"
          ]
        },
        {
          "output_type": "stream",
          "name": "stderr",
          "text": [
            "/usr/local/lib/python3.11/dist-packages/sklearn/utils/deprecation.py:151: FutureWarning: 'force_all_finite' was renamed to 'ensure_all_finite' in 1.6 and will be removed in 1.8.\n",
            "  warnings.warn(\n",
            "/usr/local/lib/python3.11/dist-packages/sklearn/utils/deprecation.py:151: FutureWarning: 'force_all_finite' was renamed to 'ensure_all_finite' in 1.6 and will be removed in 1.8.\n",
            "  warnings.warn(\n",
            "/usr/local/lib/python3.11/dist-packages/sklearn/utils/deprecation.py:151: FutureWarning: 'force_all_finite' was renamed to 'ensure_all_finite' in 1.6 and will be removed in 1.8.\n",
            "  warnings.warn(\n",
            "/usr/local/lib/python3.11/dist-packages/sklearn/utils/deprecation.py:151: FutureWarning: 'force_all_finite' was renamed to 'ensure_all_finite' in 1.6 and will be removed in 1.8.\n",
            "  warnings.warn(\n",
            "Training Models:  33%|███▎      | 1/3 [02:16<04:32, 136.41s/model]"
          ]
        },
        {
          "output_type": "stream",
          "name": "stdout",
          "text": [
            "\n",
            "Training and evaluating: XGBoost\n"
          ]
        },
        {
          "output_type": "stream",
          "name": "stderr",
          "text": [
            "/usr/local/lib/python3.11/dist-packages/xgboost/core.py:158: UserWarning: [15:04:39] WARNING: /workspace/src/learner.cc:740: \n",
            "Parameters: { \"use_label_encoder\" } are not used.\n",
            "\n",
            "  warnings.warn(smsg, UserWarning)\n",
            "Training Models:  67%|██████▋   | 2/3 [04:48<02:25, 145.83s/model]/usr/local/lib/python3.11/dist-packages/sklearn/preprocessing/_label.py:93: DataConversionWarning: A column-vector y was passed when a 1d array was expected. Please change the shape of y to (n_samples, ), for example using ravel().\n",
            "  y = column_or_1d(y, warn=True)\n",
            "/usr/local/lib/python3.11/dist-packages/sklearn/preprocessing/_label.py:129: DataConversionWarning: A column-vector y was passed when a 1d array was expected. Please change the shape of y to (n_samples, ), for example using ravel().\n",
            "  y = column_or_1d(y, dtype=self.classes_.dtype, warn=True)\n",
            "/usr/local/lib/python3.11/dist-packages/sklearn/utils/deprecation.py:151: FutureWarning: 'force_all_finite' was renamed to 'ensure_all_finite' in 1.6 and will be removed in 1.8.\n",
            "  warnings.warn(\n"
          ]
        },
        {
          "output_type": "stream",
          "name": "stdout",
          "text": [
            "\n",
            "Training and evaluating: CatBoost\n",
            "[LightGBM] [Info] Auto-choosing row-wise multi-threading, the overhead of testing was 0.882402 seconds.\n",
            "You can set `force_row_wise=true` to remove the overhead.\n",
            "And if memory is not enough, you can set `force_col_wise=true`.\n",
            "[LightGBM] [Info] Total Bins 998\n",
            "[LightGBM] [Info] Number of data points in the train set: 592816, number of used features: 499\n",
            "[LightGBM] [Info] Start training from score -1.570507\n",
            "[LightGBM] [Info] Start training from score -2.046862\n",
            "[LightGBM] [Info] Start training from score -1.288383\n",
            "[LightGBM] [Info] Start training from score -2.195502\n",
            "[LightGBM] [Info] Start training from score -1.287710\n"
          ]
        },
        {
          "output_type": "stream",
          "name": "stderr",
          "text": [
            "/usr/local/lib/python3.11/dist-packages/sklearn/utils/deprecation.py:151: FutureWarning: 'force_all_finite' was renamed to 'ensure_all_finite' in 1.6 and will be removed in 1.8.\n",
            "  warnings.warn(\n",
            "/usr/local/lib/python3.11/dist-packages/sklearn/utils/deprecation.py:151: FutureWarning: 'force_all_finite' was renamed to 'ensure_all_finite' in 1.6 and will be removed in 1.8.\n",
            "  warnings.warn(\n",
            "/usr/local/lib/python3.11/dist-packages/sklearn/utils/deprecation.py:151: FutureWarning: 'force_all_finite' was renamed to 'ensure_all_finite' in 1.6 and will be removed in 1.8.\n",
            "  warnings.warn(\n",
            "/usr/local/lib/python3.11/dist-packages/sklearn/utils/deprecation.py:151: FutureWarning: 'force_all_finite' was renamed to 'ensure_all_finite' in 1.6 and will be removed in 1.8.\n",
            "  warnings.warn(\n",
            "Training Models: 100%|██████████| 3/3 [07:05<00:00, 141.93s/model]"
          ]
        },
        {
          "output_type": "stream",
          "name": "stdout",
          "text": [
            "\n",
            "JSON saved to: results/summary_metrics.json\n",
            "\n",
            "Validation and Test Metrics (using MCC):\n",
            "LightGBM: Val Accuracy = 0.2465, Val MCC = 0.4412, Test Accuracy = 0.2470, Test MCC = 0.4407\n",
            "XGBoost: Val Accuracy = 0.2435, Val MCC = 0.4562, Test Accuracy = 0.2439, Test MCC = 0.4554\n",
            "CatBoost: Val Accuracy = 0.2465, Val MCC = 0.4412, Test Accuracy = 0.2470, Test MCC = 0.4407\n"
          ]
        },
        {
          "output_type": "stream",
          "name": "stderr",
          "text": [
            "\n"
          ]
        },
        {
          "output_type": "execute_result",
          "data": {
            "text/plain": [
              "{'LightGBM': {'Validation Accuracy': np.float64(0.24649709217040325),\n",
              "  'Validation ROC AUC': np.float64(0.8376789380955072),\n",
              "  'Validation MCC': np.float64(0.44118115728276036),\n",
              "  'Test Accuracy': np.float64(0.24698799065980478),\n",
              "  'Test ROC AUC': np.float64(0.8373773874586743),\n",
              "  'Test MCC': np.float64(0.44074448868195504)},\n",
              " 'XGBoost': {'Validation Accuracy': np.float64(0.24349263544787036),\n",
              "  'Validation ROC AUC': np.float64(0.8479713224932163),\n",
              "  'Validation MCC': np.float64(0.45622396250735786),\n",
              "  'Test Accuracy': np.float64(0.24386879086343377),\n",
              "  'Test ROC AUC': np.float64(0.8475045929522653),\n",
              "  'Test MCC': np.float64(0.45537891825671906)},\n",
              " 'CatBoost': {'Validation Accuracy': np.float64(0.24649709217040325),\n",
              "  'Validation ROC AUC': np.float64(0.8376789426470675),\n",
              "  'Validation MCC': np.float64(0.44118115728276036),\n",
              "  'Test Accuracy': np.float64(0.24698799065980478),\n",
              "  'Test ROC AUC': np.float64(0.8373773843550429),\n",
              "  'Test MCC': np.float64(0.44074448868195504)}}"
            ]
          },
          "metadata": {},
          "execution_count": 27
        }
      ]
    },
    {
      "cell_type": "markdown",
      "source": [
        "#CARVEME-TL-II-50"
      ],
      "metadata": {
        "id": "wiz1b0s7LBEJ"
      }
    },
    {
      "cell_type": "code",
      "source": [
        "X_train, X_val, X_test, y_train, y_val, y_test = load(train_list)\n",
        "\n",
        "models = {\n",
        "    \"LightGBM\": LGBMClassifier(random_state=4221),\n",
        "    \"XGBoost\": XGBClassifier(use_label_encoder=False, eval_metric=\"logloss\", random_state=4221),\n",
        "    \"CatBoost\": LGBMClassifier(random_state=42)\n",
        "}\n",
        "\n",
        "train_val_and_test(models, X_train, y_train, X_val, y_val, X_test, y_test, seed=4221, class_labels=['Comp', 'FCoop', 'O_plusx_Coop', 'O_xplus_Coop', 'O_xx_Coop'])"
      ],
      "metadata": {
        "colab": {
          "base_uri": "https://localhost:8080/"
        },
        "id": "bVXWUXuNNLcC",
        "outputId": "9947914a-2593-4145-9cfe-82e6328a6b42"
      },
      "execution_count": null,
      "outputs": [
        {
          "output_type": "stream",
          "name": "stderr",
          "text": [
            "\rTraining Models:   0%|          | 0/3 [00:00<?, ?model/s]/usr/local/lib/python3.11/dist-packages/sklearn/preprocessing/_label.py:93: DataConversionWarning: A column-vector y was passed when a 1d array was expected. Please change the shape of y to (n_samples, ), for example using ravel().\n",
            "  y = column_or_1d(y, warn=True)\n",
            "/usr/local/lib/python3.11/dist-packages/sklearn/preprocessing/_label.py:129: DataConversionWarning: A column-vector y was passed when a 1d array was expected. Please change the shape of y to (n_samples, ), for example using ravel().\n",
            "  y = column_or_1d(y, dtype=self.classes_.dtype, warn=True)\n",
            "/usr/local/lib/python3.11/dist-packages/sklearn/utils/deprecation.py:151: FutureWarning: 'force_all_finite' was renamed to 'ensure_all_finite' in 1.6 and will be removed in 1.8.\n",
            "  warnings.warn(\n"
          ]
        },
        {
          "output_type": "stream",
          "name": "stdout",
          "text": [
            "\n",
            "Training and evaluating: LightGBM\n",
            "[LightGBM] [Info] Number of positive: 152771, number of negative: 119972\n",
            "[LightGBM] [Info] Auto-choosing row-wise multi-threading, the overhead of testing was 0.151010 seconds.\n",
            "You can set `force_row_wise=true` to remove the overhead.\n",
            "And if memory is not enough, you can set `force_col_wise=true`.\n",
            "[LightGBM] [Info] Total Bins 306\n",
            "[LightGBM] [Info] Number of data points in the train set: 272743, number of used features: 153\n",
            "[LightGBM] [Info] [binary:BoostFromScore]: pavg=0.560128 -> initscore=0.241682\n",
            "[LightGBM] [Info] Start training from score 0.241682\n",
            "Model saved at results/LightGBM/model.pkl\n"
          ]
        },
        {
          "output_type": "stream",
          "name": "stderr",
          "text": [
            "/usr/local/lib/python3.11/dist-packages/sklearn/utils/deprecation.py:151: FutureWarning: 'force_all_finite' was renamed to 'ensure_all_finite' in 1.6 and will be removed in 1.8.\n",
            "  warnings.warn(\n",
            "/usr/local/lib/python3.11/dist-packages/sklearn/utils/deprecation.py:151: FutureWarning: 'force_all_finite' was renamed to 'ensure_all_finite' in 1.6 and will be removed in 1.8.\n",
            "  warnings.warn(\n",
            "/usr/local/lib/python3.11/dist-packages/sklearn/utils/deprecation.py:151: FutureWarning: 'force_all_finite' was renamed to 'ensure_all_finite' in 1.6 and will be removed in 1.8.\n",
            "  warnings.warn(\n",
            "/usr/local/lib/python3.11/dist-packages/sklearn/utils/deprecation.py:151: FutureWarning: 'force_all_finite' was renamed to 'ensure_all_finite' in 1.6 and will be removed in 1.8.\n",
            "  warnings.warn(\n"
          ]
        },
        {
          "output_type": "stream",
          "name": "stdout",
          "text": [
            "Validation Classification Report for LightGBM:\n",
            "\n",
            "              precision    recall  f1-score   support\n",
            "\n",
            "           0       0.65      0.45      0.53     39516\n",
            "           1       0.66      0.81      0.73     51398\n",
            "\n",
            "    accuracy                           0.65     90914\n",
            "   macro avg       0.65      0.63      0.63     90914\n",
            "weighted avg       0.65      0.65      0.64     90914\n",
            "\n",
            "Confusion Matrix for LightGBM (Validation):\n",
            " [[17917 21599]\n",
            " [ 9837 41561]]\n"
          ]
        },
        {
          "output_type": "stream",
          "name": "stderr",
          "text": [
            "\rTraining Models:  33%|███▎      | 1/3 [00:18<00:37, 18.71s/model]"
          ]
        },
        {
          "output_type": "stream",
          "name": "stdout",
          "text": [
            "\n",
            "Training and evaluating: XGBoost\n"
          ]
        },
        {
          "output_type": "stream",
          "name": "stderr",
          "text": [
            "/usr/local/lib/python3.11/dist-packages/xgboost/core.py:158: UserWarning: [12:24:03] WARNING: /workspace/src/learner.cc:740: \n",
            "Parameters: { \"use_label_encoder\" } are not used.\n",
            "\n",
            "  warnings.warn(smsg, UserWarning)\n"
          ]
        },
        {
          "output_type": "stream",
          "name": "stdout",
          "text": [
            "Model saved at results/XGBoost/model.pkl\n"
          ]
        },
        {
          "output_type": "stream",
          "name": "stderr",
          "text": [
            "\rTraining Models:  67%|██████▋   | 2/3 [00:37<00:18, 18.60s/model]"
          ]
        },
        {
          "output_type": "stream",
          "name": "stdout",
          "text": [
            "Validation Classification Report for XGBoost:\n",
            "\n",
            "              precision    recall  f1-score   support\n",
            "\n",
            "           0       0.65      0.53      0.59     39516\n",
            "           1       0.69      0.78      0.73     51398\n",
            "\n",
            "    accuracy                           0.67     90914\n",
            "   macro avg       0.67      0.66      0.66     90914\n",
            "weighted avg       0.67      0.67      0.67     90914\n",
            "\n",
            "Confusion Matrix for XGBoost (Validation):\n",
            " [[20976 18540]\n",
            " [11068 40330]]\n",
            "\n",
            "Training and evaluating: CatBoost\n"
          ]
        },
        {
          "output_type": "stream",
          "name": "stderr",
          "text": [
            "/usr/local/lib/python3.11/dist-packages/sklearn/preprocessing/_label.py:93: DataConversionWarning: A column-vector y was passed when a 1d array was expected. Please change the shape of y to (n_samples, ), for example using ravel().\n",
            "  y = column_or_1d(y, warn=True)\n",
            "/usr/local/lib/python3.11/dist-packages/sklearn/preprocessing/_label.py:129: DataConversionWarning: A column-vector y was passed when a 1d array was expected. Please change the shape of y to (n_samples, ), for example using ravel().\n",
            "  y = column_or_1d(y, dtype=self.classes_.dtype, warn=True)\n",
            "/usr/local/lib/python3.11/dist-packages/sklearn/utils/deprecation.py:151: FutureWarning: 'force_all_finite' was renamed to 'ensure_all_finite' in 1.6 and will be removed in 1.8.\n",
            "  warnings.warn(\n"
          ]
        },
        {
          "output_type": "stream",
          "name": "stdout",
          "text": [
            "[LightGBM] [Info] Number of positive: 152771, number of negative: 119972\n",
            "[LightGBM] [Info] Auto-choosing row-wise multi-threading, the overhead of testing was 0.148366 seconds.\n",
            "You can set `force_row_wise=true` to remove the overhead.\n",
            "And if memory is not enough, you can set `force_col_wise=true`.\n",
            "[LightGBM] [Info] Total Bins 306\n",
            "[LightGBM] [Info] Number of data points in the train set: 272743, number of used features: 153\n",
            "[LightGBM] [Info] [binary:BoostFromScore]: pavg=0.560128 -> initscore=0.241682\n",
            "[LightGBM] [Info] Start training from score 0.241682\n",
            "Model saved at results/CatBoost/model.pkl\n"
          ]
        },
        {
          "output_type": "stream",
          "name": "stderr",
          "text": [
            "/usr/local/lib/python3.11/dist-packages/sklearn/utils/deprecation.py:151: FutureWarning: 'force_all_finite' was renamed to 'ensure_all_finite' in 1.6 and will be removed in 1.8.\n",
            "  warnings.warn(\n",
            "/usr/local/lib/python3.11/dist-packages/sklearn/utils/deprecation.py:151: FutureWarning: 'force_all_finite' was renamed to 'ensure_all_finite' in 1.6 and will be removed in 1.8.\n",
            "  warnings.warn(\n",
            "/usr/local/lib/python3.11/dist-packages/sklearn/utils/deprecation.py:151: FutureWarning: 'force_all_finite' was renamed to 'ensure_all_finite' in 1.6 and will be removed in 1.8.\n",
            "  warnings.warn(\n",
            "/usr/local/lib/python3.11/dist-packages/sklearn/utils/deprecation.py:151: FutureWarning: 'force_all_finite' was renamed to 'ensure_all_finite' in 1.6 and will be removed in 1.8.\n",
            "  warnings.warn(\n",
            "Training Models: 100%|██████████| 3/3 [00:55<00:00, 18.57s/model]"
          ]
        },
        {
          "output_type": "stream",
          "name": "stdout",
          "text": [
            "Validation Classification Report for CatBoost:\n",
            "\n",
            "              precision    recall  f1-score   support\n",
            "\n",
            "           0       0.65      0.45      0.53     39516\n",
            "           1       0.66      0.81      0.73     51398\n",
            "\n",
            "    accuracy                           0.65     90914\n",
            "   macro avg       0.65      0.63      0.63     90914\n",
            "weighted avg       0.65      0.65      0.64     90914\n",
            "\n",
            "Confusion Matrix for CatBoost (Validation):\n",
            " [[17917 21599]\n",
            " [ 9837 41561]]\n",
            "\n",
            "Summary of Test Metrics:\n",
            "LightGBM: Test Accuracy = 0.5236, Test Precision = 0.6565, Test Recall = 0.8064, Test F1 = 0.7238, Test AUC = 0.7122, Test MCC = 0.2846\n",
            "XGBoost: Test Accuracy = 0.5177, Test Precision = 0.6820, Test Recall = 0.7808, Test F1 = 0.7281, Test AUC = 0.7379, Test MCC = 0.3251\n",
            "CatBoost: Test Accuracy = 0.5236, Test Precision = 0.6565, Test Recall = 0.8064, Test F1 = 0.7238, Test AUC = 0.7122, Test MCC = 0.2846\n",
            "\n",
            "Summary of Validation and Test Metrics:\n",
            "LightGBM: Test Accuracy = 0.5236, Test MCC = 0.2846\n",
            "XGBoost: Test Accuracy = 0.5177, Test MCC = 0.3251\n",
            "CatBoost: Test Accuracy = 0.5236, Test MCC = 0.2846\n"
          ]
        },
        {
          "output_type": "stream",
          "name": "stderr",
          "text": [
            "\n"
          ]
        },
        {
          "output_type": "execute_result",
          "data": {
            "text/plain": [
              "{'LightGBM': {'Test Accuracy': np.float64(0.5235509014358107),\n",
              "  'Test Precision': 0.656478574729495,\n",
              "  'Test Recall': 0.8064206714299696,\n",
              "  'Test F1': 0.7237653507616086,\n",
              "  'Test AUC': np.float64(0.7122044749694865),\n",
              "  'Test MCC': np.float64(0.28455678837058573)},\n",
              " 'XGBoost': {'Test Accuracy': np.float64(0.5177447065456777),\n",
              "  'Test Precision': 0.6819914855784849,\n",
              "  'Test Recall': 0.7808358617989625,\n",
              "  'Test F1': 0.7280741781809553,\n",
              "  'Test AUC': np.float64(0.7378698634312791),\n",
              "  'Test MCC': np.float64(0.32508117909461914)},\n",
              " 'CatBoost': {'Test Accuracy': np.float64(0.5235509014358107),\n",
              "  'Test Precision': 0.656478574729495,\n",
              "  'Test Recall': 0.8064206714299696,\n",
              "  'Test F1': 0.7237653507616086,\n",
              "  'Test AUC': np.float64(0.7122044749694865),\n",
              "  'Test MCC': np.float64(0.28455678837058573)}}"
            ]
          },
          "metadata": {},
          "execution_count": 166
        }
      ]
    },
    {
      "cell_type": "markdown",
      "source": [
        "#CARVEME-TL-II-100"
      ],
      "metadata": {
        "id": "REFG0EChPL2M"
      }
    },
    {
      "cell_type": "code",
      "source": [
        "X_train, X_val, X_test, y_train, y_val, y_test = load(train_list)\n",
        "\n",
        "models = {\n",
        "    \"LightGBM\": LGBMClassifier(random_state=4221),\n",
        "    \"XGBoost\": XGBClassifier(use_label_encoder=False, eval_metric=\"logloss\", random_state=4221),\n",
        "    \"CatBoost\": LGBMClassifier(random_state=42)\n",
        "}\n",
        "\n",
        "train_val_and_test(models, X_train, y_train, X_val, y_val, X_test, y_test, seed=4221, class_labels=['Comp', 'FCoop', 'O_plusx_Coop', 'O_xplus_Coop', 'O_xx_Coop'])"
      ],
      "metadata": {
        "colab": {
          "base_uri": "https://localhost:8080/"
        },
        "id": "EoroJWyJPRjW",
        "outputId": "aab1c251-9444-4b4e-ef83-0df95b83fb86"
      },
      "execution_count": null,
      "outputs": [
        {
          "output_type": "stream",
          "name": "stderr",
          "text": [
            "\rTraining Models:   0%|          | 0/3 [00:00<?, ?model/s]/usr/local/lib/python3.11/dist-packages/sklearn/preprocessing/_label.py:93: DataConversionWarning: A column-vector y was passed when a 1d array was expected. Please change the shape of y to (n_samples, ), for example using ravel().\n",
            "  y = column_or_1d(y, warn=True)\n",
            "/usr/local/lib/python3.11/dist-packages/sklearn/preprocessing/_label.py:129: DataConversionWarning: A column-vector y was passed when a 1d array was expected. Please change the shape of y to (n_samples, ), for example using ravel().\n",
            "  y = column_or_1d(y, dtype=self.classes_.dtype, warn=True)\n",
            "/usr/local/lib/python3.11/dist-packages/sklearn/utils/deprecation.py:151: FutureWarning: 'force_all_finite' was renamed to 'ensure_all_finite' in 1.6 and will be removed in 1.8.\n",
            "  warnings.warn(\n"
          ]
        },
        {
          "output_type": "stream",
          "name": "stdout",
          "text": [
            "\n",
            "Training and evaluating: LightGBM\n",
            "[LightGBM] [Info] Auto-choosing row-wise multi-threading, the overhead of testing was 0.406182 seconds.\n",
            "You can set `force_row_wise=true` to remove the overhead.\n",
            "And if memory is not enough, you can set `force_col_wise=true`.\n",
            "[LightGBM] [Info] Total Bins 306\n",
            "[LightGBM] [Info] Number of data points in the train set: 1109103, number of used features: 153\n",
            "[LightGBM] [Info] Start training from score -0.840895\n",
            "[LightGBM] [Info] Start training from score -1.982144\n",
            "[LightGBM] [Info] Start training from score -0.841874\n"
          ]
        },
        {
          "output_type": "stream",
          "name": "stderr",
          "text": [
            "/usr/local/lib/python3.11/dist-packages/sklearn/utils/deprecation.py:151: FutureWarning: 'force_all_finite' was renamed to 'ensure_all_finite' in 1.6 and will be removed in 1.8.\n",
            "  warnings.warn(\n",
            "/usr/local/lib/python3.11/dist-packages/sklearn/utils/deprecation.py:151: FutureWarning: 'force_all_finite' was renamed to 'ensure_all_finite' in 1.6 and will be removed in 1.8.\n",
            "  warnings.warn(\n"
          ]
        }
      ]
    },
    {
      "cell_type": "markdown",
      "source": [
        "#AGORA-TL-II-50"
      ],
      "metadata": {
        "id": "Trx9CpYlP9DS"
      }
    },
    {
      "cell_type": "code",
      "source": [
        "X_train, X_val, X_test, y_train, y_val, y_test = load(train_list)\n",
        "\n",
        "models = {\n",
        "    \"LightGBM\": LGBMClassifier(random_state=4221),\n",
        "    \"XGBoost\": XGBClassifier(use_label_encoder=False, eval_metric=\"logloss\", random_state=4221),\n",
        "    \"CatBoost\": LGBMClassifier(random_state=42)\n",
        "}\n",
        "\n",
        "train_val_and_test(models, X_train, y_train, X_val, y_val, X_test, y_test, seed=4221, class_labels=['Comp', 'FCoop', 'O_plusx_Coop', 'O_xplus_Coop', 'O_xx_Coop'])"
      ],
      "metadata": {
        "colab": {
          "base_uri": "https://localhost:8080/"
        },
        "id": "7ODL3TEqP9Jj",
        "outputId": "bd0e5b4d-ef57-4ba2-c185-71b2242c4de9"
      },
      "execution_count": null,
      "outputs": [
        {
          "output_type": "stream",
          "name": "stderr",
          "text": [
            "\rTraining Models:   0%|          | 0/3 [00:00<?, ?model/s]"
          ]
        },
        {
          "output_type": "stream",
          "name": "stdout",
          "text": [
            "\n",
            "Training and evaluating: LightGBM\n"
          ]
        },
        {
          "output_type": "stream",
          "name": "stderr",
          "text": [
            "/usr/local/lib/python3.11/dist-packages/sklearn/preprocessing/_label.py:93: DataConversionWarning: A column-vector y was passed when a 1d array was expected. Please change the shape of y to (n_samples, ), for example using ravel().\n",
            "  y = column_or_1d(y, warn=True)\n",
            "/usr/local/lib/python3.11/dist-packages/sklearn/preprocessing/_label.py:129: DataConversionWarning: A column-vector y was passed when a 1d array was expected. Please change the shape of y to (n_samples, ), for example using ravel().\n",
            "  y = column_or_1d(y, dtype=self.classes_.dtype, warn=True)\n",
            "/usr/local/lib/python3.11/dist-packages/sklearn/utils/deprecation.py:151: FutureWarning: 'force_all_finite' was renamed to 'ensure_all_finite' in 1.6 and will be removed in 1.8.\n",
            "  warnings.warn(\n"
          ]
        },
        {
          "output_type": "stream",
          "name": "stdout",
          "text": [
            "[LightGBM] [Info] Number of positive: 88034, number of negative: 66418\n",
            "[LightGBM] [Info] Auto-choosing row-wise multi-threading, the overhead of testing was 0.073693 seconds.\n",
            "You can set `force_row_wise=true` to remove the overhead.\n",
            "And if memory is not enough, you can set `force_col_wise=true`.\n",
            "[LightGBM] [Info] Total Bins 306\n",
            "[LightGBM] [Info] Number of data points in the train set: 154452, number of used features: 153\n",
            "[LightGBM] [Info] [binary:BoostFromScore]: pavg=0.569976 -> initscore=0.281755\n",
            "[LightGBM] [Info] Start training from score 0.281755\n",
            "Model saved at results/LightGBM/model.pkl\n"
          ]
        },
        {
          "output_type": "stream",
          "name": "stderr",
          "text": [
            "/usr/local/lib/python3.11/dist-packages/sklearn/utils/deprecation.py:151: FutureWarning: 'force_all_finite' was renamed to 'ensure_all_finite' in 1.6 and will be removed in 1.8.\n",
            "  warnings.warn(\n",
            "/usr/local/lib/python3.11/dist-packages/sklearn/utils/deprecation.py:151: FutureWarning: 'force_all_finite' was renamed to 'ensure_all_finite' in 1.6 and will be removed in 1.8.\n",
            "  warnings.warn(\n",
            "/usr/local/lib/python3.11/dist-packages/sklearn/utils/deprecation.py:151: FutureWarning: 'force_all_finite' was renamed to 'ensure_all_finite' in 1.6 and will be removed in 1.8.\n",
            "  warnings.warn(\n",
            "/usr/local/lib/python3.11/dist-packages/sklearn/utils/deprecation.py:151: FutureWarning: 'force_all_finite' was renamed to 'ensure_all_finite' in 1.6 and will be removed in 1.8.\n",
            "  warnings.warn(\n",
            "Training Models:  33%|███▎      | 1/3 [00:06<00:12,  6.31s/model]"
          ]
        },
        {
          "output_type": "stream",
          "name": "stdout",
          "text": [
            "Validation Classification Report for LightGBM:\n",
            "\n",
            "              precision    recall  f1-score   support\n",
            "\n",
            "           0       0.62      0.69      0.66     22141\n",
            "           1       0.75      0.68      0.71     29343\n",
            "\n",
            "    accuracy                           0.69     51484\n",
            "   macro avg       0.69      0.69      0.69     51484\n",
            "weighted avg       0.69      0.69      0.69     51484\n",
            "\n",
            "Confusion Matrix for LightGBM (Validation):\n",
            " [[15380  6761]\n",
            " [ 9271 20072]]\n",
            "\n",
            "Training and evaluating: XGBoost\n"
          ]
        },
        {
          "output_type": "stream",
          "name": "stderr",
          "text": [
            "/usr/local/lib/python3.11/dist-packages/xgboost/core.py:158: UserWarning: [12:43:26] WARNING: /workspace/src/learner.cc:740: \n",
            "Parameters: { \"use_label_encoder\" } are not used.\n",
            "\n",
            "  warnings.warn(smsg, UserWarning)\n"
          ]
        },
        {
          "output_type": "stream",
          "name": "stdout",
          "text": [
            "Model saved at results/XGBoost/model.pkl\n"
          ]
        },
        {
          "output_type": "stream",
          "name": "stderr",
          "text": [
            "\rTraining Models:  67%|██████▋   | 2/3 [00:12<00:06,  6.35s/model]"
          ]
        },
        {
          "output_type": "stream",
          "name": "stdout",
          "text": [
            "Validation Classification Report for XGBoost:\n",
            "\n",
            "              precision    recall  f1-score   support\n",
            "\n",
            "           0       0.63      0.68      0.66     22141\n",
            "           1       0.74      0.70      0.72     29343\n",
            "\n",
            "    accuracy                           0.69     51484\n",
            "   macro avg       0.69      0.69      0.69     51484\n",
            "weighted avg       0.70      0.69      0.69     51484\n",
            "\n",
            "Confusion Matrix for XGBoost (Validation):\n",
            " [[15112  7029]\n",
            " [ 8861 20482]]\n",
            "\n",
            "Training and evaluating: CatBoost\n"
          ]
        },
        {
          "output_type": "stream",
          "name": "stderr",
          "text": [
            "/usr/local/lib/python3.11/dist-packages/sklearn/preprocessing/_label.py:93: DataConversionWarning: A column-vector y was passed when a 1d array was expected. Please change the shape of y to (n_samples, ), for example using ravel().\n",
            "  y = column_or_1d(y, warn=True)\n",
            "/usr/local/lib/python3.11/dist-packages/sklearn/preprocessing/_label.py:129: DataConversionWarning: A column-vector y was passed when a 1d array was expected. Please change the shape of y to (n_samples, ), for example using ravel().\n",
            "  y = column_or_1d(y, dtype=self.classes_.dtype, warn=True)\n",
            "/usr/local/lib/python3.11/dist-packages/sklearn/utils/deprecation.py:151: FutureWarning: 'force_all_finite' was renamed to 'ensure_all_finite' in 1.6 and will be removed in 1.8.\n",
            "  warnings.warn(\n"
          ]
        },
        {
          "output_type": "stream",
          "name": "stdout",
          "text": [
            "[LightGBM] [Info] Number of positive: 88034, number of negative: 66418\n",
            "[LightGBM] [Info] Auto-choosing row-wise multi-threading, the overhead of testing was 0.068105 seconds.\n",
            "You can set `force_row_wise=true` to remove the overhead.\n",
            "And if memory is not enough, you can set `force_col_wise=true`.\n",
            "[LightGBM] [Info] Total Bins 306\n",
            "[LightGBM] [Info] Number of data points in the train set: 154452, number of used features: 153\n",
            "[LightGBM] [Info] [binary:BoostFromScore]: pavg=0.569976 -> initscore=0.281755\n",
            "[LightGBM] [Info] Start training from score 0.281755\n",
            "Model saved at results/CatBoost/model.pkl\n"
          ]
        },
        {
          "output_type": "stream",
          "name": "stderr",
          "text": [
            "/usr/local/lib/python3.11/dist-packages/sklearn/utils/deprecation.py:151: FutureWarning: 'force_all_finite' was renamed to 'ensure_all_finite' in 1.6 and will be removed in 1.8.\n",
            "  warnings.warn(\n",
            "/usr/local/lib/python3.11/dist-packages/sklearn/utils/deprecation.py:151: FutureWarning: 'force_all_finite' was renamed to 'ensure_all_finite' in 1.6 and will be removed in 1.8.\n",
            "  warnings.warn(\n",
            "/usr/local/lib/python3.11/dist-packages/sklearn/utils/deprecation.py:151: FutureWarning: 'force_all_finite' was renamed to 'ensure_all_finite' in 1.6 and will be removed in 1.8.\n",
            "  warnings.warn(\n",
            "/usr/local/lib/python3.11/dist-packages/sklearn/utils/deprecation.py:151: FutureWarning: 'force_all_finite' was renamed to 'ensure_all_finite' in 1.6 and will be removed in 1.8.\n",
            "  warnings.warn(\n",
            "Training Models: 100%|██████████| 3/3 [00:18<00:00,  6.31s/model]"
          ]
        },
        {
          "output_type": "stream",
          "name": "stdout",
          "text": [
            "Validation Classification Report for CatBoost:\n",
            "\n",
            "              precision    recall  f1-score   support\n",
            "\n",
            "           0       0.62      0.69      0.66     22141\n",
            "           1       0.75      0.68      0.71     29343\n",
            "\n",
            "    accuracy                           0.69     51484\n",
            "   macro avg       0.69      0.69      0.69     51484\n",
            "weighted avg       0.69      0.69      0.69     51484\n",
            "\n",
            "Confusion Matrix for CatBoost (Validation):\n",
            " [[15380  6761]\n",
            " [ 9271 20072]]\n",
            "\n",
            "Summary of Test Metrics:\n",
            "LightGBM: Test Accuracy = 0.5033, Test Precision = 0.7502, Test Recall = 0.6871, Test F1 = 0.7173, Test AUC = 0.7547, Test MCC = 0.3786\n",
            "XGBoost: Test Accuracy = 0.5054, Test Precision = 0.7488, Test Recall = 0.7046, Test F1 = 0.7260, Test AUC = 0.7571, Test MCC = 0.3865\n",
            "CatBoost: Test Accuracy = 0.5033, Test Precision = 0.7502, Test Recall = 0.6871, Test F1 = 0.7173, Test AUC = 0.7547, Test MCC = 0.3786\n",
            "\n",
            "Summary of Validation and Test Metrics:\n",
            "LightGBM: Test Accuracy = 0.5033, Test MCC = 0.3786\n",
            "XGBoost: Test Accuracy = 0.5054, Test MCC = 0.3865\n",
            "CatBoost: Test Accuracy = 0.5033, Test MCC = 0.3786\n"
          ]
        },
        {
          "output_type": "stream",
          "name": "stderr",
          "text": [
            "\n"
          ]
        },
        {
          "output_type": "execute_result",
          "data": {
            "text/plain": [
              "{'LightGBM': {'Test Accuracy': np.float64(0.5033422713573665),\n",
              "  'Test Precision': 0.750241223187115,\n",
              "  'Test Recall': 0.6871282417320961,\n",
              "  'Test F1': 0.7172991289229513,\n",
              "  'Test AUC': np.float64(0.7547413667381978),\n",
              "  'Test MCC': np.float64(0.3785846147389124)},\n",
              " 'XGBoost': {'Test Accuracy': np.float64(0.5053964912946184),\n",
              "  'Test Precision': 0.7487900021671603,\n",
              "  'Test Recall': 0.7046327453179702,\n",
              "  'Test F1': 0.7260405904705203,\n",
              "  'Test AUC': np.float64(0.7571044946340006),\n",
              "  'Test MCC': np.float64(0.3865054296911203)},\n",
              " 'CatBoost': {'Test Accuracy': np.float64(0.5033422713573665),\n",
              "  'Test Precision': 0.750241223187115,\n",
              "  'Test Recall': 0.6871282417320961,\n",
              "  'Test F1': 0.7172991289229513,\n",
              "  'Test AUC': np.float64(0.7547413667381978),\n",
              "  'Test MCC': np.float64(0.3785846147389124)}}"
            ]
          },
          "metadata": {},
          "execution_count": 182
        }
      ]
    },
    {
      "cell_type": "markdown",
      "source": [
        "#AGORA-TL-II-100"
      ],
      "metadata": {
        "id": "ilFcX5dxP9Rc"
      }
    },
    {
      "cell_type": "code",
      "source": [
        "X_train, X_val, X_test, y_train, y_val, y_test = load(train_list)\n",
        "\n",
        "models = {\n",
        "    \"LightGBM\": LGBMClassifier(random_state=4221),\n",
        "    \"XGBoost\": XGBClassifier(use_label_encoder=False, eval_metric=\"logloss\", random_state=4221),\n",
        "    \"CatBoost\": LGBMClassifier(random_state=42)\n",
        "}\n",
        "\n",
        "train_val_and_test(models, X_train, y_train, X_val, y_val, X_test, y_test, seed=4221, class_labels=['Comp', 'FCoop', 'O_plusx_Coop', 'O_xplus_Coop', 'O_xx_Coop'])"
      ],
      "metadata": {
        "colab": {
          "base_uri": "https://localhost:8080/"
        },
        "id": "HMZ3ojA0P9Wj",
        "outputId": "167f675e-004b-4292-9f31-45c528e50f11"
      },
      "execution_count": null,
      "outputs": [
        {
          "output_type": "stream",
          "name": "stderr",
          "text": [
            "\rTraining Models:   0%|          | 0/3 [00:00<?, ?model/s]/usr/local/lib/python3.11/dist-packages/sklearn/preprocessing/_label.py:93: DataConversionWarning: A column-vector y was passed when a 1d array was expected. Please change the shape of y to (n_samples, ), for example using ravel().\n",
            "  y = column_or_1d(y, warn=True)\n",
            "/usr/local/lib/python3.11/dist-packages/sklearn/preprocessing/_label.py:129: DataConversionWarning: A column-vector y was passed when a 1d array was expected. Please change the shape of y to (n_samples, ), for example using ravel().\n",
            "  y = column_or_1d(y, dtype=self.classes_.dtype, warn=True)\n",
            "/usr/local/lib/python3.11/dist-packages/sklearn/utils/deprecation.py:151: FutureWarning: 'force_all_finite' was renamed to 'ensure_all_finite' in 1.6 and will be removed in 1.8.\n",
            "  warnings.warn(\n"
          ]
        },
        {
          "output_type": "stream",
          "name": "stdout",
          "text": [
            "\n",
            "Training and evaluating: LightGBM\n",
            "[LightGBM] [Info] Number of positive: 208987, number of negative: 186574\n",
            "[LightGBM] [Info] Auto-choosing row-wise multi-threading, the overhead of testing was 0.244365 seconds.\n",
            "You can set `force_row_wise=true` to remove the overhead.\n",
            "And if memory is not enough, you can set `force_col_wise=true`.\n",
            "[LightGBM] [Info] Total Bins 306\n",
            "[LightGBM] [Info] Number of data points in the train set: 395561, number of used features: 153\n",
            "[LightGBM] [Info] [binary:BoostFromScore]: pavg=0.528331 -> initscore=0.113444\n",
            "[LightGBM] [Info] Start training from score 0.113444\n",
            "Model saved at results/LightGBM/model.pkl\n"
          ]
        },
        {
          "output_type": "stream",
          "name": "stderr",
          "text": [
            "/usr/local/lib/python3.11/dist-packages/sklearn/utils/deprecation.py:151: FutureWarning: 'force_all_finite' was renamed to 'ensure_all_finite' in 1.6 and will be removed in 1.8.\n",
            "  warnings.warn(\n",
            "/usr/local/lib/python3.11/dist-packages/sklearn/utils/deprecation.py:151: FutureWarning: 'force_all_finite' was renamed to 'ensure_all_finite' in 1.6 and will be removed in 1.8.\n",
            "  warnings.warn(\n",
            "/usr/local/lib/python3.11/dist-packages/sklearn/utils/deprecation.py:151: FutureWarning: 'force_all_finite' was renamed to 'ensure_all_finite' in 1.6 and will be removed in 1.8.\n",
            "  warnings.warn(\n",
            "/usr/local/lib/python3.11/dist-packages/sklearn/utils/deprecation.py:151: FutureWarning: 'force_all_finite' was renamed to 'ensure_all_finite' in 1.6 and will be removed in 1.8.\n",
            "  warnings.warn(\n",
            "Training Models:  33%|███▎      | 1/3 [00:37<01:14, 37.49s/model]"
          ]
        },
        {
          "output_type": "stream",
          "name": "stdout",
          "text": [
            "Validation Classification Report for LightGBM:\n",
            "\n",
            "              precision    recall  f1-score   support\n",
            "\n",
            "           0       0.68      0.64      0.66     62306\n",
            "           1       0.69      0.73      0.71     69548\n",
            "\n",
            "    accuracy                           0.69    131854\n",
            "   macro avg       0.69      0.68      0.69    131854\n",
            "weighted avg       0.69      0.69      0.69    131854\n",
            "\n",
            "Confusion Matrix for LightGBM (Validation):\n",
            " [[39609 22697]\n",
            " [18501 51047]]\n",
            "\n",
            "Training and evaluating: XGBoost\n"
          ]
        },
        {
          "output_type": "stream",
          "name": "stderr",
          "text": [
            "/usr/local/lib/python3.11/dist-packages/xgboost/core.py:158: UserWarning: [12:38:30] WARNING: /workspace/src/learner.cc:740: \n",
            "Parameters: { \"use_label_encoder\" } are not used.\n",
            "\n",
            "  warnings.warn(smsg, UserWarning)\n"
          ]
        },
        {
          "output_type": "stream",
          "name": "stdout",
          "text": [
            "Model saved at results/XGBoost/model.pkl\n"
          ]
        },
        {
          "output_type": "stream",
          "name": "stderr",
          "text": [
            "\rTraining Models:  67%|██████▋   | 2/3 [01:11<00:35, 35.55s/model]"
          ]
        },
        {
          "output_type": "stream",
          "name": "stdout",
          "text": [
            "Validation Classification Report for XGBoost:\n",
            "\n",
            "              precision    recall  f1-score   support\n",
            "\n",
            "           0       0.70      0.66      0.68     62306\n",
            "           1       0.71      0.74      0.73     69548\n",
            "\n",
            "    accuracy                           0.71    131854\n",
            "   macro avg       0.70      0.70      0.70    131854\n",
            "weighted avg       0.71      0.71      0.70    131854\n",
            "\n",
            "Confusion Matrix for XGBoost (Validation):\n",
            " [[41241 21065]\n",
            " [17780 51768]]\n",
            "\n",
            "Training and evaluating: CatBoost\n"
          ]
        },
        {
          "output_type": "stream",
          "name": "stderr",
          "text": [
            "/usr/local/lib/python3.11/dist-packages/sklearn/preprocessing/_label.py:93: DataConversionWarning: A column-vector y was passed when a 1d array was expected. Please change the shape of y to (n_samples, ), for example using ravel().\n",
            "  y = column_or_1d(y, warn=True)\n",
            "/usr/local/lib/python3.11/dist-packages/sklearn/preprocessing/_label.py:129: DataConversionWarning: A column-vector y was passed when a 1d array was expected. Please change the shape of y to (n_samples, ), for example using ravel().\n",
            "  y = column_or_1d(y, dtype=self.classes_.dtype, warn=True)\n",
            "/usr/local/lib/python3.11/dist-packages/sklearn/utils/deprecation.py:151: FutureWarning: 'force_all_finite' was renamed to 'ensure_all_finite' in 1.6 and will be removed in 1.8.\n",
            "  warnings.warn(\n"
          ]
        },
        {
          "output_type": "stream",
          "name": "stdout",
          "text": [
            "[LightGBM] [Info] Number of positive: 208987, number of negative: 186574\n",
            "[LightGBM] [Info] Auto-choosing row-wise multi-threading, the overhead of testing was 0.204433 seconds.\n",
            "You can set `force_row_wise=true` to remove the overhead.\n",
            "And if memory is not enough, you can set `force_col_wise=true`.\n",
            "[LightGBM] [Info] Total Bins 306\n",
            "[LightGBM] [Info] Number of data points in the train set: 395561, number of used features: 153\n",
            "[LightGBM] [Info] [binary:BoostFromScore]: pavg=0.528331 -> initscore=0.113444\n",
            "[LightGBM] [Info] Start training from score 0.113444\n",
            "Model saved at results/CatBoost/model.pkl\n"
          ]
        },
        {
          "output_type": "stream",
          "name": "stderr",
          "text": [
            "/usr/local/lib/python3.11/dist-packages/sklearn/utils/deprecation.py:151: FutureWarning: 'force_all_finite' was renamed to 'ensure_all_finite' in 1.6 and will be removed in 1.8.\n",
            "  warnings.warn(\n",
            "/usr/local/lib/python3.11/dist-packages/sklearn/utils/deprecation.py:151: FutureWarning: 'force_all_finite' was renamed to 'ensure_all_finite' in 1.6 and will be removed in 1.8.\n",
            "  warnings.warn(\n",
            "/usr/local/lib/python3.11/dist-packages/sklearn/utils/deprecation.py:151: FutureWarning: 'force_all_finite' was renamed to 'ensure_all_finite' in 1.6 and will be removed in 1.8.\n",
            "  warnings.warn(\n",
            "/usr/local/lib/python3.11/dist-packages/sklearn/utils/deprecation.py:151: FutureWarning: 'force_all_finite' was renamed to 'ensure_all_finite' in 1.6 and will be removed in 1.8.\n",
            "  warnings.warn(\n",
            "Training Models: 100%|██████████| 3/3 [01:46<00:00, 35.46s/model]"
          ]
        },
        {
          "output_type": "stream",
          "name": "stdout",
          "text": [
            "Validation Classification Report for CatBoost:\n",
            "\n",
            "              precision    recall  f1-score   support\n",
            "\n",
            "           0       0.68      0.64      0.66     62306\n",
            "           1       0.69      0.73      0.71     69548\n",
            "\n",
            "    accuracy                           0.69    131854\n",
            "   macro avg       0.69      0.68      0.69    131854\n",
            "weighted avg       0.69      0.69      0.69    131854\n",
            "\n",
            "Confusion Matrix for CatBoost (Validation):\n",
            " [[39609 22697]\n",
            " [18501 51047]]\n",
            "\n",
            "Summary of Test Metrics:\n",
            "LightGBM: Test Accuracy = 0.5035, Test Precision = 0.6899, Test Recall = 0.7335, Test F1 = 0.7110, Test AUC = 0.7496, Test MCC = 0.3662\n",
            "XGBoost: Test Accuracy = 0.5031, Test Precision = 0.7089, Test Recall = 0.7443, Test F1 = 0.7262, Test AUC = 0.7726, Test MCC = 0.4036\n",
            "CatBoost: Test Accuracy = 0.5035, Test Precision = 0.6899, Test Recall = 0.7335, Test F1 = 0.7110, Test AUC = 0.7496, Test MCC = 0.3662\n",
            "\n",
            "Summary of Validation and Test Metrics:\n",
            "LightGBM: Test Accuracy = 0.5035, Test MCC = 0.3662\n",
            "XGBoost: Test Accuracy = 0.5031, Test MCC = 0.4036\n",
            "CatBoost: Test Accuracy = 0.5035, Test MCC = 0.3662\n"
          ]
        },
        {
          "output_type": "stream",
          "name": "stderr",
          "text": [
            "\n"
          ]
        },
        {
          "output_type": "execute_result",
          "data": {
            "text/plain": [
              "{'LightGBM': {'Test Accuracy': np.float64(0.5035070735701853),\n",
              "  'Test Precision': 0.6898506898506899,\n",
              "  'Test Recall': 0.7334682570440224,\n",
              "  'Test F1': 0.7109911439165734,\n",
              "  'Test AUC': np.float64(0.7496046431793731),\n",
              "  'Test MCC': np.float64(0.3662426089883588)},\n",
              " 'XGBoost': {'Test Accuracy': np.float64(0.5031101763280458),\n",
              "  'Test Precision': 0.7088801399825022,\n",
              "  'Test Recall': 0.7443195682441258,\n",
              "  'Test F1': 0.7261677204332696,\n",
              "  'Test AUC': np.float64(0.7725742211024463),\n",
              "  'Test MCC': np.float64(0.4036409310070837)},\n",
              " 'CatBoost': {'Test Accuracy': np.float64(0.5035070735701853),\n",
              "  'Test Precision': 0.6898506898506899,\n",
              "  'Test Recall': 0.7334682570440224,\n",
              "  'Test F1': 0.7109911439165734,\n",
              "  'Test AUC': np.float64(0.7496046431793731),\n",
              "  'Test MCC': np.float64(0.3662426089883588)}}"
            ]
          },
          "metadata": {},
          "execution_count": 177
        }
      ]
    }
  ]
}