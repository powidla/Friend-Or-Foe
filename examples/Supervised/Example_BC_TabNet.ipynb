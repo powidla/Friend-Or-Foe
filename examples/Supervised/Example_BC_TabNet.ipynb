{
  "nbformat": 4,
  "nbformat_minor": 0,
  "metadata": {
    "colab": {
      "provenance": [],
      "collapsed_sections": [
        "em3x_zS9iyvl",
        "llN14tGUjBWH",
        "x4rkGC2vjD4v",
        "oV3ntQ7DjJFV",
        "dZZmy5I0joj4",
        "12-XWGCy0zfl",
        "dH-p57bc0-L7",
        "xwr8rdNx1BmE",
        "fnkFORVe1CKB",
        "gb_cd-jj1LxD",
        "lo-_ejli-4BY",
        "x7AcLhdW_DkN",
        "33C63C4j_Eed",
        "BEeKaizz_Erz",
        "09T_YLTq_E8z",
        "in6qLEMt_FSn",
        "OsQV5Qde_FhX",
        "0Mf_Ulw4_FyO",
        "62R4z7NdKBp7",
        "KxvWAAokKEuG"
      ],
      "machine_shape": "hm",
      "gpuType": "T4"
    },
    "kernelspec": {
      "name": "python3",
      "display_name": "Python 3"
    },
    "language_info": {
      "name": "python"
    },
    "accelerator": "GPU"
  },
  "cells": [
    {
      "cell_type": "code",
      "execution_count": null,
      "metadata": {
        "id": "bxs_mz_hcMz7"
      },
      "outputs": [],
      "source": [
        "%%capture\n",
        "!pip install pytorch-tabnet"
      ]
    },
    {
      "cell_type": "code",
      "source": [
        "import numpy as np\n",
        "import pandas as pd\n",
        "import os\n",
        "import shutil\n",
        "import joblib\n",
        "import pickle\n",
        "import json\n",
        "\n",
        "# ml frameworks\n",
        "from sklearn.model_selection import train_test_split\n",
        "from sklearn.inspection import permutation_importance\n",
        "from sklearn.datasets import make_classification # for test of funcs\n",
        "import matplotlib.pyplot as plt\n",
        "from sklearn.metrics import (\n",
        "    confusion_matrix,\n",
        "    classification_report,\n",
        "    accuracy_score,\n",
        "    roc_auc_score,\n",
        "    precision_score,\n",
        "    recall_score,\n",
        "    f1_score,\n",
        "    matthews_corrcoef,\n",
        "    precision_recall_curve,\n",
        "    auc,\n",
        "    RocCurveDisplay,\n",
        "    PrecisionRecallDisplay,\n",
        ")\n",
        "\n",
        "import torch\n",
        "#time management\n",
        "from tqdm import tqdm\n",
        "import time\n",
        "\n",
        "#stats\n",
        "from scipy.stats import wasserstein_distance\n",
        "from scipy.spatial.distance import cdist\n",
        "from itertools import combinations"
      ],
      "metadata": {
        "id": "bOQ5z2ahc2jD"
      },
      "execution_count": null,
      "outputs": []
    },
    {
      "cell_type": "code",
      "source": [
        "from pytorch_tabnet.tab_model import TabNetClassifier\n",
        "from pytorch_tabnet.callbacks import EarlyStopping"
      ],
      "metadata": {
        "id": "0hO2eikxeZ-Z"
      },
      "execution_count": null,
      "outputs": []
    },
    {
      "cell_type": "code",
      "source": [
        "device = 'cuda' if torch.cuda.is_available() else 'cpu'\n",
        "print(f\"Using device: {device}\")"
      ],
      "metadata": {
        "colab": {
          "base_uri": "https://localhost:8080/"
        },
        "id": "h_GSjO6MhyDB",
        "outputId": "94921f75-441e-4576-e58c-af89989184d7"
      },
      "execution_count": null,
      "outputs": [
        {
          "output_type": "stream",
          "name": "stdout",
          "text": [
            "Using device: cuda\n"
          ]
        }
      ]
    },
    {
      "cell_type": "code",
      "source": [
        "X_train_csv = pd.read_csv(\"/content/drive/MyDrive/BC-V/CARVEME/50/X_train_BC-V-50.csv\")\n",
        "X_val_csv = pd.read_csv(\"/content/drive/MyDrive/BC-V/CARVEME/50/X_val_BC-V-50.csv\")\n",
        "X_test_csv = pd.read_csv(\"/content/drive/MyDrive/BC-V/CARVEME/50/X_test_BC-V-50.csv\")\n",
        "y_train_csv = pd.read_csv(\"/content/drive/MyDrive/BC-V/CARVEME/50/y_train_BC-V-50.csv\")\n",
        "y_val_csv = pd.read_csv(\"/content/drive/MyDrive/BC-V/CARVEME/50/y_val_BC-V-50.csv\")\n",
        "y_test_csv = pd.read_csv(\"/content/drive/MyDrive/BC-V/CARVEME/50/y_test_BC-V-50.csv\")"
      ],
      "metadata": {
        "id": "laqpFYXnc_oD"
      },
      "execution_count": null,
      "outputs": []
    },
    {
      "cell_type": "code",
      "source": [
        "def to_npy(X_train_csv, X_val_csv, X_test_csv, y_train_csv, y_val_csv, y_test_csv):\n",
        "    X_train = X_train_csv.to_numpy()\n",
        "    X_val = X_val_csv.to_numpy()\n",
        "    X_test = X_test_csv.to_numpy()\n",
        "    y_train = y_train_csv.to_numpy()\n",
        "    y_val = y_val_csv.to_numpy()\n",
        "    y_test = y_test_csv.to_numpy()\n",
        "\n",
        "    # Save the arrays as .npy files\n",
        "    np.save(\"X_train.npy\", X_train)\n",
        "    np.save(\"X_val.npy\", X_val)\n",
        "    np.save(\"X_test.npy\", X_test)\n",
        "    np.save(\"y_train.npy\", y_train)\n",
        "    np.save(\"y_val.npy\", y_val)\n",
        "    np.save(\"y_test.npy\", y_test)\n",
        "\n",
        "    print(\"CSV onverted to .npy format.\")"
      ],
      "metadata": {
        "id": "djAfIX7NdeEW"
      },
      "execution_count": null,
      "outputs": []
    },
    {
      "cell_type": "code",
      "source": [
        "to_npy(X_train_csv, X_val_csv, X_test_csv, y_train_csv, y_val_csv, y_test_csv)"
      ],
      "metadata": {
        "colab": {
          "base_uri": "https://localhost:8080/"
        },
        "id": "-nN4LkpmdfrQ",
        "outputId": "a7a43700-7f2f-4904-fd53-a81dbabe78dd"
      },
      "execution_count": null,
      "outputs": [
        {
          "output_type": "stream",
          "name": "stdout",
          "text": [
            "CSV onverted to .npy format.\n"
          ]
        }
      ]
    },
    {
      "cell_type": "code",
      "source": [
        "X_train, y_train, X_val, y_val, X_test, y_test = np.load(\"X_train.npy\"), np.load(\"y_train.npy\"), np.load(\"X_val.npy\"), np.load(\"y_val.npy\"), np.load(\"X_test.npy\"), np.load(\"y_test.npy\")"
      ],
      "metadata": {
        "id": "MD2RfO6CdhvV"
      },
      "execution_count": null,
      "outputs": []
    },
    {
      "cell_type": "code",
      "source": [
        "y_train = y_train.reshape(-1)\n",
        "y_val = y_val.reshape(-1,)\n",
        "y_test = y_test.reshape(-1)"
      ],
      "metadata": {
        "id": "d7DrRjRlgl64"
      },
      "execution_count": null,
      "outputs": []
    },
    {
      "cell_type": "code",
      "source": [
        "def create_confusion_matrix(y_true, y_pred):\n",
        "    '''\n",
        "    Description: Create a confusion matrix.\n",
        "    Arguments: y_true (array-like): Ground truth labels;\n",
        "               y_pred (array-like): Predicted labels.\n",
        "    Outputs:\n",
        "        pd.DataFrame: A confusion matrix as a pandas DataFrame.\n",
        "    '''\n",
        "    cm = confusion_matrix(y_true, y_pred)\n",
        "    cm_df = pd.DataFrame(cm, index=[\"True Negative\", \"True Positive\"],\n",
        "                             columns=[\"Predicted Negative\", \"Predicted Positive\"])\n",
        "    return cm_df\n",
        "\n",
        "\n",
        "def score_metrics(y_true, y_pred, y_prob):\n",
        "    '''\n",
        "    Description: Calculate various metrics for binary classification.\n",
        "    Arguments: y_true (array-like): Ground truth labels;\n",
        "               y_pred (array-like): Predicted labels;\n",
        "               y_prob (array-like): Predicted probabilities for the positive class.\n",
        "    Outputs:\n",
        "        dict\n",
        "    '''\n",
        "    metrics = {\n",
        "        \"Accuracy\": accuracy_score(y_true, y_pred),\n",
        "        \"ROC AUC\": roc_auc_score(y_true, y_prob),\n",
        "        \"Precision\": precision_score(y_true, y_pred),\n",
        "        \"Recall\": recall_score(y_true, y_pred),\n",
        "        \"F1 Score\": f1_score(y_true, y_pred),\n",
        "        \"MCC\": matthews_corrcoef(y_true, y_pred),\n",
        "    }\n",
        "    # PR AUC\n",
        "    precision, recall, _ = precision_recall_curve(y_true, y_prob)\n",
        "    metrics[\"PR AUC\"] = auc(recall, precision)\n",
        "    return metrics\n",
        "\n",
        "\n",
        "def train_and_evaluate_tabnet(X_train, y_train, X_val, y_val, X_test, y_test,\n",
        "                             output_dir=\"tabnet_results\", seed=4221,\n",
        "                             max_epochs=100, patience=10):\n",
        "    '''\n",
        "    Description: Train and evaluate TabNet on binclass.\n",
        "\n",
        "    Arguments:\n",
        "        X_train, y_train: Training data\n",
        "        X_val, y_val: Validation data\n",
        "        X_test, y_test: Test data\n",
        "        output_dir: Directory to save results\n",
        "        seed: Random seed\n",
        "\n",
        "    Outputs:\n",
        "        json\n",
        "    '''\n",
        "\n",
        "    os.makedirs(output_dir, exist_ok=True)\n",
        "\n",
        "    # Init\n",
        "    clf = TabNetClassifier(\n",
        "        cat_idxs=[],\n",
        "        cat_dims=[],\n",
        "        cat_emb_dim=1,\n",
        "        optimizer_fn=torch.optim.AdamW,\n",
        "        optimizer_params=dict(lr=1e-4, weight_decay=0.02),\n",
        "        scheduler_params={\"step_size\":50, \"gamma\":0.99},\n",
        "        scheduler_fn=torch.optim.lr_scheduler.StepLR,\n",
        "        mask_type='entmax',\n",
        "        n_d=64,\n",
        "        n_a=64,\n",
        "        seed=seed,\n",
        "        device_name=device\n",
        "    )\n",
        "\n",
        "    # Train\n",
        "    clf.fit(\n",
        "        X_train=X_train, y_train=y_train,\n",
        "        eval_set=[(X_val, y_val)],\n",
        "        eval_metric=['accuracy'],\n",
        "        max_epochs=max_epochs,\n",
        "        patience=patience,\n",
        "        batch_size=1024\n",
        "    )\n",
        "\n",
        "    # Test\n",
        "    y_pred = clf.predict(X_test)\n",
        "    y_proba = clf.predict_proba(X_test)[:, 1]\n",
        "\n",
        "    metrics = {\n",
        "        \"Accuracy\": accuracy_score(y_test, y_pred),\n",
        "        \"Precision\": precision_score(y_test, y_pred),\n",
        "        \"ROC AUC\": roc_auc_score(y_test, y_proba),\n",
        "        \"Recall\": recall_score(y_test, y_pred),\n",
        "        \"F1\": f1_score(y_test, y_pred),\n",
        "        \"MCC\": matthews_corrcoef(y_test, y_pred)\n",
        "    }\n",
        "\n",
        "    with open(os.path.join(output_dir, \"tabnet_metrics.json\"), 'w') as f:\n",
        "        json.dump(metrics, f, indent=4)\n",
        "\n",
        "    clf.save_model(os.path.join(output_dir, \"tabnet_model.zip\"))\n",
        "\n",
        "    print(f\"\\nTest Metrics:\")\n",
        "    print(f\"Accuracy: {metrics['Accuracy']:.4f}\")\n",
        "    print(f\"MCC: {metrics['MCC']:.4f}\")\n",
        "\n",
        "    return metrics"
      ],
      "metadata": {
        "id": "Cpy1-dhydk-D"
      },
      "execution_count": null,
      "outputs": []
    },
    {
      "cell_type": "markdown",
      "source": [
        "#AGORA-BC-I-100"
      ],
      "metadata": {
        "id": "em3x_zS9iyvl"
      }
    },
    {
      "cell_type": "code",
      "source": [
        "train_and_evaluate_tabnet(X_train, y_train, X_val, y_val, X_test, y_test)"
      ],
      "metadata": {
        "colab": {
          "base_uri": "https://localhost:8080/"
        },
        "id": "B4rc6fdggA58",
        "outputId": "5af37d05-45ce-4f95-e3de-d88479474900"
      },
      "execution_count": null,
      "outputs": [
        {
          "output_type": "stream",
          "name": "stderr",
          "text": [
            "/usr/local/lib/python3.11/dist-packages/pytorch_tabnet/abstract_model.py:82: UserWarning: Device used : cuda\n",
            "  warnings.warn(f\"Device used : {self.device}\")\n"
          ]
        },
        {
          "output_type": "stream",
          "name": "stdout",
          "text": [
            "epoch 0  | loss: 0.92274 | val_0_accuracy: 0.61213 |  0:00:13s\n",
            "epoch 1  | loss: 0.84115 | val_0_accuracy: 0.62834 |  0:00:31s\n",
            "epoch 2  | loss: 0.78972 | val_0_accuracy: 0.6379  |  0:00:46s\n",
            "epoch 3  | loss: 0.75737 | val_0_accuracy: 0.6498  |  0:01:00s\n",
            "epoch 4  | loss: 0.73588 | val_0_accuracy: 0.65593 |  0:01:20s\n",
            "epoch 5  | loss: 0.7184  | val_0_accuracy: 0.6628  |  0:01:42s\n",
            "epoch 6  | loss: 0.70531 | val_0_accuracy: 0.66339 |  0:01:55s\n",
            "epoch 7  | loss: 0.69527 | val_0_accuracy: 0.66624 |  0:02:13s\n",
            "epoch 8  | loss: 0.6859  | val_0_accuracy: 0.6696  |  0:02:26s\n",
            "epoch 9  | loss: 0.67728 | val_0_accuracy: 0.67173 |  0:02:39s\n",
            "epoch 10 | loss: 0.67124 | val_0_accuracy: 0.67249 |  0:02:55s\n",
            "epoch 11 | loss: 0.66769 | val_0_accuracy: 0.67252 |  0:03:14s\n",
            "epoch 12 | loss: 0.66201 | val_0_accuracy: 0.67401 |  0:03:27s\n",
            "epoch 13 | loss: 0.65843 | val_0_accuracy: 0.6737  |  0:03:40s\n",
            "epoch 14 | loss: 0.65426 | val_0_accuracy: 0.6751  |  0:03:54s\n",
            "epoch 15 | loss: 0.65149 | val_0_accuracy: 0.67564 |  0:04:14s\n",
            "epoch 16 | loss: 0.6495  | val_0_accuracy: 0.67564 |  0:04:27s\n",
            "epoch 17 | loss: 0.64793 | val_0_accuracy: 0.67599 |  0:04:39s\n",
            "epoch 18 | loss: 0.64502 | val_0_accuracy: 0.67642 |  0:04:52s\n",
            "epoch 19 | loss: 0.64283 | val_0_accuracy: 0.67642 |  0:05:04s\n",
            "epoch 20 | loss: 0.6417  | val_0_accuracy: 0.67683 |  0:05:16s\n",
            "epoch 21 | loss: 0.64049 | val_0_accuracy: 0.67629 |  0:05:28s\n",
            "epoch 22 | loss: 0.63966 | val_0_accuracy: 0.67746 |  0:05:40s\n",
            "epoch 23 | loss: 0.63771 | val_0_accuracy: 0.67711 |  0:05:52s\n",
            "epoch 24 | loss: 0.637   | val_0_accuracy: 0.67697 |  0:06:04s\n",
            "epoch 25 | loss: 0.63577 | val_0_accuracy: 0.67744 |  0:06:16s\n",
            "epoch 26 | loss: 0.63528 | val_0_accuracy: 0.67783 |  0:06:28s\n",
            "epoch 27 | loss: 0.63381 | val_0_accuracy: 0.67732 |  0:06:40s\n",
            "epoch 28 | loss: 0.6326  | val_0_accuracy: 0.67758 |  0:06:51s\n",
            "epoch 29 | loss: 0.63249 | val_0_accuracy: 0.67741 |  0:07:03s\n",
            "epoch 30 | loss: 0.63194 | val_0_accuracy: 0.67816 |  0:07:15s\n",
            "epoch 31 | loss: 0.63104 | val_0_accuracy: 0.67807 |  0:07:27s\n",
            "epoch 32 | loss: 0.62969 | val_0_accuracy: 0.67841 |  0:07:39s\n",
            "epoch 33 | loss: 0.62973 | val_0_accuracy: 0.67839 |  0:07:51s\n",
            "epoch 34 | loss: 0.62926 | val_0_accuracy: 0.67809 |  0:08:03s\n",
            "epoch 35 | loss: 0.6278  | val_0_accuracy: 0.67844 |  0:08:15s\n",
            "epoch 36 | loss: 0.62802 | val_0_accuracy: 0.6787  |  0:08:27s\n",
            "epoch 37 | loss: 0.62768 | val_0_accuracy: 0.6785  |  0:08:38s\n",
            "epoch 38 | loss: 0.62707 | val_0_accuracy: 0.6789  |  0:08:50s\n",
            "epoch 39 | loss: 0.62671 | val_0_accuracy: 0.67878 |  0:09:01s\n",
            "epoch 40 | loss: 0.62631 | val_0_accuracy: 0.67911 |  0:09:13s\n",
            "epoch 41 | loss: 0.62575 | val_0_accuracy: 0.67885 |  0:09:24s\n",
            "epoch 42 | loss: 0.62572 | val_0_accuracy: 0.6791  |  0:09:36s\n",
            "epoch 43 | loss: 0.62477 | val_0_accuracy: 0.67901 |  0:09:48s\n",
            "epoch 44 | loss: 0.62414 | val_0_accuracy: 0.67921 |  0:10:00s\n",
            "epoch 45 | loss: 0.6244  | val_0_accuracy: 0.67901 |  0:10:11s\n",
            "epoch 46 | loss: 0.62319 | val_0_accuracy: 0.67924 |  0:10:23s\n",
            "epoch 47 | loss: 0.62319 | val_0_accuracy: 0.67916 |  0:10:35s\n",
            "epoch 48 | loss: 0.6221  | val_0_accuracy: 0.67939 |  0:10:46s\n",
            "epoch 49 | loss: 0.62203 | val_0_accuracy: 0.67989 |  0:10:58s\n",
            "epoch 50 | loss: 0.62184 | val_0_accuracy: 0.67962 |  0:11:10s\n",
            "epoch 51 | loss: 0.62118 | val_0_accuracy: 0.68006 |  0:11:21s\n",
            "epoch 52 | loss: 0.62078 | val_0_accuracy: 0.68023 |  0:11:33s\n",
            "epoch 53 | loss: 0.62054 | val_0_accuracy: 0.68042 |  0:11:45s\n",
            "epoch 54 | loss: 0.61913 | val_0_accuracy: 0.68038 |  0:11:56s\n",
            "epoch 55 | loss: 0.61825 | val_0_accuracy: 0.68043 |  0:12:08s\n",
            "epoch 56 | loss: 0.61866 | val_0_accuracy: 0.68084 |  0:12:20s\n",
            "epoch 57 | loss: 0.61826 | val_0_accuracy: 0.68143 |  0:12:32s\n",
            "epoch 58 | loss: 0.6176  | val_0_accuracy: 0.6817  |  0:12:43s\n",
            "epoch 59 | loss: 0.6169  | val_0_accuracy: 0.68152 |  0:13:01s\n",
            "epoch 60 | loss: 0.61621 | val_0_accuracy: 0.68166 |  0:13:20s\n",
            "epoch 61 | loss: 0.61579 | val_0_accuracy: 0.68193 |  0:13:31s\n",
            "epoch 62 | loss: 0.61439 | val_0_accuracy: 0.68225 |  0:13:43s\n",
            "epoch 63 | loss: 0.6143  | val_0_accuracy: 0.68259 |  0:13:55s\n",
            "epoch 64 | loss: 0.61395 | val_0_accuracy: 0.68255 |  0:14:06s\n",
            "epoch 65 | loss: 0.61369 | val_0_accuracy: 0.6838  |  0:14:18s\n",
            "epoch 66 | loss: 0.61294 | val_0_accuracy: 0.68402 |  0:14:30s\n",
            "epoch 67 | loss: 0.61202 | val_0_accuracy: 0.68468 |  0:14:41s\n",
            "epoch 68 | loss: 0.61098 | val_0_accuracy: 0.68487 |  0:14:53s\n",
            "epoch 69 | loss: 0.61109 | val_0_accuracy: 0.68504 |  0:15:04s\n",
            "epoch 70 | loss: 0.61001 | val_0_accuracy: 0.68589 |  0:15:16s\n",
            "epoch 71 | loss: 0.60905 | val_0_accuracy: 0.68708 |  0:15:29s\n",
            "epoch 72 | loss: 0.6086  | val_0_accuracy: 0.68731 |  0:15:41s\n",
            "epoch 73 | loss: 0.60786 | val_0_accuracy: 0.68795 |  0:15:53s\n",
            "epoch 74 | loss: 0.60686 | val_0_accuracy: 0.68881 |  0:16:05s\n",
            "epoch 75 | loss: 0.60592 | val_0_accuracy: 0.69014 |  0:16:17s\n",
            "epoch 76 | loss: 0.60544 | val_0_accuracy: 0.69051 |  0:16:29s\n",
            "epoch 77 | loss: 0.60413 | val_0_accuracy: 0.69154 |  0:16:41s\n",
            "epoch 78 | loss: 0.60335 | val_0_accuracy: 0.69278 |  0:16:53s\n",
            "epoch 79 | loss: 0.60182 | val_0_accuracy: 0.69347 |  0:17:05s\n",
            "epoch 80 | loss: 0.60114 | val_0_accuracy: 0.6939  |  0:17:16s\n",
            "epoch 81 | loss: 0.60027 | val_0_accuracy: 0.69445 |  0:17:28s\n",
            "epoch 82 | loss: 0.59903 | val_0_accuracy: 0.69626 |  0:17:39s\n",
            "epoch 83 | loss: 0.5977  | val_0_accuracy: 0.69764 |  0:17:51s\n",
            "epoch 84 | loss: 0.59672 | val_0_accuracy: 0.69848 |  0:18:03s\n",
            "epoch 85 | loss: 0.59598 | val_0_accuracy: 0.69943 |  0:18:14s\n",
            "epoch 86 | loss: 0.59405 | val_0_accuracy: 0.69991 |  0:18:26s\n",
            "epoch 87 | loss: 0.59312 | val_0_accuracy: 0.70231 |  0:18:38s\n",
            "epoch 88 | loss: 0.59242 | val_0_accuracy: 0.7028  |  0:18:50s\n",
            "epoch 89 | loss: 0.59096 | val_0_accuracy: 0.70351 |  0:19:01s\n",
            "epoch 90 | loss: 0.58981 | val_0_accuracy: 0.70501 |  0:19:13s\n",
            "epoch 91 | loss: 0.58839 | val_0_accuracy: 0.70531 |  0:19:24s\n",
            "epoch 92 | loss: 0.5867  | val_0_accuracy: 0.7062  |  0:19:35s\n",
            "epoch 93 | loss: 0.58567 | val_0_accuracy: 0.70775 |  0:19:47s\n",
            "epoch 94 | loss: 0.58476 | val_0_accuracy: 0.70884 |  0:19:59s\n",
            "epoch 95 | loss: 0.58342 | val_0_accuracy: 0.70908 |  0:20:11s\n",
            "epoch 96 | loss: 0.58157 | val_0_accuracy: 0.7108  |  0:20:22s\n",
            "epoch 97 | loss: 0.5799  | val_0_accuracy: 0.71155 |  0:20:34s\n",
            "epoch 98 | loss: 0.57935 | val_0_accuracy: 0.71236 |  0:20:46s\n",
            "epoch 99 | loss: 0.57818 | val_0_accuracy: 0.71408 |  0:20:58s\n",
            "Stop training because you reached max_epochs = 100 with best_epoch = 99 and best_val_0_accuracy = 0.71408\n"
          ]
        },
        {
          "output_type": "stream",
          "name": "stderr",
          "text": [
            "/usr/local/lib/python3.11/dist-packages/pytorch_tabnet/callbacks.py:172: UserWarning: Best weights from best epoch are automatically used!\n",
            "  warnings.warn(wrn_msg)\n"
          ]
        },
        {
          "output_type": "stream",
          "name": "stdout",
          "text": [
            "Successfully saved model at tabnet_results/tabnet_model.zip.zip\n",
            "\n",
            "Test Metrics:\n",
            "Accuracy: 0.7117\n",
            "MCC: 0.2540\n"
          ]
        },
        {
          "output_type": "execute_result",
          "data": {
            "text/plain": [
              "{'Accuracy': 0.7116613296152726,\n",
              " 'Precision': 0.7171460461921525,\n",
              " 'Recall': 0.9467921106325097,\n",
              " 'F1': 0.8161219404953832,\n",
              " 'MCC': np.float64(0.25396405497208674)}"
            ]
          },
          "metadata": {},
          "execution_count": 11
        }
      ]
    },
    {
      "cell_type": "markdown",
      "source": [
        "#AGORA-BC-II-100"
      ],
      "metadata": {
        "id": "llN14tGUjBWH"
      }
    },
    {
      "cell_type": "code",
      "source": [
        "train_and_evaluate_tabnet(X_train, y_train, X_val, y_val, X_test, y_test)"
      ],
      "metadata": {
        "colab": {
          "base_uri": "https://localhost:8080/"
        },
        "id": "pFDnAHinjBe2",
        "outputId": "8fc1b464-327a-48a0-e828-cf5230ba4f22"
      },
      "execution_count": null,
      "outputs": [
        {
          "output_type": "stream",
          "name": "stderr",
          "text": [
            "/usr/local/lib/python3.11/dist-packages/pytorch_tabnet/abstract_model.py:82: UserWarning: Device used : cuda\n",
            "  warnings.warn(f\"Device used : {self.device}\")\n"
          ]
        },
        {
          "output_type": "stream",
          "name": "stdout",
          "text": [
            "epoch 0  | loss: 1.4141  | val_0_accuracy: 0.60191 |  0:00:24s\n",
            "epoch 1  | loss: 0.86738 | val_0_accuracy: 0.62229 |  0:00:48s\n",
            "epoch 2  | loss: 0.81039 | val_0_accuracy: 0.62249 |  0:01:14s\n",
            "epoch 3  | loss: 0.77645 | val_0_accuracy: 0.62677 |  0:01:37s\n",
            "epoch 4  | loss: 0.7534  | val_0_accuracy: 0.62747 |  0:02:01s\n",
            "epoch 5  | loss: 0.73656 | val_0_accuracy: 0.6317  |  0:02:25s\n",
            "epoch 6  | loss: 0.72383 | val_0_accuracy: 0.62888 |  0:02:49s\n",
            "epoch 7  | loss: 0.71216 | val_0_accuracy: 0.63458 |  0:03:13s\n",
            "epoch 8  | loss: 0.70168 | val_0_accuracy: 0.63724 |  0:03:36s\n",
            "epoch 9  | loss: 0.69406 | val_0_accuracy: 0.63866 |  0:04:00s\n",
            "epoch 10 | loss: 0.6868  | val_0_accuracy: 0.64071 |  0:04:24s\n",
            "epoch 11 | loss: 0.68198 | val_0_accuracy: 0.64063 |  0:04:48s\n",
            "epoch 12 | loss: 0.67626 | val_0_accuracy: 0.64256 |  0:05:12s\n",
            "epoch 13 | loss: 0.6727  | val_0_accuracy: 0.64451 |  0:05:35s\n",
            "epoch 14 | loss: 0.66922 | val_0_accuracy: 0.64481 |  0:05:58s\n",
            "epoch 15 | loss: 0.66567 | val_0_accuracy: 0.64507 |  0:06:22s\n",
            "epoch 16 | loss: 0.66303 | val_0_accuracy: 0.64636 |  0:06:48s\n",
            "epoch 17 | loss: 0.66056 | val_0_accuracy: 0.64619 |  0:07:20s\n",
            "epoch 18 | loss: 0.65874 | val_0_accuracy: 0.6466  |  0:07:44s\n",
            "epoch 19 | loss: 0.65586 | val_0_accuracy: 0.64666 |  0:08:10s\n",
            "epoch 20 | loss: 0.65496 | val_0_accuracy: 0.64701 |  0:08:33s\n",
            "epoch 21 | loss: 0.65246 | val_0_accuracy: 0.6474  |  0:08:57s\n",
            "epoch 22 | loss: 0.65092 | val_0_accuracy: 0.64714 |  0:09:21s\n",
            "epoch 23 | loss: 0.64907 | val_0_accuracy: 0.64759 |  0:09:45s\n",
            "epoch 24 | loss: 0.64772 | val_0_accuracy: 0.64675 |  0:10:20s\n",
            "epoch 25 | loss: 0.64637 | val_0_accuracy: 0.64814 |  0:10:49s\n",
            "epoch 26 | loss: 0.64413 | val_0_accuracy: 0.64826 |  0:11:12s\n",
            "epoch 27 | loss: 0.64255 | val_0_accuracy: 0.64814 |  0:11:36s\n",
            "epoch 28 | loss: 0.64017 | val_0_accuracy: 0.64942 |  0:11:59s\n",
            "epoch 29 | loss: 0.63907 | val_0_accuracy: 0.65156 |  0:12:24s\n",
            "epoch 30 | loss: 0.63767 | val_0_accuracy: 0.65358 |  0:12:48s\n",
            "epoch 31 | loss: 0.63577 | val_0_accuracy: 0.65602 |  0:13:12s\n",
            "epoch 32 | loss: 0.63405 | val_0_accuracy: 0.6593  |  0:13:35s\n",
            "epoch 33 | loss: 0.63169 | val_0_accuracy: 0.66249 |  0:13:58s\n",
            "epoch 34 | loss: 0.62994 | val_0_accuracy: 0.66373 |  0:14:22s\n",
            "epoch 35 | loss: 0.62884 | val_0_accuracy: 0.66758 |  0:14:46s\n",
            "epoch 36 | loss: 0.62642 | val_0_accuracy: 0.66912 |  0:15:10s\n",
            "epoch 37 | loss: 0.62447 | val_0_accuracy: 0.66878 |  0:15:33s\n",
            "epoch 38 | loss: 0.62279 | val_0_accuracy: 0.67115 |  0:15:56s\n",
            "epoch 39 | loss: 0.62057 | val_0_accuracy: 0.67387 |  0:16:20s\n",
            "epoch 40 | loss: 0.61871 | val_0_accuracy: 0.67539 |  0:16:44s\n",
            "epoch 41 | loss: 0.61604 | val_0_accuracy: 0.67678 |  0:17:07s\n",
            "epoch 42 | loss: 0.61419 | val_0_accuracy: 0.67884 |  0:17:31s\n",
            "epoch 43 | loss: 0.61164 | val_0_accuracy: 0.67977 |  0:17:55s\n",
            "epoch 44 | loss: 0.6097  | val_0_accuracy: 0.68003 |  0:18:18s\n",
            "epoch 45 | loss: 0.60751 | val_0_accuracy: 0.68113 |  0:18:42s\n",
            "epoch 46 | loss: 0.60572 | val_0_accuracy: 0.68206 |  0:19:05s\n",
            "epoch 47 | loss: 0.60397 | val_0_accuracy: 0.68282 |  0:19:29s\n",
            "epoch 48 | loss: 0.60282 | val_0_accuracy: 0.68285 |  0:19:53s\n",
            "epoch 49 | loss: 0.60156 | val_0_accuracy: 0.68246 |  0:20:16s\n",
            "epoch 50 | loss: 0.60042 | val_0_accuracy: 0.68333 |  0:20:39s\n",
            "epoch 51 | loss: 0.5992  | val_0_accuracy: 0.68308 |  0:21:03s\n",
            "epoch 52 | loss: 0.59888 | val_0_accuracy: 0.68353 |  0:21:26s\n",
            "epoch 53 | loss: 0.59741 | val_0_accuracy: 0.68357 |  0:21:50s\n",
            "epoch 54 | loss: 0.59688 | val_0_accuracy: 0.6845  |  0:22:13s\n",
            "epoch 55 | loss: 0.59561 | val_0_accuracy: 0.68446 |  0:22:36s\n",
            "epoch 56 | loss: 0.59505 | val_0_accuracy: 0.68528 |  0:22:59s\n",
            "epoch 57 | loss: 0.59423 | val_0_accuracy: 0.68596 |  0:23:23s\n",
            "epoch 58 | loss: 0.59329 | val_0_accuracy: 0.68691 |  0:23:46s\n",
            "epoch 59 | loss: 0.59276 | val_0_accuracy: 0.68768 |  0:24:09s\n",
            "epoch 60 | loss: 0.59167 | val_0_accuracy: 0.68824 |  0:24:36s\n",
            "epoch 61 | loss: 0.59053 | val_0_accuracy: 0.68848 |  0:25:01s\n",
            "epoch 62 | loss: 0.58976 | val_0_accuracy: 0.689   |  0:25:25s\n",
            "epoch 63 | loss: 0.58917 | val_0_accuracy: 0.68991 |  0:25:48s\n",
            "epoch 64 | loss: 0.58843 | val_0_accuracy: 0.69023 |  0:26:12s\n",
            "epoch 65 | loss: 0.58726 | val_0_accuracy: 0.6908  |  0:26:35s\n",
            "epoch 66 | loss: 0.58673 | val_0_accuracy: 0.69203 |  0:26:58s\n",
            "epoch 67 | loss: 0.5859  | val_0_accuracy: 0.69273 |  0:27:21s\n",
            "epoch 68 | loss: 0.58464 | val_0_accuracy: 0.693   |  0:27:45s\n",
            "epoch 69 | loss: 0.58446 | val_0_accuracy: 0.6931  |  0:28:08s\n",
            "epoch 70 | loss: 0.58334 | val_0_accuracy: 0.69396 |  0:28:31s\n",
            "epoch 71 | loss: 0.58281 | val_0_accuracy: 0.69476 |  0:28:54s\n",
            "epoch 72 | loss: 0.58169 | val_0_accuracy: 0.69491 |  0:29:18s\n",
            "epoch 73 | loss: 0.5811  | val_0_accuracy: 0.69579 |  0:29:41s\n",
            "epoch 74 | loss: 0.57943 | val_0_accuracy: 0.69609 |  0:30:05s\n",
            "epoch 75 | loss: 0.57893 | val_0_accuracy: 0.69673 |  0:30:28s\n",
            "epoch 76 | loss: 0.57779 | val_0_accuracy: 0.69713 |  0:30:51s\n",
            "epoch 77 | loss: 0.5771  | val_0_accuracy: 0.69771 |  0:31:14s\n",
            "epoch 78 | loss: 0.57582 | val_0_accuracy: 0.69792 |  0:31:37s\n",
            "epoch 79 | loss: 0.5749  | val_0_accuracy: 0.69865 |  0:32:01s\n",
            "epoch 80 | loss: 0.5735  | val_0_accuracy: 0.69983 |  0:32:24s\n",
            "epoch 81 | loss: 0.57302 | val_0_accuracy: 0.70045 |  0:32:47s\n",
            "epoch 82 | loss: 0.57159 | val_0_accuracy: 0.70102 |  0:33:10s\n",
            "epoch 83 | loss: 0.57089 | val_0_accuracy: 0.70176 |  0:33:34s\n",
            "epoch 84 | loss: 0.56923 | val_0_accuracy: 0.7027  |  0:33:58s\n",
            "epoch 85 | loss: 0.56845 | val_0_accuracy: 0.7035  |  0:34:22s\n",
            "epoch 86 | loss: 0.56754 | val_0_accuracy: 0.7044  |  0:34:46s\n",
            "epoch 87 | loss: 0.56622 | val_0_accuracy: 0.70509 |  0:35:09s\n",
            "epoch 88 | loss: 0.56539 | val_0_accuracy: 0.70508 |  0:35:33s\n",
            "epoch 89 | loss: 0.56407 | val_0_accuracy: 0.70614 |  0:35:56s\n",
            "epoch 90 | loss: 0.56324 | val_0_accuracy: 0.70702 |  0:36:20s\n",
            "epoch 91 | loss: 0.56179 | val_0_accuracy: 0.70686 |  0:36:45s\n",
            "epoch 92 | loss: 0.56132 | val_0_accuracy: 0.70779 |  0:37:09s\n",
            "epoch 93 | loss: 0.55978 | val_0_accuracy: 0.70802 |  0:37:32s\n",
            "epoch 94 | loss: 0.55871 | val_0_accuracy: 0.70947 |  0:37:56s\n",
            "epoch 95 | loss: 0.55749 | val_0_accuracy: 0.70935 |  0:38:20s\n",
            "epoch 96 | loss: 0.55608 | val_0_accuracy: 0.70965 |  0:38:44s\n",
            "epoch 97 | loss: 0.55487 | val_0_accuracy: 0.70971 |  0:39:09s\n",
            "epoch 98 | loss: 0.55405 | val_0_accuracy: 0.71024 |  0:39:33s\n",
            "epoch 99 | loss: 0.55319 | val_0_accuracy: 0.7109  |  0:39:56s\n",
            "Stop training because you reached max_epochs = 100 with best_epoch = 99 and best_val_0_accuracy = 0.7109\n"
          ]
        },
        {
          "output_type": "stream",
          "name": "stderr",
          "text": [
            "/usr/local/lib/python3.11/dist-packages/pytorch_tabnet/callbacks.py:172: UserWarning: Best weights from best epoch are automatically used!\n",
            "  warnings.warn(wrn_msg)\n"
          ]
        }
      ]
    },
    {
      "cell_type": "markdown",
      "source": [
        "#AGORA-BC-III-100"
      ],
      "metadata": {
        "id": "x4rkGC2vjD4v"
      }
    },
    {
      "cell_type": "code",
      "source": [
        "y_train[y_train == 2] = 1\n",
        "y_test[y_test == 2] = 1\n",
        "y_val[y_val == 2] = 1"
      ],
      "metadata": {
        "id": "i4yFGUJm8Emy"
      },
      "execution_count": null,
      "outputs": []
    },
    {
      "cell_type": "code",
      "source": [
        "train_and_evaluate_tabnet(X_train, y_train, X_val, y_val, X_test, y_test)"
      ],
      "metadata": {
        "colab": {
          "base_uri": "https://localhost:8080/"
        },
        "id": "MkZpk8CMjD-z",
        "outputId": "d9ecd8d5-4b11-484f-a3c3-e35e6f5bcf5c"
      },
      "execution_count": null,
      "outputs": [
        {
          "output_type": "stream",
          "name": "stderr",
          "text": [
            "/usr/local/lib/python3.11/dist-packages/pytorch_tabnet/abstract_model.py:82: UserWarning: Device used : cuda\n",
            "  warnings.warn(f\"Device used : {self.device}\")\n"
          ]
        },
        {
          "output_type": "stream",
          "name": "stdout",
          "text": [
            "epoch 0  | loss: 1.68684 | val_0_accuracy: 0.71839 |  0:00:16s\n",
            "epoch 1  | loss: 0.72137 | val_0_accuracy: 0.77878 |  0:00:33s\n",
            "epoch 2  | loss: 0.64308 | val_0_accuracy: 0.78332 |  0:00:49s\n",
            "epoch 3  | loss: 0.61904 | val_0_accuracy: 0.78417 |  0:01:06s\n",
            "epoch 4  | loss: 0.59999 | val_0_accuracy: 0.78478 |  0:01:22s\n",
            "epoch 5  | loss: 0.58788 | val_0_accuracy: 0.7875  |  0:01:38s\n",
            "epoch 6  | loss: 0.57557 | val_0_accuracy: 0.78819 |  0:01:55s\n",
            "epoch 7  | loss: 0.56791 | val_0_accuracy: 0.78873 |  0:02:11s\n",
            "epoch 8  | loss: 0.56098 | val_0_accuracy: 0.78942 |  0:02:28s\n",
            "epoch 9  | loss: 0.5538  | val_0_accuracy: 0.78999 |  0:02:45s\n",
            "epoch 10 | loss: 0.54967 | val_0_accuracy: 0.79052 |  0:03:01s\n",
            "epoch 11 | loss: 0.54563 | val_0_accuracy: 0.79067 |  0:03:17s\n",
            "epoch 12 | loss: 0.5398  | val_0_accuracy: 0.79083 |  0:03:33s\n",
            "epoch 13 | loss: 0.53646 | val_0_accuracy: 0.79092 |  0:03:50s\n",
            "epoch 14 | loss: 0.53261 | val_0_accuracy: 0.79109 |  0:04:06s\n",
            "epoch 15 | loss: 0.52947 | val_0_accuracy: 0.79113 |  0:04:22s\n",
            "epoch 16 | loss: 0.52588 | val_0_accuracy: 0.79128 |  0:04:39s\n",
            "epoch 17 | loss: 0.52466 | val_0_accuracy: 0.79185 |  0:04:55s\n",
            "epoch 18 | loss: 0.52182 | val_0_accuracy: 0.79182 |  0:05:11s\n",
            "epoch 19 | loss: 0.51962 | val_0_accuracy: 0.79212 |  0:05:27s\n",
            "epoch 20 | loss: 0.51795 | val_0_accuracy: 0.7922  |  0:05:43s\n",
            "epoch 21 | loss: 0.51688 | val_0_accuracy: 0.79225 |  0:06:00s\n",
            "epoch 22 | loss: 0.51382 | val_0_accuracy: 0.79206 |  0:06:16s\n",
            "epoch 23 | loss: 0.51263 | val_0_accuracy: 0.7923  |  0:06:32s\n",
            "epoch 24 | loss: 0.51081 | val_0_accuracy: 0.79216 |  0:06:48s\n",
            "epoch 25 | loss: 0.50929 | val_0_accuracy: 0.79218 |  0:07:04s\n",
            "epoch 26 | loss: 0.50849 | val_0_accuracy: 0.79253 |  0:07:20s\n",
            "epoch 27 | loss: 0.50687 | val_0_accuracy: 0.79242 |  0:07:36s\n",
            "epoch 28 | loss: 0.50538 | val_0_accuracy: 0.79183 |  0:07:52s\n",
            "epoch 29 | loss: 0.50419 | val_0_accuracy: 0.7926  |  0:08:08s\n",
            "epoch 30 | loss: 0.50315 | val_0_accuracy: 0.79273 |  0:08:25s\n",
            "epoch 31 | loss: 0.50111 | val_0_accuracy: 0.79289 |  0:08:41s\n",
            "epoch 32 | loss: 0.49994 | val_0_accuracy: 0.79307 |  0:08:58s\n",
            "epoch 33 | loss: 0.49844 | val_0_accuracy: 0.79334 |  0:09:14s\n",
            "epoch 34 | loss: 0.49687 | val_0_accuracy: 0.7934  |  0:09:30s\n",
            "epoch 35 | loss: 0.49509 | val_0_accuracy: 0.79397 |  0:09:47s\n",
            "epoch 36 | loss: 0.49403 | val_0_accuracy: 0.79438 |  0:10:03s\n",
            "epoch 37 | loss: 0.49283 | val_0_accuracy: 0.79434 |  0:10:19s\n",
            "epoch 38 | loss: 0.49053 | val_0_accuracy: 0.79434 |  0:10:35s\n",
            "epoch 39 | loss: 0.48909 | val_0_accuracy: 0.79519 |  0:10:51s\n",
            "epoch 40 | loss: 0.4874  | val_0_accuracy: 0.79592 |  0:11:07s\n",
            "epoch 41 | loss: 0.48581 | val_0_accuracy: 0.79609 |  0:11:23s\n",
            "epoch 42 | loss: 0.48453 | val_0_accuracy: 0.79632 |  0:11:40s\n",
            "epoch 43 | loss: 0.48293 | val_0_accuracy: 0.79659 |  0:11:56s\n",
            "epoch 44 | loss: 0.48106 | val_0_accuracy: 0.79721 |  0:12:13s\n",
            "epoch 45 | loss: 0.47945 | val_0_accuracy: 0.79777 |  0:12:29s\n",
            "epoch 46 | loss: 0.47744 | val_0_accuracy: 0.79844 |  0:12:46s\n",
            "epoch 47 | loss: 0.47644 | val_0_accuracy: 0.7991  |  0:13:02s\n",
            "epoch 48 | loss: 0.47448 | val_0_accuracy: 0.79981 |  0:13:19s\n",
            "epoch 49 | loss: 0.47292 | val_0_accuracy: 0.8006  |  0:13:35s\n",
            "epoch 50 | loss: 0.47083 | val_0_accuracy: 0.80113 |  0:13:51s\n",
            "epoch 51 | loss: 0.46925 | val_0_accuracy: 0.8013  |  0:14:08s\n",
            "epoch 52 | loss: 0.46888 | val_0_accuracy: 0.80241 |  0:14:24s\n",
            "epoch 53 | loss: 0.46659 | val_0_accuracy: 0.80287 |  0:14:40s\n",
            "epoch 54 | loss: 0.46465 | val_0_accuracy: 0.80262 |  0:14:57s\n",
            "epoch 55 | loss: 0.46346 | val_0_accuracy: 0.80385 |  0:15:13s\n",
            "epoch 56 | loss: 0.46183 | val_0_accuracy: 0.80456 |  0:15:29s\n",
            "epoch 57 | loss: 0.46012 | val_0_accuracy: 0.8053  |  0:15:45s\n",
            "epoch 58 | loss: 0.45873 | val_0_accuracy: 0.80532 |  0:16:01s\n",
            "epoch 59 | loss: 0.45731 | val_0_accuracy: 0.80612 |  0:16:17s\n",
            "epoch 60 | loss: 0.4563  | val_0_accuracy: 0.80633 |  0:16:33s\n",
            "epoch 61 | loss: 0.45488 | val_0_accuracy: 0.80683 |  0:16:49s\n",
            "epoch 62 | loss: 0.45352 | val_0_accuracy: 0.8074  |  0:17:05s\n",
            "epoch 63 | loss: 0.45219 | val_0_accuracy: 0.80761 |  0:17:21s\n",
            "epoch 64 | loss: 0.45113 | val_0_accuracy: 0.80834 |  0:17:37s\n",
            "epoch 65 | loss: 0.45013 | val_0_accuracy: 0.80902 |  0:17:53s\n",
            "epoch 66 | loss: 0.4479  | val_0_accuracy: 0.80923 |  0:18:09s\n",
            "epoch 67 | loss: 0.44669 | val_0_accuracy: 0.81004 |  0:18:25s\n",
            "epoch 68 | loss: 0.44625 | val_0_accuracy: 0.80958 |  0:18:41s\n",
            "epoch 69 | loss: 0.44477 | val_0_accuracy: 0.81035 |  0:18:58s\n",
            "epoch 70 | loss: 0.44378 | val_0_accuracy: 0.81047 |  0:19:14s\n",
            "epoch 71 | loss: 0.44298 | val_0_accuracy: 0.81087 |  0:19:30s\n",
            "epoch 72 | loss: 0.44162 | val_0_accuracy: 0.81148 |  0:19:46s\n",
            "epoch 73 | loss: 0.43985 | val_0_accuracy: 0.81226 |  0:20:02s\n",
            "epoch 74 | loss: 0.43954 | val_0_accuracy: 0.81248 |  0:20:18s\n",
            "epoch 75 | loss: 0.43814 | val_0_accuracy: 0.81303 |  0:20:34s\n",
            "epoch 76 | loss: 0.43696 | val_0_accuracy: 0.81349 |  0:20:50s\n",
            "epoch 77 | loss: 0.43628 | val_0_accuracy: 0.81374 |  0:21:06s\n",
            "epoch 78 | loss: 0.4347  | val_0_accuracy: 0.81425 |  0:21:22s\n",
            "epoch 79 | loss: 0.43364 | val_0_accuracy: 0.81504 |  0:21:38s\n",
            "epoch 80 | loss: 0.43279 | val_0_accuracy: 0.81493 |  0:21:54s\n",
            "epoch 81 | loss: 0.43163 | val_0_accuracy: 0.81515 |  0:22:10s\n",
            "epoch 82 | loss: 0.43054 | val_0_accuracy: 0.81569 |  0:22:26s\n",
            "epoch 83 | loss: 0.42883 | val_0_accuracy: 0.81611 |  0:22:42s\n",
            "epoch 84 | loss: 0.42806 | val_0_accuracy: 0.81662 |  0:22:59s\n",
            "epoch 85 | loss: 0.42675 | val_0_accuracy: 0.81693 |  0:23:15s\n",
            "epoch 86 | loss: 0.42607 | val_0_accuracy: 0.81698 |  0:23:31s\n",
            "epoch 87 | loss: 0.42506 | val_0_accuracy: 0.8175  |  0:23:47s\n",
            "epoch 88 | loss: 0.42426 | val_0_accuracy: 0.81843 |  0:24:02s\n",
            "epoch 89 | loss: 0.42284 | val_0_accuracy: 0.81849 |  0:24:19s\n",
            "epoch 90 | loss: 0.42192 | val_0_accuracy: 0.81857 |  0:24:35s\n",
            "epoch 91 | loss: 0.42074 | val_0_accuracy: 0.81937 |  0:24:51s\n",
            "epoch 92 | loss: 0.41955 | val_0_accuracy: 0.81929 |  0:25:07s\n",
            "epoch 93 | loss: 0.41883 | val_0_accuracy: 0.81986 |  0:25:23s\n",
            "epoch 94 | loss: 0.41729 | val_0_accuracy: 0.82014 |  0:25:39s\n",
            "epoch 95 | loss: 0.41646 | val_0_accuracy: 0.82077 |  0:25:55s\n",
            "epoch 96 | loss: 0.41457 | val_0_accuracy: 0.82056 |  0:26:11s\n",
            "epoch 97 | loss: 0.41417 | val_0_accuracy: 0.82124 |  0:26:28s\n",
            "epoch 98 | loss: 0.41307 | val_0_accuracy: 0.82142 |  0:26:44s\n",
            "epoch 99 | loss: 0.41173 | val_0_accuracy: 0.82209 |  0:27:00s\n",
            "Stop training because you reached max_epochs = 100 with best_epoch = 99 and best_val_0_accuracy = 0.82209\n"
          ]
        },
        {
          "output_type": "stream",
          "name": "stderr",
          "text": [
            "/usr/local/lib/python3.11/dist-packages/pytorch_tabnet/callbacks.py:172: UserWarning: Best weights from best epoch are automatically used!\n",
            "  warnings.warn(wrn_msg)\n"
          ]
        },
        {
          "output_type": "stream",
          "name": "stdout",
          "text": [
            "Successfully saved model at tabnet_results/tabnet_model.zip.zip\n",
            "\n",
            "Test Metrics:\n",
            "Accuracy: 0.8223\n",
            "MCC: 0.3597\n"
          ]
        },
        {
          "output_type": "execute_result",
          "data": {
            "text/plain": [
              "{'Accuracy': 0.8223149420773611,\n",
              " 'Precision': 0.8422803783176428,\n",
              " 'ROC AUC': np.float64(0.7894366501189221),\n",
              " 'Recall': 0.954967100380943,\n",
              " 'F1': 0.8950910323960561,\n",
              " 'MCC': np.float64(0.3596893208475966)}"
            ]
          },
          "metadata": {},
          "execution_count": 13
        }
      ]
    },
    {
      "cell_type": "markdown",
      "source": [
        "#AGORA-BC-IV-100"
      ],
      "metadata": {
        "id": "oV3ntQ7DjJFV"
      }
    },
    {
      "cell_type": "code",
      "source": [
        "y_train[y_train == 1] = 0\n",
        "y_train[y_train == 3] = 1\n",
        "y_test[y_test == 1] = 0\n",
        "y_test[y_test == 3] = 1\n",
        "y_val[y_val == 1] = 0\n",
        "y_val[y_val == 3] = 1"
      ],
      "metadata": {
        "id": "lIcEPQg08Rv5"
      },
      "execution_count": null,
      "outputs": []
    },
    {
      "cell_type": "code",
      "source": [
        "train_and_evaluate_tabnet(X_train, y_train, X_val, y_val, X_test, y_test)"
      ],
      "metadata": {
        "colab": {
          "base_uri": "https://localhost:8080/"
        },
        "id": "PhXw5yz3jJNe",
        "outputId": "24cde428-f85d-4fed-8801-cde907db452f"
      },
      "execution_count": null,
      "outputs": [
        {
          "output_type": "stream",
          "name": "stderr",
          "text": [
            "/usr/local/lib/python3.11/dist-packages/pytorch_tabnet/abstract_model.py:82: UserWarning: Device used : cuda\n",
            "  warnings.warn(f\"Device used : {self.device}\")\n"
          ]
        },
        {
          "output_type": "stream",
          "name": "stdout",
          "text": [
            "epoch 0  | loss: 1.12131 | val_0_accuracy: 0.50515 |  0:00:12s\n",
            "epoch 1  | loss: 0.93003 | val_0_accuracy: 0.52636 |  0:00:24s\n",
            "epoch 2  | loss: 0.86949 | val_0_accuracy: 0.55486 |  0:00:37s\n",
            "epoch 3  | loss: 0.82692 | val_0_accuracy: 0.58697 |  0:00:49s\n",
            "epoch 4  | loss: 0.79477 | val_0_accuracy: 0.60279 |  0:01:02s\n",
            "epoch 5  | loss: 0.7727  | val_0_accuracy: 0.61577 |  0:01:14s\n",
            "epoch 6  | loss: 0.75589 | val_0_accuracy: 0.62465 |  0:01:27s\n",
            "epoch 7  | loss: 0.74319 | val_0_accuracy: 0.62936 |  0:01:40s\n",
            "epoch 8  | loss: 0.73078 | val_0_accuracy: 0.63565 |  0:01:52s\n",
            "epoch 9  | loss: 0.72203 | val_0_accuracy: 0.63678 |  0:02:04s\n",
            "epoch 10 | loss: 0.71672 | val_0_accuracy: 0.6403  |  0:02:17s\n",
            "epoch 11 | loss: 0.70753 | val_0_accuracy: 0.63939 |  0:02:29s\n",
            "epoch 12 | loss: 0.70197 | val_0_accuracy: 0.6429  |  0:02:41s\n",
            "epoch 13 | loss: 0.69592 | val_0_accuracy: 0.6439  |  0:02:53s\n",
            "epoch 14 | loss: 0.69203 | val_0_accuracy: 0.64608 |  0:03:05s\n",
            "epoch 15 | loss: 0.68771 | val_0_accuracy: 0.64495 |  0:03:18s\n",
            "epoch 16 | loss: 0.6842  | val_0_accuracy: 0.64781 |  0:03:30s\n",
            "epoch 17 | loss: 0.67881 | val_0_accuracy: 0.6481  |  0:03:42s\n",
            "epoch 18 | loss: 0.67642 | val_0_accuracy: 0.65061 |  0:03:54s\n",
            "epoch 19 | loss: 0.67361 | val_0_accuracy: 0.64868 |  0:04:06s\n",
            "epoch 20 | loss: 0.67143 | val_0_accuracy: 0.6499  |  0:04:19s\n",
            "epoch 21 | loss: 0.66767 | val_0_accuracy: 0.6495  |  0:04:31s\n",
            "epoch 22 | loss: 0.66582 | val_0_accuracy: 0.65065 |  0:04:44s\n",
            "epoch 23 | loss: 0.66408 | val_0_accuracy: 0.64942 |  0:04:56s\n",
            "epoch 24 | loss: 0.66109 | val_0_accuracy: 0.65173 |  0:05:09s\n",
            "epoch 25 | loss: 0.66102 | val_0_accuracy: 0.65085 |  0:05:23s\n",
            "epoch 26 | loss: 0.65883 | val_0_accuracy: 0.65124 |  0:05:36s\n",
            "epoch 27 | loss: 0.65798 | val_0_accuracy: 0.65129 |  0:05:48s\n",
            "epoch 28 | loss: 0.65628 | val_0_accuracy: 0.65166 |  0:06:01s\n",
            "epoch 29 | loss: 0.65497 | val_0_accuracy: 0.65142 |  0:06:14s\n",
            "epoch 30 | loss: 0.65327 | val_0_accuracy: 0.64992 |  0:06:27s\n",
            "epoch 31 | loss: 0.65395 | val_0_accuracy: 0.65068 |  0:06:39s\n",
            "epoch 32 | loss: 0.65196 | val_0_accuracy: 0.65045 |  0:06:52s\n",
            "epoch 33 | loss: 0.65173 | val_0_accuracy: 0.65073 |  0:07:05s\n",
            "epoch 34 | loss: 0.65054 | val_0_accuracy: 0.65101 |  0:07:17s\n",
            "\n",
            "Early stopping occurred at epoch 34 with best_epoch = 24 and best_val_0_accuracy = 0.65173\n"
          ]
        },
        {
          "output_type": "stream",
          "name": "stderr",
          "text": [
            "/usr/local/lib/python3.11/dist-packages/pytorch_tabnet/callbacks.py:172: UserWarning: Best weights from best epoch are automatically used!\n",
            "  warnings.warn(wrn_msg)\n"
          ]
        },
        {
          "output_type": "stream",
          "name": "stdout",
          "text": [
            "Successfully saved model at tabnet_results/tabnet_model.zip.zip\n",
            "\n",
            "Test Metrics:\n",
            "Accuracy: 0.6505\n",
            "MCC: 0.0366\n"
          ]
        },
        {
          "output_type": "execute_result",
          "data": {
            "text/plain": [
              "{'Accuracy': 0.6504970354856789,\n",
              " 'Precision': 0.47783251231527096,\n",
              " 'ROC AUC': np.float64(0.5395157713892924),\n",
              " 'Recall': 0.024616165461235885,\n",
              " 'F1': 0.04682032098467479,\n",
              " 'MCC': np.float64(0.03664662191984017)}"
            ]
          },
          "metadata": {},
          "execution_count": 25
        }
      ]
    },
    {
      "cell_type": "markdown",
      "source": [
        "#AGORA-BC-V-100"
      ],
      "metadata": {
        "id": "dZZmy5I0joj4"
      }
    },
    {
      "cell_type": "code",
      "source": [
        "y_train[y_train == 3] = 1\n",
        "y_test[y_test == 3] = 1\n",
        "y_val[y_val == 3] = 1"
      ],
      "metadata": {
        "id": "hXMCJooN8WIE"
      },
      "execution_count": null,
      "outputs": []
    },
    {
      "cell_type": "code",
      "source": [
        "train_and_evaluate_tabnet(X_train, y_train, X_val, y_val, X_test, y_test)"
      ],
      "metadata": {
        "colab": {
          "base_uri": "https://localhost:8080/"
        },
        "id": "ZlstZUcY08QC",
        "outputId": "e092c7a0-f258-4213-9e84-ac8ceee1e563"
      },
      "execution_count": null,
      "outputs": [
        {
          "output_type": "stream",
          "name": "stderr",
          "text": [
            "/usr/local/lib/python3.11/dist-packages/pytorch_tabnet/abstract_model.py:82: UserWarning: Device used : cuda\n",
            "  warnings.warn(f\"Device used : {self.device}\")\n"
          ]
        },
        {
          "output_type": "stream",
          "name": "stdout",
          "text": [
            "epoch 0  | loss: 1.6405  | val_0_accuracy: 0.49615 |  0:00:07s\n",
            "epoch 1  | loss: 1.17257 | val_0_accuracy: 0.50997 |  0:00:14s\n",
            "epoch 2  | loss: 1.00723 | val_0_accuracy: 0.51693 |  0:00:21s\n",
            "epoch 3  | loss: 0.94753 | val_0_accuracy: 0.51581 |  0:00:29s\n",
            "epoch 4  | loss: 0.91739 | val_0_accuracy: 0.51554 |  0:00:36s\n",
            "epoch 5  | loss: 0.89441 | val_0_accuracy: 0.51226 |  0:00:43s\n",
            "epoch 6  | loss: 0.86958 | val_0_accuracy: 0.51474 |  0:00:50s\n",
            "epoch 7  | loss: 0.85413 | val_0_accuracy: 0.51706 |  0:00:58s\n",
            "epoch 8  | loss: 0.83889 | val_0_accuracy: 0.51583 |  0:01:05s\n",
            "epoch 9  | loss: 0.82674 | val_0_accuracy: 0.5163  |  0:01:12s\n",
            "epoch 10 | loss: 0.81357 | val_0_accuracy: 0.51944 |  0:01:19s\n",
            "epoch 11 | loss: 0.80829 | val_0_accuracy: 0.51845 |  0:01:26s\n",
            "epoch 12 | loss: 0.79961 | val_0_accuracy: 0.52051 |  0:01:34s\n",
            "epoch 13 | loss: 0.79145 | val_0_accuracy: 0.5172  |  0:01:41s\n",
            "epoch 14 | loss: 0.78549 | val_0_accuracy: 0.51653 |  0:01:48s\n",
            "epoch 15 | loss: 0.77827 | val_0_accuracy: 0.52017 |  0:01:55s\n",
            "epoch 16 | loss: 0.7764  | val_0_accuracy: 0.52223 |  0:02:03s\n",
            "epoch 17 | loss: 0.77159 | val_0_accuracy: 0.52382 |  0:02:10s\n",
            "epoch 18 | loss: 0.76306 | val_0_accuracy: 0.52165 |  0:02:17s\n",
            "epoch 19 | loss: 0.76001 | val_0_accuracy: 0.52456 |  0:02:24s\n",
            "epoch 20 | loss: 0.75592 | val_0_accuracy: 0.52295 |  0:02:31s\n",
            "epoch 21 | loss: 0.74901 | val_0_accuracy: 0.52277 |  0:02:39s\n",
            "epoch 22 | loss: 0.74636 | val_0_accuracy: 0.5263  |  0:02:46s\n",
            "epoch 23 | loss: 0.74669 | val_0_accuracy: 0.52836 |  0:02:53s\n",
            "epoch 24 | loss: 0.74114 | val_0_accuracy: 0.5244  |  0:03:01s\n",
            "epoch 25 | loss: 0.73813 | val_0_accuracy: 0.52961 |  0:03:08s\n",
            "epoch 26 | loss: 0.73418 | val_0_accuracy: 0.52753 |  0:03:16s\n",
            "epoch 27 | loss: 0.73129 | val_0_accuracy: 0.52948 |  0:03:23s\n",
            "epoch 28 | loss: 0.72873 | val_0_accuracy: 0.53077 |  0:03:30s\n",
            "epoch 29 | loss: 0.72697 | val_0_accuracy: 0.53037 |  0:03:37s\n",
            "epoch 30 | loss: 0.7246  | val_0_accuracy: 0.53138 |  0:03:44s\n",
            "epoch 31 | loss: 0.72174 | val_0_accuracy: 0.53069 |  0:03:52s\n",
            "epoch 32 | loss: 0.7198  | val_0_accuracy: 0.53196 |  0:03:59s\n",
            "epoch 33 | loss: 0.71721 | val_0_accuracy: 0.53357 |  0:04:06s\n",
            "epoch 34 | loss: 0.717   | val_0_accuracy: 0.53315 |  0:04:14s\n",
            "epoch 35 | loss: 0.71575 | val_0_accuracy: 0.53433 |  0:04:21s\n",
            "epoch 36 | loss: 0.71442 | val_0_accuracy: 0.53599 |  0:04:29s\n",
            "epoch 37 | loss: 0.71132 | val_0_accuracy: 0.53666 |  0:04:36s\n",
            "epoch 38 | loss: 0.71065 | val_0_accuracy: 0.53748 |  0:04:43s\n",
            "epoch 39 | loss: 0.70951 | val_0_accuracy: 0.53907 |  0:04:51s\n",
            "epoch 40 | loss: 0.70774 | val_0_accuracy: 0.53874 |  0:04:59s\n",
            "epoch 41 | loss: 0.70545 | val_0_accuracy: 0.53999 |  0:05:07s\n",
            "epoch 42 | loss: 0.7058  | val_0_accuracy: 0.5414  |  0:05:14s\n",
            "epoch 43 | loss: 0.70341 | val_0_accuracy: 0.54236 |  0:05:22s\n",
            "epoch 44 | loss: 0.70254 | val_0_accuracy: 0.54252 |  0:05:29s\n",
            "epoch 45 | loss: 0.70256 | val_0_accuracy: 0.54457 |  0:05:36s\n",
            "epoch 46 | loss: 0.70087 | val_0_accuracy: 0.54538 |  0:05:44s\n",
            "epoch 47 | loss: 0.70025 | val_0_accuracy: 0.54867 |  0:05:51s\n",
            "epoch 48 | loss: 0.6996  | val_0_accuracy: 0.54817 |  0:05:58s\n",
            "epoch 49 | loss: 0.69858 | val_0_accuracy: 0.54795 |  0:06:05s\n",
            "epoch 50 | loss: 0.69789 | val_0_accuracy: 0.54967 |  0:06:13s\n",
            "epoch 51 | loss: 0.69748 | val_0_accuracy: 0.5507  |  0:06:20s\n",
            "epoch 52 | loss: 0.69679 | val_0_accuracy: 0.55323 |  0:06:27s\n",
            "epoch 53 | loss: 0.69559 | val_0_accuracy: 0.55131 |  0:06:35s\n",
            "epoch 54 | loss: 0.696   | val_0_accuracy: 0.55547 |  0:06:42s\n",
            "epoch 55 | loss: 0.69504 | val_0_accuracy: 0.5554  |  0:06:49s\n",
            "epoch 56 | loss: 0.69433 | val_0_accuracy: 0.55752 |  0:06:56s\n",
            "epoch 57 | loss: 0.69309 | val_0_accuracy: 0.55739 |  0:07:03s\n",
            "epoch 58 | loss: 0.69273 | val_0_accuracy: 0.5611  |  0:07:11s\n",
            "epoch 59 | loss: 0.69227 | val_0_accuracy: 0.56191 |  0:07:18s\n",
            "epoch 60 | loss: 0.69125 | val_0_accuracy: 0.56314 |  0:07:26s\n",
            "epoch 61 | loss: 0.691   | val_0_accuracy: 0.56481 |  0:07:33s\n",
            "epoch 62 | loss: 0.691   | val_0_accuracy: 0.56575 |  0:07:40s\n",
            "epoch 63 | loss: 0.69041 | val_0_accuracy: 0.56515 |  0:07:48s\n",
            "epoch 64 | loss: 0.69018 | val_0_accuracy: 0.56953 |  0:07:55s\n",
            "epoch 65 | loss: 0.68998 | val_0_accuracy: 0.56634 |  0:08:02s\n",
            "epoch 66 | loss: 0.68894 | val_0_accuracy: 0.57083 |  0:08:09s\n",
            "epoch 67 | loss: 0.68868 | val_0_accuracy: 0.57052 |  0:08:17s\n",
            "epoch 68 | loss: 0.68812 | val_0_accuracy: 0.57293 |  0:08:24s\n",
            "epoch 69 | loss: 0.6871  | val_0_accuracy: 0.57475 |  0:08:31s\n",
            "epoch 70 | loss: 0.68714 | val_0_accuracy: 0.57629 |  0:08:39s\n",
            "epoch 71 | loss: 0.68663 | val_0_accuracy: 0.57685 |  0:08:46s\n",
            "epoch 72 | loss: 0.68628 | val_0_accuracy: 0.57582 |  0:08:53s\n",
            "epoch 73 | loss: 0.68526 | val_0_accuracy: 0.57864 |  0:09:00s\n",
            "epoch 74 | loss: 0.68534 | val_0_accuracy: 0.57875 |  0:09:07s\n",
            "epoch 75 | loss: 0.68348 | val_0_accuracy: 0.58369 |  0:09:15s\n",
            "epoch 76 | loss: 0.68352 | val_0_accuracy: 0.58087 |  0:09:22s\n",
            "epoch 77 | loss: 0.68418 | val_0_accuracy: 0.58246 |  0:09:30s\n",
            "epoch 78 | loss: 0.68306 | val_0_accuracy: 0.58702 |  0:09:37s\n",
            "epoch 79 | loss: 0.683   | val_0_accuracy: 0.58494 |  0:09:45s\n",
            "epoch 80 | loss: 0.68174 | val_0_accuracy: 0.58993 |  0:09:53s\n",
            "epoch 81 | loss: 0.6815  | val_0_accuracy: 0.58711 |  0:10:01s\n",
            "epoch 82 | loss: 0.68122 | val_0_accuracy: 0.59053 |  0:10:08s\n",
            "epoch 83 | loss: 0.6798  | val_0_accuracy: 0.58868 |  0:10:16s\n",
            "epoch 84 | loss: 0.68073 | val_0_accuracy: 0.59004 |  0:10:23s\n",
            "epoch 85 | loss: 0.67975 | val_0_accuracy: 0.59302 |  0:10:31s\n",
            "epoch 86 | loss: 0.67846 | val_0_accuracy: 0.59096 |  0:10:38s\n",
            "epoch 87 | loss: 0.67797 | val_0_accuracy: 0.59624 |  0:10:45s\n",
            "epoch 88 | loss: 0.6771  | val_0_accuracy: 0.59461 |  0:10:52s\n",
            "epoch 89 | loss: 0.67617 | val_0_accuracy: 0.59425 |  0:11:00s\n",
            "epoch 90 | loss: 0.67601 | val_0_accuracy: 0.5917  |  0:11:07s\n",
            "epoch 91 | loss: 0.67533 | val_0_accuracy: 0.59476 |  0:11:14s\n",
            "epoch 92 | loss: 0.67455 | val_0_accuracy: 0.59577 |  0:11:22s\n",
            "epoch 93 | loss: 0.67422 | val_0_accuracy: 0.59785 |  0:11:29s\n",
            "epoch 94 | loss: 0.67336 | val_0_accuracy: 0.59814 |  0:11:36s\n",
            "epoch 95 | loss: 0.67299 | val_0_accuracy: 0.60051 |  0:11:43s\n",
            "epoch 96 | loss: 0.67275 | val_0_accuracy: 0.60234 |  0:11:51s\n",
            "epoch 97 | loss: 0.67215 | val_0_accuracy: 0.6002  |  0:11:58s\n",
            "epoch 98 | loss: 0.671   | val_0_accuracy: 0.60149 |  0:12:05s\n",
            "epoch 99 | loss: 0.66992 | val_0_accuracy: 0.60257 |  0:12:13s\n",
            "Stop training because you reached max_epochs = 100 with best_epoch = 99 and best_val_0_accuracy = 0.60257\n"
          ]
        },
        {
          "output_type": "stream",
          "name": "stderr",
          "text": [
            "/usr/local/lib/python3.11/dist-packages/pytorch_tabnet/callbacks.py:172: UserWarning: Best weights from best epoch are automatically used!\n",
            "  warnings.warn(wrn_msg)\n"
          ]
        },
        {
          "output_type": "stream",
          "name": "stdout",
          "text": [
            "Successfully saved model at tabnet_results/tabnet_model.zip.zip\n",
            "\n",
            "Test Metrics:\n",
            "Accuracy: 0.6029\n",
            "MCC: 0.2006\n"
          ]
        },
        {
          "output_type": "execute_result",
          "data": {
            "text/plain": [
              "{'Accuracy': 0.602889539954823,\n",
              " 'Precision': 0.6198270661572491,\n",
              " 'ROC AUC': np.float64(0.640596250073072),\n",
              " 'Recall': 0.6498840396373603,\n",
              " 'F1': 0.6344997941539728,\n",
              " 'MCC': np.float64(0.20059601780734493)}"
            ]
          },
          "metadata": {},
          "execution_count": 31
        }
      ]
    },
    {
      "cell_type": "markdown",
      "source": [
        "#AGORA-BC-I-50"
      ],
      "metadata": {
        "id": "12-XWGCy0zfl"
      }
    },
    {
      "cell_type": "code",
      "source": [
        "train_and_evaluate_tabnet(X_train, y_train, X_val, y_val, X_test, y_test)"
      ],
      "metadata": {
        "colab": {
          "base_uri": "https://localhost:8080/"
        },
        "id": "N2QHXaGAjor3",
        "outputId": "e1755bf0-7f60-4293-fc3a-8bb8e08c9a5b"
      },
      "execution_count": null,
      "outputs": [
        {
          "output_type": "stream",
          "name": "stderr",
          "text": [
            "/usr/local/lib/python3.11/dist-packages/pytorch_tabnet/abstract_model.py:82: UserWarning: Device used : cuda\n",
            "  warnings.warn(f\"Device used : {self.device}\")\n"
          ]
        },
        {
          "output_type": "stream",
          "name": "stdout",
          "text": [
            "epoch 0  | loss: 2.60849 | val_0_accuracy: 0.38419 |  0:00:02s\n",
            "epoch 1  | loss: 2.10933 | val_0_accuracy: 0.52201 |  0:00:05s\n",
            "epoch 2  | loss: 1.66771 | val_0_accuracy: 0.65402 |  0:00:08s\n",
            "epoch 3  | loss: 1.31062 | val_0_accuracy: 0.70536 |  0:00:11s\n",
            "epoch 4  | loss: 1.0615  | val_0_accuracy: 0.74754 |  0:00:14s\n",
            "epoch 5  | loss: 0.88271 | val_0_accuracy: 0.77469 |  0:00:17s\n",
            "epoch 6  | loss: 0.78321 | val_0_accuracy: 0.78011 |  0:00:20s\n",
            "epoch 7  | loss: 0.71571 | val_0_accuracy: 0.79156 |  0:00:23s\n",
            "epoch 8  | loss: 0.68322 | val_0_accuracy: 0.80084 |  0:00:26s\n",
            "epoch 9  | loss: 0.66615 | val_0_accuracy: 0.79983 |  0:00:29s\n",
            "epoch 10 | loss: 0.64696 | val_0_accuracy: 0.80313 |  0:00:32s\n",
            "epoch 11 | loss: 0.64241 | val_0_accuracy: 0.8052  |  0:00:35s\n",
            "epoch 12 | loss: 0.637   | val_0_accuracy: 0.80715 |  0:00:38s\n",
            "epoch 13 | loss: 0.61662 | val_0_accuracy: 0.80715 |  0:00:41s\n",
            "epoch 14 | loss: 0.61978 | val_0_accuracy: 0.80648 |  0:00:44s\n",
            "epoch 15 | loss: 0.61886 | val_0_accuracy: 0.80872 |  0:00:47s\n",
            "epoch 16 | loss: 0.61382 | val_0_accuracy: 0.80911 |  0:00:50s\n",
            "epoch 17 | loss: 0.60484 | val_0_accuracy: 0.80793 |  0:00:53s\n",
            "epoch 18 | loss: 0.60429 | val_0_accuracy: 0.80894 |  0:00:56s\n",
            "epoch 19 | loss: 0.5977  | val_0_accuracy: 0.80888 |  0:00:59s\n",
            "epoch 20 | loss: 0.59807 | val_0_accuracy: 0.80888 |  0:01:02s\n",
            "epoch 21 | loss: 0.59431 | val_0_accuracy: 0.80894 |  0:01:05s\n",
            "epoch 22 | loss: 0.58885 | val_0_accuracy: 0.80944 |  0:01:08s\n",
            "epoch 23 | loss: 0.58021 | val_0_accuracy: 0.81056 |  0:01:11s\n",
            "epoch 24 | loss: 0.58614 | val_0_accuracy: 0.81078 |  0:01:14s\n",
            "epoch 25 | loss: 0.5772  | val_0_accuracy: 0.81134 |  0:01:17s\n",
            "epoch 26 | loss: 0.5749  | val_0_accuracy: 0.81201 |  0:01:20s\n",
            "epoch 27 | loss: 0.57673 | val_0_accuracy: 0.81089 |  0:01:23s\n",
            "epoch 28 | loss: 0.5758  | val_0_accuracy: 0.81117 |  0:01:26s\n",
            "epoch 29 | loss: 0.5693  | val_0_accuracy: 0.81168 |  0:01:29s\n",
            "epoch 30 | loss: 0.56649 | val_0_accuracy: 0.81257 |  0:01:32s\n",
            "epoch 31 | loss: 0.56248 | val_0_accuracy: 0.81285 |  0:01:35s\n",
            "epoch 32 | loss: 0.56336 | val_0_accuracy: 0.81302 |  0:01:38s\n",
            "epoch 33 | loss: 0.5608  | val_0_accuracy: 0.81173 |  0:01:41s\n",
            "epoch 34 | loss: 0.56255 | val_0_accuracy: 0.81218 |  0:01:45s\n",
            "epoch 35 | loss: 0.5568  | val_0_accuracy: 0.81196 |  0:01:48s\n",
            "epoch 36 | loss: 0.55437 | val_0_accuracy: 0.81313 |  0:01:51s\n",
            "epoch 37 | loss: 0.55621 | val_0_accuracy: 0.81229 |  0:01:54s\n",
            "epoch 38 | loss: 0.55286 | val_0_accuracy: 0.81341 |  0:01:57s\n",
            "epoch 39 | loss: 0.55155 | val_0_accuracy: 0.81279 |  0:02:00s\n",
            "epoch 40 | loss: 0.55322 | val_0_accuracy: 0.81173 |  0:02:03s\n",
            "epoch 41 | loss: 0.5518  | val_0_accuracy: 0.81408 |  0:02:06s\n",
            "epoch 42 | loss: 0.54696 | val_0_accuracy: 0.8143  |  0:02:09s\n",
            "epoch 43 | loss: 0.5482  | val_0_accuracy: 0.81285 |  0:02:11s\n",
            "epoch 44 | loss: 0.54245 | val_0_accuracy: 0.81363 |  0:02:14s\n",
            "epoch 45 | loss: 0.54197 | val_0_accuracy: 0.81341 |  0:02:17s\n",
            "epoch 46 | loss: 0.54143 | val_0_accuracy: 0.81285 |  0:02:20s\n",
            "epoch 47 | loss: 0.54015 | val_0_accuracy: 0.81425 |  0:02:23s\n",
            "epoch 48 | loss: 0.53823 | val_0_accuracy: 0.81402 |  0:02:26s\n",
            "epoch 49 | loss: 0.53541 | val_0_accuracy: 0.81413 |  0:02:29s\n",
            "epoch 50 | loss: 0.53557 | val_0_accuracy: 0.81369 |  0:02:32s\n",
            "epoch 51 | loss: 0.53476 | val_0_accuracy: 0.81413 |  0:02:35s\n",
            "epoch 52 | loss: 0.53463 | val_0_accuracy: 0.8148  |  0:02:38s\n",
            "epoch 53 | loss: 0.53311 | val_0_accuracy: 0.81402 |  0:02:41s\n",
            "epoch 54 | loss: 0.5296  | val_0_accuracy: 0.81458 |  0:02:44s\n",
            "epoch 55 | loss: 0.53207 | val_0_accuracy: 0.81503 |  0:02:47s\n",
            "epoch 56 | loss: 0.52811 | val_0_accuracy: 0.81464 |  0:02:50s\n",
            "epoch 57 | loss: 0.52787 | val_0_accuracy: 0.81408 |  0:02:53s\n",
            "epoch 58 | loss: 0.52851 | val_0_accuracy: 0.81464 |  0:02:55s\n",
            "epoch 59 | loss: 0.52599 | val_0_accuracy: 0.81553 |  0:02:58s\n",
            "epoch 60 | loss: 0.52763 | val_0_accuracy: 0.81553 |  0:03:01s\n",
            "epoch 61 | loss: 0.52678 | val_0_accuracy: 0.81492 |  0:03:04s\n",
            "epoch 62 | loss: 0.52199 | val_0_accuracy: 0.81497 |  0:03:07s\n",
            "epoch 63 | loss: 0.52454 | val_0_accuracy: 0.81525 |  0:03:10s\n",
            "epoch 64 | loss: 0.5219  | val_0_accuracy: 0.81492 |  0:03:13s\n",
            "epoch 65 | loss: 0.52106 | val_0_accuracy: 0.81447 |  0:03:16s\n",
            "epoch 66 | loss: 0.51851 | val_0_accuracy: 0.81547 |  0:03:19s\n",
            "epoch 67 | loss: 0.52003 | val_0_accuracy: 0.81503 |  0:03:22s\n",
            "epoch 68 | loss: 0.51863 | val_0_accuracy: 0.81536 |  0:03:25s\n",
            "epoch 69 | loss: 0.51585 | val_0_accuracy: 0.8157  |  0:03:28s\n",
            "epoch 70 | loss: 0.51566 | val_0_accuracy: 0.81559 |  0:03:31s\n",
            "epoch 71 | loss: 0.51545 | val_0_accuracy: 0.81564 |  0:03:34s\n",
            "epoch 72 | loss: 0.51446 | val_0_accuracy: 0.81464 |  0:03:37s\n",
            "epoch 73 | loss: 0.51456 | val_0_accuracy: 0.81525 |  0:03:40s\n",
            "epoch 74 | loss: 0.51643 | val_0_accuracy: 0.81564 |  0:03:43s\n",
            "epoch 75 | loss: 0.51304 | val_0_accuracy: 0.81609 |  0:03:46s\n",
            "epoch 76 | loss: 0.51139 | val_0_accuracy: 0.81659 |  0:03:49s\n",
            "epoch 77 | loss: 0.51253 | val_0_accuracy: 0.81503 |  0:03:52s\n",
            "epoch 78 | loss: 0.51192 | val_0_accuracy: 0.81525 |  0:03:55s\n",
            "epoch 79 | loss: 0.5135  | val_0_accuracy: 0.81542 |  0:03:58s\n",
            "epoch 80 | loss: 0.50941 | val_0_accuracy: 0.8157  |  0:04:01s\n",
            "epoch 81 | loss: 0.50866 | val_0_accuracy: 0.81559 |  0:04:04s\n",
            "epoch 82 | loss: 0.50885 | val_0_accuracy: 0.81587 |  0:04:07s\n",
            "epoch 83 | loss: 0.51014 | val_0_accuracy: 0.81648 |  0:04:10s\n",
            "epoch 84 | loss: 0.5079  | val_0_accuracy: 0.81615 |  0:04:13s\n",
            "epoch 85 | loss: 0.50651 | val_0_accuracy: 0.81637 |  0:04:16s\n",
            "epoch 86 | loss: 0.50702 | val_0_accuracy: 0.81587 |  0:04:18s\n",
            "\n",
            "Early stopping occurred at epoch 86 with best_epoch = 76 and best_val_0_accuracy = 0.81659\n"
          ]
        },
        {
          "output_type": "stream",
          "name": "stderr",
          "text": [
            "/usr/local/lib/python3.11/dist-packages/pytorch_tabnet/callbacks.py:172: UserWarning: Best weights from best epoch are automatically used!\n",
            "  warnings.warn(wrn_msg)\n"
          ]
        },
        {
          "output_type": "stream",
          "name": "stdout",
          "text": [
            "Successfully saved model at tabnet_results/tabnet_model.zip.zip\n",
            "\n",
            "Test Metrics:\n",
            "Accuracy: 0.8067\n",
            "MCC: 0.0012\n"
          ]
        },
        {
          "output_type": "execute_result",
          "data": {
            "text/plain": [
              "{'Accuracy': 0.806714708675493,\n",
              " 'Precision': 0.8094837261503928,\n",
              " 'ROC AUC': np.float64(0.5208718332824486),\n",
              " 'Recall': 0.9955141476880607,\n",
              " 'F1': 0.8929124110182606,\n",
              " 'MCC': np.float64(0.001198736198901935)}"
            ]
          },
          "metadata": {},
          "execution_count": 36
        }
      ]
    },
    {
      "cell_type": "markdown",
      "source": [
        "#AGORA-BC-II-50"
      ],
      "metadata": {
        "id": "dH-p57bc0-L7"
      }
    },
    {
      "cell_type": "code",
      "source": [
        "train_and_evaluate_tabnet(X_train, y_train, X_val, y_val, X_test, y_test)"
      ],
      "metadata": {
        "colab": {
          "base_uri": "https://localhost:8080/"
        },
        "id": "tJpW3hzR0yys",
        "outputId": "941e4ff1-b09b-4944-a023-6e7302fe021c"
      },
      "execution_count": null,
      "outputs": [
        {
          "output_type": "stream",
          "name": "stderr",
          "text": [
            "/usr/local/lib/python3.11/dist-packages/pytorch_tabnet/abstract_model.py:82: UserWarning: Device used : cuda\n",
            "  warnings.warn(f\"Device used : {self.device}\")\n"
          ]
        },
        {
          "output_type": "stream",
          "name": "stdout",
          "text": [
            "epoch 0  | loss: 1.64581 | val_0_accuracy: 0.83429 |  0:00:19s\n",
            "epoch 1  | loss: 0.57227 | val_0_accuracy: 0.85974 |  0:00:37s\n",
            "epoch 2  | loss: 0.49882 | val_0_accuracy: 0.86272 |  0:00:55s\n",
            "epoch 3  | loss: 0.48078 | val_0_accuracy: 0.86439 |  0:01:13s\n",
            "epoch 4  | loss: 0.46992 | val_0_accuracy: 0.86409 |  0:01:32s\n",
            "epoch 5  | loss: 0.46079 | val_0_accuracy: 0.86458 |  0:01:52s\n",
            "epoch 6  | loss: 0.45005 | val_0_accuracy: 0.8649  |  0:02:10s\n",
            "epoch 7  | loss: 0.4453  | val_0_accuracy: 0.86545 |  0:02:28s\n",
            "epoch 8  | loss: 0.43831 | val_0_accuracy: 0.86543 |  0:02:46s\n",
            "epoch 9  | loss: 0.43412 | val_0_accuracy: 0.86554 |  0:03:04s\n",
            "epoch 10 | loss: 0.42878 | val_0_accuracy: 0.86563 |  0:03:23s\n",
            "epoch 11 | loss: 0.42555 | val_0_accuracy: 0.86571 |  0:03:41s\n",
            "epoch 12 | loss: 0.42207 | val_0_accuracy: 0.86619 |  0:03:59s\n",
            "epoch 13 | loss: 0.41841 | val_0_accuracy: 0.86618 |  0:04:17s\n",
            "epoch 14 | loss: 0.41647 | val_0_accuracy: 0.86625 |  0:04:34s\n",
            "epoch 15 | loss: 0.41342 | val_0_accuracy: 0.86661 |  0:04:52s\n",
            "epoch 16 | loss: 0.41158 | val_0_accuracy: 0.86639 |  0:05:10s\n",
            "epoch 17 | loss: 0.40982 | val_0_accuracy: 0.86656 |  0:05:28s\n",
            "epoch 18 | loss: 0.40673 | val_0_accuracy: 0.86691 |  0:05:46s\n",
            "epoch 19 | loss: 0.40512 | val_0_accuracy: 0.86693 |  0:06:04s\n",
            "epoch 20 | loss: 0.40393 | val_0_accuracy: 0.86681 |  0:06:22s\n",
            "epoch 21 | loss: 0.40201 | val_0_accuracy: 0.86688 |  0:06:39s\n",
            "epoch 22 | loss: 0.40073 | val_0_accuracy: 0.86683 |  0:06:57s\n",
            "epoch 23 | loss: 0.39972 | val_0_accuracy: 0.86669 |  0:07:15s\n",
            "epoch 24 | loss: 0.39873 | val_0_accuracy: 0.86697 |  0:07:32s\n",
            "epoch 25 | loss: 0.39761 | val_0_accuracy: 0.86693 |  0:07:50s\n",
            "epoch 26 | loss: 0.39652 | val_0_accuracy: 0.86704 |  0:08:08s\n",
            "epoch 27 | loss: 0.39529 | val_0_accuracy: 0.86702 |  0:08:26s\n",
            "epoch 28 | loss: 0.3946  | val_0_accuracy: 0.86697 |  0:08:43s\n",
            "epoch 29 | loss: 0.39337 | val_0_accuracy: 0.86695 |  0:09:02s\n",
            "epoch 30 | loss: 0.3929  | val_0_accuracy: 0.86709 |  0:09:19s\n",
            "epoch 31 | loss: 0.39132 | val_0_accuracy: 0.86705 |  0:09:37s\n",
            "epoch 32 | loss: 0.39055 | val_0_accuracy: 0.86713 |  0:09:55s\n",
            "epoch 33 | loss: 0.38997 | val_0_accuracy: 0.86713 |  0:10:13s\n",
            "epoch 34 | loss: 0.38863 | val_0_accuracy: 0.8671  |  0:10:31s\n",
            "epoch 35 | loss: 0.38703 | val_0_accuracy: 0.86716 |  0:10:49s\n",
            "epoch 36 | loss: 0.3863  | val_0_accuracy: 0.86718 |  0:11:07s\n",
            "epoch 37 | loss: 0.38564 | val_0_accuracy: 0.8672  |  0:11:25s\n",
            "epoch 38 | loss: 0.3848  | val_0_accuracy: 0.86726 |  0:11:43s\n",
            "epoch 39 | loss: 0.38391 | val_0_accuracy: 0.86731 |  0:12:01s\n",
            "epoch 40 | loss: 0.38214 | val_0_accuracy: 0.86725 |  0:12:19s\n",
            "epoch 41 | loss: 0.38186 | val_0_accuracy: 0.86727 |  0:12:37s\n",
            "epoch 42 | loss: 0.3809  | val_0_accuracy: 0.86726 |  0:12:55s\n",
            "epoch 43 | loss: 0.37979 | val_0_accuracy: 0.86728 |  0:13:13s\n",
            "epoch 44 | loss: 0.37924 | val_0_accuracy: 0.86734 |  0:13:31s\n",
            "epoch 45 | loss: 0.3787  | val_0_accuracy: 0.86738 |  0:13:49s\n",
            "epoch 46 | loss: 0.37764 | val_0_accuracy: 0.86745 |  0:14:07s\n",
            "epoch 47 | loss: 0.37712 | val_0_accuracy: 0.86731 |  0:14:25s\n",
            "epoch 48 | loss: 0.37664 | val_0_accuracy: 0.86738 |  0:14:43s\n",
            "epoch 49 | loss: 0.37589 | val_0_accuracy: 0.86732 |  0:15:01s\n",
            "epoch 50 | loss: 0.37493 | val_0_accuracy: 0.86721 |  0:15:19s\n",
            "epoch 51 | loss: 0.37482 | val_0_accuracy: 0.86746 |  0:15:37s\n",
            "epoch 52 | loss: 0.37452 | val_0_accuracy: 0.86727 |  0:15:55s\n",
            "epoch 53 | loss: 0.37352 | val_0_accuracy: 0.86734 |  0:16:13s\n",
            "epoch 54 | loss: 0.37319 | val_0_accuracy: 0.86735 |  0:16:31s\n",
            "epoch 55 | loss: 0.37197 | val_0_accuracy: 0.86727 |  0:16:49s\n",
            "epoch 56 | loss: 0.37231 | val_0_accuracy: 0.86742 |  0:17:06s\n",
            "epoch 57 | loss: 0.37181 | val_0_accuracy: 0.86746 |  0:17:24s\n",
            "epoch 58 | loss: 0.37042 | val_0_accuracy: 0.8674  |  0:17:41s\n",
            "epoch 59 | loss: 0.37022 | val_0_accuracy: 0.86731 |  0:17:59s\n",
            "epoch 60 | loss: 0.36971 | val_0_accuracy: 0.86743 |  0:18:17s\n",
            "epoch 61 | loss: 0.36933 | val_0_accuracy: 0.86739 |  0:18:35s\n",
            "\n",
            "Early stopping occurred at epoch 61 with best_epoch = 51 and best_val_0_accuracy = 0.86746\n"
          ]
        },
        {
          "output_type": "stream",
          "name": "stderr",
          "text": [
            "/usr/local/lib/python3.11/dist-packages/pytorch_tabnet/callbacks.py:172: UserWarning: Best weights from best epoch are automatically used!\n",
            "  warnings.warn(wrn_msg)\n"
          ]
        },
        {
          "output_type": "stream",
          "name": "stdout",
          "text": [
            "Successfully saved model at tabnet_results/tabnet_model.zip.zip\n",
            "\n",
            "Test Metrics:\n",
            "Accuracy: 0.8670\n",
            "MCC: 0.0005\n"
          ]
        },
        {
          "output_type": "execute_result",
          "data": {
            "text/plain": [
              "{'Accuracy': 0.8669986750125646,\n",
              " 'Precision': 0.14,\n",
              " 'ROC AUC': np.float64(0.6909704001189755),\n",
              " 'Recall': 0.00048212686824161444,\n",
              " 'F1': 0.0009609444711373464,\n",
              " 'MCC': np.float64(0.0004618365110498173)}"
            ]
          },
          "metadata": {},
          "execution_count": 42
        }
      ]
    },
    {
      "cell_type": "markdown",
      "source": [
        "#AGORA-BC-III-50"
      ],
      "metadata": {
        "id": "xwr8rdNx1BmE"
      }
    },
    {
      "cell_type": "code",
      "source": [
        "y_train[y_train == 2] = 1\n",
        "y_test[y_test == 2] = 1\n",
        "y_val[y_val == 2] = 1"
      ],
      "metadata": {
        "id": "db53i1xM8a6g"
      },
      "execution_count": null,
      "outputs": []
    },
    {
      "cell_type": "code",
      "source": [
        "train_and_evaluate_tabnet(X_train, y_train, X_val, y_val, X_test, y_test)"
      ],
      "metadata": {
        "colab": {
          "base_uri": "https://localhost:8080/"
        },
        "id": "stYD-brb0y1k",
        "outputId": "6d55c187-c818-48f3-8a13-bcbf18e62f5e"
      },
      "execution_count": null,
      "outputs": [
        {
          "output_type": "stream",
          "name": "stderr",
          "text": [
            "/usr/local/lib/python3.11/dist-packages/pytorch_tabnet/abstract_model.py:82: UserWarning: Device used : cuda\n",
            "  warnings.warn(f\"Device used : {self.device}\")\n"
          ]
        },
        {
          "output_type": "stream",
          "name": "stdout",
          "text": [
            "epoch 0  | loss: 1.85131 | val_0_accuracy: 0.90478 |  0:00:18s\n",
            "epoch 1  | loss: 0.38065 | val_0_accuracy: 0.96276 |  0:00:35s\n",
            "epoch 2  | loss: 0.20326 | val_0_accuracy: 0.96514 |  0:00:52s\n",
            "epoch 3  | loss: 0.18986 | val_0_accuracy: 0.96566 |  0:01:09s\n",
            "epoch 4  | loss: 0.18493 | val_0_accuracy: 0.96526 |  0:01:27s\n",
            "epoch 5  | loss: 0.18105 | val_0_accuracy: 0.96563 |  0:01:44s\n",
            "epoch 6  | loss: 0.17969 | val_0_accuracy: 0.96505 |  0:02:01s\n",
            "epoch 7  | loss: 0.17812 | val_0_accuracy: 0.96517 |  0:02:18s\n",
            "epoch 8  | loss: 0.17518 | val_0_accuracy: 0.96523 |  0:02:35s\n",
            "epoch 9  | loss: 0.17243 | val_0_accuracy: 0.96564 |  0:02:53s\n",
            "epoch 10 | loss: 0.17096 | val_0_accuracy: 0.96547 |  0:03:10s\n",
            "epoch 11 | loss: 0.16952 | val_0_accuracy: 0.96531 |  0:03:28s\n",
            "epoch 12 | loss: 0.16765 | val_0_accuracy: 0.96547 |  0:03:45s\n",
            "epoch 13 | loss: 0.16799 | val_0_accuracy: 0.96506 |  0:04:02s\n",
            "\n",
            "Early stopping occurred at epoch 13 with best_epoch = 3 and best_val_0_accuracy = 0.96566\n"
          ]
        },
        {
          "output_type": "stream",
          "name": "stderr",
          "text": [
            "/usr/local/lib/python3.11/dist-packages/pytorch_tabnet/callbacks.py:172: UserWarning: Best weights from best epoch are automatically used!\n",
            "  warnings.warn(wrn_msg)\n"
          ]
        },
        {
          "output_type": "stream",
          "name": "stdout",
          "text": [
            "Successfully saved model at tabnet_results/tabnet_model.zip.zip\n",
            "\n",
            "Test Metrics:\n",
            "Accuracy: 0.9654\n",
            "MCC: -0.0013\n"
          ]
        },
        {
          "output_type": "execute_result",
          "data": {
            "text/plain": [
              "{'Accuracy': 0.9653989453753283,\n",
              " 'Precision': 0.9661555702715093,\n",
              " 'ROC AUC': np.float64(0.4974092135040594),\n",
              " 'Recall': 0.9991887050890317,\n",
              " 'F1': 0.982394530339523,\n",
              " 'MCC': np.float64(-0.001336993002707583)}"
            ]
          },
          "metadata": {},
          "execution_count": 12
        }
      ]
    },
    {
      "cell_type": "markdown",
      "source": [
        "#AGORA-BC-IV-50"
      ],
      "metadata": {
        "id": "fnkFORVe1CKB"
      }
    },
    {
      "cell_type": "code",
      "source": [
        "y_train[y_train == 1] = 0\n",
        "y_train[y_train == 3] = 1\n",
        "y_test[y_test == 1] = 0\n",
        "y_test[y_test == 3] = 1\n",
        "y_val[y_val == 1] = 0\n",
        "y_val[y_val == 3] = 1"
      ],
      "metadata": {
        "id": "S9kh78uR8ejQ"
      },
      "execution_count": null,
      "outputs": []
    },
    {
      "cell_type": "code",
      "source": [
        "train_and_evaluate_tabnet(X_train, y_train, X_val, y_val, X_test, y_test)"
      ],
      "metadata": {
        "id": "GMuRBzvY0y4L",
        "colab": {
          "base_uri": "https://localhost:8080/"
        },
        "outputId": "5d353b6f-93df-473f-bb1a-0a7a3db9cd19"
      },
      "execution_count": null,
      "outputs": [
        {
          "output_type": "stream",
          "name": "stderr",
          "text": [
            "/usr/local/lib/python3.11/dist-packages/pytorch_tabnet/abstract_model.py:82: UserWarning: Device used : cuda\n",
            "  warnings.warn(f\"Device used : {self.device}\")\n"
          ]
        },
        {
          "output_type": "stream",
          "name": "stdout",
          "text": [
            "epoch 0  | loss: 1.86237 | val_0_accuracy: 0.53994 |  0:00:07s\n",
            "epoch 1  | loss: 1.27631 | val_0_accuracy: 0.58604 |  0:00:14s\n",
            "epoch 2  | loss: 1.00918 | val_0_accuracy: 0.60476 |  0:00:21s\n",
            "epoch 3  | loss: 0.92469 | val_0_accuracy: 0.61262 |  0:00:29s\n",
            "epoch 4  | loss: 0.89249 | val_0_accuracy: 0.61136 |  0:00:36s\n",
            "epoch 5  | loss: 0.86164 | val_0_accuracy: 0.61511 |  0:00:44s\n",
            "epoch 6  | loss: 0.8443  | val_0_accuracy: 0.61428 |  0:00:51s\n",
            "epoch 7  | loss: 0.82642 | val_0_accuracy: 0.61602 |  0:00:59s\n",
            "epoch 8  | loss: 0.81193 | val_0_accuracy: 0.61788 |  0:01:06s\n",
            "epoch 9  | loss: 0.80528 | val_0_accuracy: 0.61811 |  0:01:13s\n",
            "epoch 10 | loss: 0.79142 | val_0_accuracy: 0.62048 |  0:01:21s\n",
            "epoch 11 | loss: 0.78262 | val_0_accuracy: 0.61932 |  0:01:28s\n",
            "epoch 12 | loss: 0.77495 | val_0_accuracy: 0.61932 |  0:01:35s\n",
            "epoch 13 | loss: 0.76594 | val_0_accuracy: 0.62168 |  0:01:43s\n",
            "epoch 14 | loss: 0.75876 | val_0_accuracy: 0.62116 |  0:01:51s\n",
            "epoch 15 | loss: 0.75213 | val_0_accuracy: 0.62629 |  0:01:58s\n",
            "epoch 16 | loss: 0.74692 | val_0_accuracy: 0.62486 |  0:02:05s\n",
            "epoch 17 | loss: 0.74311 | val_0_accuracy: 0.62519 |  0:02:13s\n",
            "epoch 18 | loss: 0.73687 | val_0_accuracy: 0.62501 |  0:02:20s\n",
            "epoch 19 | loss: 0.73362 | val_0_accuracy: 0.62509 |  0:02:28s\n",
            "epoch 20 | loss: 0.73153 | val_0_accuracy: 0.62566 |  0:02:35s\n",
            "epoch 21 | loss: 0.72622 | val_0_accuracy: 0.62728 |  0:02:42s\n",
            "epoch 22 | loss: 0.72135 | val_0_accuracy: 0.62849 |  0:02:50s\n",
            "epoch 23 | loss: 0.71555 | val_0_accuracy: 0.62811 |  0:02:57s\n",
            "epoch 24 | loss: 0.71673 | val_0_accuracy: 0.63043 |  0:03:05s\n",
            "epoch 25 | loss: 0.71251 | val_0_accuracy: 0.62864 |  0:03:12s\n",
            "epoch 26 | loss: 0.70912 | val_0_accuracy: 0.62886 |  0:03:20s\n",
            "epoch 27 | loss: 0.70733 | val_0_accuracy: 0.62904 |  0:03:27s\n",
            "epoch 28 | loss: 0.7052  | val_0_accuracy: 0.63022 |  0:03:34s\n",
            "epoch 29 | loss: 0.70205 | val_0_accuracy: 0.63058 |  0:03:42s\n",
            "epoch 30 | loss: 0.69896 | val_0_accuracy: 0.63141 |  0:03:49s\n",
            "epoch 31 | loss: 0.69677 | val_0_accuracy: 0.63158 |  0:03:56s\n",
            "epoch 32 | loss: 0.69408 | val_0_accuracy: 0.63231 |  0:04:04s\n",
            "epoch 33 | loss: 0.69344 | val_0_accuracy: 0.63209 |  0:04:11s\n",
            "epoch 34 | loss: 0.69095 | val_0_accuracy: 0.63151 |  0:04:19s\n",
            "epoch 35 | loss: 0.6871  | val_0_accuracy: 0.63138 |  0:04:26s\n",
            "epoch 36 | loss: 0.68676 | val_0_accuracy: 0.63186 |  0:04:34s\n",
            "epoch 37 | loss: 0.68431 | val_0_accuracy: 0.63264 |  0:04:41s\n",
            "epoch 38 | loss: 0.68366 | val_0_accuracy: 0.6338  |  0:04:49s\n",
            "epoch 39 | loss: 0.68147 | val_0_accuracy: 0.63216 |  0:04:56s\n",
            "epoch 40 | loss: 0.68146 | val_0_accuracy: 0.63294 |  0:05:05s\n",
            "epoch 41 | loss: 0.67957 | val_0_accuracy: 0.63289 |  0:05:12s\n",
            "epoch 42 | loss: 0.67836 | val_0_accuracy: 0.6336  |  0:05:20s\n",
            "epoch 43 | loss: 0.67629 | val_0_accuracy: 0.63335 |  0:05:28s\n",
            "epoch 44 | loss: 0.67548 | val_0_accuracy: 0.63415 |  0:05:35s\n",
            "epoch 45 | loss: 0.67436 | val_0_accuracy: 0.63438 |  0:05:43s\n",
            "epoch 46 | loss: 0.67277 | val_0_accuracy: 0.63423 |  0:05:50s\n",
            "epoch 47 | loss: 0.67231 | val_0_accuracy: 0.6341  |  0:05:57s\n",
            "epoch 48 | loss: 0.67077 | val_0_accuracy: 0.63448 |  0:06:05s\n",
            "epoch 49 | loss: 0.66927 | val_0_accuracy: 0.63461 |  0:06:12s\n",
            "epoch 50 | loss: 0.6683  | val_0_accuracy: 0.63443 |  0:06:20s\n",
            "epoch 51 | loss: 0.66742 | val_0_accuracy: 0.63415 |  0:06:27s\n",
            "epoch 52 | loss: 0.66633 | val_0_accuracy: 0.63438 |  0:06:34s\n",
            "epoch 53 | loss: 0.66661 | val_0_accuracy: 0.63415 |  0:06:42s\n",
            "epoch 54 | loss: 0.66591 | val_0_accuracy: 0.63456 |  0:06:49s\n",
            "epoch 55 | loss: 0.66453 | val_0_accuracy: 0.63456 |  0:06:57s\n",
            "epoch 56 | loss: 0.66282 | val_0_accuracy: 0.63544 |  0:07:04s\n",
            "epoch 57 | loss: 0.66259 | val_0_accuracy: 0.63514 |  0:07:11s\n",
            "epoch 58 | loss: 0.66217 | val_0_accuracy: 0.63433 |  0:07:18s\n",
            "epoch 59 | loss: 0.66216 | val_0_accuracy: 0.63514 |  0:07:25s\n",
            "epoch 60 | loss: 0.66075 | val_0_accuracy: 0.63501 |  0:07:32s\n",
            "epoch 61 | loss: 0.65997 | val_0_accuracy: 0.63443 |  0:07:39s\n",
            "epoch 62 | loss: 0.66074 | val_0_accuracy: 0.63516 |  0:07:46s\n",
            "epoch 63 | loss: 0.65896 | val_0_accuracy: 0.63506 |  0:07:53s\n",
            "epoch 64 | loss: 0.65804 | val_0_accuracy: 0.63453 |  0:08:00s\n",
            "epoch 65 | loss: 0.65758 | val_0_accuracy: 0.63458 |  0:08:07s\n",
            "epoch 66 | loss: 0.65664 | val_0_accuracy: 0.63594 |  0:08:14s\n",
            "epoch 67 | loss: 0.65705 | val_0_accuracy: 0.63519 |  0:08:22s\n",
            "epoch 68 | loss: 0.65587 | val_0_accuracy: 0.63524 |  0:08:29s\n",
            "epoch 69 | loss: 0.65528 | val_0_accuracy: 0.63504 |  0:08:36s\n",
            "epoch 70 | loss: 0.65544 | val_0_accuracy: 0.63622 |  0:08:43s\n",
            "epoch 71 | loss: 0.65467 | val_0_accuracy: 0.63529 |  0:08:50s\n",
            "epoch 72 | loss: 0.65419 | val_0_accuracy: 0.6364  |  0:08:57s\n",
            "epoch 73 | loss: 0.65338 | val_0_accuracy: 0.63567 |  0:09:04s\n",
            "epoch 74 | loss: 0.65295 | val_0_accuracy: 0.63685 |  0:09:11s\n",
            "epoch 75 | loss: 0.65316 | val_0_accuracy: 0.6366  |  0:09:18s\n",
            "epoch 76 | loss: 0.6529  | val_0_accuracy: 0.63695 |  0:09:25s\n",
            "epoch 77 | loss: 0.65209 | val_0_accuracy: 0.63698 |  0:09:32s\n",
            "epoch 78 | loss: 0.65182 | val_0_accuracy: 0.63599 |  0:09:39s\n",
            "epoch 79 | loss: 0.65088 | val_0_accuracy: 0.63695 |  0:09:46s\n",
            "epoch 80 | loss: 0.65004 | val_0_accuracy: 0.63657 |  0:09:53s\n",
            "epoch 81 | loss: 0.65049 | val_0_accuracy: 0.63672 |  0:10:00s\n",
            "epoch 82 | loss: 0.6483  | val_0_accuracy: 0.63682 |  0:10:07s\n",
            "epoch 83 | loss: 0.64842 | val_0_accuracy: 0.63753 |  0:10:14s\n",
            "epoch 84 | loss: 0.64867 | val_0_accuracy: 0.6371  |  0:10:21s\n",
            "epoch 85 | loss: 0.64872 | val_0_accuracy: 0.63781 |  0:10:28s\n",
            "epoch 86 | loss: 0.64779 | val_0_accuracy: 0.6376  |  0:10:35s\n",
            "epoch 87 | loss: 0.64766 | val_0_accuracy: 0.63791 |  0:10:42s\n",
            "epoch 88 | loss: 0.64739 | val_0_accuracy: 0.6373  |  0:10:49s\n",
            "epoch 89 | loss: 0.64701 | val_0_accuracy: 0.63841 |  0:10:56s\n",
            "epoch 90 | loss: 0.64613 | val_0_accuracy: 0.63718 |  0:11:03s\n",
            "epoch 91 | loss: 0.64527 | val_0_accuracy: 0.63871 |  0:11:10s\n",
            "epoch 92 | loss: 0.64606 | val_0_accuracy: 0.6373  |  0:11:18s\n",
            "epoch 93 | loss: 0.64536 | val_0_accuracy: 0.63763 |  0:11:25s\n",
            "epoch 94 | loss: 0.64563 | val_0_accuracy: 0.63806 |  0:11:32s\n",
            "epoch 95 | loss: 0.645   | val_0_accuracy: 0.63773 |  0:11:39s\n",
            "epoch 96 | loss: 0.64414 | val_0_accuracy: 0.63834 |  0:11:45s\n",
            "epoch 97 | loss: 0.64427 | val_0_accuracy: 0.63884 |  0:11:53s\n",
            "epoch 98 | loss: 0.64439 | val_0_accuracy: 0.63844 |  0:12:00s\n",
            "epoch 99 | loss: 0.64425 | val_0_accuracy: 0.63879 |  0:12:07s\n",
            "Stop training because you reached max_epochs = 100 with best_epoch = 97 and best_val_0_accuracy = 0.63884\n"
          ]
        },
        {
          "output_type": "stream",
          "name": "stderr",
          "text": [
            "/usr/local/lib/python3.11/dist-packages/pytorch_tabnet/callbacks.py:172: UserWarning: Best weights from best epoch are automatically used!\n",
            "  warnings.warn(wrn_msg)\n"
          ]
        },
        {
          "output_type": "stream",
          "name": "stdout",
          "text": [
            "Successfully saved model at tabnet_results/tabnet_model.zip.zip\n",
            "\n",
            "Test Metrics:\n",
            "Accuracy: 0.6378\n",
            "MCC: 0.0636\n"
          ]
        },
        {
          "output_type": "execute_result",
          "data": {
            "text/plain": [
              "{'Accuracy': 0.6377560017129758,\n",
              " 'Precision': 0.6399234924655587,\n",
              " 'ROC AUC': np.float64(0.614540291000591),\n",
              " 'Recall': 0.9821874876026501,\n",
              " 'F1': 0.7749467885313635,\n",
              " 'MCC': np.float64(0.06355061938330761)}"
            ]
          },
          "metadata": {},
          "execution_count": 18
        }
      ]
    },
    {
      "cell_type": "markdown",
      "source": [
        "#AGORA-BC-V-50"
      ],
      "metadata": {
        "id": "gb_cd-jj1LxD"
      }
    },
    {
      "cell_type": "code",
      "source": [
        "y_train[y_train == 3] = 1\n",
        "y_test[y_test == 3] = 1\n",
        "y_val[y_val == 3] = 1"
      ],
      "metadata": {
        "id": "nWEk7_gN8167"
      },
      "execution_count": null,
      "outputs": []
    },
    {
      "cell_type": "code",
      "source": [
        "train_and_evaluate_tabnet(X_train, y_train, X_val, y_val, X_test, y_test)"
      ],
      "metadata": {
        "id": "fI6YN8Eo1L2d",
        "colab": {
          "base_uri": "https://localhost:8080/"
        },
        "outputId": "81c5c37b-df26-43cc-aae7-c66d487b4f87"
      },
      "execution_count": null,
      "outputs": [
        {
          "output_type": "stream",
          "name": "stderr",
          "text": [
            "/usr/local/lib/python3.11/dist-packages/pytorch_tabnet/abstract_model.py:82: UserWarning: Device used : cuda\n",
            "  warnings.warn(f\"Device used : {self.device}\")\n"
          ]
        },
        {
          "output_type": "stream",
          "name": "stdout",
          "text": [
            "epoch 0  | loss: 2.61872 | val_0_accuracy: 0.48851 |  0:00:05s\n",
            "epoch 1  | loss: 1.80933 | val_0_accuracy: 0.70784 |  0:00:10s\n",
            "epoch 2  | loss: 1.19997 | val_0_accuracy: 0.81025 |  0:00:16s\n",
            "epoch 3  | loss: 0.8154  | val_0_accuracy: 0.84169 |  0:00:21s\n",
            "epoch 4  | loss: 0.61617 | val_0_accuracy: 0.86012 |  0:00:27s\n",
            "epoch 5  | loss: 0.53417 | val_0_accuracy: 0.86984 |  0:00:33s\n",
            "epoch 6  | loss: 0.4938  | val_0_accuracy: 0.87264 |  0:00:38s\n",
            "epoch 7  | loss: 0.4812  | val_0_accuracy: 0.87647 |  0:00:43s\n",
            "epoch 8  | loss: 0.47439 | val_0_accuracy: 0.87517 |  0:00:48s\n",
            "epoch 9  | loss: 0.46757 | val_0_accuracy: 0.8758  |  0:00:54s\n",
            "epoch 10 | loss: 0.45889 | val_0_accuracy: 0.87686 |  0:00:59s\n",
            "epoch 11 | loss: 0.45114 | val_0_accuracy: 0.87703 |  0:01:04s\n",
            "epoch 12 | loss: 0.45248 | val_0_accuracy: 0.87679 |  0:01:09s\n",
            "epoch 13 | loss: 0.44331 | val_0_accuracy: 0.87742 |  0:01:15s\n",
            "epoch 14 | loss: 0.43584 | val_0_accuracy: 0.87787 |  0:01:20s\n",
            "epoch 15 | loss: 0.43599 | val_0_accuracy: 0.87854 |  0:01:25s\n",
            "epoch 16 | loss: 0.43538 | val_0_accuracy: 0.8784  |  0:01:30s\n",
            "epoch 17 | loss: 0.42816 | val_0_accuracy: 0.87728 |  0:01:35s\n",
            "epoch 18 | loss: 0.42645 | val_0_accuracy: 0.87822 |  0:01:40s\n",
            "epoch 19 | loss: 0.42791 | val_0_accuracy: 0.87808 |  0:01:46s\n",
            "epoch 20 | loss: 0.42286 | val_0_accuracy: 0.87836 |  0:01:51s\n",
            "epoch 21 | loss: 0.42259 | val_0_accuracy: 0.87822 |  0:01:56s\n",
            "epoch 22 | loss: 0.41806 | val_0_accuracy: 0.87868 |  0:02:01s\n",
            "epoch 23 | loss: 0.4131  | val_0_accuracy: 0.87819 |  0:02:06s\n",
            "epoch 24 | loss: 0.41192 | val_0_accuracy: 0.87833 |  0:02:12s\n",
            "epoch 25 | loss: 0.41508 | val_0_accuracy: 0.87872 |  0:02:17s\n",
            "epoch 26 | loss: 0.41156 | val_0_accuracy: 0.87805 |  0:02:22s\n",
            "epoch 27 | loss: 0.40894 | val_0_accuracy: 0.87896 |  0:02:27s\n",
            "epoch 28 | loss: 0.40872 | val_0_accuracy: 0.87875 |  0:02:33s\n",
            "epoch 29 | loss: 0.40709 | val_0_accuracy: 0.87907 |  0:02:38s\n",
            "epoch 30 | loss: 0.40377 | val_0_accuracy: 0.87851 |  0:02:43s\n",
            "epoch 31 | loss: 0.40214 | val_0_accuracy: 0.87931 |  0:02:48s\n",
            "epoch 32 | loss: 0.40255 | val_0_accuracy: 0.87865 |  0:02:54s\n",
            "epoch 33 | loss: 0.40195 | val_0_accuracy: 0.87907 |  0:02:59s\n",
            "epoch 34 | loss: 0.39758 | val_0_accuracy: 0.87907 |  0:03:04s\n",
            "epoch 35 | loss: 0.39849 | val_0_accuracy: 0.87945 |  0:03:09s\n",
            "epoch 36 | loss: 0.39468 | val_0_accuracy: 0.87935 |  0:03:14s\n",
            "epoch 37 | loss: 0.3968  | val_0_accuracy: 0.87914 |  0:03:20s\n",
            "epoch 38 | loss: 0.39292 | val_0_accuracy: 0.87942 |  0:03:25s\n",
            "epoch 39 | loss: 0.39274 | val_0_accuracy: 0.87928 |  0:03:31s\n",
            "epoch 40 | loss: 0.3928  | val_0_accuracy: 0.87987 |  0:03:36s\n",
            "epoch 41 | loss: 0.39081 | val_0_accuracy: 0.88012 |  0:03:42s\n",
            "epoch 42 | loss: 0.38796 | val_0_accuracy: 0.87956 |  0:03:47s\n",
            "epoch 43 | loss: 0.38789 | val_0_accuracy: 0.87973 |  0:03:52s\n",
            "epoch 44 | loss: 0.38759 | val_0_accuracy: 0.87942 |  0:03:57s\n",
            "epoch 45 | loss: 0.38515 | val_0_accuracy: 0.87966 |  0:04:02s\n",
            "epoch 46 | loss: 0.38681 | val_0_accuracy: 0.87991 |  0:04:08s\n",
            "epoch 47 | loss: 0.38507 | val_0_accuracy: 0.87994 |  0:04:13s\n",
            "epoch 48 | loss: 0.38457 | val_0_accuracy: 0.88001 |  0:04:19s\n",
            "epoch 49 | loss: 0.38249 | val_0_accuracy: 0.88044 |  0:04:24s\n",
            "epoch 50 | loss: 0.38396 | val_0_accuracy: 0.88005 |  0:04:29s\n",
            "epoch 51 | loss: 0.38177 | val_0_accuracy: 0.8797  |  0:04:35s\n",
            "epoch 52 | loss: 0.3799  | val_0_accuracy: 0.88029 |  0:04:40s\n",
            "epoch 53 | loss: 0.37889 | val_0_accuracy: 0.88026 |  0:04:45s\n",
            "epoch 54 | loss: 0.37901 | val_0_accuracy: 0.87991 |  0:04:51s\n",
            "epoch 55 | loss: 0.37809 | val_0_accuracy: 0.88033 |  0:04:56s\n",
            "epoch 56 | loss: 0.37921 | val_0_accuracy: 0.88044 |  0:05:01s\n",
            "epoch 57 | loss: 0.37654 | val_0_accuracy: 0.88036 |  0:05:06s\n",
            "epoch 58 | loss: 0.37736 | val_0_accuracy: 0.87998 |  0:05:11s\n",
            "epoch 59 | loss: 0.37636 | val_0_accuracy: 0.87984 |  0:05:16s\n",
            "\n",
            "Early stopping occurred at epoch 59 with best_epoch = 49 and best_val_0_accuracy = 0.88044\n"
          ]
        },
        {
          "output_type": "stream",
          "name": "stderr",
          "text": [
            "/usr/local/lib/python3.11/dist-packages/pytorch_tabnet/callbacks.py:172: UserWarning: Best weights from best epoch are automatically used!\n",
            "  warnings.warn(wrn_msg)\n"
          ]
        },
        {
          "output_type": "stream",
          "name": "stdout",
          "text": [
            "Successfully saved model at tabnet_results/tabnet_model.zip.zip\n",
            "\n",
            "Test Metrics:\n",
            "Accuracy: 0.8795\n",
            "MCC: 0.0295\n"
          ]
        },
        {
          "output_type": "execute_result",
          "data": {
            "text/plain": [
              "{'Accuracy': 0.8794567658618754,\n",
              " 'Precision': 0.881327888474266,\n",
              " 'ROC AUC': np.float64(0.5347439154196365),\n",
              " 'Recall': 0.9974500976134507,\n",
              " 'F1': 0.9358003924866835,\n",
              " 'MCC': np.float64(0.029474922870519598)}"
            ]
          },
          "metadata": {},
          "execution_count": 24
        }
      ]
    },
    {
      "cell_type": "markdown",
      "source": [
        "#CARVEME-BC-I-100"
      ],
      "metadata": {
        "id": "lo-_ejli-4BY"
      }
    },
    {
      "cell_type": "code",
      "source": [
        "train_and_evaluate_tabnet(X_train, y_train, X_val, y_val, X_test, y_test)"
      ],
      "metadata": {
        "id": "VK06pjVc-86-",
        "colab": {
          "base_uri": "https://localhost:8080/"
        },
        "outputId": "8d951c01-cf68-4e23-ee82-c3e18722ba21"
      },
      "execution_count": null,
      "outputs": [
        {
          "output_type": "stream",
          "name": "stderr",
          "text": [
            "/usr/local/lib/python3.11/dist-packages/pytorch_tabnet/abstract_model.py:82: UserWarning: Device used : cuda\n",
            "  warnings.warn(f\"Device used : {self.device}\")\n"
          ]
        },
        {
          "output_type": "stream",
          "name": "stdout",
          "text": [
            "epoch 0  | loss: 0.97706 | val_0_accuracy: 0.58212 |  0:00:12s\n",
            "epoch 1  | loss: 0.88992 | val_0_accuracy: 0.57444 |  0:00:24s\n",
            "epoch 2  | loss: 0.83952 | val_0_accuracy: 0.5827  |  0:00:37s\n",
            "epoch 3  | loss: 0.80456 | val_0_accuracy: 0.58692 |  0:00:49s\n",
            "epoch 4  | loss: 0.77859 | val_0_accuracy: 0.597   |  0:01:01s\n",
            "epoch 5  | loss: 0.75854 | val_0_accuracy: 0.59595 |  0:01:14s\n",
            "epoch 6  | loss: 0.74519 | val_0_accuracy: 0.60119 |  0:01:26s\n",
            "epoch 7  | loss: 0.73352 | val_0_accuracy: 0.60196 |  0:01:38s\n",
            "epoch 8  | loss: 0.72573 | val_0_accuracy: 0.6047  |  0:01:51s\n",
            "epoch 9  | loss: 0.71669 | val_0_accuracy: 0.60741 |  0:02:03s\n",
            "epoch 10 | loss: 0.70936 | val_0_accuracy: 0.60816 |  0:02:15s\n",
            "epoch 11 | loss: 0.7043  | val_0_accuracy: 0.6084  |  0:02:28s\n",
            "epoch 12 | loss: 0.69881 | val_0_accuracy: 0.6122  |  0:02:40s\n",
            "epoch 13 | loss: 0.6963  | val_0_accuracy: 0.61332 |  0:02:52s\n",
            "epoch 14 | loss: 0.69098 | val_0_accuracy: 0.61422 |  0:03:05s\n",
            "epoch 15 | loss: 0.6877  | val_0_accuracy: 0.61522 |  0:03:17s\n",
            "epoch 16 | loss: 0.68445 | val_0_accuracy: 0.61358 |  0:03:29s\n",
            "epoch 17 | loss: 0.68215 | val_0_accuracy: 0.61538 |  0:03:42s\n",
            "epoch 18 | loss: 0.68017 | val_0_accuracy: 0.61466 |  0:03:54s\n",
            "epoch 19 | loss: 0.6777  | val_0_accuracy: 0.6155  |  0:04:06s\n",
            "epoch 20 | loss: 0.67531 | val_0_accuracy: 0.6166  |  0:04:18s\n",
            "epoch 21 | loss: 0.67434 | val_0_accuracy: 0.61702 |  0:04:31s\n",
            "epoch 22 | loss: 0.67268 | val_0_accuracy: 0.61787 |  0:04:43s\n",
            "epoch 23 | loss: 0.67161 | val_0_accuracy: 0.61744 |  0:04:56s\n",
            "epoch 24 | loss: 0.67082 | val_0_accuracy: 0.61813 |  0:05:08s\n",
            "epoch 25 | loss: 0.66887 | val_0_accuracy: 0.61825 |  0:05:20s\n",
            "epoch 26 | loss: 0.66812 | val_0_accuracy: 0.61835 |  0:05:32s\n",
            "epoch 27 | loss: 0.66665 | val_0_accuracy: 0.61862 |  0:05:45s\n",
            "epoch 28 | loss: 0.66669 | val_0_accuracy: 0.61852 |  0:05:57s\n",
            "epoch 29 | loss: 0.66612 | val_0_accuracy: 0.61939 |  0:06:10s\n",
            "epoch 30 | loss: 0.66467 | val_0_accuracy: 0.61972 |  0:06:22s\n",
            "epoch 31 | loss: 0.66426 | val_0_accuracy: 0.61896 |  0:06:34s\n",
            "epoch 32 | loss: 0.66355 | val_0_accuracy: 0.61881 |  0:06:47s\n",
            "epoch 33 | loss: 0.6633  | val_0_accuracy: 0.61875 |  0:06:59s\n",
            "epoch 34 | loss: 0.66274 | val_0_accuracy: 0.61962 |  0:07:12s\n",
            "epoch 35 | loss: 0.66134 | val_0_accuracy: 0.62001 |  0:07:24s\n",
            "epoch 36 | loss: 0.66134 | val_0_accuracy: 0.61977 |  0:07:37s\n",
            "epoch 37 | loss: 0.66099 | val_0_accuracy: 0.61978 |  0:07:49s\n",
            "epoch 38 | loss: 0.66025 | val_0_accuracy: 0.62029 |  0:08:01s\n",
            "epoch 39 | loss: 0.65949 | val_0_accuracy: 0.61987 |  0:08:14s\n",
            "epoch 40 | loss: 0.65931 | val_0_accuracy: 0.62035 |  0:08:26s\n",
            "epoch 41 | loss: 0.65855 | val_0_accuracy: 0.62056 |  0:08:38s\n",
            "epoch 42 | loss: 0.65807 | val_0_accuracy: 0.62113 |  0:08:50s\n",
            "epoch 43 | loss: 0.65726 | val_0_accuracy: 0.62145 |  0:09:02s\n",
            "epoch 44 | loss: 0.65698 | val_0_accuracy: 0.62086 |  0:09:14s\n",
            "epoch 45 | loss: 0.65667 | val_0_accuracy: 0.62077 |  0:09:26s\n",
            "epoch 46 | loss: 0.65585 | val_0_accuracy: 0.62124 |  0:09:38s\n",
            "epoch 47 | loss: 0.65571 | val_0_accuracy: 0.62146 |  0:09:51s\n",
            "epoch 48 | loss: 0.65442 | val_0_accuracy: 0.62239 |  0:10:03s\n",
            "epoch 49 | loss: 0.65448 | val_0_accuracy: 0.62205 |  0:10:15s\n",
            "epoch 50 | loss: 0.65416 | val_0_accuracy: 0.62248 |  0:10:28s\n",
            "epoch 51 | loss: 0.65353 | val_0_accuracy: 0.62221 |  0:10:40s\n",
            "epoch 52 | loss: 0.6521  | val_0_accuracy: 0.62307 |  0:10:53s\n",
            "epoch 53 | loss: 0.65186 | val_0_accuracy: 0.62283 |  0:11:05s\n",
            "epoch 54 | loss: 0.65178 | val_0_accuracy: 0.62351 |  0:11:18s\n",
            "epoch 55 | loss: 0.65059 | val_0_accuracy: 0.62378 |  0:11:30s\n",
            "epoch 56 | loss: 0.65007 | val_0_accuracy: 0.62463 |  0:11:43s\n",
            "epoch 57 | loss: 0.64899 | val_0_accuracy: 0.62391 |  0:11:55s\n",
            "epoch 58 | loss: 0.64815 | val_0_accuracy: 0.62468 |  0:12:08s\n",
            "epoch 59 | loss: 0.64817 | val_0_accuracy: 0.62561 |  0:12:20s\n",
            "epoch 60 | loss: 0.64759 | val_0_accuracy: 0.62538 |  0:12:32s\n",
            "epoch 61 | loss: 0.6472  | val_0_accuracy: 0.62567 |  0:12:45s\n",
            "epoch 62 | loss: 0.64624 | val_0_accuracy: 0.62516 |  0:12:57s\n",
            "epoch 63 | loss: 0.64547 | val_0_accuracy: 0.62522 |  0:13:09s\n",
            "epoch 64 | loss: 0.64455 | val_0_accuracy: 0.62649 |  0:13:22s\n",
            "epoch 65 | loss: 0.64392 | val_0_accuracy: 0.62591 |  0:13:34s\n",
            "epoch 66 | loss: 0.64349 | val_0_accuracy: 0.62631 |  0:13:47s\n",
            "epoch 67 | loss: 0.64225 | val_0_accuracy: 0.62706 |  0:13:59s\n",
            "epoch 68 | loss: 0.64151 | val_0_accuracy: 0.62737 |  0:14:12s\n",
            "epoch 69 | loss: 0.64124 | val_0_accuracy: 0.62795 |  0:14:25s\n",
            "epoch 70 | loss: 0.63981 | val_0_accuracy: 0.62845 |  0:14:37s\n",
            "epoch 71 | loss: 0.63931 | val_0_accuracy: 0.62941 |  0:14:50s\n",
            "epoch 72 | loss: 0.63844 | val_0_accuracy: 0.62983 |  0:15:03s\n",
            "epoch 73 | loss: 0.63811 | val_0_accuracy: 0.63092 |  0:15:15s\n",
            "epoch 74 | loss: 0.63703 | val_0_accuracy: 0.63211 |  0:15:28s\n",
            "epoch 75 | loss: 0.63639 | val_0_accuracy: 0.63162 |  0:15:41s\n",
            "epoch 76 | loss: 0.63531 | val_0_accuracy: 0.63134 |  0:15:53s\n",
            "epoch 77 | loss: 0.63409 | val_0_accuracy: 0.63115 |  0:16:05s\n",
            "epoch 78 | loss: 0.63406 | val_0_accuracy: 0.63297 |  0:16:18s\n",
            "epoch 79 | loss: 0.63176 | val_0_accuracy: 0.63306 |  0:16:30s\n",
            "epoch 80 | loss: 0.63114 | val_0_accuracy: 0.63306 |  0:16:43s\n",
            "epoch 81 | loss: 0.63055 | val_0_accuracy: 0.63487 |  0:16:55s\n",
            "epoch 82 | loss: 0.63022 | val_0_accuracy: 0.63483 |  0:17:08s\n",
            "epoch 83 | loss: 0.62903 | val_0_accuracy: 0.63523 |  0:17:20s\n",
            "epoch 84 | loss: 0.62816 | val_0_accuracy: 0.63575 |  0:17:32s\n",
            "epoch 85 | loss: 0.62715 | val_0_accuracy: 0.63495 |  0:17:45s\n",
            "epoch 86 | loss: 0.62516 | val_0_accuracy: 0.63656 |  0:17:57s\n",
            "epoch 87 | loss: 0.62444 | val_0_accuracy: 0.63674 |  0:18:09s\n",
            "epoch 88 | loss: 0.62467 | val_0_accuracy: 0.63687 |  0:18:21s\n",
            "epoch 89 | loss: 0.62314 | val_0_accuracy: 0.638   |  0:18:33s\n",
            "epoch 90 | loss: 0.62195 | val_0_accuracy: 0.63941 |  0:18:45s\n",
            "epoch 91 | loss: 0.62045 | val_0_accuracy: 0.64012 |  0:18:57s\n",
            "epoch 92 | loss: 0.61981 | val_0_accuracy: 0.64093 |  0:19:09s\n",
            "epoch 93 | loss: 0.61932 | val_0_accuracy: 0.64082 |  0:19:21s\n",
            "epoch 94 | loss: 0.61822 | val_0_accuracy: 0.64013 |  0:19:34s\n",
            "epoch 95 | loss: 0.61706 | val_0_accuracy: 0.64166 |  0:19:46s\n",
            "epoch 96 | loss: 0.61566 | val_0_accuracy: 0.64219 |  0:19:58s\n",
            "epoch 97 | loss: 0.61529 | val_0_accuracy: 0.64301 |  0:20:10s\n",
            "epoch 98 | loss: 0.61381 | val_0_accuracy: 0.64312 |  0:20:22s\n",
            "epoch 99 | loss: 0.61258 | val_0_accuracy: 0.64384 |  0:20:34s\n",
            "Stop training because you reached max_epochs = 100 with best_epoch = 99 and best_val_0_accuracy = 0.64384\n"
          ]
        },
        {
          "output_type": "stream",
          "name": "stderr",
          "text": [
            "/usr/local/lib/python3.11/dist-packages/pytorch_tabnet/callbacks.py:172: UserWarning: Best weights from best epoch are automatically used!\n",
            "  warnings.warn(wrn_msg)\n"
          ]
        },
        {
          "output_type": "stream",
          "name": "stdout",
          "text": [
            "Successfully saved model at tabnet_results/tabnet_model.zip.zip\n",
            "\n",
            "Test Metrics:\n",
            "Accuracy: 0.6409\n",
            "MCC: 0.1819\n"
          ]
        },
        {
          "output_type": "execute_result",
          "data": {
            "text/plain": [
              "{'Accuracy': 0.6408812398630384,\n",
              " 'Precision': 0.5739928860947969,\n",
              " 'ROC AUC': np.float64(0.6637471614317911),\n",
              " 'Recall': 0.2699789899618707,\n",
              " 'F1': 0.36723029292688736,\n",
              " 'MCC': np.float64(0.18188677319872407)}"
            ]
          },
          "metadata": {},
          "execution_count": 29
        }
      ]
    },
    {
      "cell_type": "markdown",
      "source": [
        "#CARVEME-BC-II-100"
      ],
      "metadata": {
        "id": "x7AcLhdW_DkN"
      }
    },
    {
      "cell_type": "code",
      "source": [
        "train_and_evaluate_tabnet(X_train, y_train, X_val, y_val, X_test, y_test)"
      ],
      "metadata": {
        "id": "UNqOSvwp_Dq3",
        "colab": {
          "base_uri": "https://localhost:8080/"
        },
        "outputId": "c1054610-ad54-4318-d36a-98d1fa3eb26b"
      },
      "execution_count": null,
      "outputs": [
        {
          "output_type": "stream",
          "name": "stderr",
          "text": [
            "/usr/local/lib/python3.11/dist-packages/pytorch_tabnet/abstract_model.py:82: UserWarning: Device used : cuda\n",
            "  warnings.warn(f\"Device used : {self.device}\")\n"
          ]
        },
        {
          "output_type": "stream",
          "name": "stdout",
          "text": [
            "epoch 0  | loss: 0.89359 | val_0_accuracy: 0.63627 |  0:00:14s\n",
            "epoch 1  | loss: 0.81029 | val_0_accuracy: 0.63607 |  0:00:29s\n",
            "epoch 2  | loss: 0.76629 | val_0_accuracy: 0.64268 |  0:00:43s\n",
            "epoch 3  | loss: 0.73775 | val_0_accuracy: 0.65308 |  0:00:59s\n",
            "epoch 4  | loss: 0.71502 | val_0_accuracy: 0.65536 |  0:01:14s\n",
            "epoch 5  | loss: 0.69972 | val_0_accuracy: 0.66412 |  0:01:28s\n",
            "epoch 6  | loss: 0.68776 | val_0_accuracy: 0.66314 |  0:01:43s\n",
            "epoch 7  | loss: 0.67955 | val_0_accuracy: 0.66723 |  0:01:57s\n",
            "epoch 8  | loss: 0.67074 | val_0_accuracy: 0.66778 |  0:02:12s\n",
            "epoch 9  | loss: 0.66403 | val_0_accuracy: 0.67211 |  0:02:26s\n",
            "epoch 10 | loss: 0.6591  | val_0_accuracy: 0.6726  |  0:02:41s\n",
            "epoch 11 | loss: 0.65467 | val_0_accuracy: 0.67468 |  0:02:56s\n",
            "epoch 12 | loss: 0.65081 | val_0_accuracy: 0.67666 |  0:03:10s\n",
            "epoch 13 | loss: 0.64802 | val_0_accuracy: 0.67762 |  0:03:25s\n",
            "epoch 14 | loss: 0.64494 | val_0_accuracy: 0.67755 |  0:03:40s\n",
            "epoch 15 | loss: 0.64223 | val_0_accuracy: 0.67791 |  0:03:54s\n",
            "epoch 16 | loss: 0.64072 | val_0_accuracy: 0.67841 |  0:04:09s\n",
            "epoch 17 | loss: 0.63923 | val_0_accuracy: 0.6796  |  0:04:23s\n",
            "epoch 18 | loss: 0.63752 | val_0_accuracy: 0.67986 |  0:04:38s\n",
            "epoch 19 | loss: 0.63588 | val_0_accuracy: 0.67971 |  0:04:52s\n",
            "epoch 20 | loss: 0.63502 | val_0_accuracy: 0.67995 |  0:05:07s\n",
            "epoch 21 | loss: 0.63353 | val_0_accuracy: 0.68059 |  0:05:21s\n",
            "epoch 22 | loss: 0.63248 | val_0_accuracy: 0.68025 |  0:05:36s\n",
            "epoch 23 | loss: 0.63206 | val_0_accuracy: 0.68039 |  0:05:50s\n",
            "epoch 24 | loss: 0.63114 | val_0_accuracy: 0.68093 |  0:06:05s\n",
            "epoch 25 | loss: 0.6308  | val_0_accuracy: 0.68095 |  0:06:19s\n",
            "epoch 26 | loss: 0.6296  | val_0_accuracy: 0.68076 |  0:06:34s\n",
            "epoch 27 | loss: 0.6293  | val_0_accuracy: 0.68103 |  0:06:48s\n",
            "epoch 28 | loss: 0.62877 | val_0_accuracy: 0.68071 |  0:07:03s\n",
            "epoch 29 | loss: 0.62801 | val_0_accuracy: 0.6811  |  0:07:17s\n",
            "epoch 30 | loss: 0.62687 | val_0_accuracy: 0.68084 |  0:07:32s\n",
            "epoch 31 | loss: 0.62643 | val_0_accuracy: 0.6814  |  0:07:46s\n",
            "epoch 32 | loss: 0.62551 | val_0_accuracy: 0.68144 |  0:08:01s\n",
            "epoch 33 | loss: 0.6242  | val_0_accuracy: 0.68119 |  0:08:16s\n",
            "epoch 34 | loss: 0.62362 | val_0_accuracy: 0.68106 |  0:08:30s\n",
            "epoch 35 | loss: 0.62221 | val_0_accuracy: 0.68124 |  0:08:45s\n",
            "epoch 36 | loss: 0.62079 | val_0_accuracy: 0.68153 |  0:09:00s\n",
            "epoch 37 | loss: 0.61938 | val_0_accuracy: 0.68153 |  0:09:14s\n",
            "epoch 38 | loss: 0.61785 | val_0_accuracy: 0.6812  |  0:09:29s\n",
            "epoch 39 | loss: 0.61683 | val_0_accuracy: 0.68138 |  0:09:43s\n",
            "epoch 40 | loss: 0.61442 | val_0_accuracy: 0.68141 |  0:09:58s\n",
            "epoch 41 | loss: 0.613   | val_0_accuracy: 0.68118 |  0:10:13s\n",
            "epoch 42 | loss: 0.61151 | val_0_accuracy: 0.68153 |  0:10:27s\n",
            "epoch 43 | loss: 0.61002 | val_0_accuracy: 0.68124 |  0:10:42s\n",
            "epoch 44 | loss: 0.60785 | val_0_accuracy: 0.68134 |  0:10:57s\n",
            "epoch 45 | loss: 0.60688 | val_0_accuracy: 0.68115 |  0:11:11s\n",
            "epoch 46 | loss: 0.60549 | val_0_accuracy: 0.68103 |  0:11:26s\n",
            "\n",
            "Early stopping occurred at epoch 46 with best_epoch = 36 and best_val_0_accuracy = 0.68153\n"
          ]
        },
        {
          "output_type": "stream",
          "name": "stderr",
          "text": [
            "/usr/local/lib/python3.11/dist-packages/pytorch_tabnet/callbacks.py:172: UserWarning: Best weights from best epoch are automatically used!\n",
            "  warnings.warn(wrn_msg)\n"
          ]
        },
        {
          "output_type": "stream",
          "name": "stdout",
          "text": [
            "Successfully saved model at tabnet_results/tabnet_model.zip.zip\n",
            "\n",
            "Test Metrics:\n",
            "Accuracy: 0.6827\n",
            "MCC: 0.0051\n"
          ]
        },
        {
          "output_type": "execute_result",
          "data": {
            "text/plain": [
              "{'Accuracy': 0.6827056572150442,\n",
              " 'Precision': 0.3645833333333333,\n",
              " 'ROC AUC': np.float64(0.5913421027924252),\n",
              " 'Recall': 0.002765049770895876,\n",
              " 'F1': 0.005488474204171241,\n",
              " 'MCC': np.float64(0.005056431648396121)}"
            ]
          },
          "metadata": {},
          "execution_count": 36
        }
      ]
    },
    {
      "cell_type": "markdown",
      "source": [
        "#CARVEME-BC-III-100"
      ],
      "metadata": {
        "id": "33C63C4j_Eed"
      }
    },
    {
      "cell_type": "code",
      "source": [
        "y_train[y_train == 2] = 1\n",
        "y_test[y_test == 2] = 1\n",
        "y_val[y_val == 2] = 1"
      ],
      "metadata": {
        "id": "dm9ireLT_VzR"
      },
      "execution_count": null,
      "outputs": []
    },
    {
      "cell_type": "code",
      "source": [
        "train_and_evaluate_tabnet(X_train, y_train, X_val, y_val, X_test, y_test)"
      ],
      "metadata": {
        "id": "g6qDyMXy_Eki",
        "colab": {
          "base_uri": "https://localhost:8080/"
        },
        "outputId": "7e22f1d7-3982-42ac-bcac-733f839733db"
      },
      "execution_count": null,
      "outputs": [
        {
          "metadata": {
            "tags": null
          },
          "name": "stderr",
          "output_type": "stream",
          "text": [
            "/usr/local/lib/python3.11/dist-packages/pytorch_tabnet/abstract_model.py:82: UserWarning: Device used : cuda\n",
            "  warnings.warn(f\"Device used : {self.device}\")\n"
          ]
        },
        {
          "metadata": {
            "tags": null
          },
          "name": "stdout",
          "output_type": "stream",
          "text": [
            "epoch 0  | loss: 0.9495  | val_0_accuracy: 0.51902 |  0:00:17s\n",
            "epoch 1  | loss: 0.858   | val_0_accuracy: 0.52413 |  0:00:34s\n",
            "epoch 2  | loss: 0.80492 | val_0_accuracy: 0.52582 |  0:00:52s\n",
            "epoch 3  | loss: 0.77714 | val_0_accuracy: 0.5331  |  0:01:09s\n",
            "epoch 4  | loss: 0.75455 | val_0_accuracy: 0.53518 |  0:01:26s\n",
            "epoch 5  | loss: 0.73813 | val_0_accuracy: 0.53665 |  0:01:44s\n",
            "epoch 6  | loss: 0.72817 | val_0_accuracy: 0.54309 |  0:02:01s\n",
            "epoch 7  | loss: 0.71797 | val_0_accuracy: 0.54451 |  0:02:19s\n",
            "epoch 8  | loss: 0.71169 | val_0_accuracy: 0.55197 |  0:02:37s\n",
            "epoch 9  | loss: 0.70596 | val_0_accuracy: 0.55206 |  0:02:55s\n",
            "epoch 10 | loss: 0.70251 | val_0_accuracy: 0.55639 |  0:03:13s\n",
            "epoch 11 | loss: 0.69765 | val_0_accuracy: 0.56136 |  0:03:31s\n",
            "epoch 12 | loss: 0.69372 | val_0_accuracy: 0.56238 |  0:03:49s\n",
            "epoch 13 | loss: 0.6912  | val_0_accuracy: 0.56669 |  0:04:06s\n",
            "epoch 14 | loss: 0.68917 | val_0_accuracy: 0.5683  |  0:04:23s\n",
            "epoch 15 | loss: 0.68735 | val_0_accuracy: 0.57033 |  0:04:41s\n",
            "epoch 16 | loss: 0.68488 | val_0_accuracy: 0.57332 |  0:04:59s\n",
            "epoch 17 | loss: 0.68361 | val_0_accuracy: 0.57404 |  0:05:17s\n",
            "epoch 18 | loss: 0.68242 | val_0_accuracy: 0.57776 |  0:05:35s\n",
            "epoch 19 | loss: 0.6809  | val_0_accuracy: 0.58038 |  0:05:52s\n",
            "epoch 20 | loss: 0.67995 | val_0_accuracy: 0.58171 |  0:06:10s\n",
            "epoch 21 | loss: 0.67811 | val_0_accuracy: 0.58605 |  0:06:27s\n",
            "epoch 22 | loss: 0.67696 | val_0_accuracy: 0.58972 |  0:06:44s\n",
            "epoch 23 | loss: 0.67554 | val_0_accuracy: 0.59233 |  0:07:02s\n",
            "epoch 24 | loss: 0.67373 | val_0_accuracy: 0.59753 |  0:07:19s\n",
            "epoch 25 | loss: 0.67194 | val_0_accuracy: 0.60007 |  0:07:37s\n",
            "epoch 26 | loss: 0.67056 | val_0_accuracy: 0.60564 |  0:07:55s\n",
            "epoch 27 | loss: 0.66754 | val_0_accuracy: 0.6112  |  0:08:12s\n",
            "epoch 28 | loss: 0.66513 | val_0_accuracy: 0.61122 |  0:08:30s\n",
            "epoch 29 | loss: 0.66231 | val_0_accuracy: 0.61514 |  0:08:47s\n",
            "epoch 30 | loss: 0.65974 | val_0_accuracy: 0.61808 |  0:09:05s\n",
            "epoch 31 | loss: 0.65731 | val_0_accuracy: 0.61906 |  0:09:22s\n",
            "epoch 32 | loss: 0.65487 | val_0_accuracy: 0.62166 |  0:09:40s\n",
            "epoch 33 | loss: 0.65227 | val_0_accuracy: 0.62612 |  0:09:57s\n",
            "epoch 34 | loss: 0.64988 | val_0_accuracy: 0.62549 |  0:10:15s\n",
            "epoch 35 | loss: 0.64697 | val_0_accuracy: 0.63052 |  0:10:33s\n",
            "epoch 36 | loss: 0.64546 | val_0_accuracy: 0.63342 |  0:10:50s\n",
            "epoch 37 | loss: 0.64185 | val_0_accuracy: 0.63706 |  0:11:08s\n",
            "epoch 38 | loss: 0.63952 | val_0_accuracy: 0.63973 |  0:11:26s\n",
            "epoch 39 | loss: 0.63782 | val_0_accuracy: 0.6434  |  0:11:43s\n",
            "epoch 40 | loss: 0.63507 | val_0_accuracy: 0.64598 |  0:12:01s\n",
            "epoch 41 | loss: 0.63298 | val_0_accuracy: 0.64923 |  0:12:19s\n",
            "epoch 42 | loss: 0.62993 | val_0_accuracy: 0.65094 |  0:12:37s\n",
            "epoch 43 | loss: 0.62799 | val_0_accuracy: 0.65367 |  0:12:54s\n",
            "epoch 44 | loss: 0.62613 | val_0_accuracy: 0.65495 |  0:13:12s\n",
            "epoch 45 | loss: 0.6243  | val_0_accuracy: 0.65768 |  0:13:30s\n",
            "epoch 46 | loss: 0.62241 | val_0_accuracy: 0.65983 |  0:13:47s\n",
            "epoch 47 | loss: 0.61995 | val_0_accuracy: 0.66071 |  0:14:05s\n",
            "epoch 48 | loss: 0.61814 | val_0_accuracy: 0.66228 |  0:14:22s\n",
            "epoch 49 | loss: 0.61551 | val_0_accuracy: 0.66323 |  0:14:41s\n",
            "epoch 50 | loss: 0.61411 | val_0_accuracy: 0.66455 |  0:14:58s\n",
            "epoch 51 | loss: 0.61195 | val_0_accuracy: 0.66639 |  0:15:16s\n",
            "epoch 52 | loss: 0.60994 | val_0_accuracy: 0.66748 |  0:15:33s\n",
            "epoch 53 | loss: 0.60823 | val_0_accuracy: 0.67039 |  0:15:51s\n",
            "epoch 54 | loss: 0.60528 | val_0_accuracy: 0.67214 |  0:16:09s\n",
            "epoch 55 | loss: 0.60279 | val_0_accuracy: 0.67383 |  0:16:26s\n",
            "epoch 56 | loss: 0.60018 | val_0_accuracy: 0.67644 |  0:16:44s\n",
            "epoch 57 | loss: 0.59706 | val_0_accuracy: 0.67901 |  0:17:02s\n",
            "epoch 58 | loss: 0.59264 | val_0_accuracy: 0.68228 |  0:17:20s\n",
            "epoch 59 | loss: 0.58963 | val_0_accuracy: 0.68632 |  0:17:38s\n",
            "epoch 60 | loss: 0.58667 | val_0_accuracy: 0.68782 |  0:17:56s\n",
            "epoch 61 | loss: 0.58387 | val_0_accuracy: 0.69075 |  0:18:13s\n",
            "epoch 62 | loss: 0.581   | val_0_accuracy: 0.69132 |  0:18:31s\n",
            "epoch 63 | loss: 0.57823 | val_0_accuracy: 0.69215 |  0:18:49s\n",
            "epoch 64 | loss: 0.5778  | val_0_accuracy: 0.69268 |  0:19:07s\n",
            "epoch 65 | loss: 0.57552 | val_0_accuracy: 0.69421 |  0:19:25s\n",
            "epoch 66 | loss: 0.57452 | val_0_accuracy: 0.69498 |  0:19:42s\n",
            "epoch 67 | loss: 0.57288 | val_0_accuracy: 0.69585 |  0:20:00s\n",
            "epoch 68 | loss: 0.57183 | val_0_accuracy: 0.69681 |  0:20:18s\n",
            "epoch 69 | loss: 0.57033 | val_0_accuracy: 0.69664 |  0:20:36s\n",
            "epoch 70 | loss: 0.56921 | val_0_accuracy: 0.69761 |  0:20:54s\n",
            "epoch 71 | loss: 0.56733 | val_0_accuracy: 0.69818 |  0:21:12s\n",
            "epoch 72 | loss: 0.56617 | val_0_accuracy: 0.69925 |  0:21:29s\n",
            "epoch 73 | loss: 0.56542 | val_0_accuracy: 0.69922 |  0:21:47s\n",
            "epoch 74 | loss: 0.56376 | val_0_accuracy: 0.70003 |  0:22:05s\n",
            "epoch 75 | loss: 0.56291 | val_0_accuracy: 0.70122 |  0:22:24s\n",
            "epoch 76 | loss: 0.56166 | val_0_accuracy: 0.70206 |  0:22:41s\n",
            "epoch 77 | loss: 0.56026 | val_0_accuracy: 0.70273 |  0:22:59s\n",
            "epoch 78 | loss: 0.55889 | val_0_accuracy: 0.70336 |  0:23:17s\n",
            "epoch 79 | loss: 0.55833 | val_0_accuracy: 0.70371 |  0:23:35s\n",
            "epoch 80 | loss: 0.55699 | val_0_accuracy: 0.704   |  0:23:53s\n",
            "epoch 81 | loss: 0.55479 | val_0_accuracy: 0.70447 |  0:24:10s\n",
            "epoch 82 | loss: 0.55468 | val_0_accuracy: 0.70543 |  0:24:28s\n",
            "epoch 83 | loss: 0.55367 | val_0_accuracy: 0.70541 |  0:24:46s\n",
            "epoch 84 | loss: 0.55215 | val_0_accuracy: 0.70656 |  0:25:04s\n",
            "epoch 85 | loss: 0.55127 | val_0_accuracy: 0.70707 |  0:25:22s\n",
            "epoch 86 | loss: 0.55005 | val_0_accuracy: 0.70684 |  0:25:40s\n",
            "epoch 87 | loss: 0.54899 | val_0_accuracy: 0.70728 |  0:25:58s\n",
            "epoch 88 | loss: 0.54747 | val_0_accuracy: 0.70792 |  0:26:16s\n",
            "epoch 89 | loss: 0.54669 | val_0_accuracy: 0.70819 |  0:26:33s\n",
            "epoch 90 | loss: 0.54554 | val_0_accuracy: 0.70887 |  0:26:51s\n",
            "epoch 91 | loss: 0.54451 | val_0_accuracy: 0.70899 |  0:27:08s\n",
            "epoch 92 | loss: 0.54327 | val_0_accuracy: 0.71033 |  0:27:25s\n",
            "epoch 93 | loss: 0.54223 | val_0_accuracy: 0.71001 |  0:27:43s\n",
            "epoch 94 | loss: 0.54107 | val_0_accuracy: 0.71028 |  0:28:00s\n",
            "epoch 95 | loss: 0.53968 | val_0_accuracy: 0.71072 |  0:28:18s\n",
            "epoch 96 | loss: 0.53878 | val_0_accuracy: 0.71145 |  0:28:35s\n",
            "epoch 97 | loss: 0.53799 | val_0_accuracy: 0.71185 |  0:28:52s\n",
            "epoch 98 | loss: 0.53693 | val_0_accuracy: 0.71192 |  0:29:10s\n",
            "epoch 99 | loss: 0.53504 | val_0_accuracy: 0.71176 |  0:29:27s\n",
            "Stop training because you reached max_epochs = 100 with best_epoch = 98 and best_val_0_accuracy = 0.71192\n"
          ]
        },
        {
          "metadata": {
            "tags": null
          },
          "name": "stderr",
          "output_type": "stream",
          "text": [
            "/usr/local/lib/python3.11/dist-packages/pytorch_tabnet/callbacks.py:172: UserWarning: Best weights from best epoch are automatically used!\n",
            "  warnings.warn(wrn_msg)\n"
          ]
        },
        {
          "output_type": "stream",
          "name": "stdout",
          "text": [
            "Successfully saved model at tabnet_results/tabnet_model.zip.zip\n",
            "\n",
            "Test Metrics:\n",
            "Accuracy: 0.7112\n",
            "MCC: 0.4078\n"
          ]
        },
        {
          "output_type": "execute_result",
          "data": {
            "text/plain": [
              "{'Accuracy': 0.7112391749989541,\n",
              " 'Precision': 0.7407394228374194,\n",
              " 'ROC AUC': np.float64(0.7757109544507503),\n",
              " 'Recall': 0.76153719522233,\n",
              " 'F1': 0.7509943450850943,\n",
              " 'MCC': np.float64(0.4077502817040812)}"
            ]
          },
          "metadata": {},
          "execution_count": 42
        }
      ]
    },
    {
      "cell_type": "markdown",
      "source": [
        "#CARVEME-BC-IV-100"
      ],
      "metadata": {
        "id": "BEeKaizz_Erz"
      }
    },
    {
      "cell_type": "code",
      "source": [
        "y_train[y_train == 1] = 0\n",
        "y_train[y_train == 3] = 1\n",
        "y_test[y_test == 1] = 0\n",
        "y_test[y_test == 3] = 1\n",
        "y_val[y_val == 1] = 0\n",
        "y_val[y_val == 3] = 1"
      ],
      "metadata": {
        "id": "Pn6EPVcS_Ezh"
      },
      "execution_count": null,
      "outputs": []
    },
    {
      "cell_type": "code",
      "source": [
        "train_and_evaluate_tabnet(X_train, y_train, X_val, y_val, X_test, y_test)"
      ],
      "metadata": {
        "id": "Cv1CQlzQ_bd4",
        "colab": {
          "base_uri": "https://localhost:8080/"
        },
        "outputId": "99ecef11-a51c-41e4-851c-9d1adb0786c9"
      },
      "execution_count": null,
      "outputs": [
        {
          "output_type": "stream",
          "name": "stderr",
          "text": [
            "/usr/local/lib/python3.11/dist-packages/pytorch_tabnet/abstract_model.py:82: UserWarning: Device used : cuda\n",
            "  warnings.warn(f\"Device used : {self.device}\")\n"
          ]
        },
        {
          "output_type": "stream",
          "name": "stdout",
          "text": [
            "epoch 0  | loss: 0.99805 | val_0_accuracy: 0.5087  |  0:00:08s\n",
            "epoch 1  | loss: 0.93765 | val_0_accuracy: 0.50873 |  0:00:17s\n",
            "epoch 2  | loss: 0.89245 | val_0_accuracy: 0.50856 |  0:00:25s\n",
            "epoch 3  | loss: 0.85807 | val_0_accuracy: 0.5083  |  0:00:34s\n",
            "epoch 4  | loss: 0.83101 | val_0_accuracy: 0.50879 |  0:00:43s\n",
            "epoch 5  | loss: 0.81563 | val_0_accuracy: 0.50936 |  0:00:52s\n",
            "epoch 6  | loss: 0.79426 | val_0_accuracy: 0.509   |  0:01:00s\n",
            "epoch 7  | loss: 0.7812  | val_0_accuracy: 0.51317 |  0:01:09s\n",
            "epoch 8  | loss: 0.7735  | val_0_accuracy: 0.5102  |  0:01:18s\n",
            "epoch 9  | loss: 0.76348 | val_0_accuracy: 0.51045 |  0:01:27s\n",
            "epoch 10 | loss: 0.75629 | val_0_accuracy: 0.51333 |  0:01:36s\n",
            "epoch 11 | loss: 0.74994 | val_0_accuracy: 0.51218 |  0:01:45s\n",
            "epoch 12 | loss: 0.74276 | val_0_accuracy: 0.51336 |  0:01:54s\n",
            "epoch 13 | loss: 0.73862 | val_0_accuracy: 0.51517 |  0:02:03s\n",
            "epoch 14 | loss: 0.73358 | val_0_accuracy: 0.51611 |  0:02:12s\n",
            "epoch 15 | loss: 0.73051 | val_0_accuracy: 0.51344 |  0:02:21s\n",
            "epoch 16 | loss: 0.72659 | val_0_accuracy: 0.51794 |  0:02:30s\n",
            "epoch 17 | loss: 0.72239 | val_0_accuracy: 0.51868 |  0:02:39s\n",
            "epoch 18 | loss: 0.72015 | val_0_accuracy: 0.51896 |  0:02:48s\n",
            "epoch 19 | loss: 0.71682 | val_0_accuracy: 0.51914 |  0:02:57s\n",
            "epoch 20 | loss: 0.71466 | val_0_accuracy: 0.52062 |  0:03:06s\n",
            "epoch 21 | loss: 0.71202 | val_0_accuracy: 0.52178 |  0:03:15s\n",
            "epoch 22 | loss: 0.71051 | val_0_accuracy: 0.52401 |  0:03:24s\n",
            "epoch 23 | loss: 0.70833 | val_0_accuracy: 0.52392 |  0:03:33s\n",
            "epoch 24 | loss: 0.70652 | val_0_accuracy: 0.5255  |  0:03:43s\n",
            "epoch 25 | loss: 0.70638 | val_0_accuracy: 0.52125 |  0:03:52s\n",
            "epoch 26 | loss: 0.70307 | val_0_accuracy: 0.52504 |  0:04:02s\n",
            "epoch 27 | loss: 0.70362 | val_0_accuracy: 0.52607 |  0:04:11s\n",
            "epoch 28 | loss: 0.70081 | val_0_accuracy: 0.52521 |  0:04:20s\n",
            "epoch 29 | loss: 0.701   | val_0_accuracy: 0.52658 |  0:04:29s\n",
            "epoch 30 | loss: 0.699   | val_0_accuracy: 0.52963 |  0:04:38s\n",
            "epoch 31 | loss: 0.69864 | val_0_accuracy: 0.53062 |  0:04:47s\n",
            "epoch 32 | loss: 0.6983  | val_0_accuracy: 0.52996 |  0:04:56s\n",
            "epoch 33 | loss: 0.69763 | val_0_accuracy: 0.52754 |  0:05:05s\n",
            "epoch 34 | loss: 0.69603 | val_0_accuracy: 0.52853 |  0:05:15s\n",
            "epoch 35 | loss: 0.69617 | val_0_accuracy: 0.53154 |  0:05:24s\n",
            "epoch 36 | loss: 0.69582 | val_0_accuracy: 0.53064 |  0:05:33s\n",
            "epoch 37 | loss: 0.69504 | val_0_accuracy: 0.53057 |  0:05:42s\n",
            "epoch 38 | loss: 0.69421 | val_0_accuracy: 0.53043 |  0:05:51s\n",
            "epoch 39 | loss: 0.6941  | val_0_accuracy: 0.53045 |  0:06:00s\n",
            "epoch 40 | loss: 0.6936  | val_0_accuracy: 0.53236 |  0:06:09s\n",
            "epoch 41 | loss: 0.69325 | val_0_accuracy: 0.53323 |  0:06:18s\n",
            "epoch 42 | loss: 0.69259 | val_0_accuracy: 0.53609 |  0:06:27s\n",
            "epoch 43 | loss: 0.69284 | val_0_accuracy: 0.53558 |  0:06:35s\n",
            "epoch 44 | loss: 0.69228 | val_0_accuracy: 0.53609 |  0:06:44s\n",
            "epoch 45 | loss: 0.69161 | val_0_accuracy: 0.5355  |  0:06:53s\n",
            "epoch 46 | loss: 0.69132 | val_0_accuracy: 0.53777 |  0:07:02s\n",
            "epoch 47 | loss: 0.69142 | val_0_accuracy: 0.53708 |  0:07:11s\n",
            "epoch 48 | loss: 0.69096 | val_0_accuracy: 0.53895 |  0:07:19s\n",
            "epoch 49 | loss: 0.69017 | val_0_accuracy: 0.53704 |  0:07:28s\n",
            "epoch 50 | loss: 0.69033 | val_0_accuracy: 0.53874 |  0:07:37s\n",
            "epoch 51 | loss: 0.69    | val_0_accuracy: 0.53969 |  0:07:46s\n",
            "epoch 52 | loss: 0.68925 | val_0_accuracy: 0.54177 |  0:07:55s\n",
            "epoch 53 | loss: 0.68912 | val_0_accuracy: 0.54544 |  0:08:03s\n",
            "epoch 54 | loss: 0.68913 | val_0_accuracy: 0.54476 |  0:08:12s\n",
            "epoch 55 | loss: 0.68835 | val_0_accuracy: 0.54602 |  0:08:21s\n",
            "epoch 56 | loss: 0.68819 | val_0_accuracy: 0.54708 |  0:08:30s\n",
            "epoch 57 | loss: 0.68822 | val_0_accuracy: 0.5491  |  0:08:39s\n",
            "epoch 58 | loss: 0.68763 | val_0_accuracy: 0.55274 |  0:08:47s\n",
            "epoch 59 | loss: 0.6872  | val_0_accuracy: 0.54933 |  0:08:56s\n",
            "epoch 60 | loss: 0.68653 | val_0_accuracy: 0.55228 |  0:09:04s\n",
            "epoch 61 | loss: 0.68628 | val_0_accuracy: 0.55346 |  0:09:13s\n",
            "epoch 62 | loss: 0.68542 | val_0_accuracy: 0.55691 |  0:09:22s\n",
            "epoch 63 | loss: 0.68518 | val_0_accuracy: 0.55899 |  0:09:30s\n",
            "epoch 64 | loss: 0.68441 | val_0_accuracy: 0.55638 |  0:09:39s\n",
            "epoch 65 | loss: 0.68428 | val_0_accuracy: 0.56297 |  0:09:48s\n",
            "epoch 66 | loss: 0.68359 | val_0_accuracy: 0.56703 |  0:09:56s\n",
            "epoch 67 | loss: 0.68281 | val_0_accuracy: 0.566   |  0:10:05s\n",
            "epoch 68 | loss: 0.68229 | val_0_accuracy: 0.57124 |  0:10:14s\n",
            "epoch 69 | loss: 0.68101 | val_0_accuracy: 0.57469 |  0:10:22s\n",
            "epoch 70 | loss: 0.68066 | val_0_accuracy: 0.57373 |  0:10:31s\n",
            "epoch 71 | loss: 0.67966 | val_0_accuracy: 0.57756 |  0:10:40s\n",
            "epoch 72 | loss: 0.67845 | val_0_accuracy: 0.57707 |  0:10:48s\n",
            "epoch 73 | loss: 0.67819 | val_0_accuracy: 0.57926 |  0:10:57s\n",
            "epoch 74 | loss: 0.67647 | val_0_accuracy: 0.58122 |  0:11:06s\n",
            "epoch 75 | loss: 0.67546 | val_0_accuracy: 0.58503 |  0:11:15s\n",
            "epoch 76 | loss: 0.67557 | val_0_accuracy: 0.58543 |  0:11:23s\n",
            "epoch 77 | loss: 0.67387 | val_0_accuracy: 0.58983 |  0:11:32s\n",
            "epoch 78 | loss: 0.67252 | val_0_accuracy: 0.59019 |  0:11:41s\n",
            "epoch 79 | loss: 0.67257 | val_0_accuracy: 0.5912  |  0:11:49s\n",
            "epoch 80 | loss: 0.6709  | val_0_accuracy: 0.59589 |  0:11:58s\n",
            "epoch 81 | loss: 0.66909 | val_0_accuracy: 0.59707 |  0:12:07s\n",
            "epoch 82 | loss: 0.66865 | val_0_accuracy: 0.5972  |  0:12:15s\n",
            "epoch 83 | loss: 0.66656 | val_0_accuracy: 0.6012  |  0:12:24s\n",
            "epoch 84 | loss: 0.66535 | val_0_accuracy: 0.60059 |  0:12:33s\n",
            "epoch 85 | loss: 0.6639  | val_0_accuracy: 0.60292 |  0:12:41s\n",
            "epoch 86 | loss: 0.66373 | val_0_accuracy: 0.60536 |  0:12:50s\n",
            "epoch 87 | loss: 0.66247 | val_0_accuracy: 0.6049  |  0:12:59s\n",
            "epoch 88 | loss: 0.66093 | val_0_accuracy: 0.60661 |  0:13:08s\n",
            "epoch 89 | loss: 0.66024 | val_0_accuracy: 0.60541 |  0:13:17s\n",
            "epoch 90 | loss: 0.65911 | val_0_accuracy: 0.61115 |  0:13:25s\n",
            "epoch 91 | loss: 0.65764 | val_0_accuracy: 0.60774 |  0:13:34s\n",
            "epoch 92 | loss: 0.65672 | val_0_accuracy: 0.60945 |  0:13:43s\n",
            "epoch 93 | loss: 0.65621 | val_0_accuracy: 0.61162 |  0:13:51s\n",
            "epoch 94 | loss: 0.65496 | val_0_accuracy: 0.61199 |  0:14:00s\n",
            "epoch 95 | loss: 0.65452 | val_0_accuracy: 0.61431 |  0:14:09s\n",
            "epoch 96 | loss: 0.65262 | val_0_accuracy: 0.61793 |  0:14:17s\n",
            "epoch 97 | loss: 0.65125 | val_0_accuracy: 0.61747 |  0:14:26s\n",
            "epoch 98 | loss: 0.65005 | val_0_accuracy: 0.61652 |  0:14:34s\n",
            "epoch 99 | loss: 0.64899 | val_0_accuracy: 0.61871 |  0:14:43s\n",
            "Stop training because you reached max_epochs = 100 with best_epoch = 99 and best_val_0_accuracy = 0.61871\n"
          ]
        },
        {
          "output_type": "stream",
          "name": "stderr",
          "text": [
            "/usr/local/lib/python3.11/dist-packages/pytorch_tabnet/callbacks.py:172: UserWarning: Best weights from best epoch are automatically used!\n",
            "  warnings.warn(wrn_msg)\n"
          ]
        },
        {
          "output_type": "stream",
          "name": "stdout",
          "text": [
            "Successfully saved model at tabnet_results/tabnet_model.zip.zip\n",
            "\n",
            "Test Metrics:\n",
            "Accuracy: 0.6208\n",
            "MCC: 0.2335\n"
          ]
        },
        {
          "output_type": "execute_result",
          "data": {
            "text/plain": [
              "{'Accuracy': 0.6207927252825899,\n",
              " 'Precision': 0.6026661260074003,\n",
              " 'ROC AUC': np.float64(0.6540260405557718),\n",
              " 'Recall': 0.538838031360464,\n",
              " 'F1': 0.5689675798540496,\n",
              " 'MCC': np.float64(0.23350629839964313)}"
            ]
          },
          "metadata": {},
          "execution_count": 48
        }
      ]
    },
    {
      "cell_type": "markdown",
      "source": [
        "#CARVEME-BC-V-100"
      ],
      "metadata": {
        "id": "09T_YLTq_E8z"
      }
    },
    {
      "cell_type": "code",
      "source": [
        "y_train[y_train == 3] = 1\n",
        "y_test[y_test == 3] = 1\n",
        "y_val[y_val == 3] = 1"
      ],
      "metadata": {
        "id": "PQ5rKL56_FGn"
      },
      "execution_count": null,
      "outputs": []
    },
    {
      "cell_type": "code",
      "source": [
        "train_and_evaluate_tabnet(X_train, y_train, X_val, y_val, X_test, y_test)"
      ],
      "metadata": {
        "id": "9wDAkms9Tnhb",
        "colab": {
          "base_uri": "https://localhost:8080/"
        },
        "outputId": "4ac6249b-a436-4cdd-99ed-222540ede0fd"
      },
      "execution_count": null,
      "outputs": [
        {
          "output_type": "stream",
          "name": "stderr",
          "text": [
            "/usr/local/lib/python3.11/dist-packages/pytorch_tabnet/abstract_model.py:82: UserWarning: Device used : cuda\n",
            "  warnings.warn(f\"Device used : {self.device}\")\n"
          ]
        },
        {
          "output_type": "stream",
          "name": "stdout",
          "text": [
            "epoch 0  | loss: 0.96154 | val_0_accuracy: 0.60767 |  0:00:11s\n",
            "epoch 1  | loss: 0.86736 | val_0_accuracy: 0.60357 |  0:00:22s\n",
            "epoch 2  | loss: 0.82879 | val_0_accuracy: 0.60773 |  0:00:34s\n",
            "epoch 3  | loss: 0.79066 | val_0_accuracy: 0.61653 |  0:00:46s\n",
            "epoch 4  | loss: 0.76454 | val_0_accuracy: 0.62289 |  0:00:57s\n",
            "epoch 5  | loss: 0.74909 | val_0_accuracy: 0.62549 |  0:01:09s\n",
            "epoch 6  | loss: 0.73478 | val_0_accuracy: 0.63008 |  0:01:21s\n",
            "epoch 7  | loss: 0.72223 | val_0_accuracy: 0.63285 |  0:01:33s\n",
            "epoch 8  | loss: 0.71336 | val_0_accuracy: 0.63444 |  0:01:44s\n",
            "epoch 9  | loss: 0.70555 | val_0_accuracy: 0.63589 |  0:01:57s\n",
            "epoch 10 | loss: 0.69839 | val_0_accuracy: 0.63714 |  0:02:08s\n",
            "epoch 11 | loss: 0.69178 | val_0_accuracy: 0.63942 |  0:02:22s\n",
            "epoch 12 | loss: 0.68707 | val_0_accuracy: 0.64072 |  0:02:34s\n",
            "epoch 13 | loss: 0.68115 | val_0_accuracy: 0.64096 |  0:02:47s\n",
            "epoch 14 | loss: 0.67817 | val_0_accuracy: 0.64385 |  0:02:59s\n",
            "epoch 15 | loss: 0.67497 | val_0_accuracy: 0.64438 |  0:03:11s\n",
            "epoch 16 | loss: 0.67069 | val_0_accuracy: 0.6436  |  0:03:23s\n",
            "epoch 17 | loss: 0.66914 | val_0_accuracy: 0.64639 |  0:03:35s\n",
            "epoch 18 | loss: 0.66596 | val_0_accuracy: 0.64512 |  0:03:47s\n",
            "epoch 19 | loss: 0.66346 | val_0_accuracy: 0.64605 |  0:03:59s\n",
            "epoch 20 | loss: 0.66152 | val_0_accuracy: 0.64724 |  0:04:10s\n",
            "epoch 21 | loss: 0.65945 | val_0_accuracy: 0.64748 |  0:04:22s\n",
            "epoch 22 | loss: 0.65782 | val_0_accuracy: 0.64759 |  0:04:34s\n",
            "epoch 23 | loss: 0.6573  | val_0_accuracy: 0.64783 |  0:04:46s\n",
            "epoch 24 | loss: 0.6559  | val_0_accuracy: 0.64827 |  0:04:58s\n",
            "epoch 25 | loss: 0.65386 | val_0_accuracy: 0.64913 |  0:05:09s\n",
            "epoch 26 | loss: 0.6537  | val_0_accuracy: 0.64883 |  0:05:21s\n",
            "epoch 27 | loss: 0.65207 | val_0_accuracy: 0.64965 |  0:05:33s\n",
            "epoch 28 | loss: 0.65086 | val_0_accuracy: 0.64941 |  0:05:44s\n",
            "epoch 29 | loss: 0.65004 | val_0_accuracy: 0.65014 |  0:05:56s\n",
            "epoch 30 | loss: 0.64984 | val_0_accuracy: 0.65088 |  0:06:08s\n",
            "epoch 31 | loss: 0.64874 | val_0_accuracy: 0.6502  |  0:06:20s\n",
            "epoch 32 | loss: 0.64816 | val_0_accuracy: 0.65017 |  0:06:32s\n",
            "epoch 33 | loss: 0.64776 | val_0_accuracy: 0.65061 |  0:06:43s\n",
            "epoch 34 | loss: 0.64685 | val_0_accuracy: 0.65031 |  0:06:55s\n",
            "epoch 35 | loss: 0.6463  | val_0_accuracy: 0.65107 |  0:07:07s\n",
            "epoch 36 | loss: 0.6456  | val_0_accuracy: 0.65096 |  0:07:18s\n",
            "epoch 37 | loss: 0.64474 | val_0_accuracy: 0.65117 |  0:07:30s\n",
            "epoch 38 | loss: 0.64497 | val_0_accuracy: 0.65115 |  0:07:41s\n",
            "epoch 39 | loss: 0.64444 | val_0_accuracy: 0.65141 |  0:07:53s\n",
            "epoch 40 | loss: 0.64319 | val_0_accuracy: 0.6512  |  0:08:04s\n",
            "epoch 41 | loss: 0.6422  | val_0_accuracy: 0.6524  |  0:08:15s\n",
            "epoch 42 | loss: 0.64235 | val_0_accuracy: 0.65202 |  0:08:27s\n",
            "epoch 43 | loss: 0.64053 | val_0_accuracy: 0.6522  |  0:08:38s\n",
            "epoch 44 | loss: 0.64061 | val_0_accuracy: 0.65153 |  0:08:50s\n",
            "epoch 45 | loss: 0.63944 | val_0_accuracy: 0.65348 |  0:09:02s\n",
            "epoch 46 | loss: 0.63882 | val_0_accuracy: 0.65369 |  0:09:13s\n",
            "epoch 47 | loss: 0.63784 | val_0_accuracy: 0.65416 |  0:09:24s\n",
            "epoch 48 | loss: 0.63716 | val_0_accuracy: 0.65451 |  0:09:36s\n",
            "epoch 49 | loss: 0.63524 | val_0_accuracy: 0.65592 |  0:09:47s\n",
            "epoch 50 | loss: 0.63447 | val_0_accuracy: 0.65736 |  0:09:59s\n",
            "epoch 51 | loss: 0.63421 | val_0_accuracy: 0.65793 |  0:10:10s\n",
            "epoch 52 | loss: 0.63263 | val_0_accuracy: 0.65889 |  0:10:22s\n",
            "epoch 53 | loss: 0.63146 | val_0_accuracy: 0.65957 |  0:10:33s\n",
            "epoch 54 | loss: 0.6295  | val_0_accuracy: 0.66049 |  0:10:44s\n",
            "epoch 55 | loss: 0.62846 | val_0_accuracy: 0.66127 |  0:10:56s\n",
            "epoch 56 | loss: 0.62641 | val_0_accuracy: 0.66222 |  0:11:08s\n",
            "epoch 57 | loss: 0.62605 | val_0_accuracy: 0.66304 |  0:11:19s\n",
            "epoch 58 | loss: 0.62312 | val_0_accuracy: 0.66526 |  0:11:31s\n",
            "epoch 59 | loss: 0.62258 | val_0_accuracy: 0.66787 |  0:11:42s\n",
            "epoch 60 | loss: 0.6205  | val_0_accuracy: 0.66907 |  0:11:53s\n",
            "epoch 61 | loss: 0.61885 | val_0_accuracy: 0.67086 |  0:12:05s\n",
            "epoch 62 | loss: 0.61778 | val_0_accuracy: 0.67036 |  0:12:16s\n",
            "epoch 63 | loss: 0.61555 | val_0_accuracy: 0.67411 |  0:12:28s\n",
            "epoch 64 | loss: 0.61338 | val_0_accuracy: 0.67674 |  0:12:40s\n",
            "epoch 65 | loss: 0.61169 | val_0_accuracy: 0.67871 |  0:12:52s\n",
            "epoch 66 | loss: 0.60986 | val_0_accuracy: 0.68057 |  0:13:03s\n",
            "epoch 67 | loss: 0.60681 | val_0_accuracy: 0.68207 |  0:13:15s\n",
            "epoch 68 | loss: 0.60478 | val_0_accuracy: 0.6847  |  0:13:27s\n",
            "epoch 69 | loss: 0.60382 | val_0_accuracy: 0.68543 |  0:13:39s\n",
            "epoch 70 | loss: 0.60082 | val_0_accuracy: 0.68763 |  0:13:51s\n",
            "epoch 71 | loss: 0.59838 | val_0_accuracy: 0.69014 |  0:14:03s\n",
            "epoch 72 | loss: 0.59776 | val_0_accuracy: 0.69249 |  0:14:15s\n",
            "epoch 73 | loss: 0.59549 | val_0_accuracy: 0.69246 |  0:14:27s\n",
            "epoch 74 | loss: 0.59449 | val_0_accuracy: 0.69345 |  0:14:39s\n",
            "epoch 75 | loss: 0.59292 | val_0_accuracy: 0.69496 |  0:14:50s\n",
            "epoch 76 | loss: 0.5899  | val_0_accuracy: 0.69608 |  0:15:02s\n",
            "epoch 77 | loss: 0.58973 | val_0_accuracy: 0.69789 |  0:15:14s\n",
            "epoch 78 | loss: 0.5868  | val_0_accuracy: 0.69836 |  0:15:25s\n",
            "epoch 79 | loss: 0.58539 | val_0_accuracy: 0.69904 |  0:15:37s\n",
            "epoch 80 | loss: 0.58417 | val_0_accuracy: 0.69945 |  0:15:48s\n",
            "epoch 81 | loss: 0.58174 | val_0_accuracy: 0.69991 |  0:16:00s\n",
            "epoch 82 | loss: 0.57967 | val_0_accuracy: 0.70086 |  0:16:12s\n",
            "epoch 83 | loss: 0.57916 | val_0_accuracy: 0.70273 |  0:16:24s\n",
            "epoch 84 | loss: 0.57678 | val_0_accuracy: 0.70246 |  0:16:36s\n",
            "epoch 85 | loss: 0.57536 | val_0_accuracy: 0.70316 |  0:16:47s\n",
            "epoch 86 | loss: 0.57314 | val_0_accuracy: 0.70357 |  0:16:59s\n",
            "epoch 87 | loss: 0.57178 | val_0_accuracy: 0.70544 |  0:17:10s\n",
            "epoch 88 | loss: 0.57002 | val_0_accuracy: 0.70631 |  0:17:22s\n",
            "epoch 89 | loss: 0.56933 | val_0_accuracy: 0.7064  |  0:17:33s\n",
            "epoch 90 | loss: 0.56702 | val_0_accuracy: 0.70776 |  0:17:44s\n",
            "epoch 91 | loss: 0.56611 | val_0_accuracy: 0.707   |  0:17:56s\n",
            "epoch 92 | loss: 0.56463 | val_0_accuracy: 0.70903 |  0:18:07s\n",
            "epoch 93 | loss: 0.56381 | val_0_accuracy: 0.70931 |  0:18:18s\n",
            "epoch 94 | loss: 0.5621  | val_0_accuracy: 0.70979 |  0:18:30s\n",
            "epoch 95 | loss: 0.56023 | val_0_accuracy: 0.71125 |  0:18:41s\n",
            "epoch 96 | loss: 0.55903 | val_0_accuracy: 0.71196 |  0:18:53s\n",
            "epoch 97 | loss: 0.55866 | val_0_accuracy: 0.71232 |  0:19:04s\n",
            "epoch 98 | loss: 0.55651 | val_0_accuracy: 0.71266 |  0:19:16s\n",
            "epoch 99 | loss: 0.55509 | val_0_accuracy: 0.71349 |  0:19:27s\n",
            "Stop training because you reached max_epochs = 100 with best_epoch = 99 and best_val_0_accuracy = 0.71349\n"
          ]
        },
        {
          "output_type": "stream",
          "name": "stderr",
          "text": [
            "/usr/local/lib/python3.11/dist-packages/pytorch_tabnet/callbacks.py:172: UserWarning: Best weights from best epoch are automatically used!\n",
            "  warnings.warn(wrn_msg)\n"
          ]
        },
        {
          "output_type": "stream",
          "name": "stdout",
          "text": [
            "Successfully saved model at tabnet_results/tabnet_model.zip.zip\n",
            "\n",
            "Test Metrics:\n",
            "Accuracy: 0.7130\n",
            "MCC: 0.3254\n"
          ]
        },
        {
          "output_type": "execute_result",
          "data": {
            "text/plain": [
              "{'Accuracy': 0.7130079627665469,\n",
              " 'Precision': 0.6401146131805158,\n",
              " 'ROC AUC': np.float64(0.7360442839188636),\n",
              " 'Recall': 0.4054262510775373,\n",
              " 'F1': 0.496430654704036,\n",
              " 'MCC': np.float64(0.32540305275474873)}"
            ]
          },
          "metadata": {},
          "execution_count": 54
        }
      ]
    },
    {
      "cell_type": "markdown",
      "source": [
        "#CARVEME-BC-I-50"
      ],
      "metadata": {
        "id": "in6qLEMt_FSn"
      }
    },
    {
      "cell_type": "code",
      "source": [
        "train_and_evaluate_tabnet(X_train, y_train, X_val, y_val, X_test, y_test)"
      ],
      "metadata": {
        "id": "McWvKlpl_FbM",
        "colab": {
          "base_uri": "https://localhost:8080/"
        },
        "outputId": "77b00c44-f7be-4f64-fae1-cb9314c7fb95"
      },
      "execution_count": null,
      "outputs": [
        {
          "output_type": "stream",
          "name": "stderr",
          "text": [
            "/usr/local/lib/python3.11/dist-packages/pytorch_tabnet/abstract_model.py:82: UserWarning: Device used : cuda\n",
            "  warnings.warn(f\"Device used : {self.device}\")\n"
          ]
        },
        {
          "output_type": "stream",
          "name": "stdout",
          "text": [
            "epoch 0  | loss: 0.96154 | val_0_accuracy: 0.60767 |  0:00:11s\n",
            "epoch 1  | loss: 0.86736 | val_0_accuracy: 0.60357 |  0:00:23s\n",
            "epoch 2  | loss: 0.82879 | val_0_accuracy: 0.60773 |  0:00:34s\n",
            "epoch 3  | loss: 0.79066 | val_0_accuracy: 0.61653 |  0:00:46s\n",
            "epoch 4  | loss: 0.76454 | val_0_accuracy: 0.62289 |  0:00:57s\n",
            "epoch 5  | loss: 0.74909 | val_0_accuracy: 0.62549 |  0:01:09s\n",
            "epoch 6  | loss: 0.73478 | val_0_accuracy: 0.63008 |  0:01:20s\n",
            "epoch 7  | loss: 0.72223 | val_0_accuracy: 0.63285 |  0:01:32s\n",
            "epoch 8  | loss: 0.71336 | val_0_accuracy: 0.63444 |  0:01:44s\n",
            "epoch 9  | loss: 0.70555 | val_0_accuracy: 0.63589 |  0:01:55s\n",
            "epoch 10 | loss: 0.69839 | val_0_accuracy: 0.63714 |  0:02:07s\n",
            "epoch 11 | loss: 0.69178 | val_0_accuracy: 0.63942 |  0:02:18s\n",
            "epoch 12 | loss: 0.68707 | val_0_accuracy: 0.64072 |  0:02:30s\n",
            "epoch 13 | loss: 0.68115 | val_0_accuracy: 0.64096 |  0:02:41s\n",
            "epoch 14 | loss: 0.67817 | val_0_accuracy: 0.64385 |  0:02:53s\n",
            "epoch 15 | loss: 0.67497 | val_0_accuracy: 0.64438 |  0:03:05s\n",
            "epoch 16 | loss: 0.67069 | val_0_accuracy: 0.6436  |  0:03:16s\n",
            "epoch 17 | loss: 0.66914 | val_0_accuracy: 0.64639 |  0:03:28s\n",
            "epoch 18 | loss: 0.66596 | val_0_accuracy: 0.64512 |  0:03:39s\n",
            "epoch 19 | loss: 0.66346 | val_0_accuracy: 0.64605 |  0:03:51s\n",
            "epoch 20 | loss: 0.66152 | val_0_accuracy: 0.64724 |  0:04:03s\n",
            "epoch 21 | loss: 0.65945 | val_0_accuracy: 0.64748 |  0:04:14s\n",
            "epoch 22 | loss: 0.65782 | val_0_accuracy: 0.64759 |  0:04:26s\n",
            "epoch 23 | loss: 0.6573  | val_0_accuracy: 0.64783 |  0:04:37s\n",
            "epoch 24 | loss: 0.6559  | val_0_accuracy: 0.64827 |  0:04:49s\n",
            "epoch 25 | loss: 0.65386 | val_0_accuracy: 0.64913 |  0:05:00s\n",
            "epoch 26 | loss: 0.6537  | val_0_accuracy: 0.64883 |  0:05:12s\n",
            "epoch 27 | loss: 0.65207 | val_0_accuracy: 0.64965 |  0:05:24s\n",
            "epoch 28 | loss: 0.65086 | val_0_accuracy: 0.64941 |  0:05:35s\n",
            "epoch 29 | loss: 0.65004 | val_0_accuracy: 0.65014 |  0:05:47s\n",
            "epoch 30 | loss: 0.64984 | val_0_accuracy: 0.65088 |  0:05:59s\n",
            "epoch 31 | loss: 0.64874 | val_0_accuracy: 0.6502  |  0:06:11s\n",
            "epoch 32 | loss: 0.64816 | val_0_accuracy: 0.65017 |  0:06:23s\n",
            "epoch 33 | loss: 0.64776 | val_0_accuracy: 0.65061 |  0:06:35s\n",
            "epoch 34 | loss: 0.64685 | val_0_accuracy: 0.65031 |  0:06:48s\n",
            "epoch 35 | loss: 0.6463  | val_0_accuracy: 0.65107 |  0:06:59s\n",
            "epoch 36 | loss: 0.6456  | val_0_accuracy: 0.65096 |  0:07:11s\n",
            "epoch 37 | loss: 0.64474 | val_0_accuracy: 0.65117 |  0:07:23s\n",
            "epoch 38 | loss: 0.64497 | val_0_accuracy: 0.65115 |  0:07:35s\n",
            "epoch 39 | loss: 0.64444 | val_0_accuracy: 0.65141 |  0:07:47s\n",
            "epoch 40 | loss: 0.64319 | val_0_accuracy: 0.6512  |  0:07:59s\n",
            "epoch 41 | loss: 0.6422  | val_0_accuracy: 0.6524  |  0:08:11s\n",
            "epoch 42 | loss: 0.64235 | val_0_accuracy: 0.65202 |  0:08:22s\n",
            "epoch 43 | loss: 0.64053 | val_0_accuracy: 0.6522  |  0:08:34s\n",
            "epoch 44 | loss: 0.64061 | val_0_accuracy: 0.65153 |  0:08:46s\n",
            "epoch 45 | loss: 0.63944 | val_0_accuracy: 0.65348 |  0:08:58s\n",
            "epoch 46 | loss: 0.63882 | val_0_accuracy: 0.65369 |  0:09:09s\n",
            "epoch 47 | loss: 0.63784 | val_0_accuracy: 0.65416 |  0:09:21s\n",
            "epoch 48 | loss: 0.63716 | val_0_accuracy: 0.65451 |  0:09:33s\n",
            "epoch 49 | loss: 0.63524 | val_0_accuracy: 0.65592 |  0:09:44s\n",
            "epoch 50 | loss: 0.63447 | val_0_accuracy: 0.65736 |  0:09:56s\n",
            "epoch 51 | loss: 0.63421 | val_0_accuracy: 0.65793 |  0:10:08s\n",
            "epoch 52 | loss: 0.63263 | val_0_accuracy: 0.65889 |  0:10:20s\n",
            "epoch 53 | loss: 0.63146 | val_0_accuracy: 0.65957 |  0:10:31s\n",
            "epoch 54 | loss: 0.6295  | val_0_accuracy: 0.66049 |  0:10:43s\n",
            "epoch 55 | loss: 0.62846 | val_0_accuracy: 0.66127 |  0:10:55s\n",
            "epoch 56 | loss: 0.62641 | val_0_accuracy: 0.66222 |  0:11:06s\n",
            "epoch 57 | loss: 0.62605 | val_0_accuracy: 0.66304 |  0:11:18s\n",
            "epoch 58 | loss: 0.62312 | val_0_accuracy: 0.66526 |  0:11:30s\n",
            "epoch 59 | loss: 0.62258 | val_0_accuracy: 0.66787 |  0:11:42s\n",
            "epoch 60 | loss: 0.6205  | val_0_accuracy: 0.66907 |  0:11:54s\n",
            "epoch 61 | loss: 0.61885 | val_0_accuracy: 0.67086 |  0:12:05s\n"
          ]
        }
      ]
    },
    {
      "cell_type": "markdown",
      "source": [
        "#CARVEME-BC-II-50"
      ],
      "metadata": {
        "id": "OsQV5Qde_FhX"
      }
    },
    {
      "cell_type": "code",
      "source": [
        "train_and_evaluate_tabnet(X_train, y_train, X_val, y_val, X_test, y_test)"
      ],
      "metadata": {
        "id": "MsDwoupJUvJ4",
        "colab": {
          "base_uri": "https://localhost:8080/"
        },
        "outputId": "bba5f292-3079-475b-f37d-51b37a91c091"
      },
      "execution_count": null,
      "outputs": [
        {
          "output_type": "stream",
          "name": "stderr",
          "text": [
            "/usr/local/lib/python3.11/dist-packages/pytorch_tabnet/abstract_model.py:82: UserWarning: Device used : cuda\n",
            "  warnings.warn(f\"Device used : {self.device}\")\n"
          ]
        },
        {
          "output_type": "stream",
          "name": "stdout",
          "text": [
            "epoch 0  | loss: 0.68001 | val_0_accuracy: 0.83395 |  0:00:16s\n",
            "epoch 1  | loss: 0.57172 | val_0_accuracy: 0.83198 |  0:00:32s\n",
            "epoch 2  | loss: 0.54413 | val_0_accuracy: 0.83391 |  0:00:48s\n",
            "epoch 3  | loss: 0.52489 | val_0_accuracy: 0.83414 |  0:01:03s\n",
            "epoch 4  | loss: 0.50967 | val_0_accuracy: 0.83546 |  0:01:19s\n",
            "epoch 5  | loss: 0.49833 | val_0_accuracy: 0.83603 |  0:01:34s\n",
            "epoch 6  | loss: 0.48916 | val_0_accuracy: 0.8371  |  0:01:50s\n",
            "epoch 7  | loss: 0.48271 | val_0_accuracy: 0.83752 |  0:02:06s\n",
            "epoch 8  | loss: 0.4783  | val_0_accuracy: 0.83814 |  0:02:21s\n",
            "epoch 9  | loss: 0.47291 | val_0_accuracy: 0.83875 |  0:02:37s\n",
            "epoch 10 | loss: 0.46743 | val_0_accuracy: 0.83915 |  0:02:53s\n",
            "epoch 11 | loss: 0.46401 | val_0_accuracy: 0.8389  |  0:03:08s\n",
            "epoch 12 | loss: 0.46103 | val_0_accuracy: 0.83853 |  0:03:24s\n",
            "epoch 13 | loss: 0.45892 | val_0_accuracy: 0.83876 |  0:03:40s\n",
            "epoch 14 | loss: 0.45637 | val_0_accuracy: 0.83922 |  0:03:56s\n",
            "epoch 15 | loss: 0.45408 | val_0_accuracy: 0.83962 |  0:04:11s\n",
            "epoch 16 | loss: 0.45257 | val_0_accuracy: 0.83942 |  0:04:27s\n",
            "epoch 17 | loss: 0.45056 | val_0_accuracy: 0.83983 |  0:04:43s\n",
            "epoch 18 | loss: 0.44948 | val_0_accuracy: 0.83981 |  0:04:59s\n",
            "epoch 19 | loss: 0.44804 | val_0_accuracy: 0.83972 |  0:05:14s\n",
            "epoch 20 | loss: 0.44752 | val_0_accuracy: 0.8399  |  0:05:30s\n",
            "epoch 21 | loss: 0.44646 | val_0_accuracy: 0.83989 |  0:05:46s\n",
            "epoch 22 | loss: 0.44527 | val_0_accuracy: 0.84018 |  0:06:01s\n",
            "epoch 23 | loss: 0.44425 | val_0_accuracy: 0.84004 |  0:06:17s\n",
            "epoch 24 | loss: 0.44399 | val_0_accuracy: 0.83996 |  0:06:33s\n",
            "epoch 25 | loss: 0.44254 | val_0_accuracy: 0.84022 |  0:06:48s\n",
            "epoch 26 | loss: 0.44244 | val_0_accuracy: 0.84014 |  0:07:04s\n",
            "epoch 27 | loss: 0.44155 | val_0_accuracy: 0.8403  |  0:07:20s\n",
            "epoch 28 | loss: 0.44081 | val_0_accuracy: 0.84022 |  0:07:35s\n",
            "epoch 29 | loss: 0.4406  | val_0_accuracy: 0.84029 |  0:07:51s\n",
            "epoch 30 | loss: 0.43915 | val_0_accuracy: 0.84001 |  0:08:07s\n",
            "epoch 31 | loss: 0.43824 | val_0_accuracy: 0.84026 |  0:08:23s\n",
            "epoch 32 | loss: 0.43754 | val_0_accuracy: 0.8402  |  0:08:38s\n",
            "epoch 33 | loss: 0.43694 | val_0_accuracy: 0.84022 |  0:08:54s\n",
            "epoch 34 | loss: 0.43656 | val_0_accuracy: 0.84026 |  0:09:10s\n",
            "epoch 35 | loss: 0.43524 | val_0_accuracy: 0.84031 |  0:09:25s\n",
            "epoch 36 | loss: 0.43438 | val_0_accuracy: 0.84022 |  0:09:41s\n",
            "epoch 37 | loss: 0.43364 | val_0_accuracy: 0.84011 |  0:09:57s\n",
            "epoch 38 | loss: 0.43265 | val_0_accuracy: 0.84018 |  0:10:12s\n",
            "epoch 39 | loss: 0.43273 | val_0_accuracy: 0.84032 |  0:10:28s\n",
            "epoch 40 | loss: 0.43193 | val_0_accuracy: 0.84039 |  0:10:44s\n",
            "epoch 41 | loss: 0.43134 | val_0_accuracy: 0.84041 |  0:11:00s\n",
            "epoch 42 | loss: 0.4305  | val_0_accuracy: 0.84018 |  0:11:15s\n",
            "epoch 43 | loss: 0.43008 | val_0_accuracy: 0.84044 |  0:11:31s\n",
            "epoch 44 | loss: 0.42956 | val_0_accuracy: 0.84028 |  0:11:47s\n",
            "epoch 45 | loss: 0.42912 | val_0_accuracy: 0.84041 |  0:12:02s\n",
            "epoch 46 | loss: 0.42874 | val_0_accuracy: 0.84037 |  0:12:18s\n",
            "epoch 47 | loss: 0.42817 | val_0_accuracy: 0.84038 |  0:12:34s\n",
            "epoch 48 | loss: 0.42748 | val_0_accuracy: 0.84    |  0:12:50s\n",
            "epoch 49 | loss: 0.427   | val_0_accuracy: 0.84045 |  0:13:05s\n",
            "epoch 50 | loss: 0.42665 | val_0_accuracy: 0.84034 |  0:13:21s\n",
            "epoch 51 | loss: 0.42601 | val_0_accuracy: 0.84024 |  0:13:36s\n",
            "epoch 52 | loss: 0.42603 | val_0_accuracy: 0.84029 |  0:13:52s\n",
            "epoch 53 | loss: 0.42464 | val_0_accuracy: 0.84035 |  0:14:08s\n",
            "epoch 54 | loss: 0.42476 | val_0_accuracy: 0.84027 |  0:14:23s\n",
            "epoch 55 | loss: 0.42448 | val_0_accuracy: 0.84044 |  0:14:39s\n",
            "epoch 56 | loss: 0.42388 | val_0_accuracy: 0.84044 |  0:14:55s\n",
            "epoch 57 | loss: 0.42331 | val_0_accuracy: 0.84043 |  0:15:10s\n",
            "epoch 58 | loss: 0.42277 | val_0_accuracy: 0.84033 |  0:15:26s\n",
            "epoch 59 | loss: 0.42187 | val_0_accuracy: 0.84037 |  0:15:42s\n",
            "\n",
            "Early stopping occurred at epoch 59 with best_epoch = 49 and best_val_0_accuracy = 0.84045\n"
          ]
        },
        {
          "output_type": "stream",
          "name": "stderr",
          "text": [
            "/usr/local/lib/python3.11/dist-packages/pytorch_tabnet/callbacks.py:172: UserWarning: Best weights from best epoch are automatically used!\n",
            "  warnings.warn(wrn_msg)\n"
          ]
        },
        {
          "output_type": "stream",
          "name": "stdout",
          "text": [
            "Successfully saved model at tabnet_results/tabnet_model.zip.zip\n",
            "\n",
            "Test Metrics:\n",
            "Accuracy: 0.8416\n",
            "MCC: 0.0049\n"
          ]
        },
        {
          "output_type": "execute_result",
          "data": {
            "text/plain": [
              "{'Accuracy': 0.8416181999293082,\n",
              " 'Precision': 0.23529411764705882,\n",
              " 'ROC AUC': np.float64(0.6362762996626697),\n",
              " 'Recall': 0.0008130081300813008,\n",
              " 'F1': 0.0016204172574437918,\n",
              " 'MCC': np.float64(0.00494713999481246)}"
            ]
          },
          "metadata": {},
          "execution_count": 14
        }
      ]
    },
    {
      "cell_type": "code",
      "source": [],
      "metadata": {
        "id": "trw2JIey_Fo3"
      },
      "execution_count": null,
      "outputs": []
    },
    {
      "cell_type": "markdown",
      "source": [
        "#CARVEME-BC-III-50"
      ],
      "metadata": {
        "id": "0Mf_Ulw4_FyO"
      }
    },
    {
      "cell_type": "code",
      "source": [
        "y_train[y_train == 2] = 1\n",
        "y_test[y_test == 2] = 1\n",
        "y_val[y_val == 2] = 1"
      ],
      "metadata": {
        "id": "Varp4thG_F4N"
      },
      "execution_count": null,
      "outputs": []
    },
    {
      "cell_type": "code",
      "source": [
        "train_and_evaluate_tabnet(X_train, y_train, X_val, y_val, X_test, y_test)"
      ],
      "metadata": {
        "id": "hqiWH8yCUx9K",
        "colab": {
          "base_uri": "https://localhost:8080/"
        },
        "outputId": "f761ddcc-d8a0-4b24-8fdc-1ea00e1adca3"
      },
      "execution_count": null,
      "outputs": [
        {
          "output_type": "stream",
          "name": "stderr",
          "text": [
            "/usr/local/lib/python3.11/dist-packages/pytorch_tabnet/abstract_model.py:82: UserWarning: Device used : cuda\n",
            "  warnings.warn(f\"Device used : {self.device}\")\n"
          ]
        },
        {
          "output_type": "stream",
          "name": "stdout",
          "text": [
            "epoch 0  | loss: 0.7292  | val_0_accuracy: 0.7981  |  0:00:16s\n",
            "epoch 1  | loss: 0.63599 | val_0_accuracy: 0.79428 |  0:00:33s\n",
            "epoch 2  | loss: 0.60621 | val_0_accuracy: 0.79721 |  0:00:49s\n",
            "epoch 3  | loss: 0.58232 | val_0_accuracy: 0.80051 |  0:01:06s\n",
            "epoch 4  | loss: 0.56532 | val_0_accuracy: 0.80141 |  0:01:22s\n",
            "epoch 5  | loss: 0.55435 | val_0_accuracy: 0.80278 |  0:01:39s\n",
            "epoch 6  | loss: 0.54424 | val_0_accuracy: 0.80355 |  0:01:55s\n",
            "epoch 7  | loss: 0.53647 | val_0_accuracy: 0.80411 |  0:02:12s\n",
            "epoch 8  | loss: 0.52944 | val_0_accuracy: 0.8048  |  0:02:29s\n",
            "epoch 9  | loss: 0.52515 | val_0_accuracy: 0.8048  |  0:02:45s\n",
            "epoch 10 | loss: 0.52026 | val_0_accuracy: 0.80505 |  0:03:02s\n",
            "epoch 11 | loss: 0.51699 | val_0_accuracy: 0.80553 |  0:03:18s\n",
            "epoch 12 | loss: 0.51237 | val_0_accuracy: 0.80615 |  0:03:35s\n",
            "epoch 13 | loss: 0.51075 | val_0_accuracy: 0.80635 |  0:03:52s\n",
            "epoch 14 | loss: 0.50848 | val_0_accuracy: 0.80617 |  0:04:08s\n",
            "epoch 15 | loss: 0.50537 | val_0_accuracy: 0.80645 |  0:04:25s\n",
            "epoch 16 | loss: 0.5042  | val_0_accuracy: 0.80685 |  0:04:41s\n",
            "epoch 17 | loss: 0.50165 | val_0_accuracy: 0.80692 |  0:04:58s\n",
            "epoch 18 | loss: 0.5     | val_0_accuracy: 0.80677 |  0:05:15s\n",
            "epoch 19 | loss: 0.49912 | val_0_accuracy: 0.80675 |  0:05:31s\n",
            "epoch 20 | loss: 0.49805 | val_0_accuracy: 0.80701 |  0:05:48s\n",
            "epoch 21 | loss: 0.49694 | val_0_accuracy: 0.80711 |  0:06:05s\n",
            "epoch 22 | loss: 0.49585 | val_0_accuracy: 0.80713 |  0:06:21s\n",
            "epoch 23 | loss: 0.4943  | val_0_accuracy: 0.80713 |  0:06:38s\n",
            "epoch 24 | loss: 0.49395 | val_0_accuracy: 0.80715 |  0:06:54s\n",
            "epoch 25 | loss: 0.49217 | val_0_accuracy: 0.80734 |  0:07:12s\n",
            "epoch 26 | loss: 0.49154 | val_0_accuracy: 0.80705 |  0:07:29s\n",
            "epoch 27 | loss: 0.49104 | val_0_accuracy: 0.80732 |  0:07:46s\n",
            "epoch 28 | loss: 0.48964 | val_0_accuracy: 0.80719 |  0:08:02s\n",
            "epoch 29 | loss: 0.489   | val_0_accuracy: 0.80754 |  0:08:19s\n",
            "epoch 30 | loss: 0.48773 | val_0_accuracy: 0.80735 |  0:08:35s\n",
            "epoch 31 | loss: 0.48703 | val_0_accuracy: 0.8075  |  0:08:52s\n",
            "epoch 32 | loss: 0.48562 | val_0_accuracy: 0.80739 |  0:09:08s\n",
            "epoch 33 | loss: 0.48506 | val_0_accuracy: 0.80737 |  0:09:25s\n",
            "epoch 34 | loss: 0.48385 | val_0_accuracy: 0.80759 |  0:09:41s\n",
            "epoch 35 | loss: 0.48264 | val_0_accuracy: 0.80758 |  0:09:58s\n",
            "epoch 36 | loss: 0.48189 | val_0_accuracy: 0.80731 |  0:10:14s\n",
            "epoch 37 | loss: 0.48145 | val_0_accuracy: 0.80748 |  0:10:30s\n",
            "epoch 38 | loss: 0.48083 | val_0_accuracy: 0.80754 |  0:10:47s\n",
            "epoch 39 | loss: 0.47978 | val_0_accuracy: 0.80747 |  0:11:03s\n",
            "epoch 40 | loss: 0.47934 | val_0_accuracy: 0.80739 |  0:11:19s\n",
            "epoch 41 | loss: 0.47858 | val_0_accuracy: 0.80752 |  0:11:36s\n",
            "epoch 42 | loss: 0.47768 | val_0_accuracy: 0.80739 |  0:11:52s\n",
            "epoch 43 | loss: 0.47707 | val_0_accuracy: 0.80754 |  0:12:08s\n",
            "epoch 44 | loss: 0.47584 | val_0_accuracy: 0.80751 |  0:12:24s\n",
            "\n",
            "Early stopping occurred at epoch 44 with best_epoch = 34 and best_val_0_accuracy = 0.80759\n"
          ]
        },
        {
          "output_type": "stream",
          "name": "stderr",
          "text": [
            "/usr/local/lib/python3.11/dist-packages/pytorch_tabnet/callbacks.py:172: UserWarning: Best weights from best epoch are automatically used!\n",
            "  warnings.warn(wrn_msg)\n"
          ]
        },
        {
          "output_type": "stream",
          "name": "stdout",
          "text": [
            "Successfully saved model at tabnet_results/tabnet_model.zip.zip\n",
            "\n",
            "Test Metrics:\n",
            "Accuracy: 0.8078\n",
            "MCC: -0.0040\n"
          ]
        },
        {
          "output_type": "execute_result",
          "data": {
            "text/plain": [
              "{'Accuracy': 0.807777663618617,\n",
              " 'Precision': 0.8082894628609032,\n",
              " 'ROC AUC': np.float64(0.6311238593302346),\n",
              " 'Recall': 0.9991865268509692,\n",
              " 'F1': 0.8936571724141851,\n",
              " 'MCC': np.float64(-0.003961737604739982)}"
            ]
          },
          "metadata": {},
          "execution_count": 25
        }
      ]
    },
    {
      "cell_type": "markdown",
      "source": [
        "#CARVEME-BC-IV-50"
      ],
      "metadata": {
        "id": "62R4z7NdKBp7"
      }
    },
    {
      "cell_type": "code",
      "source": [
        "y_train[y_train == 1] = 0\n",
        "y_train[y_train == 3] = 1\n",
        "y_test[y_test == 1] = 0\n",
        "y_test[y_test == 3] = 1\n",
        "y_val[y_val == 1] = 0\n",
        "y_val[y_val == 3] = 1"
      ],
      "metadata": {
        "id": "QqPwYXLrKBwE"
      },
      "execution_count": null,
      "outputs": []
    },
    {
      "cell_type": "code",
      "source": [
        "train_and_evaluate_tabnet(X_train, y_train, X_val, y_val, X_test, y_test)"
      ],
      "metadata": {
        "id": "Ojv1BRwAU0N4",
        "colab": {
          "base_uri": "https://localhost:8080/"
        },
        "outputId": "cd83d180-5058-46ac-f831-e2a532b3816d"
      },
      "execution_count": null,
      "outputs": [
        {
          "output_type": "stream",
          "name": "stderr",
          "text": [
            "/usr/local/lib/python3.11/dist-packages/pytorch_tabnet/abstract_model.py:82: UserWarning: Device used : cuda\n",
            "  warnings.warn(f\"Device used : {self.device}\")\n"
          ]
        },
        {
          "output_type": "stream",
          "name": "stdout",
          "text": [
            "epoch 0  | loss: 0.94439 | val_0_accuracy: 0.62807 |  0:00:07s\n",
            "epoch 1  | loss: 0.89526 | val_0_accuracy: 0.61933 |  0:00:14s\n",
            "epoch 2  | loss: 0.85252 | val_0_accuracy: 0.61457 |  0:00:21s\n",
            "epoch 3  | loss: 0.83113 | val_0_accuracy: 0.61755 |  0:00:28s\n",
            "epoch 4  | loss: 0.80045 | val_0_accuracy: 0.6176  |  0:00:35s\n",
            "epoch 5  | loss: 0.78466 | val_0_accuracy: 0.6253  |  0:00:42s\n",
            "epoch 6  | loss: 0.76868 | val_0_accuracy: 0.62622 |  0:00:49s\n",
            "epoch 7  | loss: 0.75378 | val_0_accuracy: 0.62712 |  0:00:56s\n",
            "epoch 8  | loss: 0.74705 | val_0_accuracy: 0.63017 |  0:01:03s\n",
            "epoch 9  | loss: 0.73606 | val_0_accuracy: 0.63157 |  0:01:10s\n",
            "epoch 10 | loss: 0.7275  | val_0_accuracy: 0.63022 |  0:01:17s\n",
            "epoch 11 | loss: 0.72118 | val_0_accuracy: 0.63531 |  0:01:24s\n",
            "epoch 12 | loss: 0.71349 | val_0_accuracy: 0.63552 |  0:01:31s\n",
            "epoch 13 | loss: 0.70854 | val_0_accuracy: 0.63756 |  0:01:38s\n",
            "epoch 14 | loss: 0.70236 | val_0_accuracy: 0.63844 |  0:01:45s\n",
            "epoch 15 | loss: 0.70043 | val_0_accuracy: 0.6396  |  0:01:52s\n",
            "epoch 16 | loss: 0.6943  | val_0_accuracy: 0.64088 |  0:01:59s\n",
            "epoch 17 | loss: 0.69129 | val_0_accuracy: 0.64161 |  0:02:07s\n",
            "epoch 18 | loss: 0.68923 | val_0_accuracy: 0.64256 |  0:02:14s\n",
            "epoch 19 | loss: 0.68688 | val_0_accuracy: 0.64215 |  0:02:21s\n",
            "epoch 20 | loss: 0.684   | val_0_accuracy: 0.64241 |  0:02:28s\n",
            "epoch 21 | loss: 0.68247 | val_0_accuracy: 0.6426  |  0:02:36s\n",
            "epoch 22 | loss: 0.67667 | val_0_accuracy: 0.6435  |  0:02:43s\n",
            "epoch 23 | loss: 0.67613 | val_0_accuracy: 0.6453  |  0:02:50s\n",
            "epoch 24 | loss: 0.67411 | val_0_accuracy: 0.64518 |  0:02:57s\n",
            "epoch 25 | loss: 0.6714  | val_0_accuracy: 0.64407 |  0:03:04s\n",
            "epoch 26 | loss: 0.67011 | val_0_accuracy: 0.64559 |  0:03:12s\n",
            "epoch 27 | loss: 0.66855 | val_0_accuracy: 0.64585 |  0:03:19s\n",
            "epoch 28 | loss: 0.66787 | val_0_accuracy: 0.64566 |  0:03:26s\n",
            "epoch 29 | loss: 0.66628 | val_0_accuracy: 0.64682 |  0:03:33s\n",
            "epoch 30 | loss: 0.66585 | val_0_accuracy: 0.64639 |  0:03:40s\n",
            "epoch 31 | loss: 0.663   | val_0_accuracy: 0.64859 |  0:03:47s\n",
            "epoch 32 | loss: 0.66282 | val_0_accuracy: 0.64762 |  0:03:55s\n",
            "epoch 33 | loss: 0.66249 | val_0_accuracy: 0.6475  |  0:04:02s\n",
            "epoch 34 | loss: 0.66178 | val_0_accuracy: 0.64852 |  0:04:10s\n",
            "epoch 35 | loss: 0.66002 | val_0_accuracy: 0.64781 |  0:04:17s\n",
            "epoch 36 | loss: 0.65929 | val_0_accuracy: 0.64781 |  0:04:24s\n",
            "epoch 37 | loss: 0.65869 | val_0_accuracy: 0.64852 |  0:04:31s\n",
            "epoch 38 | loss: 0.65808 | val_0_accuracy: 0.64852 |  0:04:38s\n",
            "epoch 39 | loss: 0.6568  | val_0_accuracy: 0.64833 |  0:04:45s\n",
            "epoch 40 | loss: 0.65684 | val_0_accuracy: 0.64838 |  0:04:52s\n",
            "epoch 41 | loss: 0.65557 | val_0_accuracy: 0.64866 |  0:04:59s\n",
            "epoch 42 | loss: 0.65561 | val_0_accuracy: 0.64831 |  0:05:06s\n",
            "epoch 43 | loss: 0.65488 | val_0_accuracy: 0.64937 |  0:05:13s\n",
            "epoch 44 | loss: 0.65476 | val_0_accuracy: 0.64937 |  0:05:21s\n",
            "epoch 45 | loss: 0.65425 | val_0_accuracy: 0.64885 |  0:05:28s\n",
            "epoch 46 | loss: 0.65369 | val_0_accuracy: 0.64876 |  0:05:35s\n",
            "epoch 47 | loss: 0.65362 | val_0_accuracy: 0.64885 |  0:05:42s\n",
            "epoch 48 | loss: 0.65266 | val_0_accuracy: 0.6493  |  0:05:49s\n",
            "epoch 49 | loss: 0.65264 | val_0_accuracy: 0.64897 |  0:05:56s\n",
            "epoch 50 | loss: 0.65158 | val_0_accuracy: 0.6494  |  0:06:03s\n",
            "epoch 51 | loss: 0.65184 | val_0_accuracy: 0.64907 |  0:06:11s\n",
            "epoch 52 | loss: 0.65102 | val_0_accuracy: 0.64942 |  0:06:18s\n",
            "epoch 53 | loss: 0.65062 | val_0_accuracy: 0.64904 |  0:06:25s\n",
            "epoch 54 | loss: 0.65118 | val_0_accuracy: 0.64928 |  0:06:32s\n",
            "epoch 55 | loss: 0.65059 | val_0_accuracy: 0.64883 |  0:06:39s\n",
            "epoch 56 | loss: 0.64979 | val_0_accuracy: 0.6489  |  0:06:46s\n",
            "epoch 57 | loss: 0.65016 | val_0_accuracy: 0.64909 |  0:06:53s\n",
            "epoch 58 | loss: 0.64944 | val_0_accuracy: 0.64952 |  0:07:01s\n",
            "epoch 59 | loss: 0.64959 | val_0_accuracy: 0.64959 |  0:07:08s\n",
            "epoch 60 | loss: 0.64896 | val_0_accuracy: 0.64966 |  0:07:15s\n",
            "epoch 61 | loss: 0.64802 | val_0_accuracy: 0.64949 |  0:07:22s\n",
            "epoch 62 | loss: 0.64824 | val_0_accuracy: 0.65023 |  0:07:29s\n",
            "epoch 63 | loss: 0.64815 | val_0_accuracy: 0.6499  |  0:07:36s\n",
            "epoch 64 | loss: 0.64765 | val_0_accuracy: 0.6499  |  0:07:44s\n",
            "epoch 65 | loss: 0.64654 | val_0_accuracy: 0.65001 |  0:07:51s\n",
            "epoch 66 | loss: 0.64606 | val_0_accuracy: 0.64968 |  0:07:58s\n",
            "epoch 67 | loss: 0.64517 | val_0_accuracy: 0.64964 |  0:08:05s\n",
            "epoch 68 | loss: 0.64548 | val_0_accuracy: 0.64971 |  0:08:12s\n",
            "epoch 69 | loss: 0.64549 | val_0_accuracy: 0.64999 |  0:08:19s\n",
            "epoch 70 | loss: 0.6441  | val_0_accuracy: 0.64982 |  0:08:26s\n",
            "epoch 71 | loss: 0.64404 | val_0_accuracy: 0.65013 |  0:08:34s\n",
            "epoch 72 | loss: 0.64366 | val_0_accuracy: 0.65018 |  0:08:41s\n",
            "\n",
            "Early stopping occurred at epoch 72 with best_epoch = 62 and best_val_0_accuracy = 0.65023\n"
          ]
        },
        {
          "output_type": "stream",
          "name": "stderr",
          "text": [
            "/usr/local/lib/python3.11/dist-packages/pytorch_tabnet/callbacks.py:172: UserWarning: Best weights from best epoch are automatically used!\n",
            "  warnings.warn(wrn_msg)\n"
          ]
        },
        {
          "output_type": "stream",
          "name": "stdout",
          "text": [
            "Successfully saved model at tabnet_results/tabnet_model.zip.zip\n",
            "\n",
            "Test Metrics:\n",
            "Accuracy: 0.6478\n",
            "MCC: 0.0073\n"
          ]
        },
        {
          "output_type": "execute_result",
          "data": {
            "text/plain": [
              "{'Accuracy': 0.6478122928307605,\n",
              " 'Precision': 0.649363952546572,\n",
              " 'ROC AUC': np.float64(0.5573847906188387),\n",
              " 'Recall': 0.9943096844792997,\n",
              " 'F1': 0.7856412030031847,\n",
              " 'MCC': np.float64(0.007299945426484224)}"
            ]
          },
          "metadata": {},
          "execution_count": 32
        }
      ]
    },
    {
      "cell_type": "markdown",
      "source": [
        "#CARVEME-BC-V-50"
      ],
      "metadata": {
        "id": "KxvWAAokKEuG"
      }
    },
    {
      "cell_type": "code",
      "source": [
        "y_train[y_train == 3] = 1\n",
        "y_test[y_test == 3] = 1\n",
        "y_val[y_val == 3] = 1"
      ],
      "metadata": {
        "id": "sPwYBjjYU1pT"
      },
      "execution_count": null,
      "outputs": []
    },
    {
      "cell_type": "code",
      "source": [
        "train_and_evaluate_tabnet(X_train, y_train, X_val, y_val, X_test, y_test)"
      ],
      "metadata": {
        "id": "JFgO5PXNKE3z",
        "colab": {
          "base_uri": "https://localhost:8080/"
        },
        "outputId": "129c1592-9888-4bb5-9600-fe6606a8f5e9"
      },
      "execution_count": null,
      "outputs": [
        {
          "output_type": "stream",
          "name": "stderr",
          "text": [
            "/usr/local/lib/python3.11/dist-packages/pytorch_tabnet/abstract_model.py:82: UserWarning: Device used : cuda\n",
            "  warnings.warn(f\"Device used : {self.device}\")\n"
          ]
        },
        {
          "output_type": "stream",
          "name": "stdout",
          "text": [
            "epoch 0  | loss: 0.969   | val_0_accuracy: 0.56069 |  0:00:07s\n",
            "epoch 1  | loss: 0.91816 | val_0_accuracy: 0.55402 |  0:00:15s\n",
            "epoch 2  | loss: 0.87572 | val_0_accuracy: 0.5505  |  0:00:23s\n",
            "epoch 3  | loss: 0.84542 | val_0_accuracy: 0.56223 |  0:00:30s\n",
            "epoch 4  | loss: 0.8225  | val_0_accuracy: 0.5574  |  0:00:38s\n",
            "epoch 5  | loss: 0.80191 | val_0_accuracy: 0.56208 |  0:00:46s\n",
            "epoch 6  | loss: 0.7874  | val_0_accuracy: 0.56389 |  0:00:53s\n",
            "epoch 7  | loss: 0.77405 | val_0_accuracy: 0.56614 |  0:01:01s\n",
            "epoch 8  | loss: 0.76261 | val_0_accuracy: 0.56857 |  0:01:09s\n",
            "epoch 9  | loss: 0.75636 | val_0_accuracy: 0.56772 |  0:01:17s\n",
            "epoch 10 | loss: 0.74712 | val_0_accuracy: 0.57244 |  0:01:24s\n",
            "epoch 11 | loss: 0.73959 | val_0_accuracy: 0.57588 |  0:01:32s\n",
            "epoch 12 | loss: 0.73365 | val_0_accuracy: 0.57227 |  0:01:40s\n",
            "epoch 13 | loss: 0.72856 | val_0_accuracy: 0.57714 |  0:01:47s\n",
            "epoch 14 | loss: 0.72498 | val_0_accuracy: 0.57755 |  0:01:55s\n",
            "epoch 15 | loss: 0.7192  | val_0_accuracy: 0.57935 |  0:02:03s\n",
            "epoch 16 | loss: 0.71729 | val_0_accuracy: 0.58145 |  0:02:11s\n",
            "epoch 17 | loss: 0.71232 | val_0_accuracy: 0.58253 |  0:02:18s\n",
            "epoch 18 | loss: 0.70971 | val_0_accuracy: 0.58562 |  0:02:26s\n",
            "epoch 19 | loss: 0.70589 | val_0_accuracy: 0.58357 |  0:02:33s\n",
            "epoch 20 | loss: 0.70203 | val_0_accuracy: 0.58519 |  0:02:41s\n",
            "epoch 21 | loss: 0.70186 | val_0_accuracy: 0.58651 |  0:02:49s\n",
            "epoch 22 | loss: 0.6998  | val_0_accuracy: 0.58759 |  0:02:56s\n",
            "epoch 23 | loss: 0.69815 | val_0_accuracy: 0.58671 |  0:03:04s\n",
            "epoch 24 | loss: 0.69529 | val_0_accuracy: 0.5887  |  0:03:12s\n",
            "epoch 25 | loss: 0.69388 | val_0_accuracy: 0.58811 |  0:03:20s\n",
            "epoch 26 | loss: 0.69141 | val_0_accuracy: 0.58887 |  0:03:27s\n",
            "epoch 27 | loss: 0.69067 | val_0_accuracy: 0.58958 |  0:03:35s\n",
            "epoch 28 | loss: 0.6892  | val_0_accuracy: 0.59028 |  0:03:42s\n",
            "epoch 29 | loss: 0.6881  | val_0_accuracy: 0.59132 |  0:03:50s\n",
            "epoch 30 | loss: 0.68761 | val_0_accuracy: 0.59184 |  0:03:58s\n",
            "epoch 31 | loss: 0.68666 | val_0_accuracy: 0.59264 |  0:04:06s\n",
            "epoch 32 | loss: 0.68543 | val_0_accuracy: 0.59246 |  0:04:13s\n",
            "epoch 33 | loss: 0.68513 | val_0_accuracy: 0.59348 |  0:04:21s\n",
            "epoch 34 | loss: 0.68394 | val_0_accuracy: 0.59225 |  0:04:29s\n",
            "epoch 35 | loss: 0.68313 | val_0_accuracy: 0.59294 |  0:04:36s\n",
            "epoch 36 | loss: 0.68281 | val_0_accuracy: 0.59348 |  0:04:44s\n",
            "epoch 37 | loss: 0.68199 | val_0_accuracy: 0.59318 |  0:04:52s\n",
            "epoch 38 | loss: 0.68168 | val_0_accuracy: 0.59376 |  0:04:59s\n",
            "epoch 39 | loss: 0.68112 | val_0_accuracy: 0.59396 |  0:05:07s\n",
            "epoch 40 | loss: 0.68051 | val_0_accuracy: 0.59439 |  0:05:15s\n",
            "epoch 41 | loss: 0.67955 | val_0_accuracy: 0.59333 |  0:05:22s\n",
            "epoch 42 | loss: 0.68004 | val_0_accuracy: 0.59396 |  0:05:30s\n",
            "epoch 43 | loss: 0.67889 | val_0_accuracy: 0.59409 |  0:05:37s\n",
            "epoch 44 | loss: 0.67864 | val_0_accuracy: 0.59456 |  0:05:45s\n",
            "epoch 45 | loss: 0.67861 | val_0_accuracy: 0.59432 |  0:05:53s\n",
            "epoch 46 | loss: 0.67824 | val_0_accuracy: 0.59476 |  0:06:00s\n",
            "epoch 47 | loss: 0.67781 | val_0_accuracy: 0.59435 |  0:06:08s\n",
            "epoch 48 | loss: 0.67762 | val_0_accuracy: 0.59491 |  0:06:15s\n",
            "epoch 49 | loss: 0.67718 | val_0_accuracy: 0.59435 |  0:06:23s\n",
            "epoch 50 | loss: 0.6775  | val_0_accuracy: 0.59432 |  0:06:31s\n",
            "epoch 51 | loss: 0.67676 | val_0_accuracy: 0.59471 |  0:06:38s\n",
            "epoch 52 | loss: 0.67616 | val_0_accuracy: 0.59491 |  0:06:46s\n",
            "epoch 53 | loss: 0.67619 | val_0_accuracy: 0.59487 |  0:06:54s\n",
            "epoch 54 | loss: 0.67597 | val_0_accuracy: 0.59523 |  0:07:01s\n",
            "epoch 55 | loss: 0.67531 | val_0_accuracy: 0.59584 |  0:07:09s\n",
            "epoch 56 | loss: 0.67499 | val_0_accuracy: 0.59495 |  0:07:16s\n",
            "epoch 57 | loss: 0.67487 | val_0_accuracy: 0.59441 |  0:07:24s\n",
            "epoch 58 | loss: 0.67498 | val_0_accuracy: 0.59504 |  0:07:32s\n",
            "epoch 59 | loss: 0.67475 | val_0_accuracy: 0.59584 |  0:07:39s\n",
            "epoch 60 | loss: 0.67436 | val_0_accuracy: 0.59532 |  0:07:47s\n",
            "epoch 61 | loss: 0.67419 | val_0_accuracy: 0.594   |  0:07:54s\n",
            "epoch 62 | loss: 0.67361 | val_0_accuracy: 0.59556 |  0:08:02s\n",
            "epoch 63 | loss: 0.67297 | val_0_accuracy: 0.5951  |  0:08:09s\n",
            "epoch 64 | loss: 0.67339 | val_0_accuracy: 0.59541 |  0:08:17s\n",
            "epoch 65 | loss: 0.67299 | val_0_accuracy: 0.59586 |  0:08:25s\n",
            "epoch 66 | loss: 0.67249 | val_0_accuracy: 0.59599 |  0:08:32s\n",
            "epoch 67 | loss: 0.67215 | val_0_accuracy: 0.59578 |  0:08:40s\n",
            "epoch 68 | loss: 0.67105 | val_0_accuracy: 0.59558 |  0:08:47s\n",
            "epoch 69 | loss: 0.67127 | val_0_accuracy: 0.59565 |  0:08:55s\n",
            "epoch 70 | loss: 0.67078 | val_0_accuracy: 0.59642 |  0:09:03s\n",
            "epoch 71 | loss: 0.66962 | val_0_accuracy: 0.59521 |  0:09:10s\n",
            "epoch 72 | loss: 0.66921 | val_0_accuracy: 0.59565 |  0:09:18s\n",
            "epoch 73 | loss: 0.669   | val_0_accuracy: 0.59603 |  0:09:25s\n",
            "epoch 74 | loss: 0.66857 | val_0_accuracy: 0.59569 |  0:09:33s\n",
            "epoch 75 | loss: 0.66774 | val_0_accuracy: 0.59606 |  0:09:41s\n",
            "epoch 76 | loss: 0.667   | val_0_accuracy: 0.59612 |  0:09:48s\n",
            "epoch 77 | loss: 0.66674 | val_0_accuracy: 0.59673 |  0:09:55s\n",
            "epoch 78 | loss: 0.66571 | val_0_accuracy: 0.59794 |  0:10:03s\n",
            "epoch 79 | loss: 0.66471 | val_0_accuracy: 0.599   |  0:10:11s\n",
            "epoch 80 | loss: 0.66379 | val_0_accuracy: 0.60155 |  0:10:18s\n",
            "epoch 81 | loss: 0.66326 | val_0_accuracy: 0.60242 |  0:10:25s\n",
            "epoch 82 | loss: 0.6626  | val_0_accuracy: 0.60636 |  0:10:33s\n",
            "epoch 83 | loss: 0.66133 | val_0_accuracy: 0.60688 |  0:10:41s\n",
            "epoch 84 | loss: 0.66096 | val_0_accuracy: 0.60718 |  0:10:48s\n",
            "epoch 85 | loss: 0.65988 | val_0_accuracy: 0.6124  |  0:10:55s\n",
            "epoch 86 | loss: 0.65953 | val_0_accuracy: 0.61296 |  0:11:03s\n",
            "epoch 87 | loss: 0.65805 | val_0_accuracy: 0.61545 |  0:11:10s\n",
            "epoch 88 | loss: 0.65802 | val_0_accuracy: 0.61506 |  0:11:18s\n",
            "epoch 89 | loss: 0.65736 | val_0_accuracy: 0.61664 |  0:11:25s\n",
            "epoch 90 | loss: 0.65478 | val_0_accuracy: 0.61636 |  0:11:33s\n",
            "epoch 91 | loss: 0.65568 | val_0_accuracy: 0.61757 |  0:11:40s\n",
            "epoch 92 | loss: 0.65407 | val_0_accuracy: 0.61961 |  0:11:48s\n",
            "epoch 93 | loss: 0.65269 | val_0_accuracy: 0.61952 |  0:11:56s\n",
            "epoch 94 | loss: 0.65287 | val_0_accuracy: 0.61777 |  0:12:03s\n",
            "epoch 95 | loss: 0.65172 | val_0_accuracy: 0.61826 |  0:12:11s\n",
            "epoch 96 | loss: 0.65069 | val_0_accuracy: 0.61941 |  0:12:18s\n",
            "epoch 97 | loss: 0.6486  | val_0_accuracy: 0.62015 |  0:12:26s\n",
            "epoch 98 | loss: 0.6487  | val_0_accuracy: 0.62049 |  0:12:33s\n",
            "epoch 99 | loss: 0.64808 | val_0_accuracy: 0.62077 |  0:12:41s\n",
            "Stop training because you reached max_epochs = 100 with best_epoch = 99 and best_val_0_accuracy = 0.62077\n"
          ]
        },
        {
          "output_type": "stream",
          "name": "stderr",
          "text": [
            "/usr/local/lib/python3.11/dist-packages/pytorch_tabnet/callbacks.py:172: UserWarning: Best weights from best epoch are automatically used!\n",
            "  warnings.warn(wrn_msg)\n"
          ]
        },
        {
          "output_type": "stream",
          "name": "stdout",
          "text": [
            "Successfully saved model at tabnet_results/tabnet_model.zip.zip\n",
            "\n",
            "Test Metrics:\n",
            "Accuracy: 0.6181\n",
            "MCC: 0.1693\n"
          ]
        },
        {
          "output_type": "execute_result",
          "data": {
            "text/plain": [
              "{'Accuracy': 0.6181200354955306,\n",
              " 'Precision': 0.6433541898134612,\n",
              " 'ROC AUC': np.float64(0.637881262859509),\n",
              " 'Recall': 0.8016029143897996,\n",
              " 'F1': 0.7138130149873484,\n",
              " 'MCC': np.float64(0.1692667194503556)}"
            ]
          },
          "metadata": {},
          "execution_count": 38
        }
      ]
    }
  ]
}