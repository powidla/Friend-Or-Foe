{
  "cells": [
    {
      "cell_type": "markdown",
      "metadata": {
        "id": "HRiIgCx10ShA"
      },
      "source": [
        "<a target=\"_blank\" href=\"https://colab.research.google.com/github/yandex-research/rtdl-revisiting-models/blob/main/package/example.ipynb\">\n",
        "  <img src=\"https://colab.research.google.com/assets/colab-badge.svg\" alt=\"Open In Colab\"/>\n",
        "</a>\n",
        "\n",
        "---\n",
        "\n",
        "**See also** [RTDL](https://github.com/yandex-research/rtdl)\n",
        "-- **other projects on tabular deep learning**.\n",
        "\n",
        "---\n",
        "\n",
        "- This notebook provides a usage example of the\n",
        "  [rtdl_revisiting_models](https://github.com/yandex-research/rtdl-revisiting-models)\n",
        "  package.\n",
        "- Hyperparameters are not tuned and may be suboptimal."
      ]
    },
    {
      "cell_type": "code",
      "execution_count": null,
      "metadata": {
        "id": "0g1NmohU0ShB",
        "colab": {
          "base_uri": "https://localhost:8080/"
        },
        "outputId": "1a0897a7-ea10-4c9e-d30d-84c69efece78"
      },
      "outputs": [
        {
          "output_type": "stream",
          "name": "stdout",
          "text": [
            "Requirement already satisfied: delu in /usr/local/lib/python3.11/dist-packages (0.0.26)\n",
            "Requirement already satisfied: numpy<3,>=1.21 in /usr/local/lib/python3.11/dist-packages (from delu) (2.0.2)\n",
            "Requirement already satisfied: torch<3,>=1.9 in /usr/local/lib/python3.11/dist-packages (from delu) (2.6.0+cu124)\n",
            "Requirement already satisfied: filelock in /usr/local/lib/python3.11/dist-packages (from torch<3,>=1.9->delu) (3.18.0)\n",
            "Requirement already satisfied: typing-extensions>=4.10.0 in /usr/local/lib/python3.11/dist-packages (from torch<3,>=1.9->delu) (4.13.1)\n",
            "Requirement already satisfied: networkx in /usr/local/lib/python3.11/dist-packages (from torch<3,>=1.9->delu) (3.4.2)\n",
            "Requirement already satisfied: jinja2 in /usr/local/lib/python3.11/dist-packages (from torch<3,>=1.9->delu) (3.1.6)\n",
            "Requirement already satisfied: fsspec in /usr/local/lib/python3.11/dist-packages (from torch<3,>=1.9->delu) (2025.3.2)\n",
            "Requirement already satisfied: nvidia-cuda-nvrtc-cu12==12.4.127 in /usr/local/lib/python3.11/dist-packages (from torch<3,>=1.9->delu) (12.4.127)\n",
            "Requirement already satisfied: nvidia-cuda-runtime-cu12==12.4.127 in /usr/local/lib/python3.11/dist-packages (from torch<3,>=1.9->delu) (12.4.127)\n",
            "Requirement already satisfied: nvidia-cuda-cupti-cu12==12.4.127 in /usr/local/lib/python3.11/dist-packages (from torch<3,>=1.9->delu) (12.4.127)\n",
            "Requirement already satisfied: nvidia-cudnn-cu12==9.1.0.70 in /usr/local/lib/python3.11/dist-packages (from torch<3,>=1.9->delu) (9.1.0.70)\n",
            "Requirement already satisfied: nvidia-cublas-cu12==12.4.5.8 in /usr/local/lib/python3.11/dist-packages (from torch<3,>=1.9->delu) (12.4.5.8)\n",
            "Requirement already satisfied: nvidia-cufft-cu12==11.2.1.3 in /usr/local/lib/python3.11/dist-packages (from torch<3,>=1.9->delu) (11.2.1.3)\n",
            "Requirement already satisfied: nvidia-curand-cu12==10.3.5.147 in /usr/local/lib/python3.11/dist-packages (from torch<3,>=1.9->delu) (10.3.5.147)\n",
            "Requirement already satisfied: nvidia-cusolver-cu12==11.6.1.9 in /usr/local/lib/python3.11/dist-packages (from torch<3,>=1.9->delu) (11.6.1.9)\n",
            "Requirement already satisfied: nvidia-cusparse-cu12==12.3.1.170 in /usr/local/lib/python3.11/dist-packages (from torch<3,>=1.9->delu) (12.3.1.170)\n",
            "Requirement already satisfied: nvidia-cusparselt-cu12==0.6.2 in /usr/local/lib/python3.11/dist-packages (from torch<3,>=1.9->delu) (0.6.2)\n",
            "Requirement already satisfied: nvidia-nccl-cu12==2.21.5 in /usr/local/lib/python3.11/dist-packages (from torch<3,>=1.9->delu) (2.21.5)\n",
            "Requirement already satisfied: nvidia-nvtx-cu12==12.4.127 in /usr/local/lib/python3.11/dist-packages (from torch<3,>=1.9->delu) (12.4.127)\n",
            "Requirement already satisfied: nvidia-nvjitlink-cu12==12.4.127 in /usr/local/lib/python3.11/dist-packages (from torch<3,>=1.9->delu) (12.4.127)\n",
            "Requirement already satisfied: triton==3.2.0 in /usr/local/lib/python3.11/dist-packages (from torch<3,>=1.9->delu) (3.2.0)\n",
            "Requirement already satisfied: sympy==1.13.1 in /usr/local/lib/python3.11/dist-packages (from torch<3,>=1.9->delu) (1.13.1)\n",
            "Requirement already satisfied: mpmath<1.4,>=1.1.0 in /usr/local/lib/python3.11/dist-packages (from sympy==1.13.1->torch<3,>=1.9->delu) (1.3.0)\n",
            "Requirement already satisfied: MarkupSafe>=2.0 in /usr/local/lib/python3.11/dist-packages (from jinja2->torch<3,>=1.9->delu) (3.0.2)\n",
            "Requirement already satisfied: rtdl_revisiting_models in /usr/local/lib/python3.11/dist-packages (0.0.2)\n",
            "Requirement already satisfied: torch<3,>=1.8 in /usr/local/lib/python3.11/dist-packages (from rtdl_revisiting_models) (2.6.0+cu124)\n",
            "Requirement already satisfied: filelock in /usr/local/lib/python3.11/dist-packages (from torch<3,>=1.8->rtdl_revisiting_models) (3.18.0)\n",
            "Requirement already satisfied: typing-extensions>=4.10.0 in /usr/local/lib/python3.11/dist-packages (from torch<3,>=1.8->rtdl_revisiting_models) (4.13.1)\n",
            "Requirement already satisfied: networkx in /usr/local/lib/python3.11/dist-packages (from torch<3,>=1.8->rtdl_revisiting_models) (3.4.2)\n",
            "Requirement already satisfied: jinja2 in /usr/local/lib/python3.11/dist-packages (from torch<3,>=1.8->rtdl_revisiting_models) (3.1.6)\n",
            "Requirement already satisfied: fsspec in /usr/local/lib/python3.11/dist-packages (from torch<3,>=1.8->rtdl_revisiting_models) (2025.3.2)\n",
            "Requirement already satisfied: nvidia-cuda-nvrtc-cu12==12.4.127 in /usr/local/lib/python3.11/dist-packages (from torch<3,>=1.8->rtdl_revisiting_models) (12.4.127)\n",
            "Requirement already satisfied: nvidia-cuda-runtime-cu12==12.4.127 in /usr/local/lib/python3.11/dist-packages (from torch<3,>=1.8->rtdl_revisiting_models) (12.4.127)\n",
            "Requirement already satisfied: nvidia-cuda-cupti-cu12==12.4.127 in /usr/local/lib/python3.11/dist-packages (from torch<3,>=1.8->rtdl_revisiting_models) (12.4.127)\n",
            "Requirement already satisfied: nvidia-cudnn-cu12==9.1.0.70 in /usr/local/lib/python3.11/dist-packages (from torch<3,>=1.8->rtdl_revisiting_models) (9.1.0.70)\n",
            "Requirement already satisfied: nvidia-cublas-cu12==12.4.5.8 in /usr/local/lib/python3.11/dist-packages (from torch<3,>=1.8->rtdl_revisiting_models) (12.4.5.8)\n",
            "Requirement already satisfied: nvidia-cufft-cu12==11.2.1.3 in /usr/local/lib/python3.11/dist-packages (from torch<3,>=1.8->rtdl_revisiting_models) (11.2.1.3)\n",
            "Requirement already satisfied: nvidia-curand-cu12==10.3.5.147 in /usr/local/lib/python3.11/dist-packages (from torch<3,>=1.8->rtdl_revisiting_models) (10.3.5.147)\n",
            "Requirement already satisfied: nvidia-cusolver-cu12==11.6.1.9 in /usr/local/lib/python3.11/dist-packages (from torch<3,>=1.8->rtdl_revisiting_models) (11.6.1.9)\n",
            "Requirement already satisfied: nvidia-cusparse-cu12==12.3.1.170 in /usr/local/lib/python3.11/dist-packages (from torch<3,>=1.8->rtdl_revisiting_models) (12.3.1.170)\n",
            "Requirement already satisfied: nvidia-cusparselt-cu12==0.6.2 in /usr/local/lib/python3.11/dist-packages (from torch<3,>=1.8->rtdl_revisiting_models) (0.6.2)\n",
            "Requirement already satisfied: nvidia-nccl-cu12==2.21.5 in /usr/local/lib/python3.11/dist-packages (from torch<3,>=1.8->rtdl_revisiting_models) (2.21.5)\n",
            "Requirement already satisfied: nvidia-nvtx-cu12==12.4.127 in /usr/local/lib/python3.11/dist-packages (from torch<3,>=1.8->rtdl_revisiting_models) (12.4.127)\n",
            "Requirement already satisfied: nvidia-nvjitlink-cu12==12.4.127 in /usr/local/lib/python3.11/dist-packages (from torch<3,>=1.8->rtdl_revisiting_models) (12.4.127)\n",
            "Requirement already satisfied: triton==3.2.0 in /usr/local/lib/python3.11/dist-packages (from torch<3,>=1.8->rtdl_revisiting_models) (3.2.0)\n",
            "Requirement already satisfied: sympy==1.13.1 in /usr/local/lib/python3.11/dist-packages (from torch<3,>=1.8->rtdl_revisiting_models) (1.13.1)\n",
            "Requirement already satisfied: mpmath<1.4,>=1.1.0 in /usr/local/lib/python3.11/dist-packages (from sympy==1.13.1->torch<3,>=1.8->rtdl_revisiting_models) (1.3.0)\n",
            "Requirement already satisfied: MarkupSafe>=2.0 in /usr/local/lib/python3.11/dist-packages (from jinja2->torch<3,>=1.8->rtdl_revisiting_models) (3.0.2)\n"
          ]
        }
      ],
      "source": [
        "%pip install delu\n",
        "%pip install rtdl_revisiting_models"
      ]
    },
    {
      "cell_type": "code",
      "execution_count": null,
      "metadata": {
        "id": "7kBVKPcz0ShC"
      },
      "outputs": [],
      "source": [
        "# ruff: noqa: E402\n",
        "import math\n",
        "import warnings\n",
        "from typing import Dict, Literal\n",
        "\n",
        "warnings.simplefilter(\"ignore\")\n",
        "import delu  # Deep Learning Utilities: https://github.com/Yura52/delu\n",
        "import numpy as np\n",
        "import scipy.special\n",
        "import sklearn.datasets\n",
        "import sklearn.metrics\n",
        "import sklearn.model_selection\n",
        "import sklearn.preprocessing\n",
        "import torch\n",
        "import torch.nn.functional as F\n",
        "import torch.optim\n",
        "from torch import Tensor\n",
        "from tqdm.std import tqdm\n",
        "import pandas as pd\n",
        "\n",
        "warnings.resetwarnings()\n",
        "\n",
        "from rtdl_revisiting_models import MLP, ResNet, FTTransformer"
      ]
    },
    {
      "cell_type": "code",
      "execution_count": null,
      "metadata": {
        "id": "R9iTq04l0ShC",
        "outputId": "3595530e-d7fd-445f-ecb0-852a7489fbb8",
        "colab": {
          "base_uri": "https://localhost:8080/"
        }
      },
      "outputs": [
        {
          "output_type": "execute_result",
          "data": {
            "text/plain": [
              "0"
            ]
          },
          "metadata": {},
          "execution_count": 55
        }
      ],
      "source": [
        "device = torch.device(\"cuda\" if torch.cuda.is_available() else \"cpu\")\n",
        "# Set random seeds in all libraries.\n",
        "delu.random.seed(0)"
      ]
    },
    {
      "cell_type": "code",
      "source": [],
      "metadata": {
        "id": "gUQUg87O1zII"
      },
      "execution_count": null,
      "outputs": []
    },
    {
      "cell_type": "code",
      "source": [
        "from google.colab import drive\n",
        "drive.mount('/content/drive')"
      ],
      "metadata": {
        "colab": {
          "base_uri": "https://localhost:8080/"
        },
        "id": "HZqrBmMO1zXo",
        "outputId": "7c8b8a6c-f418-43dd-bac0-b3c1d1ae9788"
      },
      "execution_count": null,
      "outputs": [
        {
          "output_type": "stream",
          "name": "stdout",
          "text": [
            "Drive already mounted at /content/drive; to attempt to forcibly remount, call drive.mount(\"/content/drive\", force_remount=True).\n"
          ]
        }
      ]
    },
    {
      "cell_type": "markdown",
      "metadata": {
        "id": "71rnjRCD0ShD"
      },
      "source": [
        "## Dataset"
      ]
    },
    {
      "cell_type": "code",
      "execution_count": null,
      "metadata": {
        "id": "AVTgTASp0ShD"
      },
      "outputs": [],
      "source": [
        "# >>> Dataset.\n",
        "TaskType = Literal[\"regression\", \"binclass\", \"multiclass\"]\n",
        "\n",
        "task_type: TaskType = \"regression\"\n",
        "n_classes = None\n",
        "dataset = sklearn.datasets.fetch_california_housing()\n",
        "X_cont: np.ndarray = dataset[\"data\"]\n",
        "Y: np.ndarray = dataset[\"target\"]\n",
        "\n",
        "# NOTE: uncomment to solve a classification task.\n",
        "# n_classes = 2\n",
        "# assert n_classes >= 2\n",
        "# task_type: TaskType = 'binclass' if n_classes == 2 else 'multiclass'\n",
        "# X_cont, Y = sklearn.datasets.make_classification(\n",
        "#     n_samples=20000,\n",
        "#     n_features=8,\n",
        "#     n_classes=n_classes,\n",
        "#     n_informative=3,\n",
        "#     n_redundant=2,\n",
        "# )\n",
        "\n",
        "# >>> Continuous features.\n",
        "X_cont: np.ndarray = X_cont.astype(np.float32)\n",
        "n_cont_features = X_cont.shape[1]\n",
        "\n",
        "# >>> Categorical features.\n",
        "# NOTE: the above datasets do not have categorical features, but,\n",
        "# for the demonstration purposes, it is possible to generate them.\n",
        "cat_cardinalities = [\n",
        "    # NOTE: uncomment the two lines below to add two categorical features.\n",
        "    # 4,  # Allowed values: [0, 1, 2, 3].\n",
        "    # 7,  # Allowed values: [0, 1, 2, 3, 4, 5, 6].\n",
        "]\n",
        "X_cat = (\n",
        "    np.column_stack(\n",
        "        [np.random.randint(0, c, (len(X_cont),)) for c in cat_cardinalities]\n",
        "    )\n",
        "    if cat_cardinalities\n",
        "    else None\n",
        ")\n",
        "\n",
        "# >>> Labels.\n",
        "# Regression labels must be represented by float32.\n",
        "if task_type == \"regression\":\n",
        "    Y = Y.astype(np.float32)\n",
        "else:\n",
        "    assert n_classes is not None\n",
        "    Y = Y.astype(np.int64)\n",
        "    assert set(Y.tolist()) == set(\n",
        "        range(n_classes)\n",
        "    ), \"Classification labels must form the range [0, 1, ..., n_classes - 1]\"\n",
        "\n",
        "# >>> Split the dataset.\n",
        "all_idx = np.arange(len(Y))\n",
        "trainval_idx, test_idx = sklearn.model_selection.train_test_split(\n",
        "    all_idx, train_size=0.8\n",
        ")\n",
        "train_idx, val_idx = sklearn.model_selection.train_test_split(\n",
        "    trainval_idx, train_size=0.8\n",
        ")\n",
        "data_numpy = {\n",
        "    \"train\": {\"x_cont\": X_cont[train_idx], \"y\": Y[train_idx]},\n",
        "    \"val\": {\"x_cont\": X_cont[val_idx], \"y\": Y[val_idx]},\n",
        "    \"test\": {\"x_cont\": X_cont[test_idx], \"y\": Y[test_idx]},\n",
        "}\n",
        "if X_cat is not None:\n",
        "    data_numpy[\"train\"][\"x_cat\"] = X_cat[train_idx]\n",
        "    data_numpy[\"val\"][\"x_cat\"] = X_cat[val_idx]\n",
        "    data_numpy[\"test\"][\"x_cat\"] = X_cat[test_idx]"
      ]
    },
    {
      "cell_type": "markdown",
      "metadata": {
        "id": "8N__PKEK0ShD"
      },
      "source": [
        "## Preprocessing"
      ]
    },
    {
      "cell_type": "code",
      "execution_count": null,
      "metadata": {
        "id": "a4zkKPnt0ShD"
      },
      "outputs": [],
      "source": [
        "# >>> Feature preprocessing.\n",
        "# NOTE\n",
        "# The choice between preprocessing strategies depends on a task and a model.\n",
        "\n",
        "# (A) Simple preprocessing strategy.\n",
        "# preprocessing = sklearn.preprocessing.StandardScaler().fit(\n",
        "#     data_numpy['train']['x_cont']\n",
        "# )\n",
        "\n",
        "# (B) Fancy preprocessing strategy.\n",
        "# The noise is added to improve the output of QuantileTransformer in some cases.\n",
        "X_cont_train_numpy = data_numpy[\"train\"][\"x_cont\"]\n",
        "noise = (\n",
        "    np.random.default_rng(0)\n",
        "    .normal(0.0, 1e-5, X_cont_train_numpy.shape)\n",
        "    .astype(X_cont_train_numpy.dtype)\n",
        ")\n",
        "preprocessing = sklearn.preprocessing.QuantileTransformer(\n",
        "    n_quantiles=max(min(len(train_idx) // 30, 1000), 10),\n",
        "    output_distribution=\"normal\",\n",
        "    subsample=10**9,\n",
        ").fit(X_cont_train_numpy + noise)\n",
        "del X_cont_train_numpy\n",
        "\n",
        "for part in data_numpy:\n",
        "    data_numpy[part][\"x_cont\"] = preprocessing.transform(data_numpy[part][\"x_cont\"])\n",
        "\n",
        "# >>> Label preprocessing.\n",
        "if task_type == \"regression\":\n",
        "    Y_mean = data_numpy[\"train\"][\"y\"].mean().item()\n",
        "    Y_std = data_numpy[\"train\"][\"y\"].std().item()\n",
        "    for part in data_numpy:\n",
        "        data_numpy[part][\"y\"] = (data_numpy[part][\"y\"] - Y_mean) / Y_std\n",
        "\n",
        "# >>> Convert data to tensors.\n",
        "X_train = pd.read_csv(\"/content/drive/MyDrive/GR-II/AGORA/50/X_train_GR-II.csv\")\n",
        "X_val = pd.read_csv(\"/content/drive/MyDrive/GR-II/AGORA/50/X_val_GR-II.csv\")\n",
        "X_test = pd.read_csv(\"/content/drive/MyDrive/GR-II/AGORA/50/X_test_GR-II.csv\")\n",
        "y_train = pd.read_csv(\"/content/drive/MyDrive/GR-II/AGORA/50/y_train_GR-II.csv\")\n",
        "y_val = pd.read_csv(\"/content/drive/MyDrive/GR-II/AGORA/50/y_val_GR-II.csv\")\n",
        "y_test = pd.read_csv(\"/content/drive/MyDrive/GR-II/AGORA/50/y_test_GR-II.csv\")\n",
        "\n",
        "data_numpy = {\n",
        "    'train': {'x_cont': X_train.values, 'y': y_train.values},\n",
        "    'val': {'x_cont': X_val.values, 'y': y_val.values},\n",
        "    'test': {'x_cont': X_test.values, 'y': y_test.values},\n",
        "}\n",
        "\n",
        "data = {\n",
        "    part: {k: torch.as_tensor(v, device=device) for k, v in data_numpy[part].items()}\n",
        "    for part in data_numpy\n",
        "}\n",
        "\n",
        "if task_type != \"multiclass\":\n",
        "    # Required by F.binary_cross_entropy_with_logits\n",
        "    for part in data:\n",
        "        data[part][\"y\"] = data[part][\"y\"].float()"
      ]
    },
    {
      "cell_type": "markdown",
      "metadata": {
        "id": "LIt_OmIo0ShD"
      },
      "source": [
        "## Model"
      ]
    },
    {
      "cell_type": "code",
      "execution_count": null,
      "metadata": {
        "id": "TqE0A3Co0ShD"
      },
      "outputs": [],
      "source": [
        "# The output size.\n",
        "d_out = n_classes if task_type == \"multiclass\" else 1\n",
        "\n",
        "# # NOTE: uncomment to train MLP\n",
        "# model = MLP(\n",
        "#     d_in=n_cont_features + sum(cat_cardinalities),\n",
        "#     d_out=d_out,\n",
        "#     n_blocks=2,\n",
        "#     d_block=384,\n",
        "#     dropout=0.1,\n",
        "# ).to(device)\n",
        "# optimizer = torch.optim.AdamW(model.parameters(), lr=3e-4, weight_decay=1e-5)\n",
        "\n",
        "# # NOTE: uncomment to train ResNet\n",
        "# model = ResNet(\n",
        "#     d_in=n_cont_features + sum(cat_cardinalities),\n",
        "#     d_out=d_out,\n",
        "#     n_blocks=2,\n",
        "#     d_block=192,\n",
        "#     d_hidden=None,\n",
        "#     d_hidden_multiplier=2.0,\n",
        "#     dropout1=0.3,\n",
        "#     dropout2=0.0,\n",
        "# ).to(device)\n",
        "# optimizer = torch.optim.AdamW(model.parameters(), lr=3e-4, weight_decay=1e-5)\n",
        "\n",
        "model = FTTransformer(\n",
        "    n_cont_features=424,\n",
        "    cat_cardinalities=cat_cardinalities,\n",
        "    d_out=d_out,\n",
        "    **FTTransformer.get_default_kwargs(),\n",
        ").to(device)\n",
        "optimizer = model.make_default_optimizer()"
      ]
    },
    {
      "cell_type": "code",
      "source": [
        "import gc\n",
        "gc.collect()\n",
        "torch.cuda.empty_cache()"
      ],
      "metadata": {
        "id": "nHsd05BU2FfO"
      },
      "execution_count": null,
      "outputs": []
    },
    {
      "cell_type": "markdown",
      "metadata": {
        "id": "6tq31Y3X0ShD"
      },
      "source": [
        "## Training"
      ]
    },
    {
      "cell_type": "code",
      "execution_count": null,
      "metadata": {
        "id": "vdq77Gtf0ShE",
        "outputId": "4c82d804-c435-490d-fdd9-53923a19532e",
        "colab": {
          "base_uri": "https://localhost:8080/"
        }
      },
      "outputs": [
        {
          "output_type": "stream",
          "name": "stdout",
          "text": [
            "Test score before training: -77.5944\n"
          ]
        }
      ],
      "source": [
        "def apply_model(batch: Dict[str, Tensor]) -> Tensor:\n",
        "    if isinstance(model, (MLP, ResNet)):\n",
        "        x_cat_ohe = (\n",
        "            [\n",
        "                F.one_hot(column, cardinality)\n",
        "                for column, cardinality in zip(batch[\"x_cat\"].T, cat_cardinalities)\n",
        "            ]\n",
        "            if \"x_cat\" in batch\n",
        "            else []\n",
        "        )\n",
        "        return model(torch.column_stack([batch[\"x_cont\"]] + x_cat_ohe)).squeeze(-1)\n",
        "\n",
        "    elif isinstance(model, FTTransformer):\n",
        "        return model(batch[\"x_cont\"], batch.get(\"x_cat\")).squeeze(-1)\n",
        "\n",
        "    else:\n",
        "        raise RuntimeError(f\"Unknown model type: {type(model)}\")\n",
        "\n",
        "\n",
        "loss_fn = (\n",
        "    F.binary_cross_entropy_with_logits\n",
        "    if task_type == \"binclass\"\n",
        "    else F.cross_entropy\n",
        "    if task_type == \"multiclass\"\n",
        "    else F.mse_loss\n",
        ")\n",
        "\n",
        "\n",
        "@torch.no_grad()\n",
        "def evaluate(part: str) -> float:\n",
        "    model.eval()\n",
        "\n",
        "    eval_batch_size = 4\n",
        "    y_pred = (\n",
        "        torch.cat(\n",
        "            [\n",
        "                apply_model(batch)\n",
        "                for batch in delu.iter_batches(data[part], eval_batch_size)\n",
        "            ]\n",
        "        )\n",
        "        .cpu()\n",
        "        .numpy()\n",
        "    )\n",
        "    y_true = data[part][\"y\"].cpu().numpy()\n",
        "\n",
        "    if task_type == \"binclass\":\n",
        "        y_pred = np.round(scipy.special.expit(y_pred))\n",
        "        score = sklearn.metrics.accuracy_score(y_true, y_pred)\n",
        "    elif task_type == \"multiclass\":\n",
        "        y_pred = y_pred.argmax(1)\n",
        "        score = sklearn.metrics.accuracy_score(y_true, y_pred)\n",
        "    else:\n",
        "        assert task_type == \"regression\"\n",
        "        score = -(sklearn.metrics.mean_squared_error(y_true, y_pred) ** 0.5 * Y_std)\n",
        "    return score  # The higher -- the better.\n",
        "\n",
        "\n",
        "print(f'Test score before training: {evaluate(\"test\"):.4f}')"
      ]
    },
    {
      "cell_type": "code",
      "source": [
        "import json\n",
        "\n",
        "def calculate_and_save_metrics(part: str, save_path: str = \"final_metrics.json\"):\n",
        "    model.eval()\n",
        "    eval_batch_size = 256  # Much more memory-efficient\n",
        "\n",
        "    y_pred_list = []\n",
        "    y_true_list = []\n",
        "\n",
        "    with torch.no_grad():\n",
        "        for batch in delu.iter_batches(data[part], eval_batch_size):\n",
        "            preds = apply_model(batch).detach().cpu().numpy()\n",
        "            y_pred_list.append(preds)\n",
        "            y_true_list.append(batch[\"y\"].detach().cpu().numpy())\n",
        "\n",
        "    y_pred = np.concatenate(y_pred_list)\n",
        "    y_true = np.concatenate(y_true_list)\n",
        "\n",
        "    metrics = {}\n",
        "\n",
        "    if task_type == \"regression\":\n",
        "        y_pred_rescaled = y_pred * Y_std\n",
        "        y_true_rescaled = y_true * Y_std\n",
        "        metrics[\"rmse\"] = float(np.sqrt(sklearn.metrics.mean_squared_error(y_true_rescaled, y_pred_rescaled)))\n",
        "        metrics[\"mae\"] = float(sklearn.metrics.mean_absolute_error(y_true_rescaled, y_pred_rescaled))\n",
        "        metrics[\"r2\"] = float(sklearn.metrics.r2_score(y_true_rescaled, y_pred_rescaled))\n",
        "\n",
        "    elif task_type == \"binclass\":\n",
        "        probs = scipy.special.expit(y_pred)\n",
        "        preds = np.round(probs)\n",
        "        metrics[\"accuracy\"] = float(sklearn.metrics.accuracy_score(y_true, preds))\n",
        "        metrics[\"precision\"] = float(sklearn.metrics.precision_score(y_true, preds))\n",
        "        metrics[\"recall\"] = float(sklearn.metrics.recall_score(y_true, preds))\n",
        "        metrics[\"f1\"] = float(sklearn.metrics.f1_score(y_true, preds))\n",
        "        metrics[\"mcc\"] = float(sklearn.metrics.matthews_corrcoef(y_true, preds))\n",
        "        metrics[\"auc\"] = float(sklearn.metrics.roc_auc_score(y_true, probs))\n",
        "\n",
        "    elif task_type == \"multiclass\":\n",
        "        probs = y_pred\n",
        "        preds = probs.argmax(1)\n",
        "        metrics[\"accuracy\"] = float(sklearn.metrics.accuracy_score(y_true, preds))\n",
        "        metrics[\"precision\"] = float(sklearn.metrics.precision_score(y_true, preds, average=\"macro\"))\n",
        "        metrics[\"recall\"] = float(sklearn.metrics.recall_score(y_true, preds, average=\"macro\"))\n",
        "        metrics[\"f1\"] = float(sklearn.metrics.f1_score(y_true, preds, average=\"macro\"))\n",
        "        metrics[\"mcc\"] = float(sklearn.metrics.matthews_corrcoef(y_true, preds))\n",
        "        metrics[\"auc\"] = float(sklearn.metrics.roc_auc_score(y_true, probs, multi_class=\"ovr\"))\n",
        "\n",
        "    with open(save_path, \"w\") as f:\n",
        "        json.dump(metrics, f, indent=4)\n",
        "    return metrics"
      ],
      "metadata": {
        "id": "DpGcwipfHev1"
      },
      "execution_count": null,
      "outputs": []
    },
    {
      "cell_type": "code",
      "execution_count": null,
      "metadata": {
        "id": "I82C1rFx0ShE",
        "outputId": "61e0d729-5688-483c-c430-de94b06d9040",
        "colab": {
          "base_uri": "https://localhost:8080/"
        }
      },
      "outputs": [
        {
          "metadata": {
            "tags": null
          },
          "name": "stdout",
          "output_type": "stream",
          "text": [
            "Device: CUDA\n",
            "----------------------------------------------------------------------------------------\n",
            "\n"
          ]
        },
        {
          "metadata": {
            "tags": null
          },
          "name": "stderr",
          "output_type": "stream",
          "text": [
            "Epoch 0:   0%|          | 0/171 [00:00<?, ?it/s]<ipython-input-63-4e795f2cfc88>:29: UserWarning: Using a target size (torch.Size([256, 1])) that is different to the input size (torch.Size([256])). This will likely lead to incorrect results due to broadcasting. Please ensure they have the same size.\n",
            "  loss = loss_fn(apply_model(batch), batch[\"y\"])\n",
            "Epoch 0:  99%|█████████▉| 170/171 [00:24<00:00,  6.71it/s]<ipython-input-63-4e795f2cfc88>:29: UserWarning: Using a target size (torch.Size([133, 1])) that is different to the input size (torch.Size([133])). This will likely lead to incorrect results due to broadcasting. Please ensure they have the same size.\n",
            "  loss = loss_fn(apply_model(batch), batch[\"y\"])\n",
            "Epoch 0: 100%|██████████| 171/171 [00:24<00:00,  6.85it/s]\n"
          ]
        },
        {
          "metadata": {
            "tags": null
          },
          "name": "stdout",
          "output_type": "stream",
          "text": [
            "(val) -72.2723 (test) -71.6909 [time] 0:00:44.274975\n",
            "🌸 New best epoch! 🌸\n",
            "Saved model checkpoint to 'best_model.pt'\n"
          ]
        },
        {
          "metadata": {
            "tags": null
          },
          "name": "stderr",
          "output_type": "stream",
          "text": [
            "Epoch 1:   0%|          | 0/171 [00:00<?, ?it/s]<ipython-input-63-4e795f2cfc88>:29: UserWarning: Using a target size (torch.Size([256, 1])) that is different to the input size (torch.Size([256])). This will likely lead to incorrect results due to broadcasting. Please ensure they have the same size.\n",
            "  loss = loss_fn(apply_model(batch), batch[\"y\"])\n",
            "Epoch 1:  99%|█████████▉| 170/171 [00:24<00:00,  6.72it/s]<ipython-input-63-4e795f2cfc88>:29: UserWarning: Using a target size (torch.Size([133, 1])) that is different to the input size (torch.Size([133])). This will likely lead to incorrect results due to broadcasting. Please ensure they have the same size.\n",
            "  loss = loss_fn(apply_model(batch), batch[\"y\"])\n",
            "Epoch 1: 100%|██████████| 171/171 [00:24<00:00,  6.86it/s]\n"
          ]
        },
        {
          "metadata": {
            "tags": null
          },
          "name": "stdout",
          "output_type": "stream",
          "text": [
            "(val) -70.3951 (test) -69.8161 [time] 0:01:28.660878\n",
            "🌸 New best epoch! 🌸\n",
            "Saved model checkpoint to 'best_model.pt'\n"
          ]
        },
        {
          "metadata": {
            "tags": null
          },
          "name": "stderr",
          "output_type": "stream",
          "text": [
            "Epoch 2:   0%|          | 0/171 [00:00<?, ?it/s]<ipython-input-63-4e795f2cfc88>:29: UserWarning: Using a target size (torch.Size([256, 1])) that is different to the input size (torch.Size([256])). This will likely lead to incorrect results due to broadcasting. Please ensure they have the same size.\n",
            "  loss = loss_fn(apply_model(batch), batch[\"y\"])\n",
            "Epoch 2:  99%|█████████▉| 170/171 [00:24<00:00,  6.72it/s]<ipython-input-63-4e795f2cfc88>:29: UserWarning: Using a target size (torch.Size([133, 1])) that is different to the input size (torch.Size([133])). This will likely lead to incorrect results due to broadcasting. Please ensure they have the same size.\n",
            "  loss = loss_fn(apply_model(batch), batch[\"y\"])\n",
            "Epoch 2: 100%|██████████| 171/171 [00:24<00:00,  6.86it/s]\n"
          ]
        },
        {
          "metadata": {
            "tags": null
          },
          "name": "stdout",
          "output_type": "stream",
          "text": [
            "(val) -68.3805 (test) -67.8043 [time] 0:02:13.235441\n",
            "🌸 New best epoch! 🌸\n",
            "Saved model checkpoint to 'best_model.pt'\n"
          ]
        },
        {
          "metadata": {
            "tags": null
          },
          "name": "stderr",
          "output_type": "stream",
          "text": [
            "Epoch 3:   0%|          | 0/171 [00:00<?, ?it/s]<ipython-input-63-4e795f2cfc88>:29: UserWarning: Using a target size (torch.Size([256, 1])) that is different to the input size (torch.Size([256])). This will likely lead to incorrect results due to broadcasting. Please ensure they have the same size.\n",
            "  loss = loss_fn(apply_model(batch), batch[\"y\"])\n",
            "Epoch 3:  99%|█████████▉| 170/171 [00:24<00:00,  6.71it/s]<ipython-input-63-4e795f2cfc88>:29: UserWarning: Using a target size (torch.Size([133, 1])) that is different to the input size (torch.Size([133])). This will likely lead to incorrect results due to broadcasting. Please ensure they have the same size.\n",
            "  loss = loss_fn(apply_model(batch), batch[\"y\"])\n",
            "Epoch 3: 100%|██████████| 171/171 [00:24<00:00,  6.86it/s]\n"
          ]
        },
        {
          "metadata": {
            "tags": null
          },
          "name": "stdout",
          "output_type": "stream",
          "text": [
            "(val) -66.2592 (test) -65.6863 [time] 0:02:57.568919\n",
            "🌸 New best epoch! 🌸\n",
            "Saved model checkpoint to 'best_model.pt'\n"
          ]
        },
        {
          "metadata": {
            "tags": null
          },
          "name": "stderr",
          "output_type": "stream",
          "text": [
            "Epoch 4:   0%|          | 0/171 [00:00<?, ?it/s]<ipython-input-63-4e795f2cfc88>:29: UserWarning: Using a target size (torch.Size([256, 1])) that is different to the input size (torch.Size([256])). This will likely lead to incorrect results due to broadcasting. Please ensure they have the same size.\n",
            "  loss = loss_fn(apply_model(batch), batch[\"y\"])\n",
            "Epoch 4:  99%|█████████▉| 170/171 [00:24<00:00,  6.71it/s]<ipython-input-63-4e795f2cfc88>:29: UserWarning: Using a target size (torch.Size([133, 1])) that is different to the input size (torch.Size([133])). This will likely lead to incorrect results due to broadcasting. Please ensure they have the same size.\n",
            "  loss = loss_fn(apply_model(batch), batch[\"y\"])\n",
            "Epoch 4: 100%|██████████| 171/171 [00:24<00:00,  6.86it/s]\n"
          ]
        },
        {
          "metadata": {
            "tags": null
          },
          "name": "stdout",
          "output_type": "stream",
          "text": [
            "(val) -64.0562 (test) -63.4871 [time] 0:03:42.000805\n",
            "🌸 New best epoch! 🌸\n",
            "Saved model checkpoint to 'best_model.pt'\n"
          ]
        },
        {
          "metadata": {
            "tags": null
          },
          "name": "stderr",
          "output_type": "stream",
          "text": [
            "Epoch 5:   0%|          | 0/171 [00:00<?, ?it/s]<ipython-input-63-4e795f2cfc88>:29: UserWarning: Using a target size (torch.Size([256, 1])) that is different to the input size (torch.Size([256])). This will likely lead to incorrect results due to broadcasting. Please ensure they have the same size.\n",
            "  loss = loss_fn(apply_model(batch), batch[\"y\"])\n",
            "Epoch 5:  99%|█████████▉| 170/171 [00:24<00:00,  6.71it/s]<ipython-input-63-4e795f2cfc88>:29: UserWarning: Using a target size (torch.Size([133, 1])) that is different to the input size (torch.Size([133])). This will likely lead to incorrect results due to broadcasting. Please ensure they have the same size.\n",
            "  loss = loss_fn(apply_model(batch), batch[\"y\"])\n",
            "Epoch 5: 100%|██████████| 171/171 [00:24<00:00,  6.86it/s]\n"
          ]
        },
        {
          "metadata": {
            "tags": null
          },
          "name": "stdout",
          "output_type": "stream",
          "text": [
            "(val) -61.7827 (test) -61.2180 [time] 0:04:26.177425\n",
            "🌸 New best epoch! 🌸\n",
            "Saved model checkpoint to 'best_model.pt'\n"
          ]
        },
        {
          "metadata": {
            "tags": null
          },
          "name": "stderr",
          "output_type": "stream",
          "text": [
            "Epoch 6:   0%|          | 0/171 [00:00<?, ?it/s]<ipython-input-63-4e795f2cfc88>:29: UserWarning: Using a target size (torch.Size([256, 1])) that is different to the input size (torch.Size([256])). This will likely lead to incorrect results due to broadcasting. Please ensure they have the same size.\n",
            "  loss = loss_fn(apply_model(batch), batch[\"y\"])\n",
            "Epoch 6:  99%|█████████▉| 170/171 [00:24<00:00,  6.72it/s]<ipython-input-63-4e795f2cfc88>:29: UserWarning: Using a target size (torch.Size([133, 1])) that is different to the input size (torch.Size([133])). This will likely lead to incorrect results due to broadcasting. Please ensure they have the same size.\n",
            "  loss = loss_fn(apply_model(batch), batch[\"y\"])\n",
            "Epoch 6: 100%|██████████| 171/171 [00:24<00:00,  6.86it/s]\n"
          ]
        },
        {
          "metadata": {
            "tags": null
          },
          "name": "stdout",
          "output_type": "stream",
          "text": [
            "(val) -59.4642 (test) -58.9046 [time] 0:05:10.584537\n",
            "🌸 New best epoch! 🌸\n",
            "Saved model checkpoint to 'best_model.pt'\n"
          ]
        },
        {
          "metadata": {
            "tags": null
          },
          "name": "stderr",
          "output_type": "stream",
          "text": [
            "Epoch 7:   0%|          | 0/171 [00:00<?, ?it/s]<ipython-input-63-4e795f2cfc88>:29: UserWarning: Using a target size (torch.Size([256, 1])) that is different to the input size (torch.Size([256])). This will likely lead to incorrect results due to broadcasting. Please ensure they have the same size.\n",
            "  loss = loss_fn(apply_model(batch), batch[\"y\"])\n",
            "Epoch 7:  99%|█████████▉| 170/171 [00:24<00:00,  6.72it/s]<ipython-input-63-4e795f2cfc88>:29: UserWarning: Using a target size (torch.Size([133, 1])) that is different to the input size (torch.Size([133])). This will likely lead to incorrect results due to broadcasting. Please ensure they have the same size.\n",
            "  loss = loss_fn(apply_model(batch), batch[\"y\"])\n",
            "Epoch 7: 100%|██████████| 171/171 [00:24<00:00,  6.86it/s]\n"
          ]
        },
        {
          "metadata": {
            "tags": null
          },
          "name": "stdout",
          "output_type": "stream",
          "text": [
            "(val) -57.1092 (test) -56.5555 [time] 0:05:54.834167\n",
            "🌸 New best epoch! 🌸\n",
            "Saved model checkpoint to 'best_model.pt'\n"
          ]
        },
        {
          "metadata": {
            "tags": null
          },
          "name": "stderr",
          "output_type": "stream",
          "text": [
            "Epoch 8:   0%|          | 0/171 [00:00<?, ?it/s]<ipython-input-63-4e795f2cfc88>:29: UserWarning: Using a target size (torch.Size([256, 1])) that is different to the input size (torch.Size([256])). This will likely lead to incorrect results due to broadcasting. Please ensure they have the same size.\n",
            "  loss = loss_fn(apply_model(batch), batch[\"y\"])\n",
            "Epoch 8:  99%|█████████▉| 170/171 [00:24<00:00,  6.72it/s]<ipython-input-63-4e795f2cfc88>:29: UserWarning: Using a target size (torch.Size([133, 1])) that is different to the input size (torch.Size([133])). This will likely lead to incorrect results due to broadcasting. Please ensure they have the same size.\n",
            "  loss = loss_fn(apply_model(batch), batch[\"y\"])\n",
            "Epoch 8: 100%|██████████| 171/171 [00:24<00:00,  6.86it/s]\n"
          ]
        },
        {
          "metadata": {
            "tags": null
          },
          "name": "stdout",
          "output_type": "stream",
          "text": [
            "(val) -54.7331 (test) -54.1863 [time] 0:06:39.013476\n",
            "🌸 New best epoch! 🌸\n",
            "Saved model checkpoint to 'best_model.pt'\n"
          ]
        },
        {
          "metadata": {
            "tags": null
          },
          "name": "stderr",
          "output_type": "stream",
          "text": [
            "Epoch 9:   0%|          | 0/171 [00:00<?, ?it/s]<ipython-input-63-4e795f2cfc88>:29: UserWarning: Using a target size (torch.Size([256, 1])) that is different to the input size (torch.Size([256])). This will likely lead to incorrect results due to broadcasting. Please ensure they have the same size.\n",
            "  loss = loss_fn(apply_model(batch), batch[\"y\"])\n",
            "Epoch 9:  99%|█████████▉| 170/171 [00:24<00:00,  6.72it/s]<ipython-input-63-4e795f2cfc88>:29: UserWarning: Using a target size (torch.Size([133, 1])) that is different to the input size (torch.Size([133])). This will likely lead to incorrect results due to broadcasting. Please ensure they have the same size.\n",
            "  loss = loss_fn(apply_model(batch), batch[\"y\"])\n",
            "Epoch 9: 100%|██████████| 171/171 [00:24<00:00,  6.86it/s]\n"
          ]
        },
        {
          "metadata": {
            "tags": null
          },
          "name": "stdout",
          "output_type": "stream",
          "text": [
            "(val) -52.3555 (test) -51.8168 [time] 0:07:23.272996\n",
            "🌸 New best epoch! 🌸\n",
            "Saved model checkpoint to 'best_model.pt'\n"
          ]
        },
        {
          "metadata": {
            "tags": null
          },
          "name": "stderr",
          "output_type": "stream",
          "text": [
            "Epoch 10:   0%|          | 0/171 [00:00<?, ?it/s]<ipython-input-63-4e795f2cfc88>:29: UserWarning: Using a target size (torch.Size([256, 1])) that is different to the input size (torch.Size([256])). This will likely lead to incorrect results due to broadcasting. Please ensure they have the same size.\n",
            "  loss = loss_fn(apply_model(batch), batch[\"y\"])\n",
            "Epoch 10:  99%|█████████▉| 170/171 [00:24<00:00,  6.71it/s]<ipython-input-63-4e795f2cfc88>:29: UserWarning: Using a target size (torch.Size([133, 1])) that is different to the input size (torch.Size([133])). This will likely lead to incorrect results due to broadcasting. Please ensure they have the same size.\n",
            "  loss = loss_fn(apply_model(batch), batch[\"y\"])\n",
            "Epoch 10: 100%|██████████| 171/171 [00:24<00:00,  6.86it/s]\n"
          ]
        },
        {
          "metadata": {
            "tags": null
          },
          "name": "stdout",
          "output_type": "stream",
          "text": [
            "(val) -49.9931 (test) -49.4636 [time] 0:08:07.677394\n",
            "🌸 New best epoch! 🌸\n",
            "Saved model checkpoint to 'best_model.pt'\n"
          ]
        },
        {
          "metadata": {
            "tags": null
          },
          "name": "stderr",
          "output_type": "stream",
          "text": [
            "Epoch 11:   0%|          | 0/171 [00:00<?, ?it/s]<ipython-input-63-4e795f2cfc88>:29: UserWarning: Using a target size (torch.Size([256, 1])) that is different to the input size (torch.Size([256])). This will likely lead to incorrect results due to broadcasting. Please ensure they have the same size.\n",
            "  loss = loss_fn(apply_model(batch), batch[\"y\"])\n",
            "Epoch 11:  99%|█████████▉| 170/171 [00:24<00:00,  6.71it/s]<ipython-input-63-4e795f2cfc88>:29: UserWarning: Using a target size (torch.Size([133, 1])) that is different to the input size (torch.Size([133])). This will likely lead to incorrect results due to broadcasting. Please ensure they have the same size.\n",
            "  loss = loss_fn(apply_model(batch), batch[\"y\"])\n",
            "Epoch 11: 100%|██████████| 171/171 [00:24<00:00,  6.86it/s]\n"
          ]
        },
        {
          "metadata": {
            "tags": null
          },
          "name": "stdout",
          "output_type": "stream",
          "text": [
            "(val) -47.6616 (test) -47.1429 [time] 0:08:51.984878\n",
            "🌸 New best epoch! 🌸\n",
            "Saved model checkpoint to 'best_model.pt'\n"
          ]
        },
        {
          "metadata": {
            "tags": null
          },
          "name": "stderr",
          "output_type": "stream",
          "text": [
            "Epoch 12:   0%|          | 0/171 [00:00<?, ?it/s]<ipython-input-63-4e795f2cfc88>:29: UserWarning: Using a target size (torch.Size([256, 1])) that is different to the input size (torch.Size([256])). This will likely lead to incorrect results due to broadcasting. Please ensure they have the same size.\n",
            "  loss = loss_fn(apply_model(batch), batch[\"y\"])\n",
            "Epoch 12:  99%|█████████▉| 170/171 [00:24<00:00,  6.71it/s]<ipython-input-63-4e795f2cfc88>:29: UserWarning: Using a target size (torch.Size([133, 1])) that is different to the input size (torch.Size([133])). This will likely lead to incorrect results due to broadcasting. Please ensure they have the same size.\n",
            "  loss = loss_fn(apply_model(batch), batch[\"y\"])\n",
            "Epoch 12: 100%|██████████| 171/171 [00:24<00:00,  6.86it/s]\n"
          ]
        },
        {
          "metadata": {
            "tags": null
          },
          "name": "stdout",
          "output_type": "stream",
          "text": [
            "(val) -45.3820 (test) -44.8760 [time] 0:09:36.504745\n",
            "🌸 New best epoch! 🌸\n",
            "Saved model checkpoint to 'best_model.pt'\n"
          ]
        },
        {
          "metadata": {
            "tags": null
          },
          "name": "stderr",
          "output_type": "stream",
          "text": [
            "Epoch 13:   0%|          | 0/171 [00:00<?, ?it/s]<ipython-input-63-4e795f2cfc88>:29: UserWarning: Using a target size (torch.Size([256, 1])) that is different to the input size (torch.Size([256])). This will likely lead to incorrect results due to broadcasting. Please ensure they have the same size.\n",
            "  loss = loss_fn(apply_model(batch), batch[\"y\"])\n",
            "Epoch 13:  99%|█████████▉| 170/171 [00:24<00:00,  6.72it/s]<ipython-input-63-4e795f2cfc88>:29: UserWarning: Using a target size (torch.Size([133, 1])) that is different to the input size (torch.Size([133])). This will likely lead to incorrect results due to broadcasting. Please ensure they have the same size.\n",
            "  loss = loss_fn(apply_model(batch), batch[\"y\"])\n",
            "Epoch 13: 100%|██████████| 171/171 [00:24<00:00,  6.86it/s]\n"
          ]
        },
        {
          "metadata": {
            "tags": null
          },
          "name": "stdout",
          "output_type": "stream",
          "text": [
            "(val) -43.1742 (test) -42.6828 [time] 0:10:20.744426\n",
            "🌸 New best epoch! 🌸\n",
            "Saved model checkpoint to 'best_model.pt'\n"
          ]
        },
        {
          "metadata": {
            "tags": null
          },
          "name": "stderr",
          "output_type": "stream",
          "text": [
            "Epoch 14:   0%|          | 0/171 [00:00<?, ?it/s]<ipython-input-63-4e795f2cfc88>:29: UserWarning: Using a target size (torch.Size([256, 1])) that is different to the input size (torch.Size([256])). This will likely lead to incorrect results due to broadcasting. Please ensure they have the same size.\n",
            "  loss = loss_fn(apply_model(batch), batch[\"y\"])\n",
            "Epoch 14:  99%|█████████▉| 170/171 [00:24<00:00,  6.71it/s]<ipython-input-63-4e795f2cfc88>:29: UserWarning: Using a target size (torch.Size([133, 1])) that is different to the input size (torch.Size([133])). This will likely lead to incorrect results due to broadcasting. Please ensure they have the same size.\n",
            "  loss = loss_fn(apply_model(batch), batch[\"y\"])\n",
            "Epoch 14: 100%|██████████| 171/171 [00:24<00:00,  6.86it/s]\n"
          ]
        },
        {
          "metadata": {
            "tags": null
          },
          "name": "stdout",
          "output_type": "stream",
          "text": [
            "(val) -41.0556 (test) -40.5812 [time] 0:11:04.928238\n",
            "🌸 New best epoch! 🌸\n",
            "Saved model checkpoint to 'best_model.pt'\n"
          ]
        },
        {
          "metadata": {
            "tags": null
          },
          "name": "stderr",
          "output_type": "stream",
          "text": [
            "Epoch 15:   0%|          | 0/171 [00:00<?, ?it/s]<ipython-input-63-4e795f2cfc88>:29: UserWarning: Using a target size (torch.Size([256, 1])) that is different to the input size (torch.Size([256])). This will likely lead to incorrect results due to broadcasting. Please ensure they have the same size.\n",
            "  loss = loss_fn(apply_model(batch), batch[\"y\"])\n",
            "Epoch 15:  99%|█████████▉| 170/171 [00:24<00:00,  6.72it/s]<ipython-input-63-4e795f2cfc88>:29: UserWarning: Using a target size (torch.Size([133, 1])) that is different to the input size (torch.Size([133])). This will likely lead to incorrect results due to broadcasting. Please ensure they have the same size.\n",
            "  loss = loss_fn(apply_model(batch), batch[\"y\"])\n",
            "Epoch 15: 100%|██████████| 171/171 [00:24<00:00,  6.86it/s]\n"
          ]
        },
        {
          "metadata": {
            "tags": null
          },
          "name": "stdout",
          "output_type": "stream",
          "text": [
            "(val) -39.0524 (test) -38.5976 [time] 0:11:49.187067\n",
            "🌸 New best epoch! 🌸\n",
            "Saved model checkpoint to 'best_model.pt'\n"
          ]
        },
        {
          "metadata": {
            "tags": null
          },
          "name": "stderr",
          "output_type": "stream",
          "text": [
            "Epoch 16:   0%|          | 0/171 [00:00<?, ?it/s]<ipython-input-63-4e795f2cfc88>:29: UserWarning: Using a target size (torch.Size([256, 1])) that is different to the input size (torch.Size([256])). This will likely lead to incorrect results due to broadcasting. Please ensure they have the same size.\n",
            "  loss = loss_fn(apply_model(batch), batch[\"y\"])\n",
            "Epoch 16:  99%|█████████▉| 170/171 [00:24<00:00,  6.71it/s]<ipython-input-63-4e795f2cfc88>:29: UserWarning: Using a target size (torch.Size([133, 1])) that is different to the input size (torch.Size([133])). This will likely lead to incorrect results due to broadcasting. Please ensure they have the same size.\n",
            "  loss = loss_fn(apply_model(batch), batch[\"y\"])\n",
            "Epoch 16: 100%|██████████| 171/171 [00:24<00:00,  6.86it/s]\n"
          ]
        },
        {
          "metadata": {
            "tags": null
          },
          "name": "stdout",
          "output_type": "stream",
          "text": [
            "(val) -37.1780 (test) -36.7454 [time] 0:12:33.446876\n",
            "🌸 New best epoch! 🌸\n",
            "Saved model checkpoint to 'best_model.pt'\n"
          ]
        },
        {
          "metadata": {
            "tags": null
          },
          "name": "stderr",
          "output_type": "stream",
          "text": [
            "Epoch 17:   0%|          | 0/171 [00:00<?, ?it/s]<ipython-input-63-4e795f2cfc88>:29: UserWarning: Using a target size (torch.Size([256, 1])) that is different to the input size (torch.Size([256])). This will likely lead to incorrect results due to broadcasting. Please ensure they have the same size.\n",
            "  loss = loss_fn(apply_model(batch), batch[\"y\"])\n",
            "Epoch 17:  99%|█████████▉| 170/171 [00:24<00:00,  6.71it/s]<ipython-input-63-4e795f2cfc88>:29: UserWarning: Using a target size (torch.Size([133, 1])) that is different to the input size (torch.Size([133])). This will likely lead to incorrect results due to broadcasting. Please ensure they have the same size.\n",
            "  loss = loss_fn(apply_model(batch), batch[\"y\"])\n",
            "Epoch 17: 100%|██████████| 171/171 [00:24<00:00,  6.86it/s]\n"
          ]
        },
        {
          "metadata": {
            "tags": null
          },
          "name": "stdout",
          "output_type": "stream",
          "text": [
            "(val) -35.4533 (test) -35.0460 [time] 0:13:17.927576\n",
            "🌸 New best epoch! 🌸\n",
            "Saved model checkpoint to 'best_model.pt'\n"
          ]
        },
        {
          "metadata": {
            "tags": null
          },
          "name": "stderr",
          "output_type": "stream",
          "text": [
            "Epoch 18:   0%|          | 0/171 [00:00<?, ?it/s]<ipython-input-63-4e795f2cfc88>:29: UserWarning: Using a target size (torch.Size([256, 1])) that is different to the input size (torch.Size([256])). This will likely lead to incorrect results due to broadcasting. Please ensure they have the same size.\n",
            "  loss = loss_fn(apply_model(batch), batch[\"y\"])\n",
            "Epoch 18:  99%|█████████▉| 170/171 [00:24<00:00,  6.72it/s]<ipython-input-63-4e795f2cfc88>:29: UserWarning: Using a target size (torch.Size([133, 1])) that is different to the input size (torch.Size([133])). This will likely lead to incorrect results due to broadcasting. Please ensure they have the same size.\n",
            "  loss = loss_fn(apply_model(batch), batch[\"y\"])\n",
            "Epoch 18: 100%|██████████| 171/171 [00:24<00:00,  6.86it/s]\n"
          ]
        },
        {
          "metadata": {
            "tags": null
          },
          "name": "stdout",
          "output_type": "stream",
          "text": [
            "(val) -33.9037 (test) -33.5244 [time] 0:14:02.353799\n",
            "🌸 New best epoch! 🌸\n",
            "Saved model checkpoint to 'best_model.pt'\n"
          ]
        },
        {
          "metadata": {
            "tags": null
          },
          "name": "stderr",
          "output_type": "stream",
          "text": [
            "Epoch 19:   0%|          | 0/171 [00:00<?, ?it/s]<ipython-input-63-4e795f2cfc88>:29: UserWarning: Using a target size (torch.Size([256, 1])) that is different to the input size (torch.Size([256])). This will likely lead to incorrect results due to broadcasting. Please ensure they have the same size.\n",
            "  loss = loss_fn(apply_model(batch), batch[\"y\"])\n",
            "Epoch 19:  99%|█████████▉| 170/171 [00:24<00:00,  6.72it/s]<ipython-input-63-4e795f2cfc88>:29: UserWarning: Using a target size (torch.Size([133, 1])) that is different to the input size (torch.Size([133])). This will likely lead to incorrect results due to broadcasting. Please ensure they have the same size.\n",
            "  loss = loss_fn(apply_model(batch), batch[\"y\"])\n",
            "Epoch 19: 100%|██████████| 171/171 [00:24<00:00,  6.86it/s]\n"
          ]
        },
        {
          "metadata": {
            "tags": null
          },
          "name": "stdout",
          "output_type": "stream",
          "text": [
            "(val) -32.5290 (test) -32.1806 [time] 0:14:47.103877\n",
            "🌸 New best epoch! 🌸\n",
            "Saved model checkpoint to 'best_model.pt'\n"
          ]
        },
        {
          "metadata": {
            "tags": null
          },
          "name": "stderr",
          "output_type": "stream",
          "text": [
            "Epoch 20:   0%|          | 0/171 [00:00<?, ?it/s]<ipython-input-63-4e795f2cfc88>:29: UserWarning: Using a target size (torch.Size([256, 1])) that is different to the input size (torch.Size([256])). This will likely lead to incorrect results due to broadcasting. Please ensure they have the same size.\n",
            "  loss = loss_fn(apply_model(batch), batch[\"y\"])\n",
            "Epoch 20:  99%|█████████▉| 170/171 [00:24<00:00,  6.71it/s]<ipython-input-63-4e795f2cfc88>:29: UserWarning: Using a target size (torch.Size([133, 1])) that is different to the input size (torch.Size([133])). This will likely lead to incorrect results due to broadcasting. Please ensure they have the same size.\n",
            "  loss = loss_fn(apply_model(batch), batch[\"y\"])\n",
            "Epoch 20: 100%|██████████| 171/171 [00:24<00:00,  6.86it/s]\n"
          ]
        },
        {
          "metadata": {
            "tags": null
          },
          "name": "stdout",
          "output_type": "stream",
          "text": [
            "(val) -31.3480 (test) -31.0324 [time] 0:15:31.306862\n",
            "🌸 New best epoch! 🌸\n",
            "Saved model checkpoint to 'best_model.pt'\n"
          ]
        },
        {
          "metadata": {
            "tags": null
          },
          "name": "stderr",
          "output_type": "stream",
          "text": [
            "Epoch 21:   0%|          | 0/171 [00:00<?, ?it/s]<ipython-input-63-4e795f2cfc88>:29: UserWarning: Using a target size (torch.Size([256, 1])) that is different to the input size (torch.Size([256])). This will likely lead to incorrect results due to broadcasting. Please ensure they have the same size.\n",
            "  loss = loss_fn(apply_model(batch), batch[\"y\"])\n",
            "Epoch 21:  99%|█████████▉| 170/171 [00:24<00:00,  6.71it/s]<ipython-input-63-4e795f2cfc88>:29: UserWarning: Using a target size (torch.Size([133, 1])) that is different to the input size (torch.Size([133])). This will likely lead to incorrect results due to broadcasting. Please ensure they have the same size.\n",
            "  loss = loss_fn(apply_model(batch), batch[\"y\"])\n",
            "Epoch 21: 100%|██████████| 171/171 [00:24<00:00,  6.86it/s]\n"
          ]
        },
        {
          "metadata": {
            "tags": null
          },
          "name": "stdout",
          "output_type": "stream",
          "text": [
            "(val) -30.3576 (test) -30.0763 [time] 0:16:15.485176\n",
            "🌸 New best epoch! 🌸\n",
            "Saved model checkpoint to 'best_model.pt'\n"
          ]
        },
        {
          "metadata": {
            "tags": null
          },
          "name": "stderr",
          "output_type": "stream",
          "text": [
            "Epoch 22:   0%|          | 0/171 [00:00<?, ?it/s]<ipython-input-63-4e795f2cfc88>:29: UserWarning: Using a target size (torch.Size([256, 1])) that is different to the input size (torch.Size([256])). This will likely lead to incorrect results due to broadcasting. Please ensure they have the same size.\n",
            "  loss = loss_fn(apply_model(batch), batch[\"y\"])\n",
            "Epoch 22:  99%|█████████▉| 170/171 [00:24<00:00,  6.71it/s]<ipython-input-63-4e795f2cfc88>:29: UserWarning: Using a target size (torch.Size([133, 1])) that is different to the input size (torch.Size([133])). This will likely lead to incorrect results due to broadcasting. Please ensure they have the same size.\n",
            "  loss = loss_fn(apply_model(batch), batch[\"y\"])\n",
            "Epoch 22: 100%|██████████| 171/171 [00:24<00:00,  6.86it/s]\n"
          ]
        },
        {
          "metadata": {
            "tags": null
          },
          "name": "stdout",
          "output_type": "stream",
          "text": [
            "(val) -29.5489 (test) -29.3026 [time] 0:16:59.750378\n",
            "🌸 New best epoch! 🌸\n",
            "Saved model checkpoint to 'best_model.pt'\n"
          ]
        },
        {
          "metadata": {
            "tags": null
          },
          "name": "stderr",
          "output_type": "stream",
          "text": [
            "Epoch 23:   0%|          | 0/171 [00:00<?, ?it/s]<ipython-input-63-4e795f2cfc88>:29: UserWarning: Using a target size (torch.Size([256, 1])) that is different to the input size (torch.Size([256])). This will likely lead to incorrect results due to broadcasting. Please ensure they have the same size.\n",
            "  loss = loss_fn(apply_model(batch), batch[\"y\"])\n",
            "Epoch 23:  99%|█████████▉| 170/171 [00:24<00:00,  6.71it/s]<ipython-input-63-4e795f2cfc88>:29: UserWarning: Using a target size (torch.Size([133, 1])) that is different to the input size (torch.Size([133])). This will likely lead to incorrect results due to broadcasting. Please ensure they have the same size.\n",
            "  loss = loss_fn(apply_model(batch), batch[\"y\"])\n",
            "Epoch 23: 100%|██████████| 171/171 [00:24<00:00,  6.86it/s]\n"
          ]
        },
        {
          "metadata": {
            "tags": null
          },
          "name": "stdout",
          "output_type": "stream",
          "text": [
            "(val) -28.9140 (test) -28.7021 [time] 0:17:43.964760\n",
            "🌸 New best epoch! 🌸\n",
            "Saved model checkpoint to 'best_model.pt'\n"
          ]
        },
        {
          "metadata": {
            "tags": null
          },
          "name": "stderr",
          "output_type": "stream",
          "text": [
            "Epoch 24:   0%|          | 0/171 [00:00<?, ?it/s]<ipython-input-63-4e795f2cfc88>:29: UserWarning: Using a target size (torch.Size([256, 1])) that is different to the input size (torch.Size([256])). This will likely lead to incorrect results due to broadcasting. Please ensure they have the same size.\n",
            "  loss = loss_fn(apply_model(batch), batch[\"y\"])\n",
            "Epoch 24:  99%|█████████▉| 170/171 [00:24<00:00,  6.72it/s]<ipython-input-63-4e795f2cfc88>:29: UserWarning: Using a target size (torch.Size([133, 1])) that is different to the input size (torch.Size([133])). This will likely lead to incorrect results due to broadcasting. Please ensure they have the same size.\n",
            "  loss = loss_fn(apply_model(batch), batch[\"y\"])\n",
            "Epoch 24: 100%|██████████| 171/171 [00:24<00:00,  6.86it/s]\n"
          ]
        },
        {
          "metadata": {
            "tags": null
          },
          "name": "stdout",
          "output_type": "stream",
          "text": [
            "(val) -28.4364 (test) -28.2571 [time] 0:18:28.131032\n",
            "🌸 New best epoch! 🌸\n",
            "Saved model checkpoint to 'best_model.pt'\n"
          ]
        },
        {
          "metadata": {
            "tags": null
          },
          "name": "stderr",
          "output_type": "stream",
          "text": [
            "Epoch 25:   0%|          | 0/171 [00:00<?, ?it/s]<ipython-input-63-4e795f2cfc88>:29: UserWarning: Using a target size (torch.Size([256, 1])) that is different to the input size (torch.Size([256])). This will likely lead to incorrect results due to broadcasting. Please ensure they have the same size.\n",
            "  loss = loss_fn(apply_model(batch), batch[\"y\"])\n",
            "Epoch 25:  99%|█████████▉| 170/171 [00:24<00:00,  6.72it/s]<ipython-input-63-4e795f2cfc88>:29: UserWarning: Using a target size (torch.Size([133, 1])) that is different to the input size (torch.Size([133])). This will likely lead to incorrect results due to broadcasting. Please ensure they have the same size.\n",
            "  loss = loss_fn(apply_model(batch), batch[\"y\"])\n",
            "Epoch 25: 100%|██████████| 171/171 [00:24<00:00,  6.86it/s]\n"
          ]
        },
        {
          "metadata": {
            "tags": null
          },
          "name": "stdout",
          "output_type": "stream",
          "text": [
            "(val) -28.0882 (test) -27.9390 [time] 0:19:12.298963\n",
            "🌸 New best epoch! 🌸\n",
            "Saved model checkpoint to 'best_model.pt'\n"
          ]
        },
        {
          "metadata": {
            "tags": null
          },
          "name": "stderr",
          "output_type": "stream",
          "text": [
            "Epoch 26:   0%|          | 0/171 [00:00<?, ?it/s]<ipython-input-63-4e795f2cfc88>:29: UserWarning: Using a target size (torch.Size([256, 1])) that is different to the input size (torch.Size([256])). This will likely lead to incorrect results due to broadcasting. Please ensure they have the same size.\n",
            "  loss = loss_fn(apply_model(batch), batch[\"y\"])\n",
            "Epoch 26:  99%|█████████▉| 170/171 [00:24<00:00,  6.71it/s]<ipython-input-63-4e795f2cfc88>:29: UserWarning: Using a target size (torch.Size([133, 1])) that is different to the input size (torch.Size([133])). This will likely lead to incorrect results due to broadcasting. Please ensure they have the same size.\n",
            "  loss = loss_fn(apply_model(batch), batch[\"y\"])\n",
            "Epoch 26: 100%|██████████| 171/171 [00:24<00:00,  6.86it/s]\n"
          ]
        },
        {
          "metadata": {
            "tags": null
          },
          "name": "stdout",
          "output_type": "stream",
          "text": [
            "(val) -27.8442 (test) -27.7220 [time] 0:19:57.030334\n",
            "🌸 New best epoch! 🌸\n",
            "Saved model checkpoint to 'best_model.pt'\n"
          ]
        },
        {
          "metadata": {
            "tags": null
          },
          "name": "stderr",
          "output_type": "stream",
          "text": [
            "Epoch 27:   0%|          | 0/171 [00:00<?, ?it/s]<ipython-input-63-4e795f2cfc88>:29: UserWarning: Using a target size (torch.Size([256, 1])) that is different to the input size (torch.Size([256])). This will likely lead to incorrect results due to broadcasting. Please ensure they have the same size.\n",
            "  loss = loss_fn(apply_model(batch), batch[\"y\"])\n",
            "Epoch 27:  99%|█████████▉| 170/171 [00:24<00:00,  6.71it/s]<ipython-input-63-4e795f2cfc88>:29: UserWarning: Using a target size (torch.Size([133, 1])) that is different to the input size (torch.Size([133])). This will likely lead to incorrect results due to broadcasting. Please ensure they have the same size.\n",
            "  loss = loss_fn(apply_model(batch), batch[\"y\"])\n",
            "Epoch 27: 100%|██████████| 171/171 [00:24<00:00,  6.86it/s]\n"
          ]
        },
        {
          "metadata": {
            "tags": null
          },
          "name": "stdout",
          "output_type": "stream",
          "text": [
            "(val) -27.6821 (test) -27.5831 [time] 0:20:41.326320\n",
            "🌸 New best epoch! 🌸\n",
            "Saved model checkpoint to 'best_model.pt'\n"
          ]
        },
        {
          "metadata": {
            "tags": null
          },
          "name": "stderr",
          "output_type": "stream",
          "text": [
            "Epoch 28:   0%|          | 0/171 [00:00<?, ?it/s]<ipython-input-63-4e795f2cfc88>:29: UserWarning: Using a target size (torch.Size([256, 1])) that is different to the input size (torch.Size([256])). This will likely lead to incorrect results due to broadcasting. Please ensure they have the same size.\n",
            "  loss = loss_fn(apply_model(batch), batch[\"y\"])\n",
            "Epoch 28:  99%|█████████▉| 170/171 [00:24<00:00,  6.71it/s]<ipython-input-63-4e795f2cfc88>:29: UserWarning: Using a target size (torch.Size([133, 1])) that is different to the input size (torch.Size([133])). This will likely lead to incorrect results due to broadcasting. Please ensure they have the same size.\n",
            "  loss = loss_fn(apply_model(batch), batch[\"y\"])\n",
            "Epoch 28: 100%|██████████| 171/171 [00:24<00:00,  6.86it/s]\n"
          ]
        },
        {
          "metadata": {
            "tags": null
          },
          "name": "stdout",
          "output_type": "stream",
          "text": [
            "(val) -27.5786 (test) -27.4992 [time] 0:21:25.528614\n",
            "🌸 New best epoch! 🌸\n",
            "Saved model checkpoint to 'best_model.pt'\n"
          ]
        },
        {
          "metadata": {
            "tags": null
          },
          "name": "stderr",
          "output_type": "stream",
          "text": [
            "Epoch 29:   0%|          | 0/171 [00:00<?, ?it/s]<ipython-input-63-4e795f2cfc88>:29: UserWarning: Using a target size (torch.Size([256, 1])) that is different to the input size (torch.Size([256])). This will likely lead to incorrect results due to broadcasting. Please ensure they have the same size.\n",
            "  loss = loss_fn(apply_model(batch), batch[\"y\"])\n",
            "Epoch 29:  99%|█████████▉| 170/171 [00:24<00:00,  6.71it/s]<ipython-input-63-4e795f2cfc88>:29: UserWarning: Using a target size (torch.Size([133, 1])) that is different to the input size (torch.Size([133])). This will likely lead to incorrect results due to broadcasting. Please ensure they have the same size.\n",
            "  loss = loss_fn(apply_model(batch), batch[\"y\"])\n",
            "Epoch 29: 100%|██████████| 171/171 [00:24<00:00,  6.86it/s]\n"
          ]
        },
        {
          "metadata": {
            "tags": null
          },
          "name": "stdout",
          "output_type": "stream",
          "text": [
            "(val) -27.5163 (test) -27.4525 [time] 0:22:09.785705\n",
            "🌸 New best epoch! 🌸\n",
            "Saved model checkpoint to 'best_model.pt'\n"
          ]
        },
        {
          "metadata": {
            "tags": null
          },
          "name": "stderr",
          "output_type": "stream",
          "text": [
            "Epoch 30:   0%|          | 0/171 [00:00<?, ?it/s]<ipython-input-63-4e795f2cfc88>:29: UserWarning: Using a target size (torch.Size([256, 1])) that is different to the input size (torch.Size([256])). This will likely lead to incorrect results due to broadcasting. Please ensure they have the same size.\n",
            "  loss = loss_fn(apply_model(batch), batch[\"y\"])\n",
            "Epoch 30:  99%|█████████▉| 170/171 [00:24<00:00,  6.71it/s]<ipython-input-63-4e795f2cfc88>:29: UserWarning: Using a target size (torch.Size([133, 1])) that is different to the input size (torch.Size([133])). This will likely lead to incorrect results due to broadcasting. Please ensure they have the same size.\n",
            "  loss = loss_fn(apply_model(batch), batch[\"y\"])\n",
            "Epoch 30: 100%|██████████| 171/171 [00:24<00:00,  6.86it/s]\n"
          ]
        },
        {
          "metadata": {
            "tags": null
          },
          "name": "stdout",
          "output_type": "stream",
          "text": [
            "(val) -27.4812 (test) -27.4291 [time] 0:22:54.152755\n",
            "🌸 New best epoch! 🌸\n",
            "Saved model checkpoint to 'best_model.pt'\n"
          ]
        },
        {
          "metadata": {
            "tags": null
          },
          "name": "stderr",
          "output_type": "stream",
          "text": [
            "Epoch 31:   0%|          | 0/171 [00:00<?, ?it/s]<ipython-input-63-4e795f2cfc88>:29: UserWarning: Using a target size (torch.Size([256, 1])) that is different to the input size (torch.Size([256])). This will likely lead to incorrect results due to broadcasting. Please ensure they have the same size.\n",
            "  loss = loss_fn(apply_model(batch), batch[\"y\"])\n",
            "Epoch 31:  99%|█████████▉| 170/171 [00:24<00:00,  6.72it/s]<ipython-input-63-4e795f2cfc88>:29: UserWarning: Using a target size (torch.Size([133, 1])) that is different to the input size (torch.Size([133])). This will likely lead to incorrect results due to broadcasting. Please ensure they have the same size.\n",
            "  loss = loss_fn(apply_model(batch), batch[\"y\"])\n",
            "Epoch 31: 100%|██████████| 171/171 [00:24<00:00,  6.86it/s]\n"
          ]
        },
        {
          "metadata": {
            "tags": null
          },
          "name": "stdout",
          "output_type": "stream",
          "text": [
            "(val) -27.4608 (test) -27.4179 [time] 0:23:38.485433\n",
            "🌸 New best epoch! 🌸\n",
            "Saved model checkpoint to 'best_model.pt'\n"
          ]
        },
        {
          "metadata": {
            "tags": null
          },
          "name": "stderr",
          "output_type": "stream",
          "text": [
            "Epoch 32:   0%|          | 0/171 [00:00<?, ?it/s]<ipython-input-63-4e795f2cfc88>:29: UserWarning: Using a target size (torch.Size([256, 1])) that is different to the input size (torch.Size([256])). This will likely lead to incorrect results due to broadcasting. Please ensure they have the same size.\n",
            "  loss = loss_fn(apply_model(batch), batch[\"y\"])\n",
            "Epoch 32:  99%|█████████▉| 170/171 [00:24<00:00,  6.71it/s]<ipython-input-63-4e795f2cfc88>:29: UserWarning: Using a target size (torch.Size([133, 1])) that is different to the input size (torch.Size([133])). This will likely lead to incorrect results due to broadcasting. Please ensure they have the same size.\n",
            "  loss = loss_fn(apply_model(batch), batch[\"y\"])\n",
            "Epoch 32: 100%|██████████| 171/171 [00:24<00:00,  6.86it/s]\n"
          ]
        },
        {
          "metadata": {
            "tags": null
          },
          "name": "stdout",
          "output_type": "stream",
          "text": [
            "(val) -27.4496 (test) -27.4135 [time] 0:24:22.862514\n",
            "🌸 New best epoch! 🌸\n",
            "Saved model checkpoint to 'best_model.pt'\n"
          ]
        },
        {
          "metadata": {
            "tags": null
          },
          "name": "stderr",
          "output_type": "stream",
          "text": [
            "Epoch 33:   0%|          | 0/171 [00:00<?, ?it/s]<ipython-input-63-4e795f2cfc88>:29: UserWarning: Using a target size (torch.Size([256, 1])) that is different to the input size (torch.Size([256])). This will likely lead to incorrect results due to broadcasting. Please ensure they have the same size.\n",
            "  loss = loss_fn(apply_model(batch), batch[\"y\"])\n",
            "Epoch 33:  99%|█████████▉| 170/171 [00:24<00:00,  6.71it/s]<ipython-input-63-4e795f2cfc88>:29: UserWarning: Using a target size (torch.Size([133, 1])) that is different to the input size (torch.Size([133])). This will likely lead to incorrect results due to broadcasting. Please ensure they have the same size.\n",
            "  loss = loss_fn(apply_model(batch), batch[\"y\"])\n",
            "Epoch 33: 100%|██████████| 171/171 [00:24<00:00,  6.86it/s]\n"
          ]
        },
        {
          "metadata": {
            "tags": null
          },
          "name": "stdout",
          "output_type": "stream",
          "text": [
            "(val) -27.4441 (test) -27.4124 [time] 0:25:07.004205\n",
            "🌸 New best epoch! 🌸\n",
            "Saved model checkpoint to 'best_model.pt'\n"
          ]
        },
        {
          "metadata": {
            "tags": null
          },
          "name": "stderr",
          "output_type": "stream",
          "text": [
            "Epoch 34:   0%|          | 0/171 [00:00<?, ?it/s]<ipython-input-63-4e795f2cfc88>:29: UserWarning: Using a target size (torch.Size([256, 1])) that is different to the input size (torch.Size([256])). This will likely lead to incorrect results due to broadcasting. Please ensure they have the same size.\n",
            "  loss = loss_fn(apply_model(batch), batch[\"y\"])\n",
            "Epoch 34:  99%|█████████▉| 170/171 [00:24<00:00,  6.71it/s]<ipython-input-63-4e795f2cfc88>:29: UserWarning: Using a target size (torch.Size([133, 1])) that is different to the input size (torch.Size([133])). This will likely lead to incorrect results due to broadcasting. Please ensure they have the same size.\n",
            "  loss = loss_fn(apply_model(batch), batch[\"y\"])\n",
            "Epoch 34: 100%|██████████| 171/171 [00:24<00:00,  6.86it/s]\n"
          ]
        },
        {
          "metadata": {
            "tags": null
          },
          "name": "stdout",
          "output_type": "stream",
          "text": [
            "(val) -27.4413 (test) -27.4125 [time] 0:25:51.149501\n",
            "🌸 New best epoch! 🌸\n",
            "Saved model checkpoint to 'best_model.pt'\n"
          ]
        },
        {
          "metadata": {
            "tags": null
          },
          "name": "stderr",
          "output_type": "stream",
          "text": [
            "Epoch 35:   0%|          | 0/171 [00:00<?, ?it/s]<ipython-input-63-4e795f2cfc88>:29: UserWarning: Using a target size (torch.Size([256, 1])) that is different to the input size (torch.Size([256])). This will likely lead to incorrect results due to broadcasting. Please ensure they have the same size.\n",
            "  loss = loss_fn(apply_model(batch), batch[\"y\"])\n",
            "Epoch 35:  99%|█████████▉| 170/171 [00:24<00:00,  6.71it/s]<ipython-input-63-4e795f2cfc88>:29: UserWarning: Using a target size (torch.Size([133, 1])) that is different to the input size (torch.Size([133])). This will likely lead to incorrect results due to broadcasting. Please ensure they have the same size.\n",
            "  loss = loss_fn(apply_model(batch), batch[\"y\"])\n",
            "Epoch 35: 100%|██████████| 171/171 [00:24<00:00,  6.86it/s]\n"
          ]
        },
        {
          "metadata": {
            "tags": null
          },
          "name": "stdout",
          "output_type": "stream",
          "text": [
            "(val) -27.4400 (test) -27.4127 [time] 0:26:35.399644\n",
            "🌸 New best epoch! 🌸\n",
            "Saved model checkpoint to 'best_model.pt'\n"
          ]
        },
        {
          "metadata": {
            "tags": null
          },
          "name": "stderr",
          "output_type": "stream",
          "text": [
            "Epoch 36:   0%|          | 0/171 [00:00<?, ?it/s]<ipython-input-63-4e795f2cfc88>:29: UserWarning: Using a target size (torch.Size([256, 1])) that is different to the input size (torch.Size([256])). This will likely lead to incorrect results due to broadcasting. Please ensure they have the same size.\n",
            "  loss = loss_fn(apply_model(batch), batch[\"y\"])\n",
            "Epoch 36:  99%|█████████▉| 170/171 [00:24<00:00,  6.71it/s]<ipython-input-63-4e795f2cfc88>:29: UserWarning: Using a target size (torch.Size([133, 1])) that is different to the input size (torch.Size([133])). This will likely lead to incorrect results due to broadcasting. Please ensure they have the same size.\n",
            "  loss = loss_fn(apply_model(batch), batch[\"y\"])\n",
            "Epoch 36: 100%|██████████| 171/171 [00:24<00:00,  6.86it/s]\n"
          ]
        },
        {
          "metadata": {
            "tags": null
          },
          "name": "stdout",
          "output_type": "stream",
          "text": [
            "(val) -27.4387 (test) -27.4133 [time] 0:27:19.593718\n",
            "🌸 New best epoch! 🌸\n",
            "Saved model checkpoint to 'best_model.pt'\n"
          ]
        },
        {
          "metadata": {
            "tags": null
          },
          "name": "stderr",
          "output_type": "stream",
          "text": [
            "Epoch 37:   0%|          | 0/171 [00:00<?, ?it/s]<ipython-input-63-4e795f2cfc88>:29: UserWarning: Using a target size (torch.Size([256, 1])) that is different to the input size (torch.Size([256])). This will likely lead to incorrect results due to broadcasting. Please ensure they have the same size.\n",
            "  loss = loss_fn(apply_model(batch), batch[\"y\"])\n",
            "Epoch 37:  99%|█████████▉| 170/171 [00:24<00:00,  6.71it/s]<ipython-input-63-4e795f2cfc88>:29: UserWarning: Using a target size (torch.Size([133, 1])) that is different to the input size (torch.Size([133])). This will likely lead to incorrect results due to broadcasting. Please ensure they have the same size.\n",
            "  loss = loss_fn(apply_model(batch), batch[\"y\"])\n",
            "Epoch 37: 100%|██████████| 171/171 [00:24<00:00,  6.86it/s]\n"
          ]
        },
        {
          "metadata": {
            "tags": null
          },
          "name": "stdout",
          "output_type": "stream",
          "text": [
            "(val) -27.4381 (test) -27.4137 [time] 0:28:03.766850\n",
            "🌸 New best epoch! 🌸\n",
            "Saved model checkpoint to 'best_model.pt'\n"
          ]
        },
        {
          "metadata": {
            "tags": null
          },
          "name": "stderr",
          "output_type": "stream",
          "text": [
            "Epoch 38:   0%|          | 0/171 [00:00<?, ?it/s]<ipython-input-63-4e795f2cfc88>:29: UserWarning: Using a target size (torch.Size([256, 1])) that is different to the input size (torch.Size([256])). This will likely lead to incorrect results due to broadcasting. Please ensure they have the same size.\n",
            "  loss = loss_fn(apply_model(batch), batch[\"y\"])\n",
            "Epoch 38:  99%|█████████▉| 170/171 [00:24<00:00,  6.71it/s]<ipython-input-63-4e795f2cfc88>:29: UserWarning: Using a target size (torch.Size([133, 1])) that is different to the input size (torch.Size([133])). This will likely lead to incorrect results due to broadcasting. Please ensure they have the same size.\n",
            "  loss = loss_fn(apply_model(batch), batch[\"y\"])\n",
            "Epoch 38: 100%|██████████| 171/171 [00:24<00:00,  6.86it/s]\n"
          ]
        },
        {
          "metadata": {
            "tags": null
          },
          "name": "stdout",
          "output_type": "stream",
          "text": [
            "(val) -27.4378 (test) -27.4139 [time] 0:28:48.095722\n",
            "🌸 New best epoch! 🌸\n",
            "Saved model checkpoint to 'best_model.pt'\n"
          ]
        },
        {
          "metadata": {
            "tags": null
          },
          "name": "stderr",
          "output_type": "stream",
          "text": [
            "Epoch 39:   0%|          | 0/171 [00:00<?, ?it/s]<ipython-input-63-4e795f2cfc88>:29: UserWarning: Using a target size (torch.Size([256, 1])) that is different to the input size (torch.Size([256])). This will likely lead to incorrect results due to broadcasting. Please ensure they have the same size.\n",
            "  loss = loss_fn(apply_model(batch), batch[\"y\"])\n",
            "Epoch 39:  99%|█████████▉| 170/171 [00:24<00:00,  6.71it/s]<ipython-input-63-4e795f2cfc88>:29: UserWarning: Using a target size (torch.Size([133, 1])) that is different to the input size (torch.Size([133])). This will likely lead to incorrect results due to broadcasting. Please ensure they have the same size.\n",
            "  loss = loss_fn(apply_model(batch), batch[\"y\"])\n",
            "Epoch 39: 100%|██████████| 171/171 [00:24<00:00,  6.86it/s]\n"
          ]
        },
        {
          "metadata": {
            "tags": null
          },
          "name": "stdout",
          "output_type": "stream",
          "text": [
            "(val) -27.4378 (test) -27.4139 [time] 0:29:32.223948\n",
            "🌸 New best epoch! 🌸\n",
            "Saved model checkpoint to 'best_model.pt'\n"
          ]
        },
        {
          "metadata": {
            "tags": null
          },
          "name": "stderr",
          "output_type": "stream",
          "text": [
            "Epoch 40:   0%|          | 0/171 [00:00<?, ?it/s]<ipython-input-63-4e795f2cfc88>:29: UserWarning: Using a target size (torch.Size([256, 1])) that is different to the input size (torch.Size([256])). This will likely lead to incorrect results due to broadcasting. Please ensure they have the same size.\n",
            "  loss = loss_fn(apply_model(batch), batch[\"y\"])\n",
            "Epoch 40:  99%|█████████▉| 170/171 [00:24<00:00,  6.71it/s]<ipython-input-63-4e795f2cfc88>:29: UserWarning: Using a target size (torch.Size([133, 1])) that is different to the input size (torch.Size([133])). This will likely lead to incorrect results due to broadcasting. Please ensure they have the same size.\n",
            "  loss = loss_fn(apply_model(batch), batch[\"y\"])\n",
            "Epoch 40: 100%|██████████| 171/171 [00:24<00:00,  6.86it/s]\n"
          ]
        },
        {
          "metadata": {
            "tags": null
          },
          "name": "stdout",
          "output_type": "stream",
          "text": [
            "(val) -27.4380 (test) -27.4138 [time] 0:30:16.474860\n"
          ]
        },
        {
          "metadata": {
            "tags": null
          },
          "name": "stderr",
          "output_type": "stream",
          "text": [
            "Epoch 41:   0%|          | 0/171 [00:00<?, ?it/s]<ipython-input-63-4e795f2cfc88>:29: UserWarning: Using a target size (torch.Size([256, 1])) that is different to the input size (torch.Size([256])). This will likely lead to incorrect results due to broadcasting. Please ensure they have the same size.\n",
            "  loss = loss_fn(apply_model(batch), batch[\"y\"])\n",
            "Epoch 41:  99%|█████████▉| 170/171 [00:24<00:00,  6.71it/s]<ipython-input-63-4e795f2cfc88>:29: UserWarning: Using a target size (torch.Size([133, 1])) that is different to the input size (torch.Size([133])). This will likely lead to incorrect results due to broadcasting. Please ensure they have the same size.\n",
            "  loss = loss_fn(apply_model(batch), batch[\"y\"])\n",
            "Epoch 41: 100%|██████████| 171/171 [00:24<00:00,  6.86it/s]\n"
          ]
        },
        {
          "metadata": {
            "tags": null
          },
          "name": "stdout",
          "output_type": "stream",
          "text": [
            "(val) -27.4383 (test) -27.4135 [time] 0:31:00.974492\n"
          ]
        },
        {
          "metadata": {
            "tags": null
          },
          "name": "stderr",
          "output_type": "stream",
          "text": [
            "Epoch 42:   0%|          | 0/171 [00:00<?, ?it/s]<ipython-input-63-4e795f2cfc88>:29: UserWarning: Using a target size (torch.Size([256, 1])) that is different to the input size (torch.Size([256])). This will likely lead to incorrect results due to broadcasting. Please ensure they have the same size.\n",
            "  loss = loss_fn(apply_model(batch), batch[\"y\"])\n",
            "Epoch 42:  99%|█████████▉| 170/171 [00:24<00:00,  6.71it/s]<ipython-input-63-4e795f2cfc88>:29: UserWarning: Using a target size (torch.Size([133, 1])) that is different to the input size (torch.Size([133])). This will likely lead to incorrect results due to broadcasting. Please ensure they have the same size.\n",
            "  loss = loss_fn(apply_model(batch), batch[\"y\"])\n",
            "Epoch 42: 100%|██████████| 171/171 [00:24<00:00,  6.86it/s]\n"
          ]
        },
        {
          "metadata": {
            "tags": null
          },
          "name": "stdout",
          "output_type": "stream",
          "text": [
            "(val) -27.4377 (test) -27.4140 [time] 0:31:45.238397\n",
            "🌸 New best epoch! 🌸\n",
            "Saved model checkpoint to 'best_model.pt'\n"
          ]
        },
        {
          "metadata": {
            "tags": null
          },
          "name": "stderr",
          "output_type": "stream",
          "text": [
            "Epoch 43:   0%|          | 0/171 [00:00<?, ?it/s]<ipython-input-63-4e795f2cfc88>:29: UserWarning: Using a target size (torch.Size([256, 1])) that is different to the input size (torch.Size([256])). This will likely lead to incorrect results due to broadcasting. Please ensure they have the same size.\n",
            "  loss = loss_fn(apply_model(batch), batch[\"y\"])\n",
            "Epoch 43:  99%|█████████▉| 170/171 [00:24<00:00,  6.71it/s]<ipython-input-63-4e795f2cfc88>:29: UserWarning: Using a target size (torch.Size([133, 1])) that is different to the input size (torch.Size([133])). This will likely lead to incorrect results due to broadcasting. Please ensure they have the same size.\n",
            "  loss = loss_fn(apply_model(batch), batch[\"y\"])\n",
            "Epoch 43: 100%|██████████| 171/171 [00:24<00:00,  6.86it/s]\n"
          ]
        },
        {
          "metadata": {
            "tags": null
          },
          "name": "stdout",
          "output_type": "stream",
          "text": [
            "(val) -27.4386 (test) -27.4134 [time] 0:32:29.436177\n"
          ]
        },
        {
          "metadata": {
            "tags": null
          },
          "name": "stderr",
          "output_type": "stream",
          "text": [
            "Epoch 44:   0%|          | 0/171 [00:00<?, ?it/s]<ipython-input-63-4e795f2cfc88>:29: UserWarning: Using a target size (torch.Size([256, 1])) that is different to the input size (torch.Size([256])). This will likely lead to incorrect results due to broadcasting. Please ensure they have the same size.\n",
            "  loss = loss_fn(apply_model(batch), batch[\"y\"])\n",
            "Epoch 44:  99%|█████████▉| 170/171 [00:24<00:00,  6.71it/s]<ipython-input-63-4e795f2cfc88>:29: UserWarning: Using a target size (torch.Size([133, 1])) that is different to the input size (torch.Size([133])). This will likely lead to incorrect results due to broadcasting. Please ensure they have the same size.\n",
            "  loss = loss_fn(apply_model(batch), batch[\"y\"])\n",
            "Epoch 44: 100%|██████████| 171/171 [00:24<00:00,  6.86it/s]\n"
          ]
        },
        {
          "metadata": {
            "tags": null
          },
          "name": "stdout",
          "output_type": "stream",
          "text": [
            "(val) -27.4382 (test) -27.4136 [time] 0:33:13.611227\n"
          ]
        },
        {
          "metadata": {
            "tags": null
          },
          "name": "stderr",
          "output_type": "stream",
          "text": [
            "Epoch 45:   0%|          | 0/171 [00:00<?, ?it/s]<ipython-input-63-4e795f2cfc88>:29: UserWarning: Using a target size (torch.Size([256, 1])) that is different to the input size (torch.Size([256])). This will likely lead to incorrect results due to broadcasting. Please ensure they have the same size.\n",
            "  loss = loss_fn(apply_model(batch), batch[\"y\"])\n",
            "Epoch 45:  99%|█████████▉| 170/171 [00:24<00:00,  6.71it/s]<ipython-input-63-4e795f2cfc88>:29: UserWarning: Using a target size (torch.Size([133, 1])) that is different to the input size (torch.Size([133])). This will likely lead to incorrect results due to broadcasting. Please ensure they have the same size.\n",
            "  loss = loss_fn(apply_model(batch), batch[\"y\"])\n",
            "Epoch 45: 100%|██████████| 171/171 [00:24<00:00,  6.86it/s]\n"
          ]
        },
        {
          "metadata": {
            "tags": null
          },
          "name": "stdout",
          "output_type": "stream",
          "text": [
            "(val) -27.4378 (test) -27.4139 [time] 0:33:57.725066\n"
          ]
        },
        {
          "metadata": {
            "tags": null
          },
          "name": "stderr",
          "output_type": "stream",
          "text": [
            "Epoch 46:   0%|          | 0/171 [00:00<?, ?it/s]<ipython-input-63-4e795f2cfc88>:29: UserWarning: Using a target size (torch.Size([256, 1])) that is different to the input size (torch.Size([256])). This will likely lead to incorrect results due to broadcasting. Please ensure they have the same size.\n",
            "  loss = loss_fn(apply_model(batch), batch[\"y\"])\n",
            "Epoch 46:  99%|█████████▉| 170/171 [00:24<00:00,  6.71it/s]<ipython-input-63-4e795f2cfc88>:29: UserWarning: Using a target size (torch.Size([133, 1])) that is different to the input size (torch.Size([133])). This will likely lead to incorrect results due to broadcasting. Please ensure they have the same size.\n",
            "  loss = loss_fn(apply_model(batch), batch[\"y\"])\n",
            "Epoch 46: 100%|██████████| 171/171 [00:24<00:00,  6.86it/s]\n"
          ]
        },
        {
          "metadata": {
            "tags": null
          },
          "name": "stdout",
          "output_type": "stream",
          "text": [
            "(val) -27.4381 (test) -27.4137 [time] 0:34:41.823987\n"
          ]
        },
        {
          "metadata": {
            "tags": null
          },
          "name": "stderr",
          "output_type": "stream",
          "text": [
            "Epoch 47:   0%|          | 0/171 [00:00<?, ?it/s]<ipython-input-63-4e795f2cfc88>:29: UserWarning: Using a target size (torch.Size([256, 1])) that is different to the input size (torch.Size([256])). This will likely lead to incorrect results due to broadcasting. Please ensure they have the same size.\n",
            "  loss = loss_fn(apply_model(batch), batch[\"y\"])\n",
            "Epoch 47:  99%|█████████▉| 170/171 [00:24<00:00,  6.71it/s]<ipython-input-63-4e795f2cfc88>:29: UserWarning: Using a target size (torch.Size([133, 1])) that is different to the input size (torch.Size([133])). This will likely lead to incorrect results due to broadcasting. Please ensure they have the same size.\n",
            "  loss = loss_fn(apply_model(batch), batch[\"y\"])\n",
            "Epoch 47: 100%|██████████| 171/171 [00:24<00:00,  6.86it/s]\n"
          ]
        },
        {
          "metadata": {
            "tags": null
          },
          "name": "stdout",
          "output_type": "stream",
          "text": [
            "(val) -27.4383 (test) -27.4136 [time] 0:35:25.988319\n"
          ]
        },
        {
          "metadata": {
            "tags": null
          },
          "name": "stderr",
          "output_type": "stream",
          "text": [
            "Epoch 48:   0%|          | 0/171 [00:00<?, ?it/s]<ipython-input-63-4e795f2cfc88>:29: UserWarning: Using a target size (torch.Size([256, 1])) that is different to the input size (torch.Size([256])). This will likely lead to incorrect results due to broadcasting. Please ensure they have the same size.\n",
            "  loss = loss_fn(apply_model(batch), batch[\"y\"])\n",
            "Epoch 48:  99%|█████████▉| 170/171 [00:24<00:00,  6.72it/s]<ipython-input-63-4e795f2cfc88>:29: UserWarning: Using a target size (torch.Size([133, 1])) that is different to the input size (torch.Size([133])). This will likely lead to incorrect results due to broadcasting. Please ensure they have the same size.\n",
            "  loss = loss_fn(apply_model(batch), batch[\"y\"])\n",
            "Epoch 48: 100%|██████████| 171/171 [00:24<00:00,  6.86it/s]\n"
          ]
        },
        {
          "metadata": {
            "tags": null
          },
          "name": "stdout",
          "output_type": "stream",
          "text": [
            "(val) -27.4388 (test) -27.4132 [time] 0:36:10.215815\n"
          ]
        },
        {
          "metadata": {
            "tags": null
          },
          "name": "stderr",
          "output_type": "stream",
          "text": [
            "Epoch 49:   0%|          | 0/171 [00:00<?, ?it/s]<ipython-input-63-4e795f2cfc88>:29: UserWarning: Using a target size (torch.Size([256, 1])) that is different to the input size (torch.Size([256])). This will likely lead to incorrect results due to broadcasting. Please ensure they have the same size.\n",
            "  loss = loss_fn(apply_model(batch), batch[\"y\"])\n",
            "Epoch 49:  99%|█████████▉| 170/171 [00:24<00:00,  6.72it/s]<ipython-input-63-4e795f2cfc88>:29: UserWarning: Using a target size (torch.Size([133, 1])) that is different to the input size (torch.Size([133])). This will likely lead to incorrect results due to broadcasting. Please ensure they have the same size.\n",
            "  loss = loss_fn(apply_model(batch), batch[\"y\"])\n",
            "Epoch 49: 100%|██████████| 171/171 [00:24<00:00,  6.86it/s]\n"
          ]
        },
        {
          "metadata": {
            "tags": null
          },
          "name": "stdout",
          "output_type": "stream",
          "text": [
            "(val) -27.4374 (test) -27.4143 [time] 0:36:54.612278\n",
            "🌸 New best epoch! 🌸\n",
            "Saved model checkpoint to 'best_model.pt'\n"
          ]
        },
        {
          "output_type": "stream",
          "name": "stderr",
          "text": [
            "Epoch 50:   0%|          | 0/171 [00:00<?, ?it/s]<ipython-input-63-4e795f2cfc88>:29: UserWarning: Using a target size (torch.Size([256, 1])) that is different to the input size (torch.Size([256])). This will likely lead to incorrect results due to broadcasting. Please ensure they have the same size.\n",
            "  loss = loss_fn(apply_model(batch), batch[\"y\"])\n",
            "Epoch 50:  99%|█████████▉| 170/171 [00:24<00:00,  6.71it/s]<ipython-input-63-4e795f2cfc88>:29: UserWarning: Using a target size (torch.Size([133, 1])) that is different to the input size (torch.Size([133])). This will likely lead to incorrect results due to broadcasting. Please ensure they have the same size.\n",
            "  loss = loss_fn(apply_model(batch), batch[\"y\"])\n",
            "Epoch 50: 100%|██████████| 171/171 [00:24<00:00,  6.86it/s]\n"
          ]
        },
        {
          "output_type": "stream",
          "name": "stdout",
          "text": [
            "(val) -27.4374 (test) -27.4144 [time] 0:37:38.847771\n",
            "🌸 New best epoch! 🌸\n",
            "Saved model checkpoint to 'best_model.pt'\n"
          ]
        },
        {
          "output_type": "stream",
          "name": "stderr",
          "text": [
            "\rEpoch 51:   0%|          | 0/171 [00:00<?, ?it/s]<ipython-input-63-4e795f2cfc88>:29: UserWarning: Using a target size (torch.Size([256, 1])) that is different to the input size (torch.Size([256])). This will likely lead to incorrect results due to broadcasting. Please ensure they have the same size.\n",
            "  loss = loss_fn(apply_model(batch), batch[\"y\"])\n",
            "Epoch 51:  99%|█████████▉| 170/171 [00:24<00:00,  6.71it/s]<ipython-input-63-4e795f2cfc88>:29: UserWarning: Using a target size (torch.Size([133, 1])) that is different to the input size (torch.Size([133])). This will likely lead to incorrect results due to broadcasting. Please ensure they have the same size.\n",
            "  loss = loss_fn(apply_model(batch), batch[\"y\"])\n",
            "Epoch 51: 100%|██████████| 171/171 [00:24<00:00,  6.86it/s]\n"
          ]
        },
        {
          "output_type": "stream",
          "name": "stdout",
          "text": [
            "(val) -27.4376 (test) -27.4141 [time] 0:38:23.240970\n"
          ]
        },
        {
          "output_type": "stream",
          "name": "stderr",
          "text": [
            "\rEpoch 52:   0%|          | 0/171 [00:00<?, ?it/s]<ipython-input-63-4e795f2cfc88>:29: UserWarning: Using a target size (torch.Size([256, 1])) that is different to the input size (torch.Size([256])). This will likely lead to incorrect results due to broadcasting. Please ensure they have the same size.\n",
            "  loss = loss_fn(apply_model(batch), batch[\"y\"])\n",
            "Epoch 52:  99%|█████████▉| 170/171 [00:24<00:00,  6.71it/s]<ipython-input-63-4e795f2cfc88>:29: UserWarning: Using a target size (torch.Size([133, 1])) that is different to the input size (torch.Size([133])). This will likely lead to incorrect results due to broadcasting. Please ensure they have the same size.\n",
            "  loss = loss_fn(apply_model(batch), batch[\"y\"])\n",
            "Epoch 52: 100%|██████████| 171/171 [00:24<00:00,  6.86it/s]\n"
          ]
        },
        {
          "output_type": "stream",
          "name": "stdout",
          "text": [
            "(val) -27.4390 (test) -27.4131 [time] 0:39:07.710713\n"
          ]
        },
        {
          "output_type": "stream",
          "name": "stderr",
          "text": [
            "Epoch 53:   0%|          | 0/171 [00:00<?, ?it/s]<ipython-input-63-4e795f2cfc88>:29: UserWarning: Using a target size (torch.Size([256, 1])) that is different to the input size (torch.Size([256])). This will likely lead to incorrect results due to broadcasting. Please ensure they have the same size.\n",
            "  loss = loss_fn(apply_model(batch), batch[\"y\"])\n",
            "Epoch 53:  99%|█████████▉| 170/171 [00:24<00:00,  6.71it/s]<ipython-input-63-4e795f2cfc88>:29: UserWarning: Using a target size (torch.Size([133, 1])) that is different to the input size (torch.Size([133])). This will likely lead to incorrect results due to broadcasting. Please ensure they have the same size.\n",
            "  loss = loss_fn(apply_model(batch), batch[\"y\"])\n",
            "Epoch 53: 100%|██████████| 171/171 [00:24<00:00,  6.86it/s]\n"
          ]
        },
        {
          "output_type": "stream",
          "name": "stdout",
          "text": [
            "(val) -27.4378 (test) -27.4139 [time] 0:39:51.881012\n"
          ]
        },
        {
          "output_type": "stream",
          "name": "stderr",
          "text": [
            "\rEpoch 54:   0%|          | 0/171 [00:00<?, ?it/s]<ipython-input-63-4e795f2cfc88>:29: UserWarning: Using a target size (torch.Size([256, 1])) that is different to the input size (torch.Size([256])). This will likely lead to incorrect results due to broadcasting. Please ensure they have the same size.\n",
            "  loss = loss_fn(apply_model(batch), batch[\"y\"])\n",
            "Epoch 54:  99%|█████████▉| 170/171 [00:24<00:00,  6.71it/s]<ipython-input-63-4e795f2cfc88>:29: UserWarning: Using a target size (torch.Size([133, 1])) that is different to the input size (torch.Size([133])). This will likely lead to incorrect results due to broadcasting. Please ensure they have the same size.\n",
            "  loss = loss_fn(apply_model(batch), batch[\"y\"])\n",
            "Epoch 54: 100%|██████████| 171/171 [00:24<00:00,  6.86it/s]\n"
          ]
        },
        {
          "output_type": "stream",
          "name": "stdout",
          "text": [
            "(val) -27.4370 (test) -27.4148 [time] 0:40:36.218296\n",
            "🌸 New best epoch! 🌸\n",
            "Saved model checkpoint to 'best_model.pt'\n"
          ]
        },
        {
          "output_type": "stream",
          "name": "stderr",
          "text": [
            "\rEpoch 55:   0%|          | 0/171 [00:00<?, ?it/s]<ipython-input-63-4e795f2cfc88>:29: UserWarning: Using a target size (torch.Size([256, 1])) that is different to the input size (torch.Size([256])). This will likely lead to incorrect results due to broadcasting. Please ensure they have the same size.\n",
            "  loss = loss_fn(apply_model(batch), batch[\"y\"])\n",
            "Epoch 55:  99%|█████████▉| 170/171 [00:24<00:00,  6.71it/s]<ipython-input-63-4e795f2cfc88>:29: UserWarning: Using a target size (torch.Size([133, 1])) that is different to the input size (torch.Size([133])). This will likely lead to incorrect results due to broadcasting. Please ensure they have the same size.\n",
            "  loss = loss_fn(apply_model(batch), batch[\"y\"])\n",
            "Epoch 55: 100%|██████████| 171/171 [00:24<00:00,  6.86it/s]\n"
          ]
        },
        {
          "output_type": "stream",
          "name": "stdout",
          "text": [
            "(val) -27.4374 (test) -27.4144 [time] 0:41:20.484016\n"
          ]
        },
        {
          "output_type": "stream",
          "name": "stderr",
          "text": [
            "\rEpoch 56:   0%|          | 0/171 [00:00<?, ?it/s]<ipython-input-63-4e795f2cfc88>:29: UserWarning: Using a target size (torch.Size([256, 1])) that is different to the input size (torch.Size([256])). This will likely lead to incorrect results due to broadcasting. Please ensure they have the same size.\n",
            "  loss = loss_fn(apply_model(batch), batch[\"y\"])\n",
            "Epoch 56:  99%|█████████▉| 170/171 [00:24<00:00,  6.72it/s]<ipython-input-63-4e795f2cfc88>:29: UserWarning: Using a target size (torch.Size([133, 1])) that is different to the input size (torch.Size([133])). This will likely lead to incorrect results due to broadcasting. Please ensure they have the same size.\n",
            "  loss = loss_fn(apply_model(batch), batch[\"y\"])\n",
            "Epoch 56: 100%|██████████| 171/171 [00:24<00:00,  6.86it/s]\n"
          ]
        },
        {
          "output_type": "stream",
          "name": "stdout",
          "text": [
            "(val) -27.4374 (test) -27.4144 [time] 0:42:04.936509\n"
          ]
        },
        {
          "output_type": "stream",
          "name": "stderr",
          "text": [
            "\rEpoch 57:   0%|          | 0/171 [00:00<?, ?it/s]<ipython-input-63-4e795f2cfc88>:29: UserWarning: Using a target size (torch.Size([256, 1])) that is different to the input size (torch.Size([256])). This will likely lead to incorrect results due to broadcasting. Please ensure they have the same size.\n",
            "  loss = loss_fn(apply_model(batch), batch[\"y\"])\n",
            "Epoch 57:  99%|█████████▉| 170/171 [00:24<00:00,  6.72it/s]<ipython-input-63-4e795f2cfc88>:29: UserWarning: Using a target size (torch.Size([133, 1])) that is different to the input size (torch.Size([133])). This will likely lead to incorrect results due to broadcasting. Please ensure they have the same size.\n",
            "  loss = loss_fn(apply_model(batch), batch[\"y\"])\n",
            "Epoch 57: 100%|██████████| 171/171 [00:24<00:00,  6.86it/s]\n"
          ]
        },
        {
          "output_type": "stream",
          "name": "stdout",
          "text": [
            "(val) -27.4376 (test) -27.4142 [time] 0:42:49.245651\n"
          ]
        },
        {
          "output_type": "stream",
          "name": "stderr",
          "text": [
            "\rEpoch 58:   0%|          | 0/171 [00:00<?, ?it/s]<ipython-input-63-4e795f2cfc88>:29: UserWarning: Using a target size (torch.Size([256, 1])) that is different to the input size (torch.Size([256])). This will likely lead to incorrect results due to broadcasting. Please ensure they have the same size.\n",
            "  loss = loss_fn(apply_model(batch), batch[\"y\"])\n",
            "Epoch 58:  99%|█████████▉| 170/171 [00:24<00:00,  6.72it/s]<ipython-input-63-4e795f2cfc88>:29: UserWarning: Using a target size (torch.Size([133, 1])) that is different to the input size (torch.Size([133])). This will likely lead to incorrect results due to broadcasting. Please ensure they have the same size.\n",
            "  loss = loss_fn(apply_model(batch), batch[\"y\"])\n",
            "Epoch 58: 100%|██████████| 171/171 [00:24<00:00,  6.86it/s]\n"
          ]
        },
        {
          "output_type": "stream",
          "name": "stdout",
          "text": [
            "(val) -27.4386 (test) -27.4133 [time] 0:43:33.860576\n"
          ]
        },
        {
          "output_type": "stream",
          "name": "stderr",
          "text": [
            "\rEpoch 59:   0%|          | 0/171 [00:00<?, ?it/s]<ipython-input-63-4e795f2cfc88>:29: UserWarning: Using a target size (torch.Size([256, 1])) that is different to the input size (torch.Size([256])). This will likely lead to incorrect results due to broadcasting. Please ensure they have the same size.\n",
            "  loss = loss_fn(apply_model(batch), batch[\"y\"])\n",
            "Epoch 59:  99%|█████████▉| 170/171 [00:24<00:00,  6.71it/s]<ipython-input-63-4e795f2cfc88>:29: UserWarning: Using a target size (torch.Size([133, 1])) that is different to the input size (torch.Size([133])). This will likely lead to incorrect results due to broadcasting. Please ensure they have the same size.\n",
            "  loss = loss_fn(apply_model(batch), batch[\"y\"])\n",
            "Epoch 59: 100%|██████████| 171/171 [00:24<00:00,  6.86it/s]\n"
          ]
        },
        {
          "output_type": "stream",
          "name": "stdout",
          "text": [
            "(val) -27.4390 (test) -27.4131 [time] 0:44:18.360189\n"
          ]
        },
        {
          "output_type": "stream",
          "name": "stderr",
          "text": [
            "\rEpoch 60:   0%|          | 0/171 [00:00<?, ?it/s]<ipython-input-63-4e795f2cfc88>:29: UserWarning: Using a target size (torch.Size([256, 1])) that is different to the input size (torch.Size([256])). This will likely lead to incorrect results due to broadcasting. Please ensure they have the same size.\n",
            "  loss = loss_fn(apply_model(batch), batch[\"y\"])\n",
            "Epoch 60:  99%|█████████▉| 170/171 [00:24<00:00,  6.72it/s]<ipython-input-63-4e795f2cfc88>:29: UserWarning: Using a target size (torch.Size([133, 1])) that is different to the input size (torch.Size([133])). This will likely lead to incorrect results due to broadcasting. Please ensure they have the same size.\n",
            "  loss = loss_fn(apply_model(batch), batch[\"y\"])\n",
            "Epoch 60: 100%|██████████| 171/171 [00:24<00:00,  6.86it/s]\n"
          ]
        },
        {
          "output_type": "stream",
          "name": "stdout",
          "text": [
            "(val) -27.4388 (test) -27.4132 [time] 0:45:02.818741\n"
          ]
        },
        {
          "output_type": "stream",
          "name": "stderr",
          "text": [
            "Epoch 61:   0%|          | 0/171 [00:00<?, ?it/s]<ipython-input-63-4e795f2cfc88>:29: UserWarning: Using a target size (torch.Size([256, 1])) that is different to the input size (torch.Size([256])). This will likely lead to incorrect results due to broadcasting. Please ensure they have the same size.\n",
            "  loss = loss_fn(apply_model(batch), batch[\"y\"])\n",
            "Epoch 61:  99%|█████████▉| 170/171 [00:24<00:00,  6.71it/s]<ipython-input-63-4e795f2cfc88>:29: UserWarning: Using a target size (torch.Size([133, 1])) that is different to the input size (torch.Size([133])). This will likely lead to incorrect results due to broadcasting. Please ensure they have the same size.\n",
            "  loss = loss_fn(apply_model(batch), batch[\"y\"])\n",
            "Epoch 61: 100%|██████████| 171/171 [00:24<00:00,  6.86it/s]\n"
          ]
        },
        {
          "output_type": "stream",
          "name": "stdout",
          "text": [
            "(val) -27.4374 (test) -27.4143 [time] 0:45:46.852793\n"
          ]
        },
        {
          "output_type": "stream",
          "name": "stderr",
          "text": [
            "\rEpoch 62:   0%|          | 0/171 [00:00<?, ?it/s]<ipython-input-63-4e795f2cfc88>:29: UserWarning: Using a target size (torch.Size([256, 1])) that is different to the input size (torch.Size([256])). This will likely lead to incorrect results due to broadcasting. Please ensure they have the same size.\n",
            "  loss = loss_fn(apply_model(batch), batch[\"y\"])\n",
            "Epoch 62:  99%|█████████▉| 170/171 [00:24<00:00,  6.71it/s]<ipython-input-63-4e795f2cfc88>:29: UserWarning: Using a target size (torch.Size([133, 1])) that is different to the input size (torch.Size([133])). This will likely lead to incorrect results due to broadcasting. Please ensure they have the same size.\n",
            "  loss = loss_fn(apply_model(batch), batch[\"y\"])\n",
            "Epoch 62: 100%|██████████| 171/171 [00:24<00:00,  6.86it/s]\n"
          ]
        },
        {
          "output_type": "stream",
          "name": "stdout",
          "text": [
            "(val) -27.4375 (test) -27.4142 [time] 0:46:32.045912\n"
          ]
        },
        {
          "output_type": "stream",
          "name": "stderr",
          "text": [
            "\rEpoch 63:   0%|          | 0/171 [00:00<?, ?it/s]<ipython-input-63-4e795f2cfc88>:29: UserWarning: Using a target size (torch.Size([256, 1])) that is different to the input size (torch.Size([256])). This will likely lead to incorrect results due to broadcasting. Please ensure they have the same size.\n",
            "  loss = loss_fn(apply_model(batch), batch[\"y\"])\n",
            "Epoch 63:  99%|█████████▉| 170/171 [00:24<00:00,  6.71it/s]<ipython-input-63-4e795f2cfc88>:29: UserWarning: Using a target size (torch.Size([133, 1])) that is different to the input size (torch.Size([133])). This will likely lead to incorrect results due to broadcasting. Please ensure they have the same size.\n",
            "  loss = loss_fn(apply_model(batch), batch[\"y\"])\n",
            "Epoch 63: 100%|██████████| 171/171 [00:24<00:00,  6.86it/s]\n"
          ]
        },
        {
          "output_type": "stream",
          "name": "stdout",
          "text": [
            "(val) -27.4378 (test) -27.4139 [time] 0:47:17.338524\n"
          ]
        },
        {
          "output_type": "stream",
          "name": "stderr",
          "text": [
            "\rEpoch 64:   0%|          | 0/171 [00:00<?, ?it/s]<ipython-input-63-4e795f2cfc88>:29: UserWarning: Using a target size (torch.Size([256, 1])) that is different to the input size (torch.Size([256])). This will likely lead to incorrect results due to broadcasting. Please ensure they have the same size.\n",
            "  loss = loss_fn(apply_model(batch), batch[\"y\"])\n",
            "Epoch 64:  99%|█████████▉| 170/171 [00:24<00:00,  6.72it/s]<ipython-input-63-4e795f2cfc88>:29: UserWarning: Using a target size (torch.Size([133, 1])) that is different to the input size (torch.Size([133])). This will likely lead to incorrect results due to broadcasting. Please ensure they have the same size.\n",
            "  loss = loss_fn(apply_model(batch), batch[\"y\"])\n",
            "Epoch 64: 100%|██████████| 171/171 [00:24<00:00,  6.86it/s]\n"
          ]
        },
        {
          "output_type": "stream",
          "name": "stdout",
          "text": [
            "(val) -27.4382 (test) -27.4136 [time] 0:48:02.246868\n"
          ]
        },
        {
          "output_type": "stream",
          "name": "stderr",
          "text": [
            "\rEpoch 65:   0%|          | 0/171 [00:00<?, ?it/s]<ipython-input-63-4e795f2cfc88>:29: UserWarning: Using a target size (torch.Size([256, 1])) that is different to the input size (torch.Size([256])). This will likely lead to incorrect results due to broadcasting. Please ensure they have the same size.\n",
            "  loss = loss_fn(apply_model(batch), batch[\"y\"])\n",
            "Epoch 65:  99%|█████████▉| 170/171 [00:24<00:00,  6.71it/s]<ipython-input-63-4e795f2cfc88>:29: UserWarning: Using a target size (torch.Size([133, 1])) that is different to the input size (torch.Size([133])). This will likely lead to incorrect results due to broadcasting. Please ensure they have the same size.\n",
            "  loss = loss_fn(apply_model(batch), batch[\"y\"])\n",
            "Epoch 65: 100%|██████████| 171/171 [00:24<00:00,  6.86it/s]\n"
          ]
        },
        {
          "output_type": "stream",
          "name": "stdout",
          "text": [
            "(val) -27.4370 (test) -27.4148 [time] 0:48:47.069298\n",
            "🌸 New best epoch! 🌸\n",
            "Saved model checkpoint to 'best_model.pt'\n"
          ]
        },
        {
          "output_type": "stream",
          "name": "stderr",
          "text": [
            "\rEpoch 66:   0%|          | 0/171 [00:00<?, ?it/s]<ipython-input-63-4e795f2cfc88>:29: UserWarning: Using a target size (torch.Size([256, 1])) that is different to the input size (torch.Size([256])). This will likely lead to incorrect results due to broadcasting. Please ensure they have the same size.\n",
            "  loss = loss_fn(apply_model(batch), batch[\"y\"])\n",
            "Epoch 66:  99%|█████████▉| 170/171 [00:24<00:00,  6.71it/s]<ipython-input-63-4e795f2cfc88>:29: UserWarning: Using a target size (torch.Size([133, 1])) that is different to the input size (torch.Size([133])). This will likely lead to incorrect results due to broadcasting. Please ensure they have the same size.\n",
            "  loss = loss_fn(apply_model(batch), batch[\"y\"])\n",
            "Epoch 66: 100%|██████████| 171/171 [00:24<00:00,  6.86it/s]\n"
          ]
        },
        {
          "output_type": "stream",
          "name": "stdout",
          "text": [
            "(val) -27.4372 (test) -27.4146 [time] 0:49:31.679606\n"
          ]
        },
        {
          "output_type": "stream",
          "name": "stderr",
          "text": [
            "Epoch 67:   0%|          | 0/171 [00:00<?, ?it/s]<ipython-input-63-4e795f2cfc88>:29: UserWarning: Using a target size (torch.Size([256, 1])) that is different to the input size (torch.Size([256])). This will likely lead to incorrect results due to broadcasting. Please ensure they have the same size.\n",
            "  loss = loss_fn(apply_model(batch), batch[\"y\"])\n",
            "Epoch 67:  99%|█████████▉| 170/171 [00:24<00:00,  6.71it/s]<ipython-input-63-4e795f2cfc88>:29: UserWarning: Using a target size (torch.Size([133, 1])) that is different to the input size (torch.Size([133])). This will likely lead to incorrect results due to broadcasting. Please ensure they have the same size.\n",
            "  loss = loss_fn(apply_model(batch), batch[\"y\"])\n",
            "Epoch 67: 100%|██████████| 171/171 [00:24<00:00,  6.86it/s]\n"
          ]
        },
        {
          "output_type": "stream",
          "name": "stdout",
          "text": [
            "(val) -27.4385 (test) -27.4134 [time] 0:50:16.541002\n"
          ]
        },
        {
          "output_type": "stream",
          "name": "stderr",
          "text": [
            "\rEpoch 68:   0%|          | 0/171 [00:00<?, ?it/s]<ipython-input-63-4e795f2cfc88>:29: UserWarning: Using a target size (torch.Size([256, 1])) that is different to the input size (torch.Size([256])). This will likely lead to incorrect results due to broadcasting. Please ensure they have the same size.\n",
            "  loss = loss_fn(apply_model(batch), batch[\"y\"])\n",
            "Epoch 68:  99%|█████████▉| 170/171 [00:24<00:00,  6.72it/s]<ipython-input-63-4e795f2cfc88>:29: UserWarning: Using a target size (torch.Size([133, 1])) that is different to the input size (torch.Size([133])). This will likely lead to incorrect results due to broadcasting. Please ensure they have the same size.\n",
            "  loss = loss_fn(apply_model(batch), batch[\"y\"])\n",
            "Epoch 68: 100%|██████████| 171/171 [00:24<00:00,  6.86it/s]\n"
          ]
        },
        {
          "output_type": "stream",
          "name": "stdout",
          "text": [
            "(val) -27.4376 (test) -27.4141 [time] 0:51:01.443832\n"
          ]
        },
        {
          "output_type": "stream",
          "name": "stderr",
          "text": [
            "\rEpoch 69:   0%|          | 0/171 [00:00<?, ?it/s]<ipython-input-63-4e795f2cfc88>:29: UserWarning: Using a target size (torch.Size([256, 1])) that is different to the input size (torch.Size([256])). This will likely lead to incorrect results due to broadcasting. Please ensure they have the same size.\n",
            "  loss = loss_fn(apply_model(batch), batch[\"y\"])\n",
            "Epoch 69:  99%|█████████▉| 170/171 [00:24<00:00,  6.71it/s]<ipython-input-63-4e795f2cfc88>:29: UserWarning: Using a target size (torch.Size([133, 1])) that is different to the input size (torch.Size([133])). This will likely lead to incorrect results due to broadcasting. Please ensure they have the same size.\n",
            "  loss = loss_fn(apply_model(batch), batch[\"y\"])\n",
            "Epoch 69: 100%|██████████| 171/171 [00:24<00:00,  6.86it/s]\n"
          ]
        },
        {
          "output_type": "stream",
          "name": "stdout",
          "text": [
            "(val) -27.4384 (test) -27.4135 [time] 0:51:45.425131\n"
          ]
        },
        {
          "output_type": "stream",
          "name": "stderr",
          "text": [
            "\rEpoch 70:   0%|          | 0/171 [00:00<?, ?it/s]<ipython-input-63-4e795f2cfc88>:29: UserWarning: Using a target size (torch.Size([256, 1])) that is different to the input size (torch.Size([256])). This will likely lead to incorrect results due to broadcasting. Please ensure they have the same size.\n",
            "  loss = loss_fn(apply_model(batch), batch[\"y\"])\n",
            "Epoch 70:  99%|█████████▉| 170/171 [00:24<00:00,  6.71it/s]<ipython-input-63-4e795f2cfc88>:29: UserWarning: Using a target size (torch.Size([133, 1])) that is different to the input size (torch.Size([133])). This will likely lead to incorrect results due to broadcasting. Please ensure they have the same size.\n",
            "  loss = loss_fn(apply_model(batch), batch[\"y\"])\n",
            "Epoch 70: 100%|██████████| 171/171 [00:24<00:00,  6.86it/s]\n"
          ]
        },
        {
          "output_type": "stream",
          "name": "stdout",
          "text": [
            "(val) -27.4368 (test) -27.4152 [time] 0:52:29.579772\n",
            "🌸 New best epoch! 🌸\n",
            "Saved model checkpoint to 'best_model.pt'\n"
          ]
        },
        {
          "output_type": "stream",
          "name": "stderr",
          "text": [
            "\rEpoch 71:   0%|          | 0/171 [00:00<?, ?it/s]<ipython-input-63-4e795f2cfc88>:29: UserWarning: Using a target size (torch.Size([256, 1])) that is different to the input size (torch.Size([256])). This will likely lead to incorrect results due to broadcasting. Please ensure they have the same size.\n",
            "  loss = loss_fn(apply_model(batch), batch[\"y\"])\n",
            "Epoch 71:  99%|█████████▉| 170/171 [00:24<00:00,  6.71it/s]<ipython-input-63-4e795f2cfc88>:29: UserWarning: Using a target size (torch.Size([133, 1])) that is different to the input size (torch.Size([133])). This will likely lead to incorrect results due to broadcasting. Please ensure they have the same size.\n",
            "  loss = loss_fn(apply_model(batch), batch[\"y\"])\n",
            "Epoch 71: 100%|██████████| 171/171 [00:24<00:00,  6.86it/s]\n"
          ]
        },
        {
          "output_type": "stream",
          "name": "stdout",
          "text": [
            "(val) -27.4375 (test) -27.4142 [time] 0:53:13.892843\n"
          ]
        },
        {
          "output_type": "stream",
          "name": "stderr",
          "text": [
            "Epoch 72:   0%|          | 0/171 [00:00<?, ?it/s]<ipython-input-63-4e795f2cfc88>:29: UserWarning: Using a target size (torch.Size([256, 1])) that is different to the input size (torch.Size([256])). This will likely lead to incorrect results due to broadcasting. Please ensure they have the same size.\n",
            "  loss = loss_fn(apply_model(batch), batch[\"y\"])\n",
            "Epoch 72:  99%|█████████▉| 170/171 [00:24<00:00,  6.71it/s]<ipython-input-63-4e795f2cfc88>:29: UserWarning: Using a target size (torch.Size([133, 1])) that is different to the input size (torch.Size([133])). This will likely lead to incorrect results due to broadcasting. Please ensure they have the same size.\n",
            "  loss = loss_fn(apply_model(batch), batch[\"y\"])\n",
            "Epoch 72: 100%|██████████| 171/171 [00:24<00:00,  6.86it/s]\n"
          ]
        },
        {
          "output_type": "stream",
          "name": "stdout",
          "text": [
            "(val) -27.4388 (test) -27.4132 [time] 0:53:58.184916\n"
          ]
        },
        {
          "output_type": "stream",
          "name": "stderr",
          "text": [
            "\rEpoch 73:   0%|          | 0/171 [00:00<?, ?it/s]<ipython-input-63-4e795f2cfc88>:29: UserWarning: Using a target size (torch.Size([256, 1])) that is different to the input size (torch.Size([256])). This will likely lead to incorrect results due to broadcasting. Please ensure they have the same size.\n",
            "  loss = loss_fn(apply_model(batch), batch[\"y\"])\n",
            "Epoch 73:  99%|█████████▉| 170/171 [00:24<00:00,  6.72it/s]<ipython-input-63-4e795f2cfc88>:29: UserWarning: Using a target size (torch.Size([133, 1])) that is different to the input size (torch.Size([133])). This will likely lead to incorrect results due to broadcasting. Please ensure they have the same size.\n",
            "  loss = loss_fn(apply_model(batch), batch[\"y\"])\n",
            "Epoch 73: 100%|██████████| 171/171 [00:24<00:00,  6.86it/s]\n"
          ]
        },
        {
          "output_type": "stream",
          "name": "stdout",
          "text": [
            "(val) -27.4372 (test) -27.4145 [time] 0:54:42.317477\n"
          ]
        },
        {
          "output_type": "stream",
          "name": "stderr",
          "text": [
            "\rEpoch 74:   0%|          | 0/171 [00:00<?, ?it/s]<ipython-input-63-4e795f2cfc88>:29: UserWarning: Using a target size (torch.Size([256, 1])) that is different to the input size (torch.Size([256])). This will likely lead to incorrect results due to broadcasting. Please ensure they have the same size.\n",
            "  loss = loss_fn(apply_model(batch), batch[\"y\"])\n",
            "Epoch 74:  99%|█████████▉| 170/171 [00:24<00:00,  6.72it/s]<ipython-input-63-4e795f2cfc88>:29: UserWarning: Using a target size (torch.Size([133, 1])) that is different to the input size (torch.Size([133])). This will likely lead to incorrect results due to broadcasting. Please ensure they have the same size.\n",
            "  loss = loss_fn(apply_model(batch), batch[\"y\"])\n",
            "Epoch 74: 100%|██████████| 171/171 [00:24<00:00,  6.86it/s]\n"
          ]
        },
        {
          "output_type": "stream",
          "name": "stdout",
          "text": [
            "(val) -27.4386 (test) -27.4133 [time] 0:55:26.755435\n"
          ]
        },
        {
          "output_type": "stream",
          "name": "stderr",
          "text": [
            "\rEpoch 75:   0%|          | 0/171 [00:00<?, ?it/s]<ipython-input-63-4e795f2cfc88>:29: UserWarning: Using a target size (torch.Size([256, 1])) that is different to the input size (torch.Size([256])). This will likely lead to incorrect results due to broadcasting. Please ensure they have the same size.\n",
            "  loss = loss_fn(apply_model(batch), batch[\"y\"])\n",
            "Epoch 75:  99%|█████████▉| 170/171 [00:24<00:00,  6.71it/s]<ipython-input-63-4e795f2cfc88>:29: UserWarning: Using a target size (torch.Size([133, 1])) that is different to the input size (torch.Size([133])). This will likely lead to incorrect results due to broadcasting. Please ensure they have the same size.\n",
            "  loss = loss_fn(apply_model(batch), batch[\"y\"])\n",
            "Epoch 75: 100%|██████████| 171/171 [00:24<00:00,  6.86it/s]\n"
          ]
        },
        {
          "output_type": "stream",
          "name": "stdout",
          "text": [
            "(val) -27.4375 (test) -27.4142 [time] 0:56:11.065957\n"
          ]
        },
        {
          "output_type": "stream",
          "name": "stderr",
          "text": [
            "\rEpoch 76:   0%|          | 0/171 [00:00<?, ?it/s]<ipython-input-63-4e795f2cfc88>:29: UserWarning: Using a target size (torch.Size([256, 1])) that is different to the input size (torch.Size([256])). This will likely lead to incorrect results due to broadcasting. Please ensure they have the same size.\n",
            "  loss = loss_fn(apply_model(batch), batch[\"y\"])\n",
            "Epoch 76:  99%|█████████▉| 170/171 [00:24<00:00,  6.72it/s]<ipython-input-63-4e795f2cfc88>:29: UserWarning: Using a target size (torch.Size([133, 1])) that is different to the input size (torch.Size([133])). This will likely lead to incorrect results due to broadcasting. Please ensure they have the same size.\n",
            "  loss = loss_fn(apply_model(batch), batch[\"y\"])\n",
            "Epoch 76: 100%|██████████| 171/171 [00:24<00:00,  6.86it/s]\n"
          ]
        },
        {
          "output_type": "stream",
          "name": "stdout",
          "text": [
            "(val) -27.4389 (test) -27.4132 [time] 0:56:55.320858\n"
          ]
        },
        {
          "output_type": "stream",
          "name": "stderr",
          "text": [
            "\rEpoch 77:   0%|          | 0/171 [00:00<?, ?it/s]<ipython-input-63-4e795f2cfc88>:29: UserWarning: Using a target size (torch.Size([256, 1])) that is different to the input size (torch.Size([256])). This will likely lead to incorrect results due to broadcasting. Please ensure they have the same size.\n",
            "  loss = loss_fn(apply_model(batch), batch[\"y\"])\n",
            "Epoch 77:  99%|█████████▉| 170/171 [00:24<00:00,  6.71it/s]<ipython-input-63-4e795f2cfc88>:29: UserWarning: Using a target size (torch.Size([133, 1])) that is different to the input size (torch.Size([133])). This will likely lead to incorrect results due to broadcasting. Please ensure they have the same size.\n",
            "  loss = loss_fn(apply_model(batch), batch[\"y\"])\n",
            "Epoch 77: 100%|██████████| 171/171 [00:24<00:00,  6.86it/s]\n"
          ]
        },
        {
          "output_type": "stream",
          "name": "stdout",
          "text": [
            "(val) -27.4372 (test) -27.4146 [time] 0:57:39.604985\n"
          ]
        },
        {
          "output_type": "stream",
          "name": "stderr",
          "text": [
            "\rEpoch 78:   0%|          | 0/171 [00:00<?, ?it/s]<ipython-input-63-4e795f2cfc88>:29: UserWarning: Using a target size (torch.Size([256, 1])) that is different to the input size (torch.Size([256])). This will likely lead to incorrect results due to broadcasting. Please ensure they have the same size.\n",
            "  loss = loss_fn(apply_model(batch), batch[\"y\"])\n",
            "Epoch 78:  99%|█████████▉| 170/171 [00:24<00:00,  6.71it/s]<ipython-input-63-4e795f2cfc88>:29: UserWarning: Using a target size (torch.Size([133, 1])) that is different to the input size (torch.Size([133])). This will likely lead to incorrect results due to broadcasting. Please ensure they have the same size.\n",
            "  loss = loss_fn(apply_model(batch), batch[\"y\"])\n",
            "Epoch 78: 100%|██████████| 171/171 [00:24<00:00,  6.86it/s]\n"
          ]
        },
        {
          "output_type": "stream",
          "name": "stdout",
          "text": [
            "(val) -27.4383 (test) -27.4135 [time] 0:58:24.018569\n"
          ]
        },
        {
          "output_type": "stream",
          "name": "stderr",
          "text": [
            "\rEpoch 79:   0%|          | 0/171 [00:00<?, ?it/s]<ipython-input-63-4e795f2cfc88>:29: UserWarning: Using a target size (torch.Size([256, 1])) that is different to the input size (torch.Size([256])). This will likely lead to incorrect results due to broadcasting. Please ensure they have the same size.\n",
            "  loss = loss_fn(apply_model(batch), batch[\"y\"])\n",
            "Epoch 79:  99%|█████████▉| 170/171 [00:24<00:00,  6.71it/s]<ipython-input-63-4e795f2cfc88>:29: UserWarning: Using a target size (torch.Size([133, 1])) that is different to the input size (torch.Size([133])). This will likely lead to incorrect results due to broadcasting. Please ensure they have the same size.\n",
            "  loss = loss_fn(apply_model(batch), batch[\"y\"])\n",
            "Epoch 79: 100%|██████████| 171/171 [00:24<00:00,  6.86it/s]\n"
          ]
        },
        {
          "output_type": "stream",
          "name": "stdout",
          "text": [
            "(val) -27.4371 (test) -27.4147 [time] 0:59:08.544419\n"
          ]
        },
        {
          "output_type": "stream",
          "name": "stderr",
          "text": [
            "\rEpoch 80:   0%|          | 0/171 [00:00<?, ?it/s]<ipython-input-63-4e795f2cfc88>:29: UserWarning: Using a target size (torch.Size([256, 1])) that is different to the input size (torch.Size([256])). This will likely lead to incorrect results due to broadcasting. Please ensure they have the same size.\n",
            "  loss = loss_fn(apply_model(batch), batch[\"y\"])\n",
            "Epoch 80:  99%|█████████▉| 170/171 [00:24<00:00,  6.72it/s]<ipython-input-63-4e795f2cfc88>:29: UserWarning: Using a target size (torch.Size([133, 1])) that is different to the input size (torch.Size([133])). This will likely lead to incorrect results due to broadcasting. Please ensure they have the same size.\n",
            "  loss = loss_fn(apply_model(batch), batch[\"y\"])\n",
            "Epoch 80: 100%|██████████| 171/171 [00:24<00:00,  6.86it/s]\n"
          ]
        },
        {
          "output_type": "stream",
          "name": "stdout",
          "text": [
            "(val) -27.4384 (test) -27.4134 [time] 0:59:52.913944\n"
          ]
        },
        {
          "output_type": "stream",
          "name": "stderr",
          "text": [
            "\rEpoch 81:   0%|          | 0/171 [00:00<?, ?it/s]<ipython-input-63-4e795f2cfc88>:29: UserWarning: Using a target size (torch.Size([256, 1])) that is different to the input size (torch.Size([256])). This will likely lead to incorrect results due to broadcasting. Please ensure they have the same size.\n",
            "  loss = loss_fn(apply_model(batch), batch[\"y\"])\n",
            "Epoch 81:  99%|█████████▉| 170/171 [00:24<00:00,  6.72it/s]<ipython-input-63-4e795f2cfc88>:29: UserWarning: Using a target size (torch.Size([133, 1])) that is different to the input size (torch.Size([133])). This will likely lead to incorrect results due to broadcasting. Please ensure they have the same size.\n",
            "  loss = loss_fn(apply_model(batch), batch[\"y\"])\n",
            "Epoch 81: 100%|██████████| 171/171 [00:24<00:00,  6.86it/s]\n"
          ]
        },
        {
          "output_type": "stream",
          "name": "stdout",
          "text": [
            "(val) -27.4381 (test) -27.4137 [time] 1:00:37.172680\n"
          ]
        },
        {
          "output_type": "stream",
          "name": "stderr",
          "text": [
            "\rEpoch 82:   0%|          | 0/171 [00:00<?, ?it/s]<ipython-input-63-4e795f2cfc88>:29: UserWarning: Using a target size (torch.Size([256, 1])) that is different to the input size (torch.Size([256])). This will likely lead to incorrect results due to broadcasting. Please ensure they have the same size.\n",
            "  loss = loss_fn(apply_model(batch), batch[\"y\"])\n",
            "Epoch 82:  99%|█████████▉| 170/171 [00:24<00:00,  6.71it/s]<ipython-input-63-4e795f2cfc88>:29: UserWarning: Using a target size (torch.Size([133, 1])) that is different to the input size (torch.Size([133])). This will likely lead to incorrect results due to broadcasting. Please ensure they have the same size.\n",
            "  loss = loss_fn(apply_model(batch), batch[\"y\"])\n",
            "Epoch 82: 100%|██████████| 171/171 [00:24<00:00,  6.86it/s]\n"
          ]
        },
        {
          "output_type": "stream",
          "name": "stdout",
          "text": [
            "(val) -27.4390 (test) -27.4131 [time] 1:01:21.716735\n"
          ]
        },
        {
          "output_type": "stream",
          "name": "stderr",
          "text": [
            "\rEpoch 83:   0%|          | 0/171 [00:00<?, ?it/s]<ipython-input-63-4e795f2cfc88>:29: UserWarning: Using a target size (torch.Size([256, 1])) that is different to the input size (torch.Size([256])). This will likely lead to incorrect results due to broadcasting. Please ensure they have the same size.\n",
            "  loss = loss_fn(apply_model(batch), batch[\"y\"])\n",
            "Epoch 83:  99%|█████████▉| 170/171 [00:24<00:00,  6.71it/s]<ipython-input-63-4e795f2cfc88>:29: UserWarning: Using a target size (torch.Size([133, 1])) that is different to the input size (torch.Size([133])). This will likely lead to incorrect results due to broadcasting. Please ensure they have the same size.\n",
            "  loss = loss_fn(apply_model(batch), batch[\"y\"])\n",
            "Epoch 83: 100%|██████████| 171/171 [00:24<00:00,  6.86it/s]\n"
          ]
        },
        {
          "output_type": "stream",
          "name": "stdout",
          "text": [
            "(val) -27.4370 (test) -27.4149 [time] 1:02:05.917728\n"
          ]
        },
        {
          "output_type": "stream",
          "name": "stderr",
          "text": [
            "\rEpoch 84:   0%|          | 0/171 [00:00<?, ?it/s]<ipython-input-63-4e795f2cfc88>:29: UserWarning: Using a target size (torch.Size([256, 1])) that is different to the input size (torch.Size([256])). This will likely lead to incorrect results due to broadcasting. Please ensure they have the same size.\n",
            "  loss = loss_fn(apply_model(batch), batch[\"y\"])\n",
            "Epoch 84:  99%|█████████▉| 170/171 [00:24<00:00,  6.71it/s]<ipython-input-63-4e795f2cfc88>:29: UserWarning: Using a target size (torch.Size([133, 1])) that is different to the input size (torch.Size([133])). This will likely lead to incorrect results due to broadcasting. Please ensure they have the same size.\n",
            "  loss = loss_fn(apply_model(batch), batch[\"y\"])\n",
            "Epoch 84: 100%|██████████| 171/171 [00:24<00:00,  6.86it/s]\n"
          ]
        },
        {
          "output_type": "stream",
          "name": "stdout",
          "text": [
            "(val) -27.4383 (test) -27.4135 [time] 1:02:50.177731\n"
          ]
        },
        {
          "output_type": "stream",
          "name": "stderr",
          "text": [
            "Epoch 85:   0%|          | 0/171 [00:00<?, ?it/s]<ipython-input-63-4e795f2cfc88>:29: UserWarning: Using a target size (torch.Size([256, 1])) that is different to the input size (torch.Size([256])). This will likely lead to incorrect results due to broadcasting. Please ensure they have the same size.\n",
            "  loss = loss_fn(apply_model(batch), batch[\"y\"])\n",
            "Epoch 85:  99%|█████████▉| 170/171 [00:24<00:00,  6.71it/s]<ipython-input-63-4e795f2cfc88>:29: UserWarning: Using a target size (torch.Size([133, 1])) that is different to the input size (torch.Size([133])). This will likely lead to incorrect results due to broadcasting. Please ensure they have the same size.\n",
            "  loss = loss_fn(apply_model(batch), batch[\"y\"])\n",
            "Epoch 85: 100%|██████████| 171/171 [00:24<00:00,  6.86it/s]\n"
          ]
        },
        {
          "output_type": "stream",
          "name": "stdout",
          "text": [
            "(val) -27.4397 (test) -27.4128 [time] 1:03:34.649816\n"
          ]
        },
        {
          "output_type": "stream",
          "name": "stderr",
          "text": [
            "Epoch 86:   0%|          | 0/171 [00:00<?, ?it/s]<ipython-input-63-4e795f2cfc88>:29: UserWarning: Using a target size (torch.Size([256, 1])) that is different to the input size (torch.Size([256])). This will likely lead to incorrect results due to broadcasting. Please ensure they have the same size.\n",
            "  loss = loss_fn(apply_model(batch), batch[\"y\"])\n",
            "Epoch 86:  99%|█████████▉| 170/171 [00:24<00:00,  6.72it/s]<ipython-input-63-4e795f2cfc88>:29: UserWarning: Using a target size (torch.Size([133, 1])) that is different to the input size (torch.Size([133])). This will likely lead to incorrect results due to broadcasting. Please ensure they have the same size.\n",
            "  loss = loss_fn(apply_model(batch), batch[\"y\"])\n",
            "Epoch 86: 100%|██████████| 171/171 [00:24<00:00,  6.86it/s]\n"
          ]
        },
        {
          "output_type": "stream",
          "name": "stdout",
          "text": [
            "(val) -27.4389 (test) -27.4132 [time] 1:04:18.858309\n",
            "\n",
            "\n",
            "Result:\n",
            "{'val': -27.436811169404617, 'test': -27.415170845441335, 'epoch': 70}\n"
          ]
        }
      ],
      "source": [
        "# For demonstration purposes (fast training and bad performance),\n",
        "# one can set smaller values:\n",
        "# n_epochs = 20\n",
        "# patience = 2\n",
        "n_epochs = 1000\n",
        "patience = 16\n",
        "\n",
        "batch_size = 256\n",
        "epoch_size = math.ceil(len(X_train) / batch_size)\n",
        "timer = delu.tools.Timer()\n",
        "early_stopping = delu.tools.EarlyStopping(patience, mode=\"max\")\n",
        "best = {\n",
        "    \"val\": -math.inf,\n",
        "    \"test\": -math.inf,\n",
        "    \"epoch\": -1,\n",
        "}\n",
        "\n",
        "print(f\"Device: {device.type.upper()}\")\n",
        "print(\"-\" * 88 + \"\\n\")\n",
        "timer.run()\n",
        "for epoch in range(n_epochs):\n",
        "    for batch in tqdm(\n",
        "        delu.iter_batches(data[\"train\"], batch_size, shuffle=True),\n",
        "        desc=f\"Epoch {epoch}\",\n",
        "        total=epoch_size,\n",
        "    ):\n",
        "        model.train()\n",
        "        optimizer.zero_grad()\n",
        "        loss = loss_fn(apply_model(batch), batch[\"y\"])\n",
        "        loss.backward()\n",
        "        optimizer.step()\n",
        "\n",
        "    val_score = evaluate(\"val\")\n",
        "    test_score = evaluate(\"test\")\n",
        "    print(f\"(val) {val_score:.4f} (test) {test_score:.4f} [time] {timer}\")\n",
        "\n",
        "    early_stopping.update(val_score)\n",
        "    if early_stopping.should_stop():\n",
        "        break\n",
        "\n",
        "    if val_score > best[\"val\"]:\n",
        "        print(\"🌸 New best epoch! 🌸\")\n",
        "        best = {\"val\": val_score, \"test\": test_score, \"epoch\": epoch}\n",
        "\n",
        "        torch.save(model.state_dict(), \"best_model.pt\")\n",
        "        print(\"Saved model checkpoint to 'best_model.pt'\")\n",
        "\n",
        "\n",
        "print(\"\\n\\nResult:\")\n",
        "print(best)"
      ]
    },
    {
      "cell_type": "code",
      "source": [
        "import gc\n",
        "gc.collect()\n",
        "torch.cuda.empty_cache()"
      ],
      "metadata": {
        "id": "D7OZEhwfKcHz"
      },
      "execution_count": null,
      "outputs": []
    },
    {
      "cell_type": "code",
      "execution_count": null,
      "metadata": {
        "id": "QnaMDMPl0ShF",
        "colab": {
          "base_uri": "https://localhost:8080/"
        },
        "outputId": "e8cb1b71-4d10-473e-80b2-76997239a3fa"
      },
      "outputs": [
        {
          "output_type": "stream",
          "name": "stdout",
          "text": [
            "Final Test Metrics: {'rmse': 27.415169007307227, 'mae': 21.70148468017578, 'r2': -0.0002052783966064453}\n"
          ]
        }
      ],
      "source": [
        "# Restore best model\n",
        "model.load_state_dict(torch.load(\"best_model.pt\"))\n",
        "\n",
        "# # Calculate and save final metrics\n",
        "final_metrics = calculate_and_save_metrics(\"test\", save_path=\"final_metrics.json\")\n",
        "print(\"Final Test Metrics:\", final_metrics)"
      ]
    }
  ],
  "metadata": {
    "kernelspec": {
      "display_name": "Python 3",
      "name": "python3"
    },
    "language_info": {
      "codemirror_mode": {
        "name": "ipython",
        "version": 3
      },
      "file_extension": ".py",
      "mimetype": "text/x-python",
      "name": "python",
      "nbconvert_exporter": "python",
      "pygments_lexer": "ipython3",
      "version": "3.8.18"
    },
    "orig_nbformat": 4,
    "colab": {
      "provenance": [],
      "machine_shape": "hm",
      "gpuType": "A100"
    },
    "accelerator": "GPU"
  },
  "nbformat": 4,
  "nbformat_minor": 0
}