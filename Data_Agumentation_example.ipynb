{
  "nbformat": 4,
  "nbformat_minor": 0,
  "metadata": {
    "colab": {
      "provenance": [],
      "gpuType": "T4"
    },
    "kernelspec": {
      "name": "python3",
      "display_name": "Python 3"
    },
    "language_info": {
      "name": "python"
    },
    "accelerator": "GPU"
  },
  "cells": [
    {
      "cell_type": "code",
      "execution_count": 1,
      "metadata": {
        "id": "9AkHDuyUPi71"
      },
      "outputs": [],
      "source": [
        "%%capture\n",
        "!pip install pytorch-tabnet"
      ]
    },
    {
      "cell_type": "code",
      "source": [
        "import numpy as np\n",
        "import pandas as pd\n",
        "import os\n",
        "import shutil\n",
        "import joblib\n",
        "import pickle\n",
        "import json\n",
        "\n",
        "# ml frameworks\n",
        "from sklearn.model_selection import train_test_split\n",
        "from sklearn.inspection import permutation_importance\n",
        "from sklearn.datasets import make_classification # for test of funcs\n",
        "import matplotlib.pyplot as plt\n",
        "from sklearn.metrics import (\n",
        "    confusion_matrix,\n",
        "    classification_report,\n",
        "    accuracy_score,\n",
        "    roc_auc_score,\n",
        "    precision_score,\n",
        "    recall_score,\n",
        "    f1_score,\n",
        "    matthews_corrcoef,\n",
        "    precision_recall_curve,\n",
        "    auc,\n",
        "    RocCurveDisplay,\n",
        "    PrecisionRecallDisplay,\n",
        ")\n",
        "\n",
        "import torch\n",
        "#time management\n",
        "from tqdm import tqdm\n",
        "import time\n",
        "\n",
        "#stats\n",
        "from scipy.stats import wasserstein_distance\n",
        "from scipy.spatial.distance import cdist\n",
        "from itertools import combinations\n",
        "#download data from hub\n",
        "from huggingface_hub import hf_hub_download\n",
        "from pytorch_tabnet.tab_model import TabNetClassifier\n",
        "from pytorch_tabnet.callbacks import EarlyStopping"
      ],
      "metadata": {
        "id": "O7WILhE3Pp3M"
      },
      "execution_count": 2,
      "outputs": []
    },
    {
      "cell_type": "code",
      "source": [
        "device = 'cuda' if torch.cuda.is_available() else 'cpu'\n",
        "print(f\"Using device: {device}\")"
      ],
      "metadata": {
        "colab": {
          "base_uri": "https://localhost:8080/"
        },
        "id": "aMJx8OK9Pp_Y",
        "outputId": "907bc8d1-caf5-430d-e557-e4510c014963"
      },
      "execution_count": 3,
      "outputs": [
        {
          "output_type": "stream",
          "name": "stdout",
          "text": [
            "Using device: cuda\n"
          ]
        }
      ]
    },
    {
      "cell_type": "code",
      "source": [],
      "metadata": {
        "id": "NLCCBlSbPvq9"
      },
      "execution_count": null,
      "outputs": []
    },
    {
      "cell_type": "code",
      "source": [
        "REPO_ID = \"powidla/Friend-Or-Foe\"\n",
        "\n",
        "X_train_ID = \"Generative/AGORA/50/GEN/df_train_AG-50.csv\"\n",
        "X_test_ID = \"Generative/AGORA/50/GEN/df_test_AG-50.csv\"\n",
        "\n",
        "train = pd.read_csv(hf_hub_download(repo_id=REPO_ID, filename=X_train_ID, repo_type=\"dataset\"))\n",
        "test = pd.read_csv(hf_hub_download(repo_id=REPO_ID, filename=X_test_ID, repo_type=\"dataset\"))"
      ],
      "metadata": {
        "id": "d2zPlQWdPvti"
      },
      "execution_count": 28,
      "outputs": []
    },
    {
      "cell_type": "code",
      "source": [
        "aug = pd.read_csv('ctgan.csv')"
      ],
      "metadata": {
        "id": "2B2x2h6gQb2H"
      },
      "execution_count": 24,
      "outputs": []
    },
    {
      "cell_type": "code",
      "source": [
        "X_train, y_train = train.drop(columns=\"label\"), train[\"label\"]\n",
        "X_test, y_test = test.drop(columns=\"label\"), test[\"label\"]\n",
        "X_aug, y_aug = aug.drop(columns=\"label\"), aug[\"label\"]"
      ],
      "metadata": {
        "id": "t47LV6qIRYJa"
      },
      "execution_count": 25,
      "outputs": []
    },
    {
      "cell_type": "code",
      "source": [
        "X_aug.columns = X_train.columns.values"
      ],
      "metadata": {
        "id": "WKetyfWWSsQA"
      },
      "execution_count": 26,
      "outputs": []
    },
    {
      "cell_type": "code",
      "source": [
        "def create_confusion_matrix(y_true, y_pred):\n",
        "    '''\n",
        "    Description: Create a confusion matrix.\n",
        "    Arguments: y_true (array-like): Ground truth labels;\n",
        "               y_pred (array-like): Predicted labels.\n",
        "    Outputs:\n",
        "        pd.DataFrame: A confusion matrix as a pandas DataFrame.\n",
        "    '''\n",
        "    cm = confusion_matrix(y_true, y_pred)\n",
        "    cm_df = pd.DataFrame(cm, index=[\"True Negative\", \"True Positive\"],\n",
        "                             columns=[\"Predicted Negative\", \"Predicted Positive\"])\n",
        "    return cm_df\n",
        "\n",
        "def score_metrics(y_true, y_pred, y_prob):\n",
        "    '''\n",
        "    Description: Calculate various metrics for binary classification.\n",
        "    Arguments: y_true (array-like): Ground truth labels;\n",
        "               y_pred (array-like): Predicted labels;\n",
        "               y_prob (array-like): Predicted probabilities for the positive class.\n",
        "    Outputs:\n",
        "        dict\n",
        "    '''\n",
        "    metrics = {\n",
        "        \"Accuracy\": accuracy_score(y_true, y_pred),\n",
        "        \"ROC AUC\": roc_auc_score(y_true, y_prob),\n",
        "        \"Precision\": precision_score(y_true, y_pred),\n",
        "        \"Recall\": recall_score(y_true, y_pred),\n",
        "        \"F1 Score\": f1_score(y_true, y_pred),\n",
        "        \"MCC\": matthews_corrcoef(y_true, y_pred),\n",
        "    }\n",
        "    # PR AUC\n",
        "    precision, recall, _ = precision_recall_curve(y_true, y_prob)\n",
        "    metrics[\"PR AUC\"] = auc(recall, precision)\n",
        "    return metrics"
      ],
      "metadata": {
        "id": "IJEtfAPHSks8"
      },
      "execution_count": 27,
      "outputs": []
    },
    {
      "cell_type": "code",
      "source": [
        "def train_and_evaluate_with_augmentation(\n",
        "    X_train, y_train, X_val, y_val, X_test, y_test, X_aug, y_aug,\n",
        "    output_dir=\"tabnet_comparison\", seed=4221, max_epochs=100, patience=10\n",
        "):\n",
        "    os.makedirs(output_dir, exist_ok=True)\n",
        "\n",
        "    results = {}\n",
        "\n",
        "    for tag, (xtr, ytr) in {\n",
        "        \"Original\": (X_train, y_train),\n",
        "        \"Augmented\": (pd.concat([X_train, X_aug]), pd.concat([y_train, y_aug])),\n",
        "    }.items():\n",
        "        print(f\"\\n--- Training on {tag} data ---\")\n",
        "\n",
        "        clf = TabNetClassifier(\n",
        "            cat_idxs=[],\n",
        "            cat_dims=[],\n",
        "            cat_emb_dim=1,\n",
        "            optimizer_fn=torch.optim.AdamW,\n",
        "            optimizer_params=dict(lr=1e-4, weight_decay=0.02),\n",
        "            scheduler_params={\"step_size\": 50, \"gamma\": 0.99},\n",
        "            scheduler_fn=torch.optim.lr_scheduler.StepLR,\n",
        "            mask_type='entmax',\n",
        "            n_d=64,\n",
        "            n_a=64,\n",
        "            seed=seed,\n",
        "            device_name=device,\n",
        "        )\n",
        "\n",
        "        clf.fit(\n",
        "            X_train=xtr.values, y_train=ytr.values,\n",
        "            eval_set=[(X_val.values, y_val.values)],\n",
        "            eval_metric=['accuracy'],\n",
        "            max_epochs=max_epochs,\n",
        "            patience=patience,\n",
        "            batch_size=1024,\n",
        "        )\n",
        "\n",
        "        y_pred = clf.predict(X_test.values)\n",
        "        y_proba = clf.predict_proba(X_test.values)[:, 1]\n",
        "\n",
        "        metrics = score_metrics(y_test, y_pred, y_proba)\n",
        "        results[tag] = metrics\n",
        "\n",
        "        with open(os.path.join(output_dir, f\"metrics_{tag}.json\"), \"w\") as f:\n",
        "            json.dump(metrics, f, indent=4)\n",
        "\n",
        "        clf.save_model(os.path.join(output_dir, f\"model_{tag}.zip\"))\n",
        "\n",
        "        print(f\"\\n{tag} Test Metrics:\")\n",
        "        for k, v in metrics.items():\n",
        "            print(f\"{k}: {v:.4f}\")\n",
        "\n",
        "    return results"
      ],
      "metadata": {
        "id": "jCLivVJkRMcu"
      },
      "execution_count": 16,
      "outputs": []
    },
    {
      "cell_type": "code",
      "source": [
        "X_train_base, X_val, y_train_base, y_val = train_test_split(X_train, y_train, test_size=0.2, stratify=y_train)\n",
        "\n",
        "# Train and evaluate comparing test metrincs\n",
        "results = train_and_evaluate_with_augmentation(\n",
        "    X_train_base, y_train_base,\n",
        "    X_val, y_val,\n",
        "    X_test, y_test,\n",
        "    X_aug, y_aug,\n",
        "    output_dir=\"tabnet_comparison_AG50\"\n",
        ")"
      ],
      "metadata": {
        "colab": {
          "base_uri": "https://localhost:8080/"
        },
        "id": "lw3mOltCRNGF",
        "outputId": "a33e44f1-b9bf-4e8a-84d3-f38ec94c7c59"
      },
      "execution_count": 29,
      "outputs": [
        {
          "output_type": "stream",
          "name": "stdout",
          "text": [
            "\n",
            "--- Training on Original data ---\n"
          ]
        },
        {
          "output_type": "stream",
          "name": "stderr",
          "text": [
            "/usr/local/lib/python3.11/dist-packages/pytorch_tabnet/abstract_model.py:82: UserWarning: Device used : cuda\n",
            "  warnings.warn(f\"Device used : {self.device}\")\n"
          ]
        },
        {
          "output_type": "stream",
          "name": "stdout",
          "text": [
            "epoch 0  | loss: 1.79068 | val_0_accuracy: 0.51031 |  0:00:00s\n",
            "epoch 1  | loss: 1.74192 | val_0_accuracy: 0.49938 |  0:00:01s\n",
            "epoch 2  | loss: 1.65618 | val_0_accuracy: 0.49406 |  0:00:02s\n",
            "epoch 3  | loss: 1.58204 | val_0_accuracy: 0.49344 |  0:00:02s\n",
            "epoch 4  | loss: 1.52516 | val_0_accuracy: 0.49562 |  0:00:03s\n",
            "epoch 5  | loss: 1.46996 | val_0_accuracy: 0.49375 |  0:00:04s\n",
            "epoch 6  | loss: 1.41495 | val_0_accuracy: 0.49531 |  0:00:04s\n",
            "epoch 7  | loss: 1.38491 | val_0_accuracy: 0.50156 |  0:00:05s\n",
            "epoch 8  | loss: 1.33403 | val_0_accuracy: 0.50156 |  0:00:06s\n",
            "epoch 9  | loss: 1.29832 | val_0_accuracy: 0.49781 |  0:00:07s\n",
            "epoch 10 | loss: 1.26726 | val_0_accuracy: 0.50438 |  0:00:07s\n",
            "\n",
            "Early stopping occurred at epoch 10 with best_epoch = 0 and best_val_0_accuracy = 0.51031\n"
          ]
        },
        {
          "output_type": "stream",
          "name": "stderr",
          "text": [
            "/usr/local/lib/python3.11/dist-packages/pytorch_tabnet/callbacks.py:172: UserWarning: Best weights from best epoch are automatically used!\n",
            "  warnings.warn(wrn_msg)\n"
          ]
        },
        {
          "output_type": "stream",
          "name": "stdout",
          "text": [
            "Successfully saved model at tabnet_comparison_AG50/model_Original.zip.zip\n",
            "\n",
            "Original Test Metrics:\n",
            "Accuracy: 0.4918\n",
            "ROC AUC: 0.4988\n",
            "Precision: 0.5074\n",
            "Recall: 0.1010\n",
            "F1 Score: 0.1685\n",
            "MCC: -0.0016\n",
            "PR AUC: 0.5106\n",
            "\n",
            "--- Training on Augmented data ---\n"
          ]
        },
        {
          "output_type": "stream",
          "name": "stderr",
          "text": [
            "/usr/local/lib/python3.11/dist-packages/pytorch_tabnet/abstract_model.py:82: UserWarning: Device used : cuda\n",
            "  warnings.warn(f\"Device used : {self.device}\")\n"
          ]
        },
        {
          "output_type": "stream",
          "name": "stdout",
          "text": [
            "epoch 0  | loss: 1.59151 | val_0_accuracy: 0.51344 |  0:00:01s\n",
            "epoch 1  | loss: 1.51977 | val_0_accuracy: 0.49312 |  0:00:02s\n",
            "epoch 2  | loss: 1.45153 | val_0_accuracy: 0.4925  |  0:00:03s\n",
            "epoch 3  | loss: 1.36601 | val_0_accuracy: 0.49781 |  0:00:03s\n",
            "epoch 4  | loss: 1.33931 | val_0_accuracy: 0.49688 |  0:00:04s\n",
            "epoch 5  | loss: 1.26871 | val_0_accuracy: 0.50062 |  0:00:05s\n",
            "epoch 6  | loss: 1.23794 | val_0_accuracy: 0.49938 |  0:00:06s\n",
            "epoch 7  | loss: 1.21242 | val_0_accuracy: 0.50531 |  0:00:07s\n",
            "epoch 8  | loss: 1.15156 | val_0_accuracy: 0.50719 |  0:00:08s\n",
            "epoch 9  | loss: 1.13052 | val_0_accuracy: 0.5075  |  0:00:09s\n",
            "epoch 10 | loss: 1.12723 | val_0_accuracy: 0.50875 |  0:00:10s\n",
            "\n",
            "Early stopping occurred at epoch 10 with best_epoch = 0 and best_val_0_accuracy = 0.51344\n"
          ]
        },
        {
          "output_type": "stream",
          "name": "stderr",
          "text": [
            "/usr/local/lib/python3.11/dist-packages/pytorch_tabnet/callbacks.py:172: UserWarning: Best weights from best epoch are automatically used!\n",
            "  warnings.warn(wrn_msg)\n"
          ]
        },
        {
          "output_type": "stream",
          "name": "stdout",
          "text": [
            "Successfully saved model at tabnet_comparison_AG50/model_Augmented.zip.zip\n",
            "\n",
            "Augmented Test Metrics:\n",
            "Accuracy: 0.4938\n",
            "ROC AUC: 0.5058\n",
            "Precision: 0.5167\n",
            "Recall: 0.1059\n",
            "F1 Score: 0.1758\n",
            "MCC: 0.0048\n",
            "PR AUC: 0.5168\n"
          ]
        }
      ]
    }
  ]
}